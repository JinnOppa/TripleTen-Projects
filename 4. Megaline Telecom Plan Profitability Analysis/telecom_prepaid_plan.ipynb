{
 "cells": [
  {
   "cell_type": "markdown",
   "metadata": {},
   "source": [
    "# Which Prepaid Plan is Better?"
   ]
  },
  {
   "cell_type": "markdown",
   "metadata": {},
   "source": [
    "You work as an analyst at a telecommunications operator company called Megaline. The company offers its clients two types of prepaid plans, namely the Surf plan and the Ultimate plan. The advertising department wants to know which prepaid plan generates more revenue, so they can create an advertising budget accordingly.\n",
    "\n",
    "You will conduct an initial analysis of the prepaid plans based on a relatively small sample of clients. You have 500 Megaline client data, which contains information such as: who they are, where they come from, what type of package they use, and the number of calls and messages they sent in 2018. Your task is to analyze the behavior of the users, then determine the package Which prepaid is more profitable?"
   ]
  },
  {
   "cell_type": "markdown",
   "metadata": {},
   "source": [
    "## Daftar Isi\n",
    "\n",
    "* [Introduksi](#introduksi)\n",
    "* [Inisialisasi](#inisialisasi)\n",
    "* [Memuat Data](#memuat-data)\n",
    "* [Mempersiapkan Data](#mempersiapkan-data)\n",
    "    * [Paket Prabayar](#paket-prabayar)\n",
    "        * [Memperbaiki Data pada dataframe data_plan](#memperbaiki-data-pada-dataframe-data_plan)\n",
    "        * [Memperkaya Kualitas Data pada dataframe data_plan](#memperkaya-kualitas-data-pada-dataframe-data_plan)\n",
    "    * [Pengguna](#pengguna)\n",
    "        * [Memperbaiki Data pada dataframe data_user](#memperbaiki-data-pada-dataframe-data_user)\n",
    "        * [Memperkaya Kualitas Data pada dataframe data_user](#memperkaya-kualitas-data-pada-dataframe-data_user)\n",
    "    * [Panggilan](#panggilan)\n",
    "        * [Memperbaiki Data pada dataframe data_call](#memperbaiki-data-pada-dataframe-data_call)\n",
    "        * [Memperkaya Kualitas Data pada dataframe data_call](#memperkaya-kualitas-data-pada-dataframe-data_call)\n",
    "    * [Pesan/SMS](#pesansms)\n",
    "        * [Memperbaiki Data pada dataframe data_message](#memperbaiki-data-pada-dataframe-data_message)\n",
    "        * [Memperkaya Kualitas Data pada dataframe data_message](#memperkaya-kualitas-data-pada-dataframe-data_message)\n",
    "    * [Internet](#internet)\n",
    "        * [Memperbaiki Data pada dataframe data_internet](#memperbaiki-data-pada-dataframe-data_internet)\n",
    "        * [Memperkaya Kualitas Data pada dataframe data_internet](#memperkaya-kualitas-data-pada-dataframe-data_internet)\n",
    "* [Mempelajari Syarat dan Kondisi Terkait Paket Prabayar](#mempelajari-syarat-dan-kondisi-terkait-paket-prabayar)\n",
    "* [Mengagregasi Data per Pengguna](#mengagregasi-data-per-pengguna)\n",
    "* [Mempelajari Perilaku Pengguna](#mempelajari-perilaku-pengguna)\n",
    "    * [Pengguna terhadap Panggilan](#pengguna-terhadap-panggilan)\n",
    "    * [Pengguna terhadap Pesan/SMS](#pengguna-terhadap-pesansms)\n",
    "    * [Pengguna terhadap Internet](#pengguna-terhadap-internet)\n",
    "* [Pendapatan](#pendapatan)\n",
    "* [Menguji Hipotesis Statistik](#menguji-hipotesis-statistik)\n",
    "    * [Pendapatan rata-rata Pengguna Paket berbeda](#pendapatan-rata-rata-dari-pengguna-paket-prabayar-ultimate-dan-surf-berbeda)\n",
    "    * [Pendapatan rata-rata Pengguna di Wilayah NY-NJ berbeda](#pendapatan-rata-rata-dari-pengguna-di-wilayah-ny-nj-berbeda-dengan-pendapatan-pengguna-dari-wilayah-lain)\n",
    "* [Kesimpulan Umum](#kesimpulan-umum)\n"
   ]
  },
  {
   "cell_type": "markdown",
   "metadata": {},
   "source": [
    "## Introduction"
   ]
  },
  {
   "cell_type": "markdown",
   "metadata": {},
   "source": [
    "In the world of telecommunications that increasingly dominates our daily lives, the question that often arises is, \"Which prepaid plan is actually more profitable?\" Here, I will answer this question with the help of data. As an analyst at Megaline, a leading telecom operator, my job is to provide an initial look at the prepaid plans offered by this company: Surf and Ultimate. Advertising departments want to know which packages are more profitable, so they can allocate advertising budgets more intelligently.\n",
    "\n",
    "The data we have is information about 500 Megaline clients. This data includes who they are, where they are from, what plan they chose, and how often they called and texted during 2018. I will explore this user behavior to identify the most profitable plans for Megaline.\n",
    "\n",
    "In this project, I will explore the data with a human approach and explain my steps simply. First of all, I'll check the data and make sure everything is in the right format. Next, I'll dig into the data to quantify user behavior, including call duration, text messages, and mobile data usage. After that, I will do a comparison between the Surf and Ultimate packages to determine which one is more profitable. In other words, let's set out on this journey to find answers that can help Megaline in making strategic decisions."
   ]
  },
  {
   "cell_type": "markdown",
   "metadata": {},
   "source": [
    "## Initialization"
   ]
  },
  {
   "cell_type": "markdown",
   "metadata": {},
   "source": [
    "Import the library that will be used"
   ]
  },
  {
   "cell_type": "code",
   "execution_count": 1,
   "metadata": {},
   "outputs": [],
   "source": [
    "import pandas as pd \n",
    "import numpy as np\n",
    "import seaborn as sns\n",
    "import matplotlib.pyplot as plt\n",
    "from scipy import stats as st"
   ]
  },
  {
   "cell_type": "markdown",
   "metadata": {},
   "source": [
    "## Import Data"
   ]
  },
  {
   "cell_type": "code",
   "execution_count": 2,
   "metadata": {},
   "outputs": [],
   "source": [
    "try:\n",
    "    # Try loading the file from your laptop path\n",
    "    data_call = pd.read_csv('C:/Users/user/OneDrive/Documents/GitHub/TripleTen-Projects/4. Megaline Telecom Plan Profitability Analysis/megaline_calls.csv')\n",
    "except FileNotFoundError:\n",
    "    # If the file is not found, try loading from the PC path\n",
    "    data_call = pd.read_csv('C:/Users/user/OneDrive/Documents/GitHub/TripleTen-Projects/4. Megaline Telecom Plan Profitability Analysis/megaline_calls.csv')"
   ]
  },
  {
   "cell_type": "code",
   "execution_count": 3,
   "metadata": {},
   "outputs": [],
   "source": [
    "try:\n",
    "    # Try loading the file from your laptop path\n",
    "    data_internet = pd.read_csv('C:/Users/user/OneDrive/Documents/GitHub/TripleTen-Projects/4. Megaline Telecom Plan Profitability Analysis/megaline_internet.csv')\n",
    "except FileNotFoundError:\n",
    "    # If the file is not found, try loading from the PC path\n",
    "    data_internet = pd.read_csv('C:/Users/user/OneDrive/Documents/GitHub/TripleTen-Projects/4. Megaline Telecom Plan Profitability Analysis/megaline_internet.csv')"
   ]
  },
  {
   "cell_type": "code",
   "execution_count": 4,
   "metadata": {},
   "outputs": [],
   "source": [
    "try:\n",
    "    # Try loading the file from your laptop path\n",
    "    data_message = pd.read_csv('C:/Users/user/OneDrive/Documents/GitHub/TripleTen-Projects/4. Megaline Telecom Plan Profitability Analysis/megaline_messages.csv')\n",
    "except FileNotFoundError:\n",
    "    # If the file is not found, try loading from the PC path\n",
    "    data_message = pd.read_csv('C:/Users/user/OneDrive/Documents/GitHub/TripleTen-Projects/4. Megaline Telecom Plan Profitability Analysis/megaline_messages.csv')"
   ]
  },
  {
   "cell_type": "code",
   "execution_count": 5,
   "metadata": {},
   "outputs": [],
   "source": [
    "try:\n",
    "    # Try loading the file from your laptop path\n",
    "    data_plan = pd.read_csv('C:/Users/user/OneDrive/Documents/GitHub/TripleTen-Projects/4. Megaline Telecom Plan Profitability Analysis/megaline_plans.csv')\n",
    "except FileNotFoundError:\n",
    "    # If the file is not found, try loading from the PC path\n",
    "    data_plan = pd.read_csv('C:/Users/user/OneDrive/Documents/GitHub/TripleTen-Projects/4. Megaline Telecom Plan Profitability Analysis/megaline_plans.csv')"
   ]
  },
  {
   "cell_type": "code",
   "execution_count": 6,
   "metadata": {},
   "outputs": [],
   "source": [
    "try:\n",
    "    # Try loading the file from your laptop path\n",
    "    data_user = pd.read_csv('C:/Users/user/OneDrive/Documents/GitHub/TripleTen-Projects/4. Megaline Telecom Plan Profitability Analysis/megaline_users.csv')\n",
    "except FileNotFoundError:\n",
    "    # If the file is not found, try loading from the PC path\n",
    "    data_user = pd.read_csv('C:/Users/user/OneDrive/Documents/GitHub/TripleTen-Projects/4. Megaline Telecom Plan Profitability Analysis/megaline_users.csv')"
   ]
  },
  {
   "cell_type": "code",
   "execution_count": 2,
   "metadata": {},
   "outputs": [],
   "source": [
    "data_call =  pd.read_csv('/datasets/megaline_calls.csv')\n",
    "data_internet = pd.read_csv('/datasets/megaline_internet.csv')\n",
    "data_message = pd.read_csv('/datasets/megaline_messages.csv')\n",
    "data_plan = pd.read_csv('/datasets/megaline_plans.csv')\n",
    "data_user = pd.read_csv('/datasets/megaline_users.csv')\n"
   ]
  },
  {
   "cell_type": "markdown",
   "metadata": {},
   "source": [
    "## Data Preparation"
   ]
  },
  {
   "cell_type": "markdown",
   "metadata": {},
   "source": [
    "After all the data has been imported, you can see that there are 5 data that will be used in the analysis. Therefore, this data needs to be seen and checked first before being used in analysis."
   ]
  },
  {
   "cell_type": "markdown",
   "metadata": {},
   "source": [
    "### Prepaid Plan"
   ]
  },
  {
   "cell_type": "code",
   "execution_count": 7,
   "metadata": {
    "collapsed": true
   },
   "outputs": [
    {
     "name": "stdout",
     "output_type": "stream",
     "text": [
      "<class 'pandas.core.frame.DataFrame'>\n",
      "RangeIndex: 2 entries, 0 to 1\n",
      "Data columns (total 8 columns):\n",
      " #   Column                 Non-Null Count  Dtype  \n",
      "---  ------                 --------------  -----  \n",
      " 0   messages_included      2 non-null      int64  \n",
      " 1   mb_per_month_included  2 non-null      int64  \n",
      " 2   minutes_included       2 non-null      int64  \n",
      " 3   usd_monthly_pay        2 non-null      int64  \n",
      " 4   usd_per_gb             2 non-null      int64  \n",
      " 5   usd_per_message        2 non-null      float64\n",
      " 6   usd_per_minute         2 non-null      float64\n",
      " 7   plan_name              2 non-null      object \n",
      "dtypes: float64(2), int64(5), object(1)\n",
      "memory usage: 256.0+ bytes\n"
     ]
    }
   ],
   "source": [
    "data_plan.info()"
   ]
  },
  {
   "cell_type": "code",
   "execution_count": 8,
   "metadata": {
    "collapsed": true
   },
   "outputs": [
    {
     "data": {
      "text/html": [
       "<div>\n",
       "<style scoped>\n",
       "    .dataframe tbody tr th:only-of-type {\n",
       "        vertical-align: middle;\n",
       "    }\n",
       "\n",
       "    .dataframe tbody tr th {\n",
       "        vertical-align: top;\n",
       "    }\n",
       "\n",
       "    .dataframe thead th {\n",
       "        text-align: right;\n",
       "    }\n",
       "</style>\n",
       "<table border=\"1\" class=\"dataframe\">\n",
       "  <thead>\n",
       "    <tr style=\"text-align: right;\">\n",
       "      <th></th>\n",
       "      <th>messages_included</th>\n",
       "      <th>mb_per_month_included</th>\n",
       "      <th>minutes_included</th>\n",
       "      <th>usd_monthly_pay</th>\n",
       "      <th>usd_per_gb</th>\n",
       "      <th>usd_per_message</th>\n",
       "      <th>usd_per_minute</th>\n",
       "      <th>plan_name</th>\n",
       "    </tr>\n",
       "  </thead>\n",
       "  <tbody>\n",
       "    <tr>\n",
       "      <th>1</th>\n",
       "      <td>1000</td>\n",
       "      <td>30720</td>\n",
       "      <td>3000</td>\n",
       "      <td>70</td>\n",
       "      <td>7</td>\n",
       "      <td>0.01</td>\n",
       "      <td>0.01</td>\n",
       "      <td>ultimate</td>\n",
       "    </tr>\n",
       "    <tr>\n",
       "      <th>0</th>\n",
       "      <td>50</td>\n",
       "      <td>15360</td>\n",
       "      <td>500</td>\n",
       "      <td>20</td>\n",
       "      <td>10</td>\n",
       "      <td>0.03</td>\n",
       "      <td>0.03</td>\n",
       "      <td>surf</td>\n",
       "    </tr>\n",
       "  </tbody>\n",
       "</table>\n",
       "</div>"
      ],
      "text/plain": [
       "   messages_included  mb_per_month_included  minutes_included  \\\n",
       "1               1000                  30720              3000   \n",
       "0                 50                  15360               500   \n",
       "\n",
       "   usd_monthly_pay  usd_per_gb  usd_per_message  usd_per_minute plan_name  \n",
       "1               70           7             0.01            0.01  ultimate  \n",
       "0               20          10             0.03            0.03      surf  "
      ]
     },
     "execution_count": 8,
     "metadata": {},
     "output_type": "execute_result"
    }
   ],
   "source": [
    "data_plan.sample(2)"
   ]
  },
  {
   "cell_type": "code",
   "execution_count": 9,
   "metadata": {
    "collapsed": true
   },
   "outputs": [
    {
     "data": {
      "text/plain": [
       "messages_included        0\n",
       "mb_per_month_included    0\n",
       "minutes_included         0\n",
       "usd_monthly_pay          0\n",
       "usd_per_gb               0\n",
       "usd_per_message          0\n",
       "usd_per_minute           0\n",
       "plan_name                0\n",
       "dtype: int64"
      ]
     },
     "execution_count": 9,
     "metadata": {},
     "output_type": "execute_result"
    }
   ],
   "source": [
    "data_plan.isnull().sum()"
   ]
  },
  {
   "cell_type": "markdown",
   "metadata": {},
   "source": [
    "The \"Prepaid Packages\" (Data Plan) table contains information about two types of prepaid packages offered by Megaline, namely \"Surf\" and \"Ultimate\". Each package has attributes, such as the number of messages, megabytes of data, included calling minutes, monthly fees, as well as additional prices if the package allocation exceeds. After looking at this information, we found no issues with missing data or inappropriate data types. In other words, the data in this table appears to be in good condition and does not require further improvement. This means we can continue the analysis without constraints on this data."
   ]
  },
  {
   "cell_type": "markdown",
   "metadata": {},
   "source": [
    "### Handle `data_plan` Data"
   ]
  },
  {
   "cell_type": "markdown",
   "metadata": {},
   "source": [
    "Even though the data is in good condition, it can be seen that the prices in the column above are not all in the `float` type, but rather in the `int` type. Even with the same numerical values, it would be better for the column used to hold price information to use the `float` data type to be able to hold fractional or comma values."
   ]
  },
  {
   "cell_type": "code",
   "execution_count": 10,
   "metadata": {},
   "outputs": [],
   "source": [
    "data_plan['usd_monthly_pay'] = data_plan['usd_monthly_pay'].astype(float)\n",
    "data_plan['usd_per_gb'] = data_plan['usd_per_gb'].astype(float)"
   ]
  },
  {
   "cell_type": "code",
   "execution_count": 11,
   "metadata": {
    "collapsed": true
   },
   "outputs": [
    {
     "name": "stdout",
     "output_type": "stream",
     "text": [
      "<class 'pandas.core.frame.DataFrame'>\n",
      "RangeIndex: 2 entries, 0 to 1\n",
      "Data columns (total 8 columns):\n",
      " #   Column                 Non-Null Count  Dtype  \n",
      "---  ------                 --------------  -----  \n",
      " 0   messages_included      2 non-null      int64  \n",
      " 1   mb_per_month_included  2 non-null      int64  \n",
      " 2   minutes_included       2 non-null      int64  \n",
      " 3   usd_monthly_pay        2 non-null      float64\n",
      " 4   usd_per_gb             2 non-null      float64\n",
      " 5   usd_per_message        2 non-null      float64\n",
      " 6   usd_per_minute         2 non-null      float64\n",
      " 7   plan_name              2 non-null      object \n",
      "dtypes: float64(4), int64(3), object(1)\n",
      "memory usage: 256.0+ bytes\n"
     ]
    }
   ],
   "source": [
    "data_plan.info()"
   ]
  },
  {
   "cell_type": "markdown",
   "metadata": {},
   "source": [
    "### Enhance Quality Data `data_plan`"
   ]
  },
  {
   "cell_type": "code",
   "execution_count": 12,
   "metadata": {},
   "outputs": [],
   "source": [
    "data_plan['usd_per_call'] = data_plan['usd_monthly_pay'] / data_plan['minutes_included']"
   ]
  },
  {
   "cell_type": "code",
   "execution_count": 13,
   "metadata": {
    "collapsed": true
   },
   "outputs": [
    {
     "name": "stdout",
     "output_type": "stream",
     "text": [
      "<class 'pandas.core.frame.DataFrame'>\n",
      "RangeIndex: 2 entries, 0 to 1\n",
      "Data columns (total 9 columns):\n",
      " #   Column                 Non-Null Count  Dtype  \n",
      "---  ------                 --------------  -----  \n",
      " 0   messages_included      2 non-null      int64  \n",
      " 1   mb_per_month_included  2 non-null      int64  \n",
      " 2   minutes_included       2 non-null      int64  \n",
      " 3   usd_monthly_pay        2 non-null      float64\n",
      " 4   usd_per_gb             2 non-null      float64\n",
      " 5   usd_per_message        2 non-null      float64\n",
      " 6   usd_per_minute         2 non-null      float64\n",
      " 7   plan_name              2 non-null      object \n",
      " 8   usd_per_call           2 non-null      float64\n",
      "dtypes: float64(5), int64(3), object(1)\n",
      "memory usage: 272.0+ bytes\n"
     ]
    },
    {
     "data": {
      "text/html": [
       "<div>\n",
       "<style scoped>\n",
       "    .dataframe tbody tr th:only-of-type {\n",
       "        vertical-align: middle;\n",
       "    }\n",
       "\n",
       "    .dataframe tbody tr th {\n",
       "        vertical-align: top;\n",
       "    }\n",
       "\n",
       "    .dataframe thead th {\n",
       "        text-align: right;\n",
       "    }\n",
       "</style>\n",
       "<table border=\"1\" class=\"dataframe\">\n",
       "  <thead>\n",
       "    <tr style=\"text-align: right;\">\n",
       "      <th></th>\n",
       "      <th>messages_included</th>\n",
       "      <th>mb_per_month_included</th>\n",
       "      <th>minutes_included</th>\n",
       "      <th>usd_monthly_pay</th>\n",
       "      <th>usd_per_gb</th>\n",
       "      <th>usd_per_message</th>\n",
       "      <th>usd_per_minute</th>\n",
       "      <th>plan_name</th>\n",
       "      <th>usd_per_call</th>\n",
       "    </tr>\n",
       "  </thead>\n",
       "  <tbody>\n",
       "    <tr>\n",
       "      <th>1</th>\n",
       "      <td>1000</td>\n",
       "      <td>30720</td>\n",
       "      <td>3000</td>\n",
       "      <td>70.0</td>\n",
       "      <td>7.0</td>\n",
       "      <td>0.01</td>\n",
       "      <td>0.01</td>\n",
       "      <td>ultimate</td>\n",
       "      <td>0.023333</td>\n",
       "    </tr>\n",
       "    <tr>\n",
       "      <th>0</th>\n",
       "      <td>50</td>\n",
       "      <td>15360</td>\n",
       "      <td>500</td>\n",
       "      <td>20.0</td>\n",
       "      <td>10.0</td>\n",
       "      <td>0.03</td>\n",
       "      <td>0.03</td>\n",
       "      <td>surf</td>\n",
       "      <td>0.040000</td>\n",
       "    </tr>\n",
       "  </tbody>\n",
       "</table>\n",
       "</div>"
      ],
      "text/plain": [
       "   messages_included  mb_per_month_included  minutes_included  \\\n",
       "1               1000                  30720              3000   \n",
       "0                 50                  15360               500   \n",
       "\n",
       "   usd_monthly_pay  usd_per_gb  usd_per_message  usd_per_minute plan_name  \\\n",
       "1             70.0         7.0             0.01            0.01  ultimate   \n",
       "0             20.0        10.0             0.03            0.03      surf   \n",
       "\n",
       "   usd_per_call  \n",
       "1      0.023333  \n",
       "0      0.040000  "
      ]
     },
     "execution_count": 13,
     "metadata": {},
     "output_type": "execute_result"
    }
   ],
   "source": [
    "data_plan.info()\n",
    "data_plan.sample(2)"
   ]
  },
  {
   "cell_type": "markdown",
   "metadata": {},
   "source": [
    "The `usd_per_call` column can hold call costs based on the total monthly cost of the package divided by the number of minutes earned from that package."
   ]
  },
  {
   "cell_type": "markdown",
   "metadata": {},
   "source": [
    "## User"
   ]
  },
  {
   "cell_type": "code",
   "execution_count": 14,
   "metadata": {
    "collapsed": true
   },
   "outputs": [
    {
     "name": "stdout",
     "output_type": "stream",
     "text": [
      "<class 'pandas.core.frame.DataFrame'>\n",
      "RangeIndex: 500 entries, 0 to 499\n",
      "Data columns (total 8 columns):\n",
      " #   Column      Non-Null Count  Dtype \n",
      "---  ------      --------------  ----- \n",
      " 0   user_id     500 non-null    int64 \n",
      " 1   first_name  500 non-null    object\n",
      " 2   last_name   500 non-null    object\n",
      " 3   age         500 non-null    int64 \n",
      " 4   city        500 non-null    object\n",
      " 5   reg_date    500 non-null    object\n",
      " 6   plan        500 non-null    object\n",
      " 7   churn_date  34 non-null     object\n",
      "dtypes: int64(2), object(6)\n",
      "memory usage: 31.4+ KB\n"
     ]
    }
   ],
   "source": [
    "data_user.info()"
   ]
  },
  {
   "cell_type": "code",
   "execution_count": 15,
   "metadata": {
    "collapsed": true
   },
   "outputs": [
    {
     "data": {
      "text/html": [
       "<div>\n",
       "<style scoped>\n",
       "    .dataframe tbody tr th:only-of-type {\n",
       "        vertical-align: middle;\n",
       "    }\n",
       "\n",
       "    .dataframe tbody tr th {\n",
       "        vertical-align: top;\n",
       "    }\n",
       "\n",
       "    .dataframe thead th {\n",
       "        text-align: right;\n",
       "    }\n",
       "</style>\n",
       "<table border=\"1\" class=\"dataframe\">\n",
       "  <thead>\n",
       "    <tr style=\"text-align: right;\">\n",
       "      <th></th>\n",
       "      <th>user_id</th>\n",
       "      <th>first_name</th>\n",
       "      <th>last_name</th>\n",
       "      <th>age</th>\n",
       "      <th>city</th>\n",
       "      <th>reg_date</th>\n",
       "      <th>plan</th>\n",
       "      <th>churn_date</th>\n",
       "    </tr>\n",
       "  </thead>\n",
       "  <tbody>\n",
       "    <tr>\n",
       "      <th>328</th>\n",
       "      <td>1328</td>\n",
       "      <td>Tamesha</td>\n",
       "      <td>Huber</td>\n",
       "      <td>20</td>\n",
       "      <td>Minneapolis-St. Paul-Bloomington, MN-WI MSA</td>\n",
       "      <td>2018-02-10</td>\n",
       "      <td>surf</td>\n",
       "      <td>NaN</td>\n",
       "    </tr>\n",
       "    <tr>\n",
       "      <th>458</th>\n",
       "      <td>1458</td>\n",
       "      <td>Joella</td>\n",
       "      <td>Munoz</td>\n",
       "      <td>32</td>\n",
       "      <td>Detroit-Warren-Dearborn, MI MSA</td>\n",
       "      <td>2018-07-24</td>\n",
       "      <td>ultimate</td>\n",
       "      <td>NaN</td>\n",
       "    </tr>\n",
       "    <tr>\n",
       "      <th>444</th>\n",
       "      <td>1444</td>\n",
       "      <td>Glinda</td>\n",
       "      <td>Dickerson</td>\n",
       "      <td>70</td>\n",
       "      <td>New Haven-Milford, CT MSA</td>\n",
       "      <td>2018-06-20</td>\n",
       "      <td>surf</td>\n",
       "      <td>NaN</td>\n",
       "    </tr>\n",
       "    <tr>\n",
       "      <th>201</th>\n",
       "      <td>1201</td>\n",
       "      <td>Jeanelle</td>\n",
       "      <td>Estrada</td>\n",
       "      <td>61</td>\n",
       "      <td>Bridgeport-Stamford-Norwalk, CT MSA</td>\n",
       "      <td>2018-06-04</td>\n",
       "      <td>surf</td>\n",
       "      <td>NaN</td>\n",
       "    </tr>\n",
       "    <tr>\n",
       "      <th>287</th>\n",
       "      <td>1287</td>\n",
       "      <td>Heide</td>\n",
       "      <td>Gill</td>\n",
       "      <td>74</td>\n",
       "      <td>Sacramento–Roseville–Folsom, CA MSA</td>\n",
       "      <td>2018-03-15</td>\n",
       "      <td>surf</td>\n",
       "      <td>NaN</td>\n",
       "    </tr>\n",
       "  </tbody>\n",
       "</table>\n",
       "</div>"
      ],
      "text/plain": [
       "     user_id first_name  last_name  age  \\\n",
       "328     1328    Tamesha      Huber   20   \n",
       "458     1458     Joella      Munoz   32   \n",
       "444     1444     Glinda  Dickerson   70   \n",
       "201     1201   Jeanelle    Estrada   61   \n",
       "287     1287      Heide       Gill   74   \n",
       "\n",
       "                                            city    reg_date      plan  \\\n",
       "328  Minneapolis-St. Paul-Bloomington, MN-WI MSA  2018-02-10      surf   \n",
       "458              Detroit-Warren-Dearborn, MI MSA  2018-07-24  ultimate   \n",
       "444                    New Haven-Milford, CT MSA  2018-06-20      surf   \n",
       "201          Bridgeport-Stamford-Norwalk, CT MSA  2018-06-04      surf   \n",
       "287          Sacramento–Roseville–Folsom, CA MSA  2018-03-15      surf   \n",
       "\n",
       "    churn_date  \n",
       "328        NaN  \n",
       "458        NaN  \n",
       "444        NaN  \n",
       "201        NaN  \n",
       "287        NaN  "
      ]
     },
     "execution_count": 15,
     "metadata": {},
     "output_type": "execute_result"
    }
   ],
   "source": [
    "data_user.sample(5)"
   ]
  },
  {
   "cell_type": "code",
   "execution_count": 16,
   "metadata": {
    "collapsed": true
   },
   "outputs": [
    {
     "data": {
      "text/plain": [
       "user_id         0\n",
       "first_name      0\n",
       "last_name       0\n",
       "age             0\n",
       "city            0\n",
       "reg_date        0\n",
       "plan            0\n",
       "churn_date    466\n",
       "dtype: int64"
      ]
     },
     "execution_count": 16,
     "metadata": {},
     "output_type": "execute_result"
    }
   ],
   "source": [
    "data_user.isnull().sum()"
   ]
  },
  {
   "cell_type": "markdown",
   "metadata": {},
   "source": [
    "In the user data frame, it can be seen that the `churn_date` column has many null values, this shows that most users are still active. The data in this column displays the date when the user stopped using the service. The `NaN` value in this column can be corrected, however, it would be better to leave the `NaN` value. \n",
    "The data type used by the data frame user also has several columns that are not appropriate, such as the `reg_date` and `churn_date` columns which use the `object`(String) data type. These 2 columns can be changed to type `datetime`.\n",
    "\n",
    "Then in the City column, it would be more appropriate if the column was transformed into several parts, into `city_name` and `state` based on the commas ','."
   ]
  },
  {
   "cell_type": "markdown",
   "metadata": {},
   "source": [
    "### Handle `data_user` Data"
   ]
  },
  {
   "cell_type": "markdown",
   "metadata": {},
   "source": [
    "Changed the data type of `reg_date` and `churn_date` columns to datetime."
   ]
  },
  {
   "cell_type": "code",
   "execution_count": 17,
   "metadata": {},
   "outputs": [],
   "source": [
    "data_user['reg_date'] = pd.to_datetime(data_user['reg_date'])\n",
    "data_user['churn_date'] = pd.to_datetime(data_user['churn_date'])"
   ]
  },
  {
   "cell_type": "markdown",
   "metadata": {},
   "source": [
    "### Enhance Quality Data `data_user`"
   ]
  },
  {
   "cell_type": "markdown",
   "metadata": {},
   "source": [
    "Added new columns from the `city` column, to `city_name` and `state`."
   ]
  },
  {
   "cell_type": "code",
   "execution_count": 18,
   "metadata": {},
   "outputs": [],
   "source": [
    "data_user[['city_name', 'state']] = data_user['city'].str.split(', ', expand=True)"
   ]
  },
  {
   "cell_type": "markdown",
   "metadata": {},
   "source": [
    "Divide the `reg_date` column into 3 parts, year, month and day."
   ]
  },
  {
   "cell_type": "code",
   "execution_count": 19,
   "metadata": {},
   "outputs": [],
   "source": [
    "data_user['reg_year'] = data_user['reg_date'].dt.year\n",
    "data_user['reg_month'] = data_user['reg_date'].dt.month\n",
    "data_user['reg_day'] = data_user['reg_date'].dt.day"
   ]
  },
  {
   "cell_type": "code",
   "execution_count": 20,
   "metadata": {
    "collapsed": true
   },
   "outputs": [
    {
     "name": "stdout",
     "output_type": "stream",
     "text": [
      "<class 'pandas.core.frame.DataFrame'>\n",
      "RangeIndex: 500 entries, 0 to 499\n",
      "Data columns (total 13 columns):\n",
      " #   Column      Non-Null Count  Dtype         \n",
      "---  ------      --------------  -----         \n",
      " 0   user_id     500 non-null    int64         \n",
      " 1   first_name  500 non-null    object        \n",
      " 2   last_name   500 non-null    object        \n",
      " 3   age         500 non-null    int64         \n",
      " 4   city        500 non-null    object        \n",
      " 5   reg_date    500 non-null    datetime64[ns]\n",
      " 6   plan        500 non-null    object        \n",
      " 7   churn_date  34 non-null     datetime64[ns]\n",
      " 8   city_name   500 non-null    object        \n",
      " 9   state       500 non-null    object        \n",
      " 10  reg_year    500 non-null    int32         \n",
      " 11  reg_month   500 non-null    int32         \n",
      " 12  reg_day     500 non-null    int32         \n",
      "dtypes: datetime64[ns](2), int32(3), int64(2), object(6)\n",
      "memory usage: 45.0+ KB\n"
     ]
    },
    {
     "data": {
      "text/html": [
       "<div>\n",
       "<style scoped>\n",
       "    .dataframe tbody tr th:only-of-type {\n",
       "        vertical-align: middle;\n",
       "    }\n",
       "\n",
       "    .dataframe tbody tr th {\n",
       "        vertical-align: top;\n",
       "    }\n",
       "\n",
       "    .dataframe thead th {\n",
       "        text-align: right;\n",
       "    }\n",
       "</style>\n",
       "<table border=\"1\" class=\"dataframe\">\n",
       "  <thead>\n",
       "    <tr style=\"text-align: right;\">\n",
       "      <th></th>\n",
       "      <th>user_id</th>\n",
       "      <th>first_name</th>\n",
       "      <th>last_name</th>\n",
       "      <th>age</th>\n",
       "      <th>city</th>\n",
       "      <th>reg_date</th>\n",
       "      <th>plan</th>\n",
       "      <th>churn_date</th>\n",
       "      <th>city_name</th>\n",
       "      <th>state</th>\n",
       "      <th>reg_year</th>\n",
       "      <th>reg_month</th>\n",
       "      <th>reg_day</th>\n",
       "    </tr>\n",
       "  </thead>\n",
       "  <tbody>\n",
       "    <tr>\n",
       "      <th>195</th>\n",
       "      <td>1195</td>\n",
       "      <td>Roy</td>\n",
       "      <td>Velez</td>\n",
       "      <td>60</td>\n",
       "      <td>Portland-Vancouver-Hillsboro, OR-WA MSA</td>\n",
       "      <td>2018-06-09</td>\n",
       "      <td>surf</td>\n",
       "      <td>NaT</td>\n",
       "      <td>Portland-Vancouver-Hillsboro</td>\n",
       "      <td>OR-WA MSA</td>\n",
       "      <td>2018</td>\n",
       "      <td>6</td>\n",
       "      <td>9</td>\n",
       "    </tr>\n",
       "    <tr>\n",
       "      <th>179</th>\n",
       "      <td>1179</td>\n",
       "      <td>Darcey</td>\n",
       "      <td>Baird</td>\n",
       "      <td>22</td>\n",
       "      <td>Dallas-Fort Worth-Arlington, TX MSA</td>\n",
       "      <td>2018-04-27</td>\n",
       "      <td>surf</td>\n",
       "      <td>NaT</td>\n",
       "      <td>Dallas-Fort Worth-Arlington</td>\n",
       "      <td>TX MSA</td>\n",
       "      <td>2018</td>\n",
       "      <td>4</td>\n",
       "      <td>27</td>\n",
       "    </tr>\n",
       "    <tr>\n",
       "      <th>93</th>\n",
       "      <td>1093</td>\n",
       "      <td>Karima</td>\n",
       "      <td>Hampton</td>\n",
       "      <td>69</td>\n",
       "      <td>Nashville-Davidson–Murfreesboro–Franklin, TN MSA</td>\n",
       "      <td>2018-12-17</td>\n",
       "      <td>surf</td>\n",
       "      <td>NaT</td>\n",
       "      <td>Nashville-Davidson–Murfreesboro–Franklin</td>\n",
       "      <td>TN MSA</td>\n",
       "      <td>2018</td>\n",
       "      <td>12</td>\n",
       "      <td>17</td>\n",
       "    </tr>\n",
       "    <tr>\n",
       "      <th>255</th>\n",
       "      <td>1255</td>\n",
       "      <td>Kennith</td>\n",
       "      <td>Rowland</td>\n",
       "      <td>22</td>\n",
       "      <td>Oklahoma City, OK MSA</td>\n",
       "      <td>2018-08-01</td>\n",
       "      <td>ultimate</td>\n",
       "      <td>NaT</td>\n",
       "      <td>Oklahoma City</td>\n",
       "      <td>OK MSA</td>\n",
       "      <td>2018</td>\n",
       "      <td>8</td>\n",
       "      <td>1</td>\n",
       "    </tr>\n",
       "    <tr>\n",
       "      <th>223</th>\n",
       "      <td>1223</td>\n",
       "      <td>Patience</td>\n",
       "      <td>Wilson</td>\n",
       "      <td>37</td>\n",
       "      <td>Phoenix-Mesa-Chandler, AZ MSA</td>\n",
       "      <td>2018-07-05</td>\n",
       "      <td>surf</td>\n",
       "      <td>NaT</td>\n",
       "      <td>Phoenix-Mesa-Chandler</td>\n",
       "      <td>AZ MSA</td>\n",
       "      <td>2018</td>\n",
       "      <td>7</td>\n",
       "      <td>5</td>\n",
       "    </tr>\n",
       "  </tbody>\n",
       "</table>\n",
       "</div>"
      ],
      "text/plain": [
       "     user_id first_name last_name  age  \\\n",
       "195     1195        Roy     Velez   60   \n",
       "179     1179     Darcey     Baird   22   \n",
       "93      1093     Karima   Hampton   69   \n",
       "255     1255    Kennith   Rowland   22   \n",
       "223     1223   Patience    Wilson   37   \n",
       "\n",
       "                                                 city   reg_date      plan  \\\n",
       "195           Portland-Vancouver-Hillsboro, OR-WA MSA 2018-06-09      surf   \n",
       "179               Dallas-Fort Worth-Arlington, TX MSA 2018-04-27      surf   \n",
       "93   Nashville-Davidson–Murfreesboro–Franklin, TN MSA 2018-12-17      surf   \n",
       "255                             Oklahoma City, OK MSA 2018-08-01  ultimate   \n",
       "223                     Phoenix-Mesa-Chandler, AZ MSA 2018-07-05      surf   \n",
       "\n",
       "    churn_date                                 city_name      state  reg_year  \\\n",
       "195        NaT              Portland-Vancouver-Hillsboro  OR-WA MSA      2018   \n",
       "179        NaT               Dallas-Fort Worth-Arlington     TX MSA      2018   \n",
       "93         NaT  Nashville-Davidson–Murfreesboro–Franklin     TN MSA      2018   \n",
       "255        NaT                             Oklahoma City     OK MSA      2018   \n",
       "223        NaT                     Phoenix-Mesa-Chandler     AZ MSA      2018   \n",
       "\n",
       "     reg_month  reg_day  \n",
       "195          6        9  \n",
       "179          4       27  \n",
       "93          12       17  \n",
       "255          8        1  \n",
       "223          7        5  "
      ]
     },
     "execution_count": 20,
     "metadata": {},
     "output_type": "execute_result"
    }
   ],
   "source": [
    "data_user.info()\n",
    "data_user.sample(5)"
   ]
  },
  {
   "cell_type": "markdown",
   "metadata": {},
   "source": [
    "## Call"
   ]
  },
  {
   "cell_type": "code",
   "execution_count": 21,
   "metadata": {
    "collapsed": true
   },
   "outputs": [
    {
     "name": "stdout",
     "output_type": "stream",
     "text": [
      "<class 'pandas.core.frame.DataFrame'>\n",
      "RangeIndex: 137735 entries, 0 to 137734\n",
      "Data columns (total 4 columns):\n",
      " #   Column     Non-Null Count   Dtype  \n",
      "---  ------     --------------   -----  \n",
      " 0   id         137735 non-null  object \n",
      " 1   user_id    137735 non-null  int64  \n",
      " 2   call_date  137735 non-null  object \n",
      " 3   duration   137735 non-null  float64\n",
      "dtypes: float64(1), int64(1), object(2)\n",
      "memory usage: 4.2+ MB\n"
     ]
    }
   ],
   "source": [
    "data_call.info()"
   ]
  },
  {
   "cell_type": "code",
   "execution_count": 22,
   "metadata": {
    "collapsed": true
   },
   "outputs": [
    {
     "data": {
      "text/html": [
       "<div>\n",
       "<style scoped>\n",
       "    .dataframe tbody tr th:only-of-type {\n",
       "        vertical-align: middle;\n",
       "    }\n",
       "\n",
       "    .dataframe tbody tr th {\n",
       "        vertical-align: top;\n",
       "    }\n",
       "\n",
       "    .dataframe thead th {\n",
       "        text-align: right;\n",
       "    }\n",
       "</style>\n",
       "<table border=\"1\" class=\"dataframe\">\n",
       "  <thead>\n",
       "    <tr style=\"text-align: right;\">\n",
       "      <th></th>\n",
       "      <th>id</th>\n",
       "      <th>user_id</th>\n",
       "      <th>call_date</th>\n",
       "      <th>duration</th>\n",
       "    </tr>\n",
       "  </thead>\n",
       "  <tbody>\n",
       "    <tr>\n",
       "      <th>108620</th>\n",
       "      <td>1383_309</td>\n",
       "      <td>1383</td>\n",
       "      <td>2018-11-06</td>\n",
       "      <td>4.28</td>\n",
       "    </tr>\n",
       "    <tr>\n",
       "      <th>49169</th>\n",
       "      <td>1177_205</td>\n",
       "      <td>1177</td>\n",
       "      <td>2018-11-22</td>\n",
       "      <td>0.00</td>\n",
       "    </tr>\n",
       "    <tr>\n",
       "      <th>30450</th>\n",
       "      <td>1114_255</td>\n",
       "      <td>1114</td>\n",
       "      <td>2018-12-06</td>\n",
       "      <td>6.97</td>\n",
       "    </tr>\n",
       "    <tr>\n",
       "      <th>20837</th>\n",
       "      <td>1077_804</td>\n",
       "      <td>1077</td>\n",
       "      <td>2018-07-18</td>\n",
       "      <td>3.95</td>\n",
       "    </tr>\n",
       "    <tr>\n",
       "      <th>106386</th>\n",
       "      <td>1376_68</td>\n",
       "      <td>1376</td>\n",
       "      <td>2018-12-09</td>\n",
       "      <td>4.61</td>\n",
       "    </tr>\n",
       "  </tbody>\n",
       "</table>\n",
       "</div>"
      ],
      "text/plain": [
       "              id  user_id   call_date  duration\n",
       "108620  1383_309     1383  2018-11-06      4.28\n",
       "49169   1177_205     1177  2018-11-22      0.00\n",
       "30450   1114_255     1114  2018-12-06      6.97\n",
       "20837   1077_804     1077  2018-07-18      3.95\n",
       "106386   1376_68     1376  2018-12-09      4.61"
      ]
     },
     "execution_count": 22,
     "metadata": {},
     "output_type": "execute_result"
    }
   ],
   "source": [
    "data_call.sample(5)"
   ]
  },
  {
   "cell_type": "code",
   "execution_count": 23,
   "metadata": {
    "collapsed": true
   },
   "outputs": [
    {
     "data": {
      "text/plain": [
       "id           0\n",
       "user_id      0\n",
       "call_date    0\n",
       "duration     0\n",
       "dtype: int64"
      ]
     },
     "execution_count": 23,
     "metadata": {},
     "output_type": "execute_result"
    }
   ],
   "source": [
    "data_call.isnull().sum()"
   ]
  },
  {
   "cell_type": "markdown",
   "metadata": {},
   "source": [
    "In the data_call data frame, you can see that there are 4 columns containing call ID, user ID, call date and call duration. Even though the data already looks neat. There are also several types of data types that do not match the columns, such as the `call_date` column using the `object` (String) data type. This column is more suitable for using the `datetime` data type."
   ]
  },
  {
   "cell_type": "markdown",
   "metadata": {},
   "source": [
    "### Handle `data_call` Data"
   ]
  },
  {
   "cell_type": "markdown",
   "metadata": {},
   "source": [
    "Changed the data type of the `call_date` column to datetime."
   ]
  },
  {
   "cell_type": "code",
   "execution_count": 24,
   "metadata": {},
   "outputs": [],
   "source": [
    "data_call['call_date'] = pd.to_datetime(data_call['call_date'])"
   ]
  },
  {
   "cell_type": "code",
   "execution_count": 25,
   "metadata": {
    "collapsed": true
   },
   "outputs": [
    {
     "name": "stdout",
     "output_type": "stream",
     "text": [
      "<class 'pandas.core.frame.DataFrame'>\n",
      "RangeIndex: 137735 entries, 0 to 137734\n",
      "Data columns (total 4 columns):\n",
      " #   Column     Non-Null Count   Dtype         \n",
      "---  ------     --------------   -----         \n",
      " 0   id         137735 non-null  object        \n",
      " 1   user_id    137735 non-null  int64         \n",
      " 2   call_date  137735 non-null  datetime64[ns]\n",
      " 3   duration   137735 non-null  float64       \n",
      "dtypes: datetime64[ns](1), float64(1), int64(1), object(1)\n",
      "memory usage: 4.2+ MB\n"
     ]
    }
   ],
   "source": [
    "data_call.info()"
   ]
  },
  {
   "cell_type": "markdown",
   "metadata": {},
   "source": [
    "### Enhance Quality `data_call` Data."
   ]
  },
  {
   "cell_type": "markdown",
   "metadata": {},
   "source": [
    "Divide the `call_date` column into 3 parts, year, month, and day."
   ]
  },
  {
   "cell_type": "code",
   "execution_count": 26,
   "metadata": {},
   "outputs": [],
   "source": [
    "data_call['call_year'] = data_call['call_date'].dt.year\n",
    "data_call['call_month'] = data_call['call_date'].dt.month\n",
    "data_call['call_day'] = data_call['call_date'].dt.day"
   ]
  },
  {
   "cell_type": "code",
   "execution_count": 27,
   "metadata": {
    "collapsed": true
   },
   "outputs": [
    {
     "name": "stdout",
     "output_type": "stream",
     "text": [
      "<class 'pandas.core.frame.DataFrame'>\n",
      "RangeIndex: 137735 entries, 0 to 137734\n",
      "Data columns (total 7 columns):\n",
      " #   Column      Non-Null Count   Dtype         \n",
      "---  ------      --------------   -----         \n",
      " 0   id          137735 non-null  object        \n",
      " 1   user_id     137735 non-null  int64         \n",
      " 2   call_date   137735 non-null  datetime64[ns]\n",
      " 3   duration    137735 non-null  float64       \n",
      " 4   call_year   137735 non-null  int32         \n",
      " 5   call_month  137735 non-null  int32         \n",
      " 6   call_day    137735 non-null  int32         \n",
      "dtypes: datetime64[ns](1), float64(1), int32(3), int64(1), object(1)\n",
      "memory usage: 5.8+ MB\n"
     ]
    },
    {
     "data": {
      "text/html": [
       "<div>\n",
       "<style scoped>\n",
       "    .dataframe tbody tr th:only-of-type {\n",
       "        vertical-align: middle;\n",
       "    }\n",
       "\n",
       "    .dataframe tbody tr th {\n",
       "        vertical-align: top;\n",
       "    }\n",
       "\n",
       "    .dataframe thead th {\n",
       "        text-align: right;\n",
       "    }\n",
       "</style>\n",
       "<table border=\"1\" class=\"dataframe\">\n",
       "  <thead>\n",
       "    <tr style=\"text-align: right;\">\n",
       "      <th></th>\n",
       "      <th>id</th>\n",
       "      <th>user_id</th>\n",
       "      <th>call_date</th>\n",
       "      <th>duration</th>\n",
       "      <th>call_year</th>\n",
       "      <th>call_month</th>\n",
       "      <th>call_day</th>\n",
       "    </tr>\n",
       "  </thead>\n",
       "  <tbody>\n",
       "    <tr>\n",
       "      <th>116971</th>\n",
       "      <td>1408_620</td>\n",
       "      <td>1408</td>\n",
       "      <td>2018-06-08</td>\n",
       "      <td>3.91</td>\n",
       "      <td>2018</td>\n",
       "      <td>6</td>\n",
       "      <td>8</td>\n",
       "    </tr>\n",
       "    <tr>\n",
       "      <th>69003</th>\n",
       "      <td>1247_336</td>\n",
       "      <td>1247</td>\n",
       "      <td>2018-07-31</td>\n",
       "      <td>4.38</td>\n",
       "      <td>2018</td>\n",
       "      <td>7</td>\n",
       "      <td>31</td>\n",
       "    </tr>\n",
       "    <tr>\n",
       "      <th>133712</th>\n",
       "      <td>1483_587</td>\n",
       "      <td>1483</td>\n",
       "      <td>2018-05-18</td>\n",
       "      <td>6.36</td>\n",
       "      <td>2018</td>\n",
       "      <td>5</td>\n",
       "      <td>18</td>\n",
       "    </tr>\n",
       "    <tr>\n",
       "      <th>132769</th>\n",
       "      <td>1478_223</td>\n",
       "      <td>1478</td>\n",
       "      <td>2018-11-28</td>\n",
       "      <td>0.00</td>\n",
       "      <td>2018</td>\n",
       "      <td>11</td>\n",
       "      <td>28</td>\n",
       "    </tr>\n",
       "    <tr>\n",
       "      <th>73901</th>\n",
       "      <td>1261_687</td>\n",
       "      <td>1261</td>\n",
       "      <td>2018-12-11</td>\n",
       "      <td>11.73</td>\n",
       "      <td>2018</td>\n",
       "      <td>12</td>\n",
       "      <td>11</td>\n",
       "    </tr>\n",
       "  </tbody>\n",
       "</table>\n",
       "</div>"
      ],
      "text/plain": [
       "              id  user_id  call_date  duration  call_year  call_month  \\\n",
       "116971  1408_620     1408 2018-06-08      3.91       2018           6   \n",
       "69003   1247_336     1247 2018-07-31      4.38       2018           7   \n",
       "133712  1483_587     1483 2018-05-18      6.36       2018           5   \n",
       "132769  1478_223     1478 2018-11-28      0.00       2018          11   \n",
       "73901   1261_687     1261 2018-12-11     11.73       2018          12   \n",
       "\n",
       "        call_day  \n",
       "116971         8  \n",
       "69003         31  \n",
       "133712        18  \n",
       "132769        28  \n",
       "73901         11  "
      ]
     },
     "execution_count": 27,
     "metadata": {},
     "output_type": "execute_result"
    }
   ],
   "source": [
    "data_call.info()\n",
    "data_call.sample(5)"
   ]
  },
  {
   "cell_type": "markdown",
   "metadata": {},
   "source": [
    "## Message"
   ]
  },
  {
   "cell_type": "code",
   "execution_count": 28,
   "metadata": {
    "collapsed": true
   },
   "outputs": [
    {
     "name": "stdout",
     "output_type": "stream",
     "text": [
      "<class 'pandas.core.frame.DataFrame'>\n",
      "RangeIndex: 76051 entries, 0 to 76050\n",
      "Data columns (total 3 columns):\n",
      " #   Column        Non-Null Count  Dtype \n",
      "---  ------        --------------  ----- \n",
      " 0   id            76051 non-null  object\n",
      " 1   user_id       76051 non-null  int64 \n",
      " 2   message_date  76051 non-null  object\n",
      "dtypes: int64(1), object(2)\n",
      "memory usage: 1.7+ MB\n"
     ]
    }
   ],
   "source": [
    "data_message.info()"
   ]
  },
  {
   "cell_type": "code",
   "execution_count": 29,
   "metadata": {
    "collapsed": true
   },
   "outputs": [
    {
     "data": {
      "text/html": [
       "<div>\n",
       "<style scoped>\n",
       "    .dataframe tbody tr th:only-of-type {\n",
       "        vertical-align: middle;\n",
       "    }\n",
       "\n",
       "    .dataframe tbody tr th {\n",
       "        vertical-align: top;\n",
       "    }\n",
       "\n",
       "    .dataframe thead th {\n",
       "        text-align: right;\n",
       "    }\n",
       "</style>\n",
       "<table border=\"1\" class=\"dataframe\">\n",
       "  <thead>\n",
       "    <tr style=\"text-align: right;\">\n",
       "      <th></th>\n",
       "      <th>id</th>\n",
       "      <th>user_id</th>\n",
       "      <th>message_date</th>\n",
       "    </tr>\n",
       "  </thead>\n",
       "  <tbody>\n",
       "    <tr>\n",
       "      <th>19564</th>\n",
       "      <td>1126_283</td>\n",
       "      <td>1126</td>\n",
       "      <td>2018-07-24</td>\n",
       "    </tr>\n",
       "    <tr>\n",
       "      <th>14327</th>\n",
       "      <td>1098_357</td>\n",
       "      <td>1098</td>\n",
       "      <td>2018-09-19</td>\n",
       "    </tr>\n",
       "    <tr>\n",
       "      <th>48554</th>\n",
       "      <td>1326_91</td>\n",
       "      <td>1326</td>\n",
       "      <td>2018-09-04</td>\n",
       "    </tr>\n",
       "    <tr>\n",
       "      <th>4606</th>\n",
       "      <td>1043_1019</td>\n",
       "      <td>1043</td>\n",
       "      <td>2018-06-29</td>\n",
       "    </tr>\n",
       "    <tr>\n",
       "      <th>15872</th>\n",
       "      <td>1105_71</td>\n",
       "      <td>1105</td>\n",
       "      <td>2018-12-23</td>\n",
       "    </tr>\n",
       "  </tbody>\n",
       "</table>\n",
       "</div>"
      ],
      "text/plain": [
       "              id  user_id message_date\n",
       "19564   1126_283     1126   2018-07-24\n",
       "14327   1098_357     1098   2018-09-19\n",
       "48554    1326_91     1326   2018-09-04\n",
       "4606   1043_1019     1043   2018-06-29\n",
       "15872    1105_71     1105   2018-12-23"
      ]
     },
     "execution_count": 29,
     "metadata": {},
     "output_type": "execute_result"
    }
   ],
   "source": [
    "data_message.sample(5)"
   ]
  },
  {
   "cell_type": "code",
   "execution_count": 30,
   "metadata": {
    "collapsed": true
   },
   "outputs": [
    {
     "data": {
      "text/plain": [
       "id              0\n",
       "user_id         0\n",
       "message_date    0\n",
       "dtype: int64"
      ]
     },
     "execution_count": 30,
     "metadata": {},
     "output_type": "execute_result"
    }
   ],
   "source": [
    "data_message.isnull().sum()"
   ]
  },
  {
   "cell_type": "markdown",
   "metadata": {},
   "source": [
    "In the data_message data frame, there is data that can be said to be neat, although it can be seen that there are columns with inappropriate data types, such as the `message_date` column which uses the `object` (string) data type."
   ]
  },
  {
   "cell_type": "markdown",
   "metadata": {},
   "source": [
    "### Handle `data_message` Data"
   ]
  },
  {
   "cell_type": "markdown",
   "metadata": {},
   "source": [
    "Changed the data type of the `message_date` column to datetime."
   ]
  },
  {
   "cell_type": "code",
   "execution_count": 31,
   "metadata": {},
   "outputs": [],
   "source": [
    "data_message['message_date'] = pd.to_datetime(data_message['message_date'])"
   ]
  },
  {
   "cell_type": "code",
   "execution_count": 32,
   "metadata": {
    "collapsed": true
   },
   "outputs": [
    {
     "name": "stdout",
     "output_type": "stream",
     "text": [
      "<class 'pandas.core.frame.DataFrame'>\n",
      "RangeIndex: 76051 entries, 0 to 76050\n",
      "Data columns (total 3 columns):\n",
      " #   Column        Non-Null Count  Dtype         \n",
      "---  ------        --------------  -----         \n",
      " 0   id            76051 non-null  object        \n",
      " 1   user_id       76051 non-null  int64         \n",
      " 2   message_date  76051 non-null  datetime64[ns]\n",
      "dtypes: datetime64[ns](1), int64(1), object(1)\n",
      "memory usage: 1.7+ MB\n"
     ]
    }
   ],
   "source": [
    "data_message.info()"
   ]
  },
  {
   "cell_type": "markdown",
   "metadata": {},
   "source": [
    "### Enhance Quality Data `data_message`"
   ]
  },
  {
   "cell_type": "markdown",
   "metadata": {},
   "source": [
    "Divide the `message_date` column into 3 parts, year, month, and day"
   ]
  },
  {
   "cell_type": "code",
   "execution_count": 33,
   "metadata": {},
   "outputs": [],
   "source": [
    "data_message['message_year'] = data_message['message_date'].dt.year\n",
    "data_message['message_month'] = data_message['message_date'].dt.month\n",
    "data_message['message_day'] = data_message['message_date'].dt.day"
   ]
  },
  {
   "cell_type": "code",
   "execution_count": 34,
   "metadata": {
    "collapsed": true
   },
   "outputs": [
    {
     "name": "stdout",
     "output_type": "stream",
     "text": [
      "<class 'pandas.core.frame.DataFrame'>\n",
      "RangeIndex: 76051 entries, 0 to 76050\n",
      "Data columns (total 6 columns):\n",
      " #   Column         Non-Null Count  Dtype         \n",
      "---  ------         --------------  -----         \n",
      " 0   id             76051 non-null  object        \n",
      " 1   user_id        76051 non-null  int64         \n",
      " 2   message_date   76051 non-null  datetime64[ns]\n",
      " 3   message_year   76051 non-null  int32         \n",
      " 4   message_month  76051 non-null  int32         \n",
      " 5   message_day    76051 non-null  int32         \n",
      "dtypes: datetime64[ns](1), int32(3), int64(1), object(1)\n",
      "memory usage: 2.6+ MB\n"
     ]
    },
    {
     "data": {
      "text/html": [
       "<div>\n",
       "<style scoped>\n",
       "    .dataframe tbody tr th:only-of-type {\n",
       "        vertical-align: middle;\n",
       "    }\n",
       "\n",
       "    .dataframe tbody tr th {\n",
       "        vertical-align: top;\n",
       "    }\n",
       "\n",
       "    .dataframe thead th {\n",
       "        text-align: right;\n",
       "    }\n",
       "</style>\n",
       "<table border=\"1\" class=\"dataframe\">\n",
       "  <thead>\n",
       "    <tr style=\"text-align: right;\">\n",
       "      <th></th>\n",
       "      <th>id</th>\n",
       "      <th>user_id</th>\n",
       "      <th>message_date</th>\n",
       "      <th>message_year</th>\n",
       "      <th>message_month</th>\n",
       "      <th>message_day</th>\n",
       "    </tr>\n",
       "  </thead>\n",
       "  <tbody>\n",
       "    <tr>\n",
       "      <th>25079</th>\n",
       "      <td>1148_79</td>\n",
       "      <td>1148</td>\n",
       "      <td>2018-12-09</td>\n",
       "      <td>2018</td>\n",
       "      <td>12</td>\n",
       "      <td>9</td>\n",
       "    </tr>\n",
       "    <tr>\n",
       "      <th>8160</th>\n",
       "      <td>1061_166</td>\n",
       "      <td>1061</td>\n",
       "      <td>2018-07-08</td>\n",
       "      <td>2018</td>\n",
       "      <td>7</td>\n",
       "      <td>8</td>\n",
       "    </tr>\n",
       "    <tr>\n",
       "      <th>2480</th>\n",
       "      <td>1028_396</td>\n",
       "      <td>1028</td>\n",
       "      <td>2018-04-09</td>\n",
       "      <td>2018</td>\n",
       "      <td>4</td>\n",
       "      <td>9</td>\n",
       "    </tr>\n",
       "    <tr>\n",
       "      <th>60378</th>\n",
       "      <td>1381_491</td>\n",
       "      <td>1381</td>\n",
       "      <td>2018-10-04</td>\n",
       "      <td>2018</td>\n",
       "      <td>10</td>\n",
       "      <td>4</td>\n",
       "    </tr>\n",
       "    <tr>\n",
       "      <th>17320</th>\n",
       "      <td>1114_159</td>\n",
       "      <td>1114</td>\n",
       "      <td>2018-11-12</td>\n",
       "      <td>2018</td>\n",
       "      <td>11</td>\n",
       "      <td>12</td>\n",
       "    </tr>\n",
       "  </tbody>\n",
       "</table>\n",
       "</div>"
      ],
      "text/plain": [
       "             id  user_id message_date  message_year  message_month  \\\n",
       "25079   1148_79     1148   2018-12-09          2018             12   \n",
       "8160   1061_166     1061   2018-07-08          2018              7   \n",
       "2480   1028_396     1028   2018-04-09          2018              4   \n",
       "60378  1381_491     1381   2018-10-04          2018             10   \n",
       "17320  1114_159     1114   2018-11-12          2018             11   \n",
       "\n",
       "       message_day  \n",
       "25079            9  \n",
       "8160             8  \n",
       "2480             9  \n",
       "60378            4  \n",
       "17320           12  "
      ]
     },
     "execution_count": 34,
     "metadata": {},
     "output_type": "execute_result"
    }
   ],
   "source": [
    "data_message.info()\n",
    "data_message.sample(5)"
   ]
  },
  {
   "cell_type": "markdown",
   "metadata": {},
   "source": [
    "## Internet"
   ]
  },
  {
   "cell_type": "code",
   "execution_count": 35,
   "metadata": {
    "collapsed": true
   },
   "outputs": [
    {
     "name": "stdout",
     "output_type": "stream",
     "text": [
      "<class 'pandas.core.frame.DataFrame'>\n",
      "RangeIndex: 104825 entries, 0 to 104824\n",
      "Data columns (total 4 columns):\n",
      " #   Column        Non-Null Count   Dtype  \n",
      "---  ------        --------------   -----  \n",
      " 0   id            104825 non-null  object \n",
      " 1   user_id       104825 non-null  int64  \n",
      " 2   session_date  104825 non-null  object \n",
      " 3   mb_used       104825 non-null  float64\n",
      "dtypes: float64(1), int64(1), object(2)\n",
      "memory usage: 3.2+ MB\n"
     ]
    }
   ],
   "source": [
    "data_internet.info()"
   ]
  },
  {
   "cell_type": "code",
   "execution_count": 36,
   "metadata": {
    "collapsed": true
   },
   "outputs": [
    {
     "data": {
      "text/html": [
       "<div>\n",
       "<style scoped>\n",
       "    .dataframe tbody tr th:only-of-type {\n",
       "        vertical-align: middle;\n",
       "    }\n",
       "\n",
       "    .dataframe tbody tr th {\n",
       "        vertical-align: top;\n",
       "    }\n",
       "\n",
       "    .dataframe thead th {\n",
       "        text-align: right;\n",
       "    }\n",
       "</style>\n",
       "<table border=\"1\" class=\"dataframe\">\n",
       "  <thead>\n",
       "    <tr style=\"text-align: right;\">\n",
       "      <th></th>\n",
       "      <th>id</th>\n",
       "      <th>user_id</th>\n",
       "      <th>session_date</th>\n",
       "      <th>mb_used</th>\n",
       "    </tr>\n",
       "  </thead>\n",
       "  <tbody>\n",
       "    <tr>\n",
       "      <th>7093</th>\n",
       "      <td>1039_368</td>\n",
       "      <td>1039</td>\n",
       "      <td>2018-11-25</td>\n",
       "      <td>369.45</td>\n",
       "    </tr>\n",
       "    <tr>\n",
       "      <th>47015</th>\n",
       "      <td>1210_94</td>\n",
       "      <td>1210</td>\n",
       "      <td>2018-06-19</td>\n",
       "      <td>351.93</td>\n",
       "    </tr>\n",
       "    <tr>\n",
       "      <th>89036</th>\n",
       "      <td>1410_166</td>\n",
       "      <td>1410</td>\n",
       "      <td>2018-12-22</td>\n",
       "      <td>449.53</td>\n",
       "    </tr>\n",
       "    <tr>\n",
       "      <th>67442</th>\n",
       "      <td>1313_116</td>\n",
       "      <td>1313</td>\n",
       "      <td>2018-11-22</td>\n",
       "      <td>189.01</td>\n",
       "    </tr>\n",
       "    <tr>\n",
       "      <th>3536</th>\n",
       "      <td>1020_129</td>\n",
       "      <td>1020</td>\n",
       "      <td>2018-11-26</td>\n",
       "      <td>595.09</td>\n",
       "    </tr>\n",
       "  </tbody>\n",
       "</table>\n",
       "</div>"
      ],
      "text/plain": [
       "             id  user_id session_date  mb_used\n",
       "7093   1039_368     1039   2018-11-25   369.45\n",
       "47015   1210_94     1210   2018-06-19   351.93\n",
       "89036  1410_166     1410   2018-12-22   449.53\n",
       "67442  1313_116     1313   2018-11-22   189.01\n",
       "3536   1020_129     1020   2018-11-26   595.09"
      ]
     },
     "execution_count": 36,
     "metadata": {},
     "output_type": "execute_result"
    }
   ],
   "source": [
    "data_internet.sample(5)"
   ]
  },
  {
   "cell_type": "code",
   "execution_count": 37,
   "metadata": {
    "collapsed": true
   },
   "outputs": [
    {
     "data": {
      "text/plain": [
       "id              0\n",
       "user_id         0\n",
       "session_date    0\n",
       "mb_used         0\n",
       "dtype: int64"
      ]
     },
     "execution_count": 37,
     "metadata": {},
     "output_type": "execute_result"
    }
   ],
   "source": [
    "data_internet.isnull().sum()"
   ]
  },
  {
   "cell_type": "markdown",
   "metadata": {},
   "source": [
    "In the data_internet data frame, you can see that there are 4 columns, where the columns look clean and can be used. However, the `session_date` column uses the `object` (string) data type, where it is more suitable to use the `datetime` data type."
   ]
  },
  {
   "cell_type": "markdown",
   "metadata": {},
   "source": [
    "### Handle `data_internet` Data"
   ]
  },
  {
   "cell_type": "markdown",
   "metadata": {},
   "source": [
    "Change the data type `session_date` to datatime."
   ]
  },
  {
   "cell_type": "code",
   "execution_count": 38,
   "metadata": {},
   "outputs": [],
   "source": [
    "data_internet['session_date'] = pd.to_datetime(data_internet['session_date'])"
   ]
  },
  {
   "cell_type": "code",
   "execution_count": 39,
   "metadata": {},
   "outputs": [
    {
     "name": "stdout",
     "output_type": "stream",
     "text": [
      "<class 'pandas.core.frame.DataFrame'>\n",
      "RangeIndex: 104825 entries, 0 to 104824\n",
      "Data columns (total 4 columns):\n",
      " #   Column        Non-Null Count   Dtype         \n",
      "---  ------        --------------   -----         \n",
      " 0   id            104825 non-null  object        \n",
      " 1   user_id       104825 non-null  int64         \n",
      " 2   session_date  104825 non-null  datetime64[ns]\n",
      " 3   mb_used       104825 non-null  float64       \n",
      "dtypes: datetime64[ns](1), float64(1), int64(1), object(1)\n",
      "memory usage: 3.2+ MB\n"
     ]
    }
   ],
   "source": [
    "data_internet.info()"
   ]
  },
  {
   "cell_type": "markdown",
   "metadata": {},
   "source": [
    "### Enhance Quality Data `data_internet`"
   ]
  },
  {
   "cell_type": "markdown",
   "metadata": {},
   "source": [
    "Divide the `session_date` column into 3 parts, year, month, and day"
   ]
  },
  {
   "cell_type": "code",
   "execution_count": 40,
   "metadata": {},
   "outputs": [],
   "source": [
    "data_internet['session_year'] = data_internet['session_date'].dt.year\n",
    "data_internet['session_month'] = data_internet['session_date'].dt.month\n",
    "data_internet['session_day'] = data_internet['session_date'].dt.day"
   ]
  },
  {
   "cell_type": "code",
   "execution_count": 41,
   "metadata": {
    "collapsed": true
   },
   "outputs": [
    {
     "name": "stdout",
     "output_type": "stream",
     "text": [
      "<class 'pandas.core.frame.DataFrame'>\n",
      "RangeIndex: 104825 entries, 0 to 104824\n",
      "Data columns (total 7 columns):\n",
      " #   Column         Non-Null Count   Dtype         \n",
      "---  ------         --------------   -----         \n",
      " 0   id             104825 non-null  object        \n",
      " 1   user_id        104825 non-null  int64         \n",
      " 2   session_date   104825 non-null  datetime64[ns]\n",
      " 3   mb_used        104825 non-null  float64       \n",
      " 4   session_year   104825 non-null  int32         \n",
      " 5   session_month  104825 non-null  int32         \n",
      " 6   session_day    104825 non-null  int32         \n",
      "dtypes: datetime64[ns](1), float64(1), int32(3), int64(1), object(1)\n",
      "memory usage: 4.4+ MB\n"
     ]
    },
    {
     "data": {
      "text/html": [
       "<div>\n",
       "<style scoped>\n",
       "    .dataframe tbody tr th:only-of-type {\n",
       "        vertical-align: middle;\n",
       "    }\n",
       "\n",
       "    .dataframe tbody tr th {\n",
       "        vertical-align: top;\n",
       "    }\n",
       "\n",
       "    .dataframe thead th {\n",
       "        text-align: right;\n",
       "    }\n",
       "</style>\n",
       "<table border=\"1\" class=\"dataframe\">\n",
       "  <thead>\n",
       "    <tr style=\"text-align: right;\">\n",
       "      <th></th>\n",
       "      <th>id</th>\n",
       "      <th>user_id</th>\n",
       "      <th>session_date</th>\n",
       "      <th>mb_used</th>\n",
       "      <th>session_year</th>\n",
       "      <th>session_month</th>\n",
       "      <th>session_day</th>\n",
       "    </tr>\n",
       "  </thead>\n",
       "  <tbody>\n",
       "    <tr>\n",
       "      <th>6762</th>\n",
       "      <td>1039_37</td>\n",
       "      <td>1039</td>\n",
       "      <td>2018-11-02</td>\n",
       "      <td>80.12</td>\n",
       "      <td>2018</td>\n",
       "      <td>11</td>\n",
       "      <td>2</td>\n",
       "    </tr>\n",
       "    <tr>\n",
       "      <th>48751</th>\n",
       "      <td>1217_91</td>\n",
       "      <td>1217</td>\n",
       "      <td>2018-10-16</td>\n",
       "      <td>354.19</td>\n",
       "      <td>2018</td>\n",
       "      <td>10</td>\n",
       "      <td>16</td>\n",
       "    </tr>\n",
       "    <tr>\n",
       "      <th>90591</th>\n",
       "      <td>1417_192</td>\n",
       "      <td>1417</td>\n",
       "      <td>2018-11-26</td>\n",
       "      <td>618.45</td>\n",
       "      <td>2018</td>\n",
       "      <td>11</td>\n",
       "      <td>26</td>\n",
       "    </tr>\n",
       "    <tr>\n",
       "      <th>40115</th>\n",
       "      <td>1181_256</td>\n",
       "      <td>1181</td>\n",
       "      <td>2018-05-13</td>\n",
       "      <td>414.75</td>\n",
       "      <td>2018</td>\n",
       "      <td>5</td>\n",
       "      <td>13</td>\n",
       "    </tr>\n",
       "    <tr>\n",
       "      <th>5690</th>\n",
       "      <td>1031_270</td>\n",
       "      <td>1031</td>\n",
       "      <td>2018-12-18</td>\n",
       "      <td>0.00</td>\n",
       "      <td>2018</td>\n",
       "      <td>12</td>\n",
       "      <td>18</td>\n",
       "    </tr>\n",
       "  </tbody>\n",
       "</table>\n",
       "</div>"
      ],
      "text/plain": [
       "             id  user_id session_date  mb_used  session_year  session_month  \\\n",
       "6762    1039_37     1039   2018-11-02    80.12          2018             11   \n",
       "48751   1217_91     1217   2018-10-16   354.19          2018             10   \n",
       "90591  1417_192     1417   2018-11-26   618.45          2018             11   \n",
       "40115  1181_256     1181   2018-05-13   414.75          2018              5   \n",
       "5690   1031_270     1031   2018-12-18     0.00          2018             12   \n",
       "\n",
       "       session_day  \n",
       "6762             2  \n",
       "48751           16  \n",
       "90591           26  \n",
       "40115           13  \n",
       "5690            18  "
      ]
     },
     "execution_count": 41,
     "metadata": {},
     "output_type": "execute_result"
    }
   ],
   "source": [
    "data_internet.info()\n",
    "data_internet.sample(5)"
   ]
  },
  {
   "cell_type": "markdown",
   "metadata": {},
   "source": [
    "## Terms and Conditions of Prepaid Packages Understanding"
   ]
  },
  {
   "cell_type": "code",
   "execution_count": 38,
   "metadata": {
    "collapsed": true
   },
   "outputs": [
    {
     "data": {
      "text/html": [
       "<div>\n",
       "<style scoped>\n",
       "    .dataframe tbody tr th:only-of-type {\n",
       "        vertical-align: middle;\n",
       "    }\n",
       "\n",
       "    .dataframe tbody tr th {\n",
       "        vertical-align: top;\n",
       "    }\n",
       "\n",
       "    .dataframe thead th {\n",
       "        text-align: right;\n",
       "    }\n",
       "</style>\n",
       "<table border=\"1\" class=\"dataframe\">\n",
       "  <thead>\n",
       "    <tr style=\"text-align: right;\">\n",
       "      <th></th>\n",
       "      <th>messages_included</th>\n",
       "      <th>mb_per_month_included</th>\n",
       "      <th>minutes_included</th>\n",
       "      <th>usd_monthly_pay</th>\n",
       "      <th>usd_per_gb</th>\n",
       "      <th>usd_per_message</th>\n",
       "      <th>usd_per_minute</th>\n",
       "      <th>plan_name</th>\n",
       "      <th>usd_per_call</th>\n",
       "    </tr>\n",
       "  </thead>\n",
       "  <tbody>\n",
       "    <tr>\n",
       "      <th>0</th>\n",
       "      <td>50</td>\n",
       "      <td>15360</td>\n",
       "      <td>500</td>\n",
       "      <td>20.0</td>\n",
       "      <td>10.0</td>\n",
       "      <td>0.03</td>\n",
       "      <td>0.03</td>\n",
       "      <td>surf</td>\n",
       "      <td>0.040000</td>\n",
       "    </tr>\n",
       "    <tr>\n",
       "      <th>1</th>\n",
       "      <td>1000</td>\n",
       "      <td>30720</td>\n",
       "      <td>3000</td>\n",
       "      <td>70.0</td>\n",
       "      <td>7.0</td>\n",
       "      <td>0.01</td>\n",
       "      <td>0.01</td>\n",
       "      <td>ultimate</td>\n",
       "      <td>0.023333</td>\n",
       "    </tr>\n",
       "  </tbody>\n",
       "</table>\n",
       "</div>"
      ],
      "text/plain": [
       "   messages_included  mb_per_month_included  minutes_included  \\\n",
       "0                 50                  15360               500   \n",
       "1               1000                  30720              3000   \n",
       "\n",
       "   usd_monthly_pay  usd_per_gb  usd_per_message  usd_per_minute plan_name  \\\n",
       "0             20.0        10.0             0.03            0.03      surf   \n",
       "1             70.0         7.0             0.01            0.01  ultimate   \n",
       "\n",
       "   usd_per_call  \n",
       "0      0.040000  \n",
       "1      0.023333  "
      ]
     },
     "execution_count": 38,
     "metadata": {},
     "output_type": "execute_result"
    }
   ],
   "source": [
    "data_plan"
   ]
  },
  {
   "cell_type": "markdown",
   "metadata": {},
   "source": [
    "**Surf Package**\n",
    "\n",
    "The \"Surf\" plan offers customers 50 messages, 15,360 megabytes of data, and 500 calling minutes per month for a monthly fee of 20. Customers on the Surf plan will be charged an additional 0.03 for each message and call minute that exceeds the monthly allocation, as well as 10.00 for each gigabytes of data used exceed allocation."
   ]
  },
  {
   "cell_type": "markdown",
   "metadata": {},
   "source": [
    "**Ultimate Package**\n",
    "\n",
    "Meanwhile, the \"Ultimate\" plan offers a larger allocation, with 1,000 messages, 30,720 megabytes of data, and 3,000 calling minutes per month. The monthly fee is 70. This plan also charges an additional fee of 0.01 for each message and call minute that exceeds the allocation, as well as 7.00 for each gigabyte of data used that exceeds the monthly allocation."
   ]
  },
  {
   "cell_type": "markdown",
   "metadata": {},
   "source": [
    "## Aggregate Data per User"
   ]
  },
  {
   "cell_type": "markdown",
   "metadata": {},
   "source": [
    "Count the number of calls made by each user per month."
   ]
  },
  {
   "cell_type": "code",
   "execution_count": 42,
   "metadata": {},
   "outputs": [],
   "source": [
    "calls_per_month = data_call.groupby(['user_id', 'call_month']).agg({'duration': 'sum'}).reset_index()\n",
    "calls_per_month.columns = ['user_id', 'month', 'total_minutes']"
   ]
  },
  {
   "cell_type": "markdown",
   "metadata": {},
   "source": [
    "Calculate the number of minutes each user spends on calls per month."
   ]
  },
  {
   "cell_type": "code",
   "execution_count": 43,
   "metadata": {},
   "outputs": [],
   "source": [
    "messages_per_month = data_message.groupby(['user_id', 'message_month']).size().reset_index(name='total_messages')\n",
    "messages_per_month.columns = ['user_id', 'month', 'total_messages']"
   ]
  },
  {
   "cell_type": "markdown",
   "metadata": {},
   "source": [
    "Count the number of SMS sent by each user per month."
   ]
  },
  {
   "cell_type": "code",
   "execution_count": 44,
   "metadata": {},
   "outputs": [],
   "source": [
    "internet_per_month = data_internet.groupby(['user_id', 'session_month']).agg({'mb_used': 'sum'}).reset_index()\n",
    "internet_per_month.columns = ['user_id', 'month', 'total_data_mb']"
   ]
  },
  {
   "cell_type": "markdown",
   "metadata": {},
   "source": [
    "Calculate the volume of internet traffic used by each user per month."
   ]
  },
  {
   "cell_type": "code",
   "execution_count": 45,
   "metadata": {},
   "outputs": [],
   "source": [
    "merged_data = calls_per_month.merge(messages_per_month, on=['user_id', 'month'], how='outer')\n",
    "merged_data = merged_data.merge(internet_per_month, on=['user_id', 'month'], how='outer')\n",
    "merged_data = merged_data.fillna(0)"
   ]
  },
  {
   "cell_type": "markdown",
   "metadata": {},
   "source": [
    "Integrating call, minute, SMS and internet data based on user_id and month."
   ]
  },
  {
   "cell_type": "code",
   "execution_count": 46,
   "metadata": {},
   "outputs": [],
   "source": [
    "user_data = merged_data.merge(data_user[['user_id', 'plan']], on='user_id', how='outer')"
   ]
  },
  {
   "cell_type": "markdown",
   "metadata": {},
   "source": [
    "Add the prepaid plan information."
   ]
  },
  {
   "cell_type": "code",
   "execution_count": 47,
   "metadata": {},
   "outputs": [],
   "source": [
    "user_data = user_data.merge(data_plan[['plan_name', 'minutes_included', 'messages_included', 'mb_per_month_included', 'usd_monthly_pay', 'usd_per_gb', 'usd_per_message', 'usd_per_minute']], left_on='plan', right_on='plan_name', how='outer')"
   ]
  },
  {
   "cell_type": "markdown",
   "metadata": {},
   "source": [
    "Calculate monthly revenue for each user."
   ]
  },
  {
   "cell_type": "code",
   "execution_count": 48,
   "metadata": {},
   "outputs": [],
   "source": [
    "user_data['revenue'] = user_data.apply(lambda row: max(0, (row['total_minutes'] - row['minutes_included']) * row   ['usd_per_minute']) + max(0, (row['total_messages'] - row['messages_included']) * row['usd_per_message']) + max(0, (row['total_data_mb'] - row['mb_per_month_included']) / 1024 * row['usd_per_gb']) + row['usd_monthly_pay'], axis=1)"
   ]
  },
  {
   "cell_type": "code",
   "execution_count": 49,
   "metadata": {},
   "outputs": [],
   "source": [
    "user_data = user_data[['user_id', 'month', 'plan', 'total_minutes', 'total_messages', 'total_data_mb', 'revenue']]"
   ]
  },
  {
   "cell_type": "markdown",
   "metadata": {},
   "source": [
    "Checking the `user_data` dataframe."
   ]
  },
  {
   "cell_type": "code",
   "execution_count": 50,
   "metadata": {
    "collapsed": true
   },
   "outputs": [
    {
     "data": {
      "text/html": [
       "<div>\n",
       "<style scoped>\n",
       "    .dataframe tbody tr th:only-of-type {\n",
       "        vertical-align: middle;\n",
       "    }\n",
       "\n",
       "    .dataframe tbody tr th {\n",
       "        vertical-align: top;\n",
       "    }\n",
       "\n",
       "    .dataframe thead th {\n",
       "        text-align: right;\n",
       "    }\n",
       "</style>\n",
       "<table border=\"1\" class=\"dataframe\">\n",
       "  <thead>\n",
       "    <tr style=\"text-align: right;\">\n",
       "      <th></th>\n",
       "      <th>user_id</th>\n",
       "      <th>month</th>\n",
       "      <th>plan</th>\n",
       "      <th>total_minutes</th>\n",
       "      <th>total_messages</th>\n",
       "      <th>total_data_mb</th>\n",
       "      <th>revenue</th>\n",
       "    </tr>\n",
       "  </thead>\n",
       "  <tbody>\n",
       "    <tr>\n",
       "      <th>636</th>\n",
       "      <td>1189</td>\n",
       "      <td>10.0</td>\n",
       "      <td>surf</td>\n",
       "      <td>474.55</td>\n",
       "      <td>52.0</td>\n",
       "      <td>21811.18</td>\n",
       "      <td>83.059805</td>\n",
       "    </tr>\n",
       "    <tr>\n",
       "      <th>855</th>\n",
       "      <td>1261</td>\n",
       "      <td>10.0</td>\n",
       "      <td>surf</td>\n",
       "      <td>566.37</td>\n",
       "      <td>57.0</td>\n",
       "      <td>17573.63</td>\n",
       "      <td>43.818580</td>\n",
       "    </tr>\n",
       "    <tr>\n",
       "      <th>688</th>\n",
       "      <td>1206</td>\n",
       "      <td>11.0</td>\n",
       "      <td>surf</td>\n",
       "      <td>296.67</td>\n",
       "      <td>28.0</td>\n",
       "      <td>22740.44</td>\n",
       "      <td>92.074609</td>\n",
       "    </tr>\n",
       "    <tr>\n",
       "      <th>2265</th>\n",
       "      <td>1467</td>\n",
       "      <td>12.0</td>\n",
       "      <td>ultimate</td>\n",
       "      <td>459.35</td>\n",
       "      <td>77.0</td>\n",
       "      <td>18368.02</td>\n",
       "      <td>70.000000</td>\n",
       "    </tr>\n",
       "    <tr>\n",
       "      <th>17</th>\n",
       "      <td>1005</td>\n",
       "      <td>12.0</td>\n",
       "      <td>surf</td>\n",
       "      <td>470.22</td>\n",
       "      <td>11.0</td>\n",
       "      <td>17140.17</td>\n",
       "      <td>37.384473</td>\n",
       "    </tr>\n",
       "    <tr>\n",
       "      <th>1429</th>\n",
       "      <td>1439</td>\n",
       "      <td>9.0</td>\n",
       "      <td>surf</td>\n",
       "      <td>285.14</td>\n",
       "      <td>67.0</td>\n",
       "      <td>12222.24</td>\n",
       "      <td>20.510000</td>\n",
       "    </tr>\n",
       "    <tr>\n",
       "      <th>714</th>\n",
       "      <td>1216</td>\n",
       "      <td>12.0</td>\n",
       "      <td>surf</td>\n",
       "      <td>355.20</td>\n",
       "      <td>0.0</td>\n",
       "      <td>15687.82</td>\n",
       "      <td>23.201367</td>\n",
       "    </tr>\n",
       "    <tr>\n",
       "      <th>55</th>\n",
       "      <td>1018</td>\n",
       "      <td>12.0</td>\n",
       "      <td>surf</td>\n",
       "      <td>447.90</td>\n",
       "      <td>8.0</td>\n",
       "      <td>17390.55</td>\n",
       "      <td>39.829590</td>\n",
       "    </tr>\n",
       "    <tr>\n",
       "      <th>428</th>\n",
       "      <td>1131</td>\n",
       "      <td>6.0</td>\n",
       "      <td>surf</td>\n",
       "      <td>0.00</td>\n",
       "      <td>27.0</td>\n",
       "      <td>14637.04</td>\n",
       "      <td>20.000000</td>\n",
       "    </tr>\n",
       "    <tr>\n",
       "      <th>1703</th>\n",
       "      <td>1069</td>\n",
       "      <td>10.0</td>\n",
       "      <td>ultimate</td>\n",
       "      <td>510.03</td>\n",
       "      <td>119.0</td>\n",
       "      <td>11498.07</td>\n",
       "      <td>70.000000</td>\n",
       "    </tr>\n",
       "    <tr>\n",
       "      <th>414</th>\n",
       "      <td>1125</td>\n",
       "      <td>12.0</td>\n",
       "      <td>surf</td>\n",
       "      <td>489.51</td>\n",
       "      <td>54.0</td>\n",
       "      <td>22697.10</td>\n",
       "      <td>91.771367</td>\n",
       "    </tr>\n",
       "    <tr>\n",
       "      <th>2017</th>\n",
       "      <td>1317</td>\n",
       "      <td>11.0</td>\n",
       "      <td>ultimate</td>\n",
       "      <td>396.78</td>\n",
       "      <td>0.0</td>\n",
       "      <td>9105.69</td>\n",
       "      <td>70.000000</td>\n",
       "    </tr>\n",
       "    <tr>\n",
       "      <th>2099</th>\n",
       "      <td>1389</td>\n",
       "      <td>5.0</td>\n",
       "      <td>ultimate</td>\n",
       "      <td>392.85</td>\n",
       "      <td>0.0</td>\n",
       "      <td>13713.87</td>\n",
       "      <td>70.000000</td>\n",
       "    </tr>\n",
       "    <tr>\n",
       "      <th>1043</th>\n",
       "      <td>1322</td>\n",
       "      <td>8.0</td>\n",
       "      <td>surf</td>\n",
       "      <td>27.09</td>\n",
       "      <td>0.0</td>\n",
       "      <td>3565.98</td>\n",
       "      <td>20.000000</td>\n",
       "    </tr>\n",
       "    <tr>\n",
       "      <th>940</th>\n",
       "      <td>1291</td>\n",
       "      <td>12.0</td>\n",
       "      <td>surf</td>\n",
       "      <td>593.50</td>\n",
       "      <td>17.0</td>\n",
       "      <td>12186.77</td>\n",
       "      <td>22.805000</td>\n",
       "    </tr>\n",
       "    <tr>\n",
       "      <th>2046</th>\n",
       "      <td>1352</td>\n",
       "      <td>9.0</td>\n",
       "      <td>ultimate</td>\n",
       "      <td>564.64</td>\n",
       "      <td>29.0</td>\n",
       "      <td>13135.20</td>\n",
       "      <td>70.000000</td>\n",
       "    </tr>\n",
       "    <tr>\n",
       "      <th>1820</th>\n",
       "      <td>1162</td>\n",
       "      <td>10.0</td>\n",
       "      <td>ultimate</td>\n",
       "      <td>298.60</td>\n",
       "      <td>23.0</td>\n",
       "      <td>10939.10</td>\n",
       "      <td>70.000000</td>\n",
       "    </tr>\n",
       "    <tr>\n",
       "      <th>1257</th>\n",
       "      <td>1375</td>\n",
       "      <td>12.0</td>\n",
       "      <td>surf</td>\n",
       "      <td>259.30</td>\n",
       "      <td>81.0</td>\n",
       "      <td>13623.69</td>\n",
       "      <td>20.930000</td>\n",
       "    </tr>\n",
       "    <tr>\n",
       "      <th>686</th>\n",
       "      <td>1206</td>\n",
       "      <td>9.0</td>\n",
       "      <td>surf</td>\n",
       "      <td>400.93</td>\n",
       "      <td>35.0</td>\n",
       "      <td>26898.43</td>\n",
       "      <td>132.679980</td>\n",
       "    </tr>\n",
       "    <tr>\n",
       "      <th>1815</th>\n",
       "      <td>1159</td>\n",
       "      <td>10.0</td>\n",
       "      <td>ultimate</td>\n",
       "      <td>806.92</td>\n",
       "      <td>106.0</td>\n",
       "      <td>15861.99</td>\n",
       "      <td>70.000000</td>\n",
       "    </tr>\n",
       "  </tbody>\n",
       "</table>\n",
       "</div>"
      ],
      "text/plain": [
       "      user_id  month      plan  total_minutes  total_messages  total_data_mb  \\\n",
       "636      1189   10.0      surf         474.55            52.0       21811.18   \n",
       "855      1261   10.0      surf         566.37            57.0       17573.63   \n",
       "688      1206   11.0      surf         296.67            28.0       22740.44   \n",
       "2265     1467   12.0  ultimate         459.35            77.0       18368.02   \n",
       "17       1005   12.0      surf         470.22            11.0       17140.17   \n",
       "1429     1439    9.0      surf         285.14            67.0       12222.24   \n",
       "714      1216   12.0      surf         355.20             0.0       15687.82   \n",
       "55       1018   12.0      surf         447.90             8.0       17390.55   \n",
       "428      1131    6.0      surf           0.00            27.0       14637.04   \n",
       "1703     1069   10.0  ultimate         510.03           119.0       11498.07   \n",
       "414      1125   12.0      surf         489.51            54.0       22697.10   \n",
       "2017     1317   11.0  ultimate         396.78             0.0        9105.69   \n",
       "2099     1389    5.0  ultimate         392.85             0.0       13713.87   \n",
       "1043     1322    8.0      surf          27.09             0.0        3565.98   \n",
       "940      1291   12.0      surf         593.50            17.0       12186.77   \n",
       "2046     1352    9.0  ultimate         564.64            29.0       13135.20   \n",
       "1820     1162   10.0  ultimate         298.60            23.0       10939.10   \n",
       "1257     1375   12.0      surf         259.30            81.0       13623.69   \n",
       "686      1206    9.0      surf         400.93            35.0       26898.43   \n",
       "1815     1159   10.0  ultimate         806.92           106.0       15861.99   \n",
       "\n",
       "         revenue  \n",
       "636    83.059805  \n",
       "855    43.818580  \n",
       "688    92.074609  \n",
       "2265   70.000000  \n",
       "17     37.384473  \n",
       "1429   20.510000  \n",
       "714    23.201367  \n",
       "55     39.829590  \n",
       "428    20.000000  \n",
       "1703   70.000000  \n",
       "414    91.771367  \n",
       "2017   70.000000  \n",
       "2099   70.000000  \n",
       "1043   20.000000  \n",
       "940    22.805000  \n",
       "2046   70.000000  \n",
       "1820   70.000000  \n",
       "1257   20.930000  \n",
       "686   132.679980  \n",
       "1815   70.000000  "
      ]
     },
     "execution_count": 50,
     "metadata": {},
     "output_type": "execute_result"
    }
   ],
   "source": [
    "user_data.sample(20)"
   ]
  },
  {
   "cell_type": "markdown",
   "metadata": {},
   "source": [
    "## Understanding User Behavior"
   ]
  },
  {
   "cell_type": "markdown",
   "metadata": {},
   "source": [
    "### User based on Call"
   ]
  },
  {
   "cell_type": "code",
   "execution_count": 51,
   "metadata": {
    "collapsed": true
   },
   "outputs": [
    {
     "data": {
      "image/png": "[encoded data removed]",
      "text/plain": [
       "<Figure size 1000x600 with 1 Axes>"
      ]
     },
     "metadata": {},
     "output_type": "display_data"
    }
   ],
   "source": [
    "call_duration_avg = user_data.groupby(['month', 'plan'])['total_minutes'].mean().unstack()\n",
    "call_duration_avg.plot(kind='bar', figsize=(10, 6))\n",
    "plt.title('Average Call Duration per Month')\n",
    "plt.xlabel('Month')\n",
    "plt.ylabel('Average Duration (minutes)')\n",
    "plt.legend(title='Package', labels=['Surf', 'Ultimate'])\n",
    "plt.show()"
   ]
  },
  {
   "cell_type": "code",
   "execution_count": 52,
   "metadata": {
    "collapsed": true
   },
   "outputs": [
    {
     "data": {
      "text/plain": [
       "<matplotlib.legend.Legend at 0x1c3a3c53f40>"
      ]
     },
     "execution_count": 52,
     "metadata": {},
     "output_type": "execute_result"
    },
    {
     "data": {
      "image/png": "[encoded data removed]",
      "text/plain": [
       "<Figure size 1000x600 with 1 Axes>"
      ]
     },
     "metadata": {},
     "output_type": "display_data"
    }
   ],
   "source": [
    "surf_duration = user_data[user_data['plan'] == 'surf']['total_minutes']\n",
    "ultimate_duration = user_data[user_data['plan'] == 'ultimate']['total_minutes']\n",
    "plt.figure(figsize=(10, 6))\n",
    "\n",
    "plt.hist([surf_duration, ultimate_duration], bins=30, alpha=0.5, label=['Surf', 'Ultimate'])\n",
    "plt.title('Histogram of Number of Call Minutes per Month')\n",
    "plt.xlabel('Number of Minutes')\n",
    "plt.ylabel('Number of Users')\n",
    "plt.legend()"
   ]
  },
  {
   "cell_type": "code",
   "execution_count": 53,
   "metadata": {},
   "outputs": [
    {
     "name": "stdout",
     "output_type": "stream",
     "text": [
      "                      mean           var\n",
      "plan     month                          \n",
      "surf     1.0    192.840000  14795.440200\n",
      "         2.0    280.851111  46959.219961\n",
      "         3.0    310.970000  31821.317991\n",
      "         4.0    332.380000  45615.666796\n",
      "         5.0    377.053247  53282.922217\n",
      "         6.0    407.208866  40758.661193\n",
      "         7.0    424.523223  54434.184064\n",
      "         8.0    387.169630  48616.061790\n",
      "         9.0    390.992062  41580.494645\n",
      "         10.0   405.692363  46731.430317\n",
      "         11.0   399.599823  46105.085924\n",
      "         12.0   447.475283  56983.247423\n",
      "ultimate 1.0    183.162500  14991.369958\n",
      "         2.0    379.861429  68540.288348\n",
      "         3.0    285.701667  54273.917252\n",
      "         4.0    316.508095  31057.727496\n",
      "         5.0    383.664828  39290.610940\n",
      "         6.0    349.811064  37923.360514\n",
      "         7.0    403.767288  64844.426958\n",
      "         8.0    397.274789  47680.189425\n",
      "         9.0    413.287326  50994.505514\n",
      "         10.0   425.168019  48371.222127\n",
      "         11.0   420.477559  54265.152604\n",
      "         12.0   433.012583  55781.717507\n"
     ]
    }
   ],
   "source": [
    "# Hitung rata-rata dan varians dari durasi panggilan bulanan\n",
    "call_duration_stats = user_data.groupby(['plan', 'month'])['total_minutes'].agg(['mean', 'var'])\n",
    "print(call_duration_stats)"
   ]
  },
  {
   "cell_type": "code",
   "execution_count": 54,
   "metadata": {
    "scrolled": true
   },
   "outputs": [
    {
     "data": {
      "image/png": "[encoded data removed]",
      "text/plain": [
       "<Figure size 1000x600 with 1 Axes>"
      ]
     },
     "metadata": {},
     "output_type": "display_data"
    }
   ],
   "source": [
    "# Buatlah grafik boxplot untuk memvisualisasikan distribusi durasi panggilan bulanan\n",
    "plt.figure(figsize=(10, 6))\n",
    "sns.boxplot(x='month', y='total_minutes', hue='plan', data=user_data)\n",
    "plt.title('Distribution of Monthly Call Duration per Package')\n",
    "plt.xlabel('Month')\n",
    "plt.ylabel('Total Call Minutes')\n",
    "plt.legend(title='Package')\n",
    "plt.show()"
   ]
  },
  {
   "cell_type": "markdown",
   "metadata": {},
   "source": [
    "Based on the data that has been analyzed, there are differences in user behavior in making calls between the Surf and Ultimate packages. Most Surf plan users tend to have a higher average monthly call duration than Ultimate plan users, especially in months such as October to December. Apart from that, the variation in monthly call duration also shows the difference between the two packages, where Surf package users have a higher variation than Ultimate package users. However, the average monthly call duration of Ultimate package users looks stable compared to Surf package users who have more significant monthly call duration fluctuations. This shows that the call usage behavior has quite significant differences between the two packages."
   ]
  },
  {
   "cell_type": "markdown",
   "metadata": {},
   "source": [
    "### User based on Messages"
   ]
  },
  {
   "cell_type": "code",
   "execution_count": 55,
   "metadata": {},
   "outputs": [
    {
     "data": {
      "image/png": "[encoded data removed]",
      "text/plain": [
       "<Figure size 1000x600 with 1 Axes>"
      ]
     },
     "metadata": {},
     "output_type": "display_data"
    }
   ],
   "source": [
    "surf_sms_mean = user_data[user_data['plan'] == 'surf']['total_messages'].mean()\n",
    "ultimate_sms_mean = user_data[user_data['plan'] == 'ultimate']['total_messages'].mean()\n",
    "\n",
    "plt.figure(figsize=(10, 6))\n",
    "plt.bar(['Surf', 'Ultimate'], [surf_sms_mean, ultimate_sms_mean], color=['blue', 'green'])\n",
    "plt.title('Average Number of SMS per Month')\n",
    "plt.xlabel('Prepaid Plan')\n",
    "plt.ylabel('Average Number of SMS')\n",
    "plt.show()"
   ]
  },
  {
   "cell_type": "code",
   "execution_count": 56,
   "metadata": {},
   "outputs": [
    {
     "data": {
      "image/png": "[encoded data removed]",
      "text/plain": [
       "<Figure size 1200x600 with 1 Axes>"
      ]
     },
     "metadata": {},
     "output_type": "display_data"
    }
   ],
   "source": [
    "sms_and_plan_data = user_data.merge(data_plan[['plan_name', 'usd_per_message']], left_on='plan', right_on='plan_name', how='left')\n",
    "\n",
    "sms_by_month = sms_and_plan_data.groupby(['month', 'plan_name'])['total_messages'].mean().reset_index()\n",
    "\n",
    "plt.figure(figsize=(12, 6))\n",
    "sns.barplot(x='month', y='total_messages', hue='plan_name', data=sms_by_month)\n",
    "plt.xlabel('Month')\n",
    "plt.ylabel('Average Number of SMS')\n",
    "plt.title('Average SMS Sending per Month')\n",
    "plt.xticks(rotation=45)\n",
    "plt.legend(title='Package')\n",
    "plt.show()"
   ]
  },
  {
   "cell_type": "code",
   "execution_count": 57,
   "metadata": {},
   "outputs": [
    {
     "data": {
      "text/html": [
       "<div>\n",
       "<style scoped>\n",
       "    .dataframe tbody tr th:only-of-type {\n",
       "        vertical-align: middle;\n",
       "    }\n",
       "\n",
       "    .dataframe tbody tr th {\n",
       "        vertical-align: top;\n",
       "    }\n",
       "\n",
       "    .dataframe thead th {\n",
       "        text-align: right;\n",
       "    }\n",
       "</style>\n",
       "<table border=\"1\" class=\"dataframe\">\n",
       "  <thead>\n",
       "    <tr style=\"text-align: right;\">\n",
       "      <th></th>\n",
       "      <th></th>\n",
       "      <th>mean</th>\n",
       "      <th>var</th>\n",
       "    </tr>\n",
       "    <tr>\n",
       "      <th>plan</th>\n",
       "      <th>month</th>\n",
       "      <th></th>\n",
       "      <th></th>\n",
       "    </tr>\n",
       "  </thead>\n",
       "  <tbody>\n",
       "    <tr>\n",
       "      <th rowspan=\"12\" valign=\"top\">surf</th>\n",
       "      <th>1.0</th>\n",
       "      <td>10.500000</td>\n",
       "      <td>220.500000</td>\n",
       "    </tr>\n",
       "    <tr>\n",
       "      <th>2.0</th>\n",
       "      <td>12.000000</td>\n",
       "      <td>386.000000</td>\n",
       "    </tr>\n",
       "    <tr>\n",
       "      <th>3.0</th>\n",
       "      <td>15.260870</td>\n",
       "      <td>346.565217</td>\n",
       "    </tr>\n",
       "    <tr>\n",
       "      <th>4.0</th>\n",
       "      <td>17.400000</td>\n",
       "      <td>501.591837</td>\n",
       "    </tr>\n",
       "    <tr>\n",
       "      <th>5.0</th>\n",
       "      <td>24.012987</td>\n",
       "      <td>847.197198</td>\n",
       "    </tr>\n",
       "    <tr>\n",
       "      <th>6.0</th>\n",
       "      <td>25.298969</td>\n",
       "      <td>914.920103</td>\n",
       "    </tr>\n",
       "    <tr>\n",
       "      <th>7.0</th>\n",
       "      <td>27.033058</td>\n",
       "      <td>923.915565</td>\n",
       "    </tr>\n",
       "    <tr>\n",
       "      <th>8.0</th>\n",
       "      <td>28.777778</td>\n",
       "      <td>1029.515528</td>\n",
       "    </tr>\n",
       "    <tr>\n",
       "      <th>9.0</th>\n",
       "      <td>30.762887</td>\n",
       "      <td>1003.829496</td>\n",
       "    </tr>\n",
       "    <tr>\n",
       "      <th>10.0</th>\n",
       "      <td>33.839662</td>\n",
       "      <td>1275.465708</td>\n",
       "    </tr>\n",
       "    <tr>\n",
       "      <th>11.0</th>\n",
       "      <td>32.385159</td>\n",
       "      <td>1065.344034</td>\n",
       "    </tr>\n",
       "    <tr>\n",
       "      <th>12.0</th>\n",
       "      <td>38.600629</td>\n",
       "      <td>1458.158612</td>\n",
       "    </tr>\n",
       "    <tr>\n",
       "      <th rowspan=\"12\" valign=\"top\">ultimate</th>\n",
       "      <th>1.0</th>\n",
       "      <td>15.500000</td>\n",
       "      <td>313.666667</td>\n",
       "    </tr>\n",
       "    <tr>\n",
       "      <th>2.0</th>\n",
       "      <td>21.571429</td>\n",
       "      <td>478.285714</td>\n",
       "    </tr>\n",
       "    <tr>\n",
       "      <th>3.0</th>\n",
       "      <td>20.250000</td>\n",
       "      <td>654.386364</td>\n",
       "    </tr>\n",
       "    <tr>\n",
       "      <th>4.0</th>\n",
       "      <td>22.047619</td>\n",
       "      <td>544.147619</td>\n",
       "    </tr>\n",
       "    <tr>\n",
       "      <th>5.0</th>\n",
       "      <td>32.103448</td>\n",
       "      <td>1297.310345</td>\n",
       "    </tr>\n",
       "    <tr>\n",
       "      <th>6.0</th>\n",
       "      <td>29.340426</td>\n",
       "      <td>857.620722</td>\n",
       "    </tr>\n",
       "    <tr>\n",
       "      <th>7.0</th>\n",
       "      <td>32.830508</td>\n",
       "      <td>960.488019</td>\n",
       "    </tr>\n",
       "    <tr>\n",
       "      <th>8.0</th>\n",
       "      <td>38.478873</td>\n",
       "      <td>1196.367404</td>\n",
       "    </tr>\n",
       "    <tr>\n",
       "      <th>9.0</th>\n",
       "      <td>37.895349</td>\n",
       "      <td>1050.918331</td>\n",
       "    </tr>\n",
       "    <tr>\n",
       "      <th>10.0</th>\n",
       "      <td>39.443396</td>\n",
       "      <td>1221.106289</td>\n",
       "    </tr>\n",
       "    <tr>\n",
       "      <th>11.0</th>\n",
       "      <td>38.606299</td>\n",
       "      <td>1232.669166</td>\n",
       "    </tr>\n",
       "    <tr>\n",
       "      <th>12.0</th>\n",
       "      <td>45.006623</td>\n",
       "      <td>1549.419956</td>\n",
       "    </tr>\n",
       "  </tbody>\n",
       "</table>\n",
       "</div>"
      ],
      "text/plain": [
       "                     mean          var\n",
       "plan     month                        \n",
       "surf     1.0    10.500000   220.500000\n",
       "         2.0    12.000000   386.000000\n",
       "         3.0    15.260870   346.565217\n",
       "         4.0    17.400000   501.591837\n",
       "         5.0    24.012987   847.197198\n",
       "         6.0    25.298969   914.920103\n",
       "         7.0    27.033058   923.915565\n",
       "         8.0    28.777778  1029.515528\n",
       "         9.0    30.762887  1003.829496\n",
       "         10.0   33.839662  1275.465708\n",
       "         11.0   32.385159  1065.344034\n",
       "         12.0   38.600629  1458.158612\n",
       "ultimate 1.0    15.500000   313.666667\n",
       "         2.0    21.571429   478.285714\n",
       "         3.0    20.250000   654.386364\n",
       "         4.0    22.047619   544.147619\n",
       "         5.0    32.103448  1297.310345\n",
       "         6.0    29.340426   857.620722\n",
       "         7.0    32.830508   960.488019\n",
       "         8.0    38.478873  1196.367404\n",
       "         9.0    37.895349  1050.918331\n",
       "         10.0   39.443396  1221.106289\n",
       "         11.0   38.606299  1232.669166\n",
       "         12.0   45.006623  1549.419956"
      ]
     },
     "execution_count": 57,
     "metadata": {},
     "output_type": "execute_result"
    }
   ],
   "source": [
    "sms_statistics = user_data.groupby(['plan', 'month'])['total_messages'].agg(['mean', 'var'])\n",
    "\n",
    "sms_statistics"
   ]
  },
  {
   "cell_type": "markdown",
   "metadata": {},
   "source": [
    "Based on statistical data on sending messages on the Surf and Ultimate packages per month, it can be seen that the average message sending on the Ultimate package tends to be higher than on the Surf package throughout the year. The variance also shows that the messages in the Ultimate package have relatively greater variations compared to the Surf package. This illustrates that Ultimate package users are more active in sending messages, while Surf package users tend to be less active in sending messages. However, messaging patterns from both packages have increased throughout the year."
   ]
  },
  {
   "cell_type": "markdown",
   "metadata": {},
   "source": [
    "### User based on Internet"
   ]
  },
  {
   "cell_type": "code",
   "execution_count": 58,
   "metadata": {
    "scrolled": true
   },
   "outputs": [
    {
     "data": {
      "image/png": "[encoded data removed]",
      "text/plain": [
       "<Figure size 1000x600 with 1 Axes>"
      ]
     },
     "metadata": {},
     "output_type": "display_data"
    }
   ],
   "source": [
    "# Bandingkan jumlah traffic internet yang dihabiskan oleh pengguna per paket\n",
    "surf_net_mean = user_data[user_data['plan'] == 'surf']['total_data_mb'].mean()\n",
    "ultimate_net_mean = user_data[user_data['plan'] == 'ultimate']['total_data_mb'].mean()\n",
    "\n",
    "plt.figure(figsize=(10, 6))\n",
    "plt.bar(['Surf', 'Ultimate'], [surf_net_mean, ultimate_net_mean], color=['blue', 'green'])\n",
    "plt.title('Average Internet Usage per Month')\n",
    "plt.xlabel('Prepaid Plan')\n",
    "plt.ylabel('Average Internet Usage (MB)')\n",
    "plt.show()"
   ]
  },
  {
   "cell_type": "code",
   "execution_count": 59,
   "metadata": {},
   "outputs": [
    {
     "data": {
      "image/png": "[encoded data removed]",
      "text/plain": [
       "<Figure size 1200x600 with 1 Axes>"
      ]
     },
     "metadata": {},
     "output_type": "display_data"
    }
   ],
   "source": [
    "internet_by_month = user_data.groupby(['month', 'plan'])['total_data_mb'].mean().reset_index()\n",
    "\n",
    "plt.figure(figsize=(12, 6))\n",
    "sns.barplot(x='month', y='total_data_mb', hue='plan', data=internet_by_month)\n",
    "plt.xlabel('Month')\n",
    "plt.ylabel('Average Internet Usage (MB)')\n",
    "plt.title('Average Internet Usage per Month')\n",
    "plt.xticks(rotation=45)\n",
    "plt.legend(title='Package')\n",
    "plt.show()"
   ]
  },
  {
   "cell_type": "code",
   "execution_count": 60,
   "metadata": {},
   "outputs": [
    {
     "data": {
      "image/png": "[encoded data removed]",
      "text/plain": [
       "<Figure size 800x600 with 1 Axes>"
      ]
     },
     "metadata": {},
     "output_type": "display_data"
    },
    {
     "name": "stdout",
     "output_type": "stream",
     "text": [
      "Conclusion:\n",
      "Average internet usage for Surf package: 16558.283490146216 MB\n",
      "Average internet usage for the Ultimate package: 17214.699694444447 MB\n",
      "Median internet usage for Surf packages: 16829.31 MB\n",
      "Median internet usage for the Ultimate plan: 16858.34 MB\n",
      "Internet usage variance for Surf package: 64216395.838027954\n",
      "Internet usage variances for the Ultimate package: 61652293.32385831\n"
     ]
    }
   ],
   "source": [
    "surf_internet_data = user_data[user_data['plan'] == 'surf']['total_data_mb']\n",
    "ultimate_internet_data = user_data[user_data['plan'] == 'ultimate']['total_data_mb']\n",
    "\n",
    "surf_mean = surf_internet_data.mean()\n",
    "ultimate_mean = ultimate_internet_data.mean()\n",
    "\n",
    "surf_median = surf_internet_data.median()\n",
    "ultimate_median = ultimate_internet_data.median()\n",
    "\n",
    "surf_variance = surf_internet_data.var()\n",
    "ultimate_variance = ultimate_internet_data.var()\n",
    "\n",
    "plt.figure(figsize=(8, 6))\n",
    "plt.hist(surf_internet_data, bins=30, alpha=0.5, label='Surf', color='blue')\n",
    "plt.hist(ultimate_internet_data, bins=30, alpha=0.5, label='Ultimate', color='green')\n",
    "plt.title('Distribution of Internet Usage')\n",
    "plt.xlabel('Internet Usage (MB)')\n",
    "plt.ylabel('Frequency')\n",
    "plt.legend()\n",
    "plt.show()\n",
    "\n",
    "print(\"Conclusion:\")\n",
    "print(f\"Average internet usage for Surf package: {surf_mean} MB\")\n",
    "print(f\"Average internet usage for the Ultimate package: {ultimate_mean} MB\")\n",
    "print(f\"Median internet usage for Surf packages: {surf_median} MB\")\n",
    "print(f\"Median internet usage for the Ultimate plan: {ultimate_median} MB\")\n",
    "print(f\"Internet usage variance for Surf package: {surf_variance}\")\n",
    "print(f\"Internet usage variances for the Ultimate package: {ultimate_variance}\")"
   ]
  },
  {
   "cell_type": "markdown",
   "metadata": {},
   "source": [
    "The average internet data usage for the Surf package is around 16,558 MB, while for the Ultimate package it is around 17,215 MB. However, the median value of the two packages is almost the same, with figures around 16,829 MB for the surf package and 16,858 MB for the ultimate package.\n",
    "The variance value of the ultimate package has a lower value of around 61,652,293 compared to the variance value of the surf package with a value of 64,216,396. From this value, it can be seen that although the average internet usage tends to be different, the difference is not very significant. The almost similar median values ​​also indicate that the two package users have similar internet usage.\n",
    "Despite similar statistical values, the frequency counts for surf packets dominate overall."
   ]
  },
  {
   "cell_type": "markdown",
   "metadata": {},
   "source": [
    "## Revenue"
   ]
  },
  {
   "cell_type": "code",
   "execution_count": 61,
   "metadata": {},
   "outputs": [
    {
     "name": "stdout",
     "output_type": "stream",
     "text": [
      "Surf Package Revenue Statistics:\n",
      "count    1579.000000\n",
      "mean       57.152072\n",
      "std        53.682715\n",
      "min        20.000000\n",
      "25%        20.000000\n",
      "50%        36.552287\n",
      "75%        76.818970\n",
      "max       581.328509\n",
      "Name: revenue, dtype: float64\n",
      "\n",
      "Ultimate Package Revenue Statistics:\n",
      "count    724.000000\n",
      "mean      72.104389\n",
      "std       10.740164\n",
      "min       70.000000\n",
      "25%       70.000000\n",
      "50%       70.000000\n",
      "75%       70.000000\n",
      "max      178.522764\n",
      "Name: revenue, dtype: float64\n",
      "\n",
      "Average Surf Package Revenue: 57.152072411831064\n",
      "Average Ultimate Package Earnings: 72.10438859633979\n",
      "Difference in Average Income:  14.952316184508724\n"
     ]
    }
   ],
   "source": [
    "surf_revenue = user_data[user_data['plan'] == 'surf']['revenue']\n",
    "ultimate_revenue = user_data[user_data['plan'] == 'ultimate']['revenue']\n",
    "\n",
    "print(\"Surf Package Revenue Statistics:\")\n",
    "print(surf_revenue.describe())\n",
    "\n",
    "print(\"\\nUltimate Package Revenue Statistics:\")\n",
    "print(ultimate_revenue.describe())\n",
    "\n",
    "surf_mean_revenue = surf_revenue.mean()\n",
    "ultimate_mean_revenue = ultimate_revenue.mean()\n",
    "print(\"\\nAverage Surf Package Revenue:\", surf_mean_revenue)\n",
    "print(\"Average Ultimate Package Earnings:\", ultimate_mean_revenue)\n",
    "\n",
    "revenue_difference = ultimate_mean_revenue - surf_mean_revenue\n",
    "print(\"Difference in Average Income: \", revenue_difference)"
   ]
  },
  {
   "cell_type": "markdown",
   "metadata": {},
   "source": [
    "There is a quite striking difference in income between the two prepaid packages, namely Surf and Ultimate. Based on income statistics, the Surf package has an average income of 57.29, while the Ultimate package has an average income of 72.12. The average difference in income between the two is around 14.82. This shows that Ultimate plan users tend to generate higher revenues than Surf plan users. This difference could be due to the higher monthly costs in the Ultimate plan and the large number of Surf plan users who subscribe at the lower price.\n",
    "However, the number of surf package users is 1573, while the ultimate package is only 720."
   ]
  },
  {
   "cell_type": "markdown",
   "metadata": {},
   "source": [
    "## Testing Statistical Hypotheses"
   ]
  },
  {
   "cell_type": "markdown",
   "metadata": {},
   "source": [
    "### Average Income of Ultimate and Surf prepaid plan users is different."
   ]
  },
  {
   "cell_type": "markdown",
   "metadata": {},
   "source": [
    "Null Hypothesis: \n",
    "- The average income of Ultimate package users is the same as the average income of Surf package users.\n",
    "\n",
    "Alternative Hypothesis: \n",
    "- The average income of Ultimate plan users is different from the average income of Surf plan users.\n",
    "\n",
    "alpha = 0.05"
   ]
  },
  {
   "cell_type": "code",
   "execution_count": 62,
   "metadata": {},
   "outputs": [],
   "source": [
    "alpha = 0.05\n",
    "\n",
    "surf_revenue = user_data[user_data['plan'] == 'surf']['revenue']\n",
    "ultimate_revenue = user_data[user_data['plan'] == 'ultimate']['revenue']\n"
   ]
  },
  {
   "cell_type": "code",
   "execution_count": 63,
   "metadata": {},
   "outputs": [
    {
     "name": "stdout",
     "output_type": "stream",
     "text": [
      "Reject the null hypothesis. There is sufficient statistical evidence that the average income of Ultimate plan users is different from the average income of Surf plan users.\n"
     ]
    }
   ],
   "source": [
    "t_stat, p_value = st.ttest_ind(surf_revenue, ultimate_revenue, equal_var=False)\n",
    "\n",
    "if p_value < alpha:\n",
    "    print(\"Reject the null hypothesis. There is sufficient statistical evidence that the average income of Ultimate plan users is different from the average income of Surf plan users.\")\n",
    "else:\n",
    "    print(\"Not enough statistical evidence to reject the null hypothesis. The average income of Ultimate and Surf plan users does not differ significantly.\")"
   ]
  },
  {
   "cell_type": "markdown",
   "metadata": {},
   "source": [
    "### Average Income of users in the NY-NJ region is different from the income of users from other regions."
   ]
  },
  {
   "cell_type": "markdown",
   "metadata": {},
   "source": [
    "Null Hypothesis: \n",
    "\n",
    "- The average income of users in the NY-NJ region is the same as the average income of users from other regions.\n",
    "\n",
    "Alternative Hypothesis: \n",
    "\n",
    "- The average income of users in the NY-NJ region is different from the average income of users from other regions.\n",
    "\n",
    "alpha = 0.05"
   ]
  },
  {
   "cell_type": "code",
   "execution_count": 64,
   "metadata": {},
   "outputs": [],
   "source": [
    "location_data = pd.merge(user_data, data_user[['user_id', 'state']], on='user_id')\n",
    "alpha = 0.05\n",
    "\n",
    "ny_nj_revenue = location_data[location_data['state'].isin(['NY', 'NJ'])]['revenue']\n",
    "other_revenue = location_data[~location_data['state'].isin(['NY', 'NJ'])]['revenue']"
   ]
  },
  {
   "cell_type": "code",
   "execution_count": 65,
   "metadata": {},
   "outputs": [
    {
     "name": "stdout",
     "output_type": "stream",
     "text": [
      "Not enough statistical evidence to reject the null hypothesis. The average income of users in the NY-NJ region and other regions does not differ significantly.\n"
     ]
    }
   ],
   "source": [
    "t_stat, p_value = st.ttest_ind(ny_nj_revenue, other_revenue, equal_var=False)\n",
    "\n",
    "if p_value < alpha:\n",
    "    print(\"Reject the null hypothesis. There is sufficient statistical evidence that the average income of users in the NY-NJ area is different from the average income of users from other areas.\")\n",
    "else:\n",
    "    print(\"Not enough statistical evidence to reject the null hypothesis. The average income of users in the NY-NJ region and other regions does not differ significantly.\")"
   ]
  },
  {
   "cell_type": "markdown",
   "metadata": {},
   "source": [
    "## Conclusion"
   ]
  },
  {
   "cell_type": "markdown",
   "metadata": {},
   "source": [
    "In the analysis of these 2 packages, there are many processes carried out before the analysis is executed. From the data we have, with a total of 5 data, the data can be said to be clean and can be directly used for analysis, but in this project, the data is cleaned in more detail and the quality of the data value is increased. This is done by changing the data type of the date column to the format `datetime` and creating an additional column to hold the date, month and year values ​​obtained from the date column which has been formatted and split.\n",
    "\n",
    "After the data has been cleaned, the data is analyzed, especially regarding the terms and conditions of the data package. In general, there are 2 packages with the names 'surf' and 'ultimate', where each package has different benefits and costs from each other.\n",
    "\n",
    "There is also an analysis to calculate the user's income value, which uses several values ​​processed from the 5 data. After the revenue value has been obtained, the `user_data` dataframe is created to hold the value of each user, including the income value which is stored in the 'revenue' column.\n",
    "\n",
    "From the `user_data` dataframe, an analysis of customer behavior with calls, messages/SMS, and the internet is carried out. In this analysis, it can be said that customers with the surf package have a higher average call duration than the ultimate package. For message delivery, the average delivery value for ultimate packages can be seen to be higher than surf packages for the entire year. It can be said that customers tend to send more messages using the ultimate package. However, both packages have increased throughout the year. For internet data usage, both packages have similar median values, however, there is a slight difference in the average values ​​where the ultimate package is bigger with a value of 17,215 and 16,558 for the surf package.\n",
    "\n",
    "For customer income analysis, there are several significant values ​​between the two packages, the average income for surf package customers is 57.29 and for ultimate package customers it is 72.11. Where customers from the ultimate package are higher at around 14.82. Even so, the number of customers using the surf package is 1573, which is more than 2x the number of ultimate package customers, which is only 720.\n",
    "\n",
    "There is also hypothesis testing on the average value of income for the two packages and customer income from the NY-NJ area. The two hypotheses are executed using alpha = 0.05, and the two null hypotheses are that the average income value for the two packages is the same, and the average income in the NY-NJ region and other regions is the same. In this test, a T-test was carried out and the result was to reject the null hypothesis for testing whether the average income of the two packages was the same, because there was sufficient statistical evidence in the analysis. To test the hypothesis that the average income in the NY-NJ region is the same as other regions, it can be said that it cannot reject the null hypothesis, because there is not enough statistical evidence obtained and it can be said that the average income in the NY-NJ region and others is not significantly different."
   ]
  }
 ],
 "metadata": {
  "ExecuteTimeLog": [
   {
    "duration": 828,
    "start_time": "2021-11-16T09:21:11.304Z"
   },
   {
    "duration": 893,
    "start_time": "2021-11-16T09:21:17.728Z"
   },
   {
    "duration": 1150,
    "start_time": "2021-11-16T09:21:29.568Z"
   },
   {
    "duration": 3,
    "start_time": "2021-11-16T09:24:14.495Z"
   },
   {
    "duration": 120,
    "start_time": "2021-11-16T09:24:46.630Z"
   },
   {
    "duration": 3,
    "start_time": "2021-11-16T09:28:27.882Z"
   },
   {
    "duration": 4,
    "start_time": "2021-11-16T09:29:54.281Z"
   },
   {
    "duration": 3,
    "start_time": "2021-11-16T09:30:45.936Z"
   },
   {
    "duration": 4,
    "start_time": "2021-11-16T09:31:06.300Z"
   },
   {
    "duration": 113,
    "start_time": "2021-11-16T09:31:37.208Z"
   },
   {
    "duration": 143,
    "start_time": "2021-11-16T09:31:48.656Z"
   },
   {
    "duration": 98,
    "start_time": "2021-11-16T09:31:55.678Z"
   },
   {
    "duration": 3,
    "start_time": "2021-11-16T09:32:08.535Z"
   },
   {
    "duration": 111,
    "start_time": "2021-11-16T09:32:10.120Z"
   },
   {
    "duration": 3,
    "start_time": "2021-11-16T09:32:15.732Z"
   },
   {
    "duration": 4,
    "start_time": "2021-11-16T09:32:29.423Z"
   },
   {
    "duration": 3,
    "start_time": "2021-11-16T10:03:03.074Z"
   },
   {
    "duration": 3,
    "start_time": "2021-11-16T10:10:01.288Z"
   },
   {
    "duration": 3,
    "start_time": "2021-11-16T10:10:46.923Z"
   },
   {
    "duration": 121,
    "start_time": "2021-11-16T10:37:46.494Z"
   },
   {
    "duration": 125,
    "start_time": "2021-11-16T10:38:20.632Z"
   },
   {
    "duration": 112,
    "start_time": "2021-11-16T10:46:53.001Z"
   },
   {
    "duration": 110,
    "start_time": "2021-11-16T10:48:25.775Z"
   },
   {
    "duration": 3,
    "start_time": "2021-11-16T10:50:18.720Z"
   },
   {
    "duration": 4,
    "start_time": "2021-11-16T10:50:37.649Z"
   },
   {
    "duration": 2,
    "start_time": "2021-11-16T10:50:51.884Z"
   },
   {
    "duration": 3,
    "start_time": "2021-11-16T10:51:56.237Z"
   },
   {
    "duration": 101,
    "start_time": "2021-11-16T10:53:13.791Z"
   },
   {
    "duration": 3,
    "start_time": "2021-11-16T10:55:59.186Z"
   },
   {
    "duration": 3,
    "start_time": "2021-11-16T10:56:10.751Z"
   },
   {
    "duration": 3,
    "start_time": "2021-11-16T10:56:49.038Z"
   },
   {
    "duration": 3,
    "start_time": "2021-11-16T10:56:49.174Z"
   },
   {
    "duration": 4,
    "start_time": "2021-11-16T10:56:49.414Z"
   },
   {
    "duration": 3,
    "start_time": "2021-11-16T10:56:49.680Z"
   },
   {
    "duration": 3,
    "start_time": "2021-11-16T10:56:50.370Z"
   },
   {
    "duration": 114,
    "start_time": "2021-11-16T10:59:34.518Z"
   },
   {
    "duration": 3,
    "start_time": "2021-11-16T11:01:41.201Z"
   },
   {
    "duration": 116,
    "start_time": "2021-11-16T11:01:48.754Z"
   },
   {
    "duration": 3,
    "start_time": "2021-11-16T11:02:16.685Z"
   },
   {
    "duration": 3,
    "start_time": "2021-11-16T11:02:19.479Z"
   },
   {
    "duration": 3,
    "start_time": "2021-11-16T11:02:47.067Z"
   },
   {
    "duration": 3,
    "start_time": "2021-11-16T11:02:49.353Z"
   },
   {
    "duration": 3,
    "start_time": "2021-11-16T11:03:07.835Z"
   },
   {
    "duration": 3,
    "start_time": "2021-11-16T11:03:07.953Z"
   },
   {
    "duration": 112,
    "start_time": "2021-11-16T11:07:52.072Z"
   },
   {
    "duration": 187,
    "start_time": "2021-11-16T11:09:23.468Z"
   },
   {
    "duration": 4,
    "start_time": "2021-11-16T11:10:01.455Z"
   },
   {
    "duration": 3,
    "start_time": "2021-11-16T11:10:05.069Z"
   },
   {
    "duration": 4,
    "start_time": "2021-11-16T11:10:13.376Z"
   },
   {
    "duration": 3,
    "start_time": "2021-11-16T11:10:14.434Z"
   },
   {
    "duration": 3,
    "start_time": "2021-11-16T11:10:22.853Z"
   },
   {
    "duration": 4,
    "start_time": "2021-11-16T11:27:29.279Z"
   },
   {
    "duration": 4,
    "start_time": "2021-11-16T11:29:08.919Z"
   },
   {
    "duration": 118,
    "start_time": "2021-11-16T11:29:46.703Z"
   },
   {
    "duration": 437,
    "start_time": "2021-11-16T11:36:02.181Z"
   },
   {
    "duration": 157,
    "start_time": "2021-11-16T11:36:14.388Z"
   },
   {
    "duration": 207,
    "start_time": "2021-11-16T11:47:15.898Z"
   },
   {
    "duration": 3,
    "start_time": "2021-11-16T11:53:52.092Z"
   },
   {
    "duration": 3,
    "start_time": "2021-11-16T11:53:52.236Z"
   },
   {
    "duration": 3,
    "start_time": "2021-11-16T11:59:12.005Z"
   },
   {
    "duration": 112,
    "start_time": "2021-11-16T12:00:33.446Z"
   },
   {
    "duration": 3,
    "start_time": "2021-11-16T12:02:14.453Z"
   },
   {
    "duration": 3,
    "start_time": "2021-11-16T12:02:39.512Z"
   },
   {
    "duration": 106,
    "start_time": "2021-11-16T12:03:03.460Z"
   },
   {
    "duration": 3,
    "start_time": "2021-11-17T20:37:21.139Z"
   },
   {
    "duration": 3,
    "start_time": "2021-11-17T20:37:22.229Z"
   },
   {
    "duration": 3,
    "start_time": "2021-11-17T20:38:38.806Z"
   },
   {
    "duration": 3,
    "start_time": "2021-11-17T20:38:41.958Z"
   },
   {
    "duration": 3,
    "start_time": "2021-11-17T20:43:46.551Z"
   },
   {
    "duration": 4,
    "start_time": "2021-11-17T20:58:21.835Z"
   },
   {
    "duration": 3,
    "start_time": "2021-11-17T20:59:21.872Z"
   },
   {
    "duration": 4,
    "start_time": "2021-11-17T20:59:45.352Z"
   },
   {
    "duration": 4,
    "start_time": "2021-11-17T20:59:49.646Z"
   },
   {
    "duration": 159,
    "start_time": "2021-11-17T21:02:26.949Z"
   },
   {
    "duration": 3,
    "start_time": "2021-11-17T21:03:53.461Z"
   },
   {
    "duration": 3,
    "start_time": "2021-11-17T21:03:53.694Z"
   },
   {
    "duration": 3,
    "start_time": "2021-11-17T21:05:28.145Z"
   },
   {
    "duration": 116,
    "start_time": "2021-11-17T21:05:57.787Z"
   },
   {
    "duration": 3,
    "start_time": "2021-11-17T21:06:37.993Z"
   },
   {
    "duration": 3,
    "start_time": "2021-11-17T21:06:38.261Z"
   },
   {
    "duration": 3,
    "start_time": "2021-11-17T21:11:54.358Z"
   },
   {
    "duration": 3,
    "start_time": "2021-11-17T21:12:43.846Z"
   },
   {
    "duration": 4,
    "start_time": "2021-11-17T21:13:08.773Z"
   },
   {
    "duration": 3,
    "start_time": "2021-11-17T21:14:44.441Z"
   },
   {
    "duration": 3,
    "start_time": "2021-11-17T21:15:42.059Z"
   },
   {
    "duration": 4,
    "start_time": "2021-11-17T21:15:51.995Z"
   },
   {
    "duration": 3,
    "start_time": "2021-11-17T21:15:53.923Z"
   },
   {
    "duration": 3,
    "start_time": "2021-11-17T21:15:55.282Z"
   },
   {
    "duration": 3,
    "start_time": "2021-11-17T21:16:28.492Z"
   },
   {
    "duration": 3,
    "start_time": "2021-11-17T21:16:32.603Z"
   },
   {
    "duration": 3,
    "start_time": "2021-11-17T21:17:06.941Z"
   },
   {
    "duration": 98,
    "start_time": "2021-11-17T21:18:05.733Z"
   },
   {
    "duration": 4,
    "start_time": "2021-11-17T21:21:35.255Z"
   },
   {
    "duration": 3,
    "start_time": "2021-11-17T21:21:37.804Z"
   },
   {
    "duration": 4,
    "start_time": "2021-11-17T21:23:06.071Z"
   },
   {
    "duration": 3,
    "start_time": "2021-11-17T21:23:24.799Z"
   },
   {
    "duration": 3,
    "start_time": "2021-11-17T21:23:32.591Z"
   },
   {
    "duration": 98,
    "start_time": "2021-11-17T21:28:31.559Z"
   },
   {
    "duration": 3,
    "start_time": "2021-11-17T21:28:45.448Z"
   },
   {
    "duration": 3,
    "start_time": "2021-11-17T21:29:17.303Z"
   },
   {
    "duration": 3,
    "start_time": "2021-11-17T21:29:29.617Z"
   },
   {
    "duration": 3,
    "start_time": "2021-11-17T21:29:32.681Z"
   },
   {
    "duration": 3,
    "start_time": "2021-11-17T21:36:11.474Z"
   },
   {
    "duration": 3,
    "start_time": "2021-11-17T21:36:14.791Z"
   },
   {
    "duration": 3,
    "start_time": "2021-11-17T21:36:53.943Z"
   },
   {
    "duration": 3,
    "start_time": "2021-11-17T21:36:56.165Z"
   },
   {
    "duration": 4,
    "start_time": "2021-11-17T21:37:16.590Z"
   },
   {
    "duration": 3,
    "start_time": "2021-11-17T21:37:22.702Z"
   },
   {
    "duration": 4,
    "start_time": "2021-11-17T21:38:03.479Z"
   },
   {
    "duration": 3,
    "start_time": "2021-11-17T21:38:08.601Z"
   },
   {
    "duration": 3,
    "start_time": "2021-11-17T21:38:12.928Z"
   },
   {
    "duration": 3,
    "start_time": "2021-11-17T21:38:48.896Z"
   },
   {
    "duration": 2,
    "start_time": "2021-11-17T21:38:49.171Z"
   },
   {
    "duration": 4,
    "start_time": "2021-11-17T21:39:57.889Z"
   },
   {
    "duration": 3,
    "start_time": "2021-11-17T21:39:58.057Z"
   },
   {
    "duration": 3,
    "start_time": "2021-11-17T21:41:20.108Z"
   },
   {
    "duration": 3,
    "start_time": "2021-11-17T21:41:20.629Z"
   },
   {
    "duration": 3,
    "start_time": "2021-11-17T21:42:49.136Z"
   },
   {
    "duration": 3,
    "start_time": "2021-11-17T21:43:15.137Z"
   },
   {
    "duration": 4,
    "start_time": "2021-11-17T21:43:16.766Z"
   },
   {
    "duration": 4,
    "start_time": "2021-11-17T21:43:31.711Z"
   },
   {
    "duration": 3,
    "start_time": "2021-11-17T21:43:36.312Z"
   },
   {
    "duration": 4,
    "start_time": "2021-11-17T21:45:08.825Z"
   },
   {
    "duration": 4,
    "start_time": "2021-11-17T21:45:10.119Z"
   },
   {
    "duration": 4,
    "start_time": "2021-11-17T21:45:13.748Z"
   },
   {
    "duration": 3,
    "start_time": "2021-11-17T21:45:22.219Z"
   },
   {
    "duration": 3,
    "start_time": "2021-11-17T21:45:33.412Z"
   },
   {
    "duration": 2,
    "start_time": "2021-11-17T21:46:01.885Z"
   },
   {
    "duration": 3,
    "start_time": "2021-11-17T21:46:03.628Z"
   },
   {
    "duration": 107,
    "start_time": "2021-11-17T21:47:32.512Z"
   },
   {
    "duration": 103,
    "start_time": "2021-11-17T21:50:36.243Z"
   },
   {
    "duration": 3,
    "start_time": "2021-11-18T06:28:31.440Z"
   },
   {
    "duration": 3,
    "start_time": "2021-11-18T06:29:00.168Z"
   },
   {
    "duration": 3,
    "start_time": "2021-11-18T06:31:27.008Z"
   },
   {
    "duration": 2,
    "start_time": "2021-11-18T06:35:34.288Z"
   },
   {
    "duration": 2,
    "start_time": "2021-11-18T06:38:04.527Z"
   }
  ],
  "kernelspec": {
   "display_name": "Python 3",
   "language": "python",
   "name": "python3"
  },
  "language_info": {
   "codemirror_mode": {
    "name": "ipython",
    "version": 3
   },
   "file_extension": ".py",
   "mimetype": "text/x-python",
   "name": "python",
   "nbconvert_exporter": "python",
   "pygments_lexer": "ipython3",
   "version": "3.10.11"
  },
  "toc": {
   "base_numbering": 1,
   "nav_menu": {},
   "number_sections": true,
   "sideBar": true,
   "skip_h1_title": false,
   "title_cell": "Table of Contents",
   "title_sidebar": "Contents",
   "toc_cell": false,
   "toc_position": {
    "height": "calc(100% - 180px)",
    "left": "10px",
    "top": "150px",
    "width": "388px"
   },
   "toc_section_display": true,
   "toc_window_display": true
  }
 },
 "nbformat": 4,
 "nbformat_minor": 2
}
