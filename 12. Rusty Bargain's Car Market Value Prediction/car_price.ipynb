{
 "cells": [
  {
   "cell_type": "markdown",
   "metadata": {},
   "source": [
    "# Optimizing Car Market Value Predictions for Rusty Bargain"
   ]
  },
  {
   "cell_type": "markdown",
   "metadata": {},
   "source": [
    "Rusty Bargain, a used car buying and selling company, is developing an innovative application that allows users to quickly determine the market value of their cars. By leveraging historical data, vehicle technical specifications, model variations, and pricing details, this project aims to build a robust machine learning model to power this feature. The company prioritizes prediction accuracy, speed, and training efficiency in the model development process.\n",
    "\n",
    "As part of this initiative, my role involves preparing and analyzing the data to ensure its suitability for modeling. I will train and evaluate multiple machine learning models, including gradient boosting, random forest, decision tree, and linear regression, while performing hyperparameter tuning to optimize their performance. Linear regression will also be used as a baseline check to validate the performance of more complex models.\n",
    "\n",
    "The models will be assessed for their prediction quality, speed, and training efficiency, with RMSE as the primary evaluation metric. Through this process, the goal is to develop a reliable and efficient car price prediction system that balances accuracy and computational performance, enhancing Rusty Bargain’s application and attracting new buyers."
   ]
  },
  {
   "cell_type": "markdown",
   "metadata": {},
   "source": [
    "## Import Library and Data"
   ]
  },
  {
   "cell_type": "markdown",
   "metadata": {},
   "source": [
    "### Import Library"
   ]
  },
  {
   "cell_type": "code",
   "execution_count": 1,
   "metadata": {},
   "outputs": [],
   "source": [
    "import pandas as pd \n",
    "import numpy as np\n",
    "import seaborn as sns\n",
    "import matplotlib.pyplot as plt\n",
    "import time\n",
    "import matplotlib.cm as cm\n",
    "\n",
    "from sklearn.model_selection import train_test_split\n",
    "from sklearn.preprocessing import OneHotEncoder\n",
    "from sklearn.compose import ColumnTransformer\n",
    "from sklearn.pipeline import Pipeline\n",
    "from sklearn.linear_model import LinearRegression\n",
    "from sklearn.ensemble import RandomForestRegressor, GradientBoostingRegressor\n",
    "from sklearn.metrics import mean_absolute_error, mean_squared_error, r2_score\n",
    "from sklearn.svm import SVR\n",
    "from sklearn.neighbors import KNeighborsRegressor"
   ]
  },
  {
   "cell_type": "markdown",
   "metadata": {},
   "source": [
    "### Import Data"
   ]
  },
  {
   "cell_type": "code",
   "execution_count": null,
   "metadata": {},
   "outputs": [],
   "source": [
    "try:\n",
    "    # Try loading the file from your laptop path\n",
    "    data = pd.read_csv(\"C:/Users/Eugene/Documents/GitHub/TripleTen-Projects/12. Rusty Bargain's Car Market Value Prediction/car_data.csv\")\n",
    "except FileNotFoundError:\n",
    "    # If the file is not found, try loading from the PC path\n",
    "    data = pd.read_csv(\"C:/Users/user/OneDrive/Documents/GitHub/TripleTen-Projects/12. Rusty Bargain's Car Market Value Prediction/car_data.csv\")"
   ]
  },
  {
   "cell_type": "code",
   "execution_count": 2,
   "metadata": {},
   "outputs": [],
   "source": [
    "data = pd.read_csv('/datasets/car_data.csv')"
   ]
  },
  {
   "cell_type": "markdown",
   "metadata": {},
   "source": [
    "### General Data Information"
   ]
  },
  {
   "cell_type": "code",
   "execution_count": 3,
   "metadata": {},
   "outputs": [
    {
     "data": {
      "text/html": [
       "<div>\n",
       "<style scoped>\n",
       "    .dataframe tbody tr th:only-of-type {\n",
       "        vertical-align: middle;\n",
       "    }\n",
       "\n",
       "    .dataframe tbody tr th {\n",
       "        vertical-align: top;\n",
       "    }\n",
       "\n",
       "    .dataframe thead th {\n",
       "        text-align: right;\n",
       "    }\n",
       "</style>\n",
       "<table border=\"1\" class=\"dataframe\">\n",
       "  <thead>\n",
       "    <tr style=\"text-align: right;\">\n",
       "      <th></th>\n",
       "      <th>Price</th>\n",
       "      <th>RegistrationYear</th>\n",
       "      <th>Power</th>\n",
       "      <th>Mileage</th>\n",
       "      <th>RegistrationMonth</th>\n",
       "      <th>NumberOfPictures</th>\n",
       "      <th>PostalCode</th>\n",
       "    </tr>\n",
       "  </thead>\n",
       "  <tbody>\n",
       "    <tr>\n",
       "      <th>count</th>\n",
       "      <td>354369.000000</td>\n",
       "      <td>354369.000000</td>\n",
       "      <td>354369.000000</td>\n",
       "      <td>354369.000000</td>\n",
       "      <td>354369.000000</td>\n",
       "      <td>354369.0</td>\n",
       "      <td>354369.000000</td>\n",
       "    </tr>\n",
       "    <tr>\n",
       "      <th>mean</th>\n",
       "      <td>4416.656776</td>\n",
       "      <td>2004.234448</td>\n",
       "      <td>110.094337</td>\n",
       "      <td>128211.172535</td>\n",
       "      <td>5.714645</td>\n",
       "      <td>0.0</td>\n",
       "      <td>50508.689087</td>\n",
       "    </tr>\n",
       "    <tr>\n",
       "      <th>std</th>\n",
       "      <td>4514.158514</td>\n",
       "      <td>90.227958</td>\n",
       "      <td>189.850405</td>\n",
       "      <td>37905.341530</td>\n",
       "      <td>3.726421</td>\n",
       "      <td>0.0</td>\n",
       "      <td>25783.096248</td>\n",
       "    </tr>\n",
       "    <tr>\n",
       "      <th>min</th>\n",
       "      <td>0.000000</td>\n",
       "      <td>1000.000000</td>\n",
       "      <td>0.000000</td>\n",
       "      <td>5000.000000</td>\n",
       "      <td>0.000000</td>\n",
       "      <td>0.0</td>\n",
       "      <td>1067.000000</td>\n",
       "    </tr>\n",
       "    <tr>\n",
       "      <th>25%</th>\n",
       "      <td>1050.000000</td>\n",
       "      <td>1999.000000</td>\n",
       "      <td>69.000000</td>\n",
       "      <td>125000.000000</td>\n",
       "      <td>3.000000</td>\n",
       "      <td>0.0</td>\n",
       "      <td>30165.000000</td>\n",
       "    </tr>\n",
       "    <tr>\n",
       "      <th>50%</th>\n",
       "      <td>2700.000000</td>\n",
       "      <td>2003.000000</td>\n",
       "      <td>105.000000</td>\n",
       "      <td>150000.000000</td>\n",
       "      <td>6.000000</td>\n",
       "      <td>0.0</td>\n",
       "      <td>49413.000000</td>\n",
       "    </tr>\n",
       "    <tr>\n",
       "      <th>75%</th>\n",
       "      <td>6400.000000</td>\n",
       "      <td>2008.000000</td>\n",
       "      <td>143.000000</td>\n",
       "      <td>150000.000000</td>\n",
       "      <td>9.000000</td>\n",
       "      <td>0.0</td>\n",
       "      <td>71083.000000</td>\n",
       "    </tr>\n",
       "    <tr>\n",
       "      <th>max</th>\n",
       "      <td>20000.000000</td>\n",
       "      <td>9999.000000</td>\n",
       "      <td>20000.000000</td>\n",
       "      <td>150000.000000</td>\n",
       "      <td>12.000000</td>\n",
       "      <td>0.0</td>\n",
       "      <td>99998.000000</td>\n",
       "    </tr>\n",
       "  </tbody>\n",
       "</table>\n",
       "</div>"
      ],
      "text/plain": [
       "               Price  RegistrationYear          Power        Mileage  \\\n",
       "count  354369.000000     354369.000000  354369.000000  354369.000000   \n",
       "mean     4416.656776       2004.234448     110.094337  128211.172535   \n",
       "std      4514.158514         90.227958     189.850405   37905.341530   \n",
       "min         0.000000       1000.000000       0.000000    5000.000000   \n",
       "25%      1050.000000       1999.000000      69.000000  125000.000000   \n",
       "50%      2700.000000       2003.000000     105.000000  150000.000000   \n",
       "75%      6400.000000       2008.000000     143.000000  150000.000000   \n",
       "max     20000.000000       9999.000000   20000.000000  150000.000000   \n",
       "\n",
       "       RegistrationMonth  NumberOfPictures     PostalCode  \n",
       "count      354369.000000          354369.0  354369.000000  \n",
       "mean            5.714645               0.0   50508.689087  \n",
       "std             3.726421               0.0   25783.096248  \n",
       "min             0.000000               0.0    1067.000000  \n",
       "25%             3.000000               0.0   30165.000000  \n",
       "50%             6.000000               0.0   49413.000000  \n",
       "75%             9.000000               0.0   71083.000000  \n",
       "max            12.000000               0.0   99998.000000  "
      ]
     },
     "execution_count": 3,
     "metadata": {},
     "output_type": "execute_result"
    }
   ],
   "source": [
    "data.describe()"
   ]
  },
  {
   "cell_type": "code",
   "execution_count": 4,
   "metadata": {},
   "outputs": [
    {
     "name": "stdout",
     "output_type": "stream",
     "text": [
      "<class 'pandas.core.frame.DataFrame'>\n",
      "RangeIndex: 354369 entries, 0 to 354368\n",
      "Data columns (total 16 columns):\n",
      " #   Column             Non-Null Count   Dtype \n",
      "---  ------             --------------   ----- \n",
      " 0   DateCrawled        354369 non-null  object\n",
      " 1   Price              354369 non-null  int64 \n",
      " 2   VehicleType        316879 non-null  object\n",
      " 3   RegistrationYear   354369 non-null  int64 \n",
      " 4   Gearbox            334536 non-null  object\n",
      " 5   Power              354369 non-null  int64 \n",
      " 6   Model              334664 non-null  object\n",
      " 7   Mileage            354369 non-null  int64 \n",
      " 8   RegistrationMonth  354369 non-null  int64 \n",
      " 9   FuelType           321474 non-null  object\n",
      " 10  Brand              354369 non-null  object\n",
      " 11  NotRepaired        283215 non-null  object\n",
      " 12  DateCreated        354369 non-null  object\n",
      " 13  NumberOfPictures   354369 non-null  int64 \n",
      " 14  PostalCode         354369 non-null  int64 \n",
      " 15  LastSeen           354369 non-null  object\n",
      "dtypes: int64(7), object(9)\n",
      "memory usage: 43.3+ MB\n"
     ]
    }
   ],
   "source": [
    "data.info()"
   ]
  },
  {
   "cell_type": "code",
   "execution_count": 5,
   "metadata": {},
   "outputs": [
    {
     "data": {
      "text/html": [
       "<div>\n",
       "<style scoped>\n",
       "    .dataframe tbody tr th:only-of-type {\n",
       "        vertical-align: middle;\n",
       "    }\n",
       "\n",
       "    .dataframe tbody tr th {\n",
       "        vertical-align: top;\n",
       "    }\n",
       "\n",
       "    .dataframe thead th {\n",
       "        text-align: right;\n",
       "    }\n",
       "</style>\n",
       "<table border=\"1\" class=\"dataframe\">\n",
       "  <thead>\n",
       "    <tr style=\"text-align: right;\">\n",
       "      <th></th>\n",
       "      <th>DateCrawled</th>\n",
       "      <th>Price</th>\n",
       "      <th>VehicleType</th>\n",
       "      <th>RegistrationYear</th>\n",
       "      <th>Gearbox</th>\n",
       "      <th>Power</th>\n",
       "      <th>Model</th>\n",
       "      <th>Mileage</th>\n",
       "      <th>RegistrationMonth</th>\n",
       "      <th>FuelType</th>\n",
       "      <th>Brand</th>\n",
       "      <th>NotRepaired</th>\n",
       "      <th>DateCreated</th>\n",
       "      <th>NumberOfPictures</th>\n",
       "      <th>PostalCode</th>\n",
       "      <th>LastSeen</th>\n",
       "    </tr>\n",
       "  </thead>\n",
       "  <tbody>\n",
       "    <tr>\n",
       "      <th>307061</th>\n",
       "      <td>23/03/2016 15:55</td>\n",
       "      <td>500</td>\n",
       "      <td>NaN</td>\n",
       "      <td>2016</td>\n",
       "      <td>manual</td>\n",
       "      <td>75</td>\n",
       "      <td>polo</td>\n",
       "      <td>150000</td>\n",
       "      <td>0</td>\n",
       "      <td>NaN</td>\n",
       "      <td>volkswagen</td>\n",
       "      <td>NaN</td>\n",
       "      <td>23/03/2016 00:00</td>\n",
       "      <td>0</td>\n",
       "      <td>63667</td>\n",
       "      <td>05/04/2016 19:17</td>\n",
       "    </tr>\n",
       "    <tr>\n",
       "      <th>181853</th>\n",
       "      <td>05/03/2016 18:25</td>\n",
       "      <td>14200</td>\n",
       "      <td>sedan</td>\n",
       "      <td>2012</td>\n",
       "      <td>manual</td>\n",
       "      <td>170</td>\n",
       "      <td>other</td>\n",
       "      <td>90000</td>\n",
       "      <td>2</td>\n",
       "      <td>gasoline</td>\n",
       "      <td>alfa_romeo</td>\n",
       "      <td>yes</td>\n",
       "      <td>05/03/2016 00:00</td>\n",
       "      <td>0</td>\n",
       "      <td>60529</td>\n",
       "      <td>06/04/2016 02:45</td>\n",
       "    </tr>\n",
       "    <tr>\n",
       "      <th>51544</th>\n",
       "      <td>19/03/2016 13:51</td>\n",
       "      <td>700</td>\n",
       "      <td>NaN</td>\n",
       "      <td>2016</td>\n",
       "      <td>manual</td>\n",
       "      <td>0</td>\n",
       "      <td>NaN</td>\n",
       "      <td>150000</td>\n",
       "      <td>0</td>\n",
       "      <td>petrol</td>\n",
       "      <td>volkswagen</td>\n",
       "      <td>NaN</td>\n",
       "      <td>19/03/2016 00:00</td>\n",
       "      <td>0</td>\n",
       "      <td>9599</td>\n",
       "      <td>28/03/2016 15:45</td>\n",
       "    </tr>\n",
       "    <tr>\n",
       "      <th>113484</th>\n",
       "      <td>16/03/2016 23:37</td>\n",
       "      <td>350</td>\n",
       "      <td>wagon</td>\n",
       "      <td>1998</td>\n",
       "      <td>manual</td>\n",
       "      <td>129</td>\n",
       "      <td>passat</td>\n",
       "      <td>150000</td>\n",
       "      <td>9</td>\n",
       "      <td>petrol</td>\n",
       "      <td>volkswagen</td>\n",
       "      <td>no</td>\n",
       "      <td>16/03/2016 00:00</td>\n",
       "      <td>0</td>\n",
       "      <td>22926</td>\n",
       "      <td>26/03/2016 14:15</td>\n",
       "    </tr>\n",
       "    <tr>\n",
       "      <th>61005</th>\n",
       "      <td>09/03/2016 14:36</td>\n",
       "      <td>2000</td>\n",
       "      <td>wagon</td>\n",
       "      <td>1996</td>\n",
       "      <td>manual</td>\n",
       "      <td>150</td>\n",
       "      <td>NaN</td>\n",
       "      <td>150000</td>\n",
       "      <td>2</td>\n",
       "      <td>NaN</td>\n",
       "      <td>bmw</td>\n",
       "      <td>no</td>\n",
       "      <td>09/03/2016 00:00</td>\n",
       "      <td>0</td>\n",
       "      <td>96317</td>\n",
       "      <td>10/03/2016 11:17</td>\n",
       "    </tr>\n",
       "    <tr>\n",
       "      <th>32617</th>\n",
       "      <td>27/03/2016 21:47</td>\n",
       "      <td>13800</td>\n",
       "      <td>sedan</td>\n",
       "      <td>2011</td>\n",
       "      <td>manual</td>\n",
       "      <td>122</td>\n",
       "      <td>golf</td>\n",
       "      <td>60000</td>\n",
       "      <td>11</td>\n",
       "      <td>petrol</td>\n",
       "      <td>volkswagen</td>\n",
       "      <td>no</td>\n",
       "      <td>27/03/2016 00:00</td>\n",
       "      <td>0</td>\n",
       "      <td>79777</td>\n",
       "      <td>03/04/2016 20:17</td>\n",
       "    </tr>\n",
       "    <tr>\n",
       "      <th>60445</th>\n",
       "      <td>22/03/2016 20:57</td>\n",
       "      <td>2200</td>\n",
       "      <td>sedan</td>\n",
       "      <td>1999</td>\n",
       "      <td>manual</td>\n",
       "      <td>105</td>\n",
       "      <td>3er</td>\n",
       "      <td>150000</td>\n",
       "      <td>4</td>\n",
       "      <td>petrol</td>\n",
       "      <td>bmw</td>\n",
       "      <td>no</td>\n",
       "      <td>22/03/2016 00:00</td>\n",
       "      <td>0</td>\n",
       "      <td>66509</td>\n",
       "      <td>24/03/2016 05:47</td>\n",
       "    </tr>\n",
       "    <tr>\n",
       "      <th>270797</th>\n",
       "      <td>22/03/2016 12:49</td>\n",
       "      <td>14500</td>\n",
       "      <td>suv</td>\n",
       "      <td>2011</td>\n",
       "      <td>manual</td>\n",
       "      <td>141</td>\n",
       "      <td>qashqai</td>\n",
       "      <td>80000</td>\n",
       "      <td>3</td>\n",
       "      <td>petrol</td>\n",
       "      <td>nissan</td>\n",
       "      <td>no</td>\n",
       "      <td>22/03/2016 00:00</td>\n",
       "      <td>0</td>\n",
       "      <td>41372</td>\n",
       "      <td>06/04/2016 01:44</td>\n",
       "    </tr>\n",
       "    <tr>\n",
       "      <th>241108</th>\n",
       "      <td>20/03/2016 23:06</td>\n",
       "      <td>12200</td>\n",
       "      <td>coupe</td>\n",
       "      <td>2008</td>\n",
       "      <td>manual</td>\n",
       "      <td>200</td>\n",
       "      <td>tt</td>\n",
       "      <td>150000</td>\n",
       "      <td>5</td>\n",
       "      <td>petrol</td>\n",
       "      <td>audi</td>\n",
       "      <td>no</td>\n",
       "      <td>20/03/2016 00:00</td>\n",
       "      <td>0</td>\n",
       "      <td>65812</td>\n",
       "      <td>26/03/2016 17:46</td>\n",
       "    </tr>\n",
       "    <tr>\n",
       "      <th>251941</th>\n",
       "      <td>23/03/2016 00:58</td>\n",
       "      <td>1499</td>\n",
       "      <td>wagon</td>\n",
       "      <td>2001</td>\n",
       "      <td>manual</td>\n",
       "      <td>101</td>\n",
       "      <td>vectra</td>\n",
       "      <td>150000</td>\n",
       "      <td>9</td>\n",
       "      <td>petrol</td>\n",
       "      <td>opel</td>\n",
       "      <td>no</td>\n",
       "      <td>22/03/2016 00:00</td>\n",
       "      <td>0</td>\n",
       "      <td>97209</td>\n",
       "      <td>23/03/2016 08:39</td>\n",
       "    </tr>\n",
       "  </tbody>\n",
       "</table>\n",
       "</div>"
      ],
      "text/plain": [
       "             DateCrawled  Price VehicleType  RegistrationYear Gearbox  Power  \\\n",
       "307061  23/03/2016 15:55    500         NaN              2016  manual     75   \n",
       "181853  05/03/2016 18:25  14200       sedan              2012  manual    170   \n",
       "51544   19/03/2016 13:51    700         NaN              2016  manual      0   \n",
       "113484  16/03/2016 23:37    350       wagon              1998  manual    129   \n",
       "61005   09/03/2016 14:36   2000       wagon              1996  manual    150   \n",
       "32617   27/03/2016 21:47  13800       sedan              2011  manual    122   \n",
       "60445   22/03/2016 20:57   2200       sedan              1999  manual    105   \n",
       "270797  22/03/2016 12:49  14500         suv              2011  manual    141   \n",
       "241108  20/03/2016 23:06  12200       coupe              2008  manual    200   \n",
       "251941  23/03/2016 00:58   1499       wagon              2001  manual    101   \n",
       "\n",
       "          Model  Mileage  RegistrationMonth  FuelType       Brand NotRepaired  \\\n",
       "307061     polo   150000                  0       NaN  volkswagen         NaN   \n",
       "181853    other    90000                  2  gasoline  alfa_romeo         yes   \n",
       "51544       NaN   150000                  0    petrol  volkswagen         NaN   \n",
       "113484   passat   150000                  9    petrol  volkswagen          no   \n",
       "61005       NaN   150000                  2       NaN         bmw          no   \n",
       "32617      golf    60000                 11    petrol  volkswagen          no   \n",
       "60445       3er   150000                  4    petrol         bmw          no   \n",
       "270797  qashqai    80000                  3    petrol      nissan          no   \n",
       "241108       tt   150000                  5    petrol        audi          no   \n",
       "251941   vectra   150000                  9    petrol        opel          no   \n",
       "\n",
       "             DateCreated  NumberOfPictures  PostalCode          LastSeen  \n",
       "307061  23/03/2016 00:00                 0       63667  05/04/2016 19:17  \n",
       "181853  05/03/2016 00:00                 0       60529  06/04/2016 02:45  \n",
       "51544   19/03/2016 00:00                 0        9599  28/03/2016 15:45  \n",
       "113484  16/03/2016 00:00                 0       22926  26/03/2016 14:15  \n",
       "61005   09/03/2016 00:00                 0       96317  10/03/2016 11:17  \n",
       "32617   27/03/2016 00:00                 0       79777  03/04/2016 20:17  \n",
       "60445   22/03/2016 00:00                 0       66509  24/03/2016 05:47  \n",
       "270797  22/03/2016 00:00                 0       41372  06/04/2016 01:44  \n",
       "241108  20/03/2016 00:00                 0       65812  26/03/2016 17:46  \n",
       "251941  22/03/2016 00:00                 0       97209  23/03/2016 08:39  "
      ]
     },
     "execution_count": 5,
     "metadata": {},
     "output_type": "execute_result"
    }
   ],
   "source": [
    "data.sample(10)"
   ]
  },
  {
   "cell_type": "code",
   "execution_count": 6,
   "metadata": {},
   "outputs": [
    {
     "data": {
      "text/plain": [
       "DateCrawled              0\n",
       "Price                    0\n",
       "VehicleType          37490\n",
       "RegistrationYear         0\n",
       "Gearbox              19833\n",
       "Power                    0\n",
       "Model                19705\n",
       "Mileage                  0\n",
       "RegistrationMonth        0\n",
       "FuelType             32895\n",
       "Brand                    0\n",
       "NotRepaired          71154\n",
       "DateCreated              0\n",
       "NumberOfPictures         0\n",
       "PostalCode               0\n",
       "LastSeen                 0\n",
       "dtype: int64"
      ]
     },
     "execution_count": 6,
     "metadata": {},
     "output_type": "execute_result"
    }
   ],
   "source": [
    "data.isnull().sum()"
   ]
  },
  {
   "cell_type": "code",
   "execution_count": 7,
   "metadata": {},
   "outputs": [
    {
     "data": {
      "text/plain": [
       "262"
      ]
     },
     "execution_count": 7,
     "metadata": {},
     "output_type": "execute_result"
    }
   ],
   "source": [
    "data.duplicated().sum()"
   ]
  },
  {
   "cell_type": "markdown",
   "metadata": {},
   "source": [
    "Within the dataset, the are several valuable information about the historical vehicle information that can be used for the prediction. However, there are some problem within the data such as the missing value and also the duplicated data which required to be handled or processed before it is used for the predicting phase."
   ]
  },
  {
   "cell_type": "markdown",
   "metadata": {},
   "source": [
    "## Data Preprocessing"
   ]
  },
  {
   "cell_type": "markdown",
   "metadata": {},
   "source": [
    "### Column Rename"
   ]
  },
  {
   "cell_type": "code",
   "execution_count": 8,
   "metadata": {},
   "outputs": [],
   "source": [
    "def rename_lowercase_underscore(column_name):\n",
    "    words = ''.join(['_' + c.lower() if c.isupper() else c for c in column_name]).lstrip('_')\n",
    "    return words"
   ]
  },
  {
   "cell_type": "code",
   "execution_count": 9,
   "metadata": {},
   "outputs": [],
   "source": [
    "data.rename(columns=lambda x: rename_lowercase_underscore(x), inplace=True)"
   ]
  },
  {
   "cell_type": "code",
   "execution_count": 10,
   "metadata": {},
   "outputs": [
    {
     "name": "stdout",
     "output_type": "stream",
     "text": [
      "<class 'pandas.core.frame.DataFrame'>\n",
      "RangeIndex: 354369 entries, 0 to 354368\n",
      "Data columns (total 16 columns):\n",
      " #   Column              Non-Null Count   Dtype \n",
      "---  ------              --------------   ----- \n",
      " 0   date_crawled        354369 non-null  object\n",
      " 1   price               354369 non-null  int64 \n",
      " 2   vehicle_type        316879 non-null  object\n",
      " 3   registration_year   354369 non-null  int64 \n",
      " 4   gearbox             334536 non-null  object\n",
      " 5   power               354369 non-null  int64 \n",
      " 6   model               334664 non-null  object\n",
      " 7   mileage             354369 non-null  int64 \n",
      " 8   registration_month  354369 non-null  int64 \n",
      " 9   fuel_type           321474 non-null  object\n",
      " 10  brand               354369 non-null  object\n",
      " 11  not_repaired        283215 non-null  object\n",
      " 12  date_created        354369 non-null  object\n",
      " 13  number_of_pictures  354369 non-null  int64 \n",
      " 14  postal_code         354369 non-null  int64 \n",
      " 15  last_seen           354369 non-null  object\n",
      "dtypes: int64(7), object(9)\n",
      "memory usage: 43.3+ MB\n"
     ]
    }
   ],
   "source": [
    "data.info()"
   ]
  },
  {
   "cell_type": "markdown",
   "metadata": {},
   "source": [
    "### Data Type Transformation"
   ]
  },
  {
   "cell_type": "code",
   "execution_count": 11,
   "metadata": {},
   "outputs": [],
   "source": [
    "date_columns = ['date_crawled', 'date_created', 'last_seen']\n",
    "for i in date_columns:\n",
    "    data[i] = pd.to_datetime(data[i], format='%d/%m/%Y %H:%M')"
   ]
  },
  {
   "cell_type": "code",
   "execution_count": 12,
   "metadata": {},
   "outputs": [
    {
     "name": "stdout",
     "output_type": "stream",
     "text": [
      "<class 'pandas.core.frame.DataFrame'>\n",
      "RangeIndex: 354369 entries, 0 to 354368\n",
      "Data columns (total 16 columns):\n",
      " #   Column              Non-Null Count   Dtype         \n",
      "---  ------              --------------   -----         \n",
      " 0   date_crawled        354369 non-null  datetime64[ns]\n",
      " 1   price               354369 non-null  int64         \n",
      " 2   vehicle_type        316879 non-null  object        \n",
      " 3   registration_year   354369 non-null  int64         \n",
      " 4   gearbox             334536 non-null  object        \n",
      " 5   power               354369 non-null  int64         \n",
      " 6   model               334664 non-null  object        \n",
      " 7   mileage             354369 non-null  int64         \n",
      " 8   registration_month  354369 non-null  int64         \n",
      " 9   fuel_type           321474 non-null  object        \n",
      " 10  brand               354369 non-null  object        \n",
      " 11  not_repaired        283215 non-null  object        \n",
      " 12  date_created        354369 non-null  datetime64[ns]\n",
      " 13  number_of_pictures  354369 non-null  int64         \n",
      " 14  postal_code         354369 non-null  int64         \n",
      " 15  last_seen           354369 non-null  datetime64[ns]\n",
      "dtypes: datetime64[ns](3), int64(7), object(6)\n",
      "memory usage: 43.3+ MB\n"
     ]
    }
   ],
   "source": [
    "data.info()"
   ]
  },
  {
   "cell_type": "markdown",
   "metadata": {},
   "source": [
    "### Missing value"
   ]
  },
  {
   "cell_type": "code",
   "execution_count": 13,
   "metadata": {},
   "outputs": [
    {
     "name": "stdout",
     "output_type": "stream",
     "text": [
      "Missing Value Percentage:\n",
      "date_crawled           0.000000\n",
      "price                  0.000000\n",
      "vehicle_type          10.579368\n",
      "registration_year      0.000000\n",
      "gearbox                5.596709\n",
      "power                  0.000000\n",
      "model                  5.560588\n",
      "mileage                0.000000\n",
      "registration_month     0.000000\n",
      "fuel_type              9.282697\n",
      "brand                  0.000000\n",
      "not_repaired          20.079070\n",
      "date_created           0.000000\n",
      "number_of_pictures     0.000000\n",
      "postal_code            0.000000\n",
      "last_seen              0.000000\n",
      "dtype: float64\n"
     ]
    }
   ],
   "source": [
    "missing_percentage = (data.isnull().sum() / len(data)) * 100\n",
    "print(\"Missing Value Percentage:\")\n",
    "print(missing_percentage)"
   ]
  },
  {
   "cell_type": "markdown",
   "metadata": {},
   "source": [
    "Since the missing value is exist only on the categorical column and the amount is significant, the missing value unable to be droped. Hence to counter this, the missing value will be replaced with value 'unknown'."
   ]
  },
  {
   "cell_type": "code",
   "execution_count": 14,
   "metadata": {},
   "outputs": [],
   "source": [
    "categorical_column = ['vehicle_type', 'gearbox', 'model', 'fuel_type', 'not_repaired']\n",
    "for i in categorical_column:\n",
    "    data[i] = data[i].fillna('unknown')"
   ]
  },
  {
   "cell_type": "markdown",
   "metadata": {},
   "source": [
    "### Duplicated Data"
   ]
  },
  {
   "cell_type": "code",
   "execution_count": 15,
   "metadata": {},
   "outputs": [],
   "source": [
    "data = data.drop_duplicates()"
   ]
  },
  {
   "cell_type": "code",
   "execution_count": 16,
   "metadata": {},
   "outputs": [
    {
     "data": {
      "text/plain": [
       "0"
      ]
     },
     "execution_count": 16,
     "metadata": {},
     "output_type": "execute_result"
    }
   ],
   "source": [
    "data.duplicated().sum()"
   ]
  },
  {
   "cell_type": "markdown",
   "metadata": {},
   "source": [
    "### Handle Outlier"
   ]
  },
  {
   "cell_type": "code",
   "execution_count": 17,
   "metadata": {},
   "outputs": [
    {
     "data": {
      "image/png": "[encoded data removed]",
      "text/plain": [
       "<Figure size 1080x864 with 7 Axes>"
      ]
     },
     "metadata": {
      "needs_background": "light"
     },
     "output_type": "display_data"
    }
   ],
   "source": [
    "columns_to_check = ['price', 'registration_year', 'power', 'mileage', 'registration_month', 'number_of_pictures', 'postal_code']\n",
    "\n",
    "fig, axes = plt.subplots(nrows=3, ncols=3, figsize=(15, 12))\n",
    "\n",
    "axes = axes.flatten()\n",
    "\n",
    "for i, column in enumerate(columns_to_check):\n",
    "    sns.boxplot(x=data[column], ax=axes[i])\n",
    "    axes[i].set_title(f'Boxplot of {column}')\n",
    "\n",
    "for i in range(len(columns_to_check), len(axes)):\n",
    "    fig.delaxes(axes[i])\n",
    "\n",
    "plt.tight_layout()\n",
    "\n",
    "plt.show()"
   ]
  },
  {
   "cell_type": "code",
   "execution_count": 18,
   "metadata": {},
   "outputs": [],
   "source": [
    "def detect_outliers_iqr(data):\n",
    "    q1 = data.quantile(0.25)\n",
    "    q3 = data.quantile(0.75)\n",
    "    iqr = q3 - q1\n",
    "    lower_bound = q1 - 1.5 * iqr\n",
    "    upper_bound = q3 + 1.5 * iqr\n",
    "    return data[(data < lower_bound) | (data > upper_bound)]"
   ]
  },
  {
   "cell_type": "code",
   "execution_count": 19,
   "metadata": {
    "scrolled": true
   },
   "outputs": [
    {
     "name": "stdout",
     "output_type": "stream",
     "text": [
      "Statistics for price:\n",
      "Mean: 4416.433287113782\n",
      "Median: 2700.0\n",
      "Standard Deviation: 4514.338583843513\n",
      "Q1: 1050.0\n",
      "Q3: 6400.0\n",
      "IQR: 5350.0\n",
      "Lower Bound: -6975.0\n",
      "Upper Bound: 14425.0\n",
      "Number of outliers: 18967\n",
      "\n",
      "Statistics for registration_year:\n",
      "Mean: 2004.2353554151712\n",
      "Median: 2003.0\n",
      "Standard Deviation: 90.26116839234697\n",
      "Q1: 1999.0\n",
      "Q3: 2008.0\n",
      "IQR: 9.0\n",
      "Lower Bound: 1985.5\n",
      "Upper Bound: 2021.5\n",
      "Number of outliers: 6305\n",
      "\n",
      "Statistics for power:\n",
      "Mean: 110.0896508682404\n",
      "Median: 105.0\n",
      "Standard Deviation: 189.9149723518935\n",
      "Q1: 69.0\n",
      "Q3: 143.0\n",
      "IQR: 74.0\n",
      "Lower Bound: -42.0\n",
      "Upper Bound: 254.0\n",
      "Number of outliers: 7335\n",
      "\n",
      "Statistics for mileage:\n",
      "Mean: 128211.811684039\n",
      "Median: 150000.0\n",
      "Standard Deviation: 37906.59010061005\n",
      "Q1: 125000.0\n",
      "Q3: 150000.0\n",
      "IQR: 25000.0\n",
      "Lower Bound: 87500.0\n",
      "Upper Bound: 187500.0\n",
      "Number of outliers: 53217\n",
      "\n",
      "Statistics for registration_month:\n",
      "Mean: 5.714182436382224\n",
      "Median: 6.0\n",
      "Standard Deviation: 3.7266820263143883\n",
      "Q1: 3.0\n",
      "Q3: 9.0\n",
      "IQR: 6.0\n",
      "Lower Bound: -6.0\n",
      "Upper Bound: 18.0\n",
      "Number of outliers: 0\n",
      "\n",
      "Statistics for number_of_pictures:\n",
      "Mean: 0.0\n",
      "Median: 0.0\n",
      "Standard Deviation: 0.0\n",
      "Q1: 0.0\n",
      "Q3: 0.0\n",
      "IQR: 0.0\n",
      "Lower Bound: 0.0\n",
      "Upper Bound: 0.0\n",
      "Number of outliers: 0\n",
      "\n",
      "Statistics for postal_code:\n",
      "Mean: 50507.145029609695\n",
      "Median: 49406.0\n",
      "Standard Deviation: 25784.212094114242\n",
      "Q1: 30165.0\n",
      "Q3: 71083.0\n",
      "IQR: 40918.0\n",
      "Lower Bound: -31212.0\n",
      "Upper Bound: 132460.0\n",
      "Number of outliers: 0\n",
      "\n"
     ]
    }
   ],
   "source": [
    "for column in columns_to_check:\n",
    "    column_data = data[column]\n",
    "    \n",
    "    # calculate summary statistics\n",
    "    column_mean = column_data.mean()\n",
    "    column_median = column_data.median()\n",
    "    column_std = column_data.std()\n",
    "    column_q1 = column_data.quantile(0.25)\n",
    "    column_q3 = column_data.quantile(0.75)\n",
    "    \n",
    "    # calculate IQR\n",
    "    iqr = column_q3 - column_q1\n",
    "    \n",
    "    # calculate lower and upper bounds for outliers\n",
    "    lower_bound = column_q1 - 1.5 * iqr\n",
    "    upper_bound = column_q3 + 1.5 * iqr\n",
    "    \n",
    "    # find outliers\n",
    "    outliers = column_data[(column_data < lower_bound) | (column_data > upper_bound)]\n",
    "    \n",
    "    # print statistics and outliers\n",
    "    print(f\"Statistics for {column}:\")\n",
    "    print(f\"Mean: {column_mean}\")\n",
    "    print(f\"Median: {column_median}\")\n",
    "    print(f\"Standard Deviation: {column_std}\")\n",
    "    print(f\"Q1: {column_q1}\")\n",
    "    print(f\"Q3: {column_q3}\")\n",
    "    print(f\"IQR: {iqr}\")\n",
    "    print(f\"Lower Bound: {lower_bound}\")\n",
    "    print(f\"Upper Bound: {upper_bound}\")\n",
    "    print(f\"Number of outliers: {len(outliers)}\")\n",
    "    print()"
   ]
  },
  {
   "cell_type": "code",
   "execution_count": 20,
   "metadata": {},
   "outputs": [],
   "source": [
    "columns_with_outliers = ['price', 'registration_year', 'power', 'mileage']\n",
    "\n",
    "for column in columns_with_outliers:\n",
    "    \n",
    "    # calculate summary statistics\n",
    "    column_mean = data[column].mean()\n",
    "    column_median = data[column].median()\n",
    "    column_std = data[column].std()\n",
    "    column_q1 = data[column].quantile(0.25)\n",
    "    column_q3 = data[column].quantile(0.75)\n",
    "    \n",
    "    # calculate IQR\n",
    "    iqr = column_q3 - column_q1\n",
    "    \n",
    "    # calculate lower and upper bounds for outliers\n",
    "    lower_bound = column_q1 - 1.5 * iqr\n",
    "    upper_bound = column_q3 + 1.5 * iqr\n",
    "    \n",
    "    # replace outliers with median or winsorize\n",
    "    data[column] = np.where((data[column] < lower_bound) | (data[column] > upper_bound), column_median, data[column])\n"
   ]
  },
  {
   "cell_type": "markdown",
   "metadata": {},
   "source": [
    "### Handle Inconsistent Data"
   ]
  },
  {
   "cell_type": "code",
   "execution_count": 21,
   "metadata": {},
   "outputs": [],
   "source": [
    "data = data[data['price'] > 1000]\n",
    "\n",
    "data=data[data['registration_month']!=0]\n",
    "\n",
    "data=data[(data['power'] >= 60) & (data['power'] <= 2000)]\n"
   ]
  },
  {
   "cell_type": "code",
   "execution_count": 22,
   "metadata": {},
   "outputs": [],
   "source": [
    "data['registration_year'] = data['registration_year'].astype(int)"
   ]
  },
  {
   "cell_type": "markdown",
   "metadata": {},
   "source": [
    "### Data Manipulation"
   ]
  },
  {
   "cell_type": "code",
   "execution_count": 23,
   "metadata": {},
   "outputs": [],
   "source": [
    "data['age'] = 2024 - data['registration_year']"
   ]
  },
  {
   "cell_type": "code",
   "execution_count": 24,
   "metadata": {},
   "outputs": [],
   "source": [
    "data['mileage_per_year'] = data['mileage'] / data['age']"
   ]
  },
  {
   "cell_type": "markdown",
   "metadata": {},
   "source": [
    "### Drop Unnecessary  Columns"
   ]
  },
  {
   "cell_type": "code",
   "execution_count": 25,
   "metadata": {},
   "outputs": [],
   "source": [
    "data.drop(['date_crawled', 'date_created', 'number_of_pictures', 'postal_code', 'last_seen', 'registration_year', 'mileage'], axis=1, inplace=True)"
   ]
  },
  {
   "cell_type": "markdown",
   "metadata": {},
   "source": [
    "### Preprocessed Data Check"
   ]
  },
  {
   "cell_type": "code",
   "execution_count": 26,
   "metadata": {
    "scrolled": true
   },
   "outputs": [
    {
     "data": {
      "text/html": [
       "<div>\n",
       "<style scoped>\n",
       "    .dataframe tbody tr th:only-of-type {\n",
       "        vertical-align: middle;\n",
       "    }\n",
       "\n",
       "    .dataframe tbody tr th {\n",
       "        vertical-align: top;\n",
       "    }\n",
       "\n",
       "    .dataframe thead th {\n",
       "        text-align: right;\n",
       "    }\n",
       "</style>\n",
       "<table border=\"1\" class=\"dataframe\">\n",
       "  <thead>\n",
       "    <tr style=\"text-align: right;\">\n",
       "      <th></th>\n",
       "      <th>price</th>\n",
       "      <th>vehicle_type</th>\n",
       "      <th>gearbox</th>\n",
       "      <th>power</th>\n",
       "      <th>model</th>\n",
       "      <th>registration_month</th>\n",
       "      <th>fuel_type</th>\n",
       "      <th>brand</th>\n",
       "      <th>not_repaired</th>\n",
       "      <th>age</th>\n",
       "      <th>mileage_per_year</th>\n",
       "    </tr>\n",
       "  </thead>\n",
       "  <tbody>\n",
       "    <tr>\n",
       "      <th>39703</th>\n",
       "      <td>6550.0</td>\n",
       "      <td>wagon</td>\n",
       "      <td>manual</td>\n",
       "      <td>125.0</td>\n",
       "      <td>astra</td>\n",
       "      <td>11</td>\n",
       "      <td>petrol</td>\n",
       "      <td>opel</td>\n",
       "      <td>no</td>\n",
       "      <td>20</td>\n",
       "      <td>5000.000000</td>\n",
       "    </tr>\n",
       "    <tr>\n",
       "      <th>202458</th>\n",
       "      <td>2700.0</td>\n",
       "      <td>sedan</td>\n",
       "      <td>auto</td>\n",
       "      <td>110.0</td>\n",
       "      <td>golf</td>\n",
       "      <td>10</td>\n",
       "      <td>petrol</td>\n",
       "      <td>volkswagen</td>\n",
       "      <td>no</td>\n",
       "      <td>10</td>\n",
       "      <td>15000.000000</td>\n",
       "    </tr>\n",
       "    <tr>\n",
       "      <th>53615</th>\n",
       "      <td>10600.0</td>\n",
       "      <td>wagon</td>\n",
       "      <td>manual</td>\n",
       "      <td>125.0</td>\n",
       "      <td>a3</td>\n",
       "      <td>7</td>\n",
       "      <td>petrol</td>\n",
       "      <td>audi</td>\n",
       "      <td>no</td>\n",
       "      <td>15</td>\n",
       "      <td>10000.000000</td>\n",
       "    </tr>\n",
       "    <tr>\n",
       "      <th>300153</th>\n",
       "      <td>2700.0</td>\n",
       "      <td>wagon</td>\n",
       "      <td>manual</td>\n",
       "      <td>143.0</td>\n",
       "      <td>a4</td>\n",
       "      <td>8</td>\n",
       "      <td>gasoline</td>\n",
       "      <td>audi</td>\n",
       "      <td>no</td>\n",
       "      <td>16</td>\n",
       "      <td>7812.500000</td>\n",
       "    </tr>\n",
       "    <tr>\n",
       "      <th>58880</th>\n",
       "      <td>6290.0</td>\n",
       "      <td>sedan</td>\n",
       "      <td>auto</td>\n",
       "      <td>150.0</td>\n",
       "      <td>c_klasse</td>\n",
       "      <td>7</td>\n",
       "      <td>gasoline</td>\n",
       "      <td>mercedes_benz</td>\n",
       "      <td>no</td>\n",
       "      <td>19</td>\n",
       "      <td>7894.736842</td>\n",
       "    </tr>\n",
       "    <tr>\n",
       "      <th>96319</th>\n",
       "      <td>8500.0</td>\n",
       "      <td>sedan</td>\n",
       "      <td>manual</td>\n",
       "      <td>110.0</td>\n",
       "      <td>golf</td>\n",
       "      <td>11</td>\n",
       "      <td>gasoline</td>\n",
       "      <td>volkswagen</td>\n",
       "      <td>no</td>\n",
       "      <td>16</td>\n",
       "      <td>9375.000000</td>\n",
       "    </tr>\n",
       "    <tr>\n",
       "      <th>200808</th>\n",
       "      <td>3290.0</td>\n",
       "      <td>small</td>\n",
       "      <td>manual</td>\n",
       "      <td>75.0</td>\n",
       "      <td>ibiza</td>\n",
       "      <td>7</td>\n",
       "      <td>petrol</td>\n",
       "      <td>seat</td>\n",
       "      <td>no</td>\n",
       "      <td>19</td>\n",
       "      <td>6578.947368</td>\n",
       "    </tr>\n",
       "    <tr>\n",
       "      <th>96551</th>\n",
       "      <td>6200.0</td>\n",
       "      <td>small</td>\n",
       "      <td>manual</td>\n",
       "      <td>101.0</td>\n",
       "      <td>yaris</td>\n",
       "      <td>11</td>\n",
       "      <td>petrol</td>\n",
       "      <td>toyota</td>\n",
       "      <td>no</td>\n",
       "      <td>15</td>\n",
       "      <td>6000.000000</td>\n",
       "    </tr>\n",
       "    <tr>\n",
       "      <th>96327</th>\n",
       "      <td>4450.0</td>\n",
       "      <td>small</td>\n",
       "      <td>manual</td>\n",
       "      <td>60.0</td>\n",
       "      <td>c3</td>\n",
       "      <td>2</td>\n",
       "      <td>petrol</td>\n",
       "      <td>citroen</td>\n",
       "      <td>no</td>\n",
       "      <td>17</td>\n",
       "      <td>5882.352941</td>\n",
       "    </tr>\n",
       "    <tr>\n",
       "      <th>293455</th>\n",
       "      <td>2700.0</td>\n",
       "      <td>wagon</td>\n",
       "      <td>manual</td>\n",
       "      <td>120.0</td>\n",
       "      <td>a4</td>\n",
       "      <td>4</td>\n",
       "      <td>gasoline</td>\n",
       "      <td>audi</td>\n",
       "      <td>no</td>\n",
       "      <td>11</td>\n",
       "      <td>9090.909091</td>\n",
       "    </tr>\n",
       "  </tbody>\n",
       "</table>\n",
       "</div>"
      ],
      "text/plain": [
       "          price vehicle_type gearbox  power     model  registration_month  \\\n",
       "39703    6550.0        wagon  manual  125.0     astra                  11   \n",
       "202458   2700.0        sedan    auto  110.0      golf                  10   \n",
       "53615   10600.0        wagon  manual  125.0        a3                   7   \n",
       "300153   2700.0        wagon  manual  143.0        a4                   8   \n",
       "58880    6290.0        sedan    auto  150.0  c_klasse                   7   \n",
       "96319    8500.0        sedan  manual  110.0      golf                  11   \n",
       "200808   3290.0        small  manual   75.0     ibiza                   7   \n",
       "96551    6200.0        small  manual  101.0     yaris                  11   \n",
       "96327    4450.0        small  manual   60.0        c3                   2   \n",
       "293455   2700.0        wagon  manual  120.0        a4                   4   \n",
       "\n",
       "       fuel_type          brand not_repaired  age  mileage_per_year  \n",
       "39703     petrol           opel           no   20       5000.000000  \n",
       "202458    petrol     volkswagen           no   10      15000.000000  \n",
       "53615     petrol           audi           no   15      10000.000000  \n",
       "300153  gasoline           audi           no   16       7812.500000  \n",
       "58880   gasoline  mercedes_benz           no   19       7894.736842  \n",
       "96319   gasoline     volkswagen           no   16       9375.000000  \n",
       "200808    petrol           seat           no   19       6578.947368  \n",
       "96551     petrol         toyota           no   15       6000.000000  \n",
       "96327     petrol        citroen           no   17       5882.352941  \n",
       "293455  gasoline           audi           no   11       9090.909091  "
      ]
     },
     "execution_count": 26,
     "metadata": {},
     "output_type": "execute_result"
    }
   ],
   "source": [
    "data.sample(10)"
   ]
  },
  {
   "cell_type": "markdown",
   "metadata": {},
   "source": [
    "## Model Training"
   ]
  },
  {
   "cell_type": "markdown",
   "metadata": {},
   "source": [
    "split data into features and target"
   ]
  },
  {
   "cell_type": "code",
   "execution_count": 27,
   "metadata": {},
   "outputs": [],
   "source": [
    "x = data.drop('price', axis=1)\n",
    "y = data['price']"
   ]
  },
  {
   "cell_type": "markdown",
   "metadata": {},
   "source": [
    "split data into training and testing sets"
   ]
  },
  {
   "cell_type": "code",
   "execution_count": 28,
   "metadata": {},
   "outputs": [],
   "source": [
    "x_train, x_test, y_train, y_test = train_test_split(x, y, test_size=0.2, random_state=42)"
   ]
  },
  {
   "cell_type": "markdown",
   "metadata": {},
   "source": [
    "define preprocessing steps for categorical features"
   ]
  },
  {
   "cell_type": "code",
   "execution_count": 29,
   "metadata": {},
   "outputs": [],
   "source": [
    "categorical_features = ['vehicle_type', 'gearbox', 'model', 'fuel_type', 'brand', 'not_repaired']\n",
    "categorical_transformer = Pipeline(steps=[\n",
    "    ('onehot', OneHotEncoder(handle_unknown='ignore'))\n",
    "])"
   ]
  },
  {
   "cell_type": "markdown",
   "metadata": {},
   "source": [
    "combine preprocessing steps"
   ]
  },
  {
   "cell_type": "code",
   "execution_count": 30,
   "metadata": {},
   "outputs": [],
   "source": [
    "preprocessor = ColumnTransformer(\n",
    "    transformers=[\n",
    "        ('cat', categorical_transformer, categorical_features)\n",
    "    ])"
   ]
  },
  {
   "cell_type": "markdown",
   "metadata": {},
   "source": [
    "define models"
   ]
  },
  {
   "cell_type": "code",
   "execution_count": 31,
   "metadata": {},
   "outputs": [],
   "source": [
    "models = {\n",
    "    'Linear Regression': LinearRegression(),\n",
    "    'Random Forest Regression': RandomForestRegressor(n_estimators=100, random_state=42),\n",
    "    'Gradient Boosting Regression': GradientBoostingRegressor(n_estimators=100, random_state=42),\n",
    "    'Support Vector Regression': SVR(),\n",
    "    'K-Nearest Neighbors Regression': KNeighborsRegressor()\n",
    "}"
   ]
  },
  {
   "cell_type": "code",
   "execution_count": 32,
   "metadata": {},
   "outputs": [],
   "source": [
    "trained_models = {}\n",
    "for name, model in models.items():\n",
    "    # create a pipeline\n",
    "    pipeline = Pipeline(steps=[('preprocessor', preprocessor),\n",
    "                               ('model', model)])\n",
    "    \n",
    "    # train the model\n",
    "    start_time = time.time()\n",
    "    pipeline.fit(x_train, y_train)\n",
    "    training_time = time.time() - start_time\n",
    "    \n",
    "    # store trained model and training time\n",
    "    trained_models[name] = pipeline\n",
    "    trained_models[name].named_steps['model'].training_time_ = training_time"
   ]
  },
  {
   "cell_type": "markdown",
   "metadata": {},
   "source": [
    "## Model Analysis"
   ]
  },
  {
   "cell_type": "code",
   "execution_count": 33,
   "metadata": {},
   "outputs": [],
   "source": [
    "mae_scores = {}\n",
    "mse_scores = {}\n",
    "r2_scores = {}\n",
    "training_times = {}"
   ]
  },
  {
   "cell_type": "code",
   "execution_count": 34,
   "metadata": {},
   "outputs": [],
   "source": [
    "for name, model in trained_models.items():\n",
    "    # make predictions\n",
    "    y_pred = model.predict(x_test)\n",
    "\n",
    "    # evaluate the model\n",
    "    mae = mean_absolute_error(y_test, y_pred)\n",
    "    mse = mean_squared_error(y_test, y_pred)\n",
    "    r2 = r2_score(y_test, y_pred)\n",
    "\n",
    "    mae_scores[name] = mae\n",
    "    mse_scores[name] = mse\n",
    "    r2_scores[name] = r2\n",
    "    \n",
    "    # assign the training time\n",
    "    training_times[name] = model.named_steps['model'].training_time_"
   ]
  },
  {
   "cell_type": "code",
   "execution_count": 35,
   "metadata": {
    "scrolled": true
   },
   "outputs": [
    {
     "data": {
      "image/png": "[encoded data removed]",
      "text/plain": [
       "<Figure size 720x432 with 1 Axes>"
      ]
     },
     "metadata": {
      "needs_background": "light"
     },
     "output_type": "display_data"
    }
   ],
   "source": [
    "plt.figure(figsize=(10, 6))\n",
    "plt.bar(training_times.keys(), training_times.values())\n",
    "plt.title('Training Time')\n",
    "plt.xlabel('Model')\n",
    "plt.ylabel('Training Time (seconds)')\n",
    "plt.show()"
   ]
  },
  {
   "cell_type": "code",
   "execution_count": 36,
   "metadata": {
    "scrolled": true
   },
   "outputs": [
    {
     "data": {
      "image/png": "[encoded data removed]",
      "text/plain": [
       "<Figure size 720x864 with 3 Axes>"
      ]
     },
     "metadata": {
      "needs_background": "light"
     },
     "output_type": "display_data"
    }
   ],
   "source": [
    "colors = cm.Set3.colors\n",
    "\n",
    "plt.figure(figsize=(10, 12))\n",
    "\n",
    "plt.subplot(3, 1, 1)\n",
    "bars = plt.bar(mae_scores.keys(), mae_scores.values(), color=colors)\n",
    "plt.title('Mean Absolute Error')\n",
    "plt.xlabel('Model')\n",
    "plt.ylabel('MAE')\n",
    "\n",
    "for bar in bars:\n",
    "    yval = bar.get_height()\n",
    "    plt.text(bar.get_x() + bar.get_width()/2, yval, round(yval, 3), va='bottom')\n",
    "\n",
    "plt.subplot(3, 1, 2)\n",
    "bars = plt.bar(mse_scores.keys(), mse_scores.values(), color=colors)\n",
    "plt.title('Mean Squared Error')\n",
    "plt.xlabel('Model')\n",
    "plt.ylabel('MSE')\n",
    "\n",
    "for bar in bars:\n",
    "    yval = bar.get_height()\n",
    "    plt.text(bar.get_x() + bar.get_width()/2, yval, round(yval, 3), va='bottom')\n",
    "\n",
    "plt.subplot(3, 1, 3)\n",
    "bars = plt.bar(r2_scores.keys(), r2_scores.values(), color=colors)\n",
    "plt.title('R-squared Score')\n",
    "plt.xlabel('Model')\n",
    "plt.ylabel('R-squared')\n",
    "\n",
    "for bar in bars:\n",
    "    yval = bar.get_height()\n",
    "    plt.text(bar.get_x() + bar.get_width()/2, yval, round(yval, 3), va='bottom')\n",
    "\n",
    "\n",
    "plt.tight_layout()\n",
    "plt.show()"
   ]
  },
  {
   "cell_type": "code",
   "execution_count": 37,
   "metadata": {},
   "outputs": [],
   "source": [
    "comparison_table = pd.DataFrame({'Model': list(mae_scores.keys()),\n",
    "                                 'Mean Absolute Error': list(mae_scores.values()),\n",
    "                                 'Mean Squared Error': list(mse_scores.values()),\n",
    "                                 'R-squared Score': list(r2_scores.values()),\n",
    "                                 'Training Time (seconds)': list(training_times.values())})\n"
   ]
  },
  {
   "cell_type": "code",
   "execution_count": 38,
   "metadata": {},
   "outputs": [
    {
     "name": "stdout",
     "output_type": "stream",
     "text": [
      "Model Comparison Table:\n"
     ]
    },
    {
     "data": {
      "text/html": [
       "<div>\n",
       "<style scoped>\n",
       "    .dataframe tbody tr th:only-of-type {\n",
       "        vertical-align: middle;\n",
       "    }\n",
       "\n",
       "    .dataframe tbody tr th {\n",
       "        vertical-align: top;\n",
       "    }\n",
       "\n",
       "    .dataframe thead th {\n",
       "        text-align: right;\n",
       "    }\n",
       "</style>\n",
       "<table border=\"1\" class=\"dataframe\">\n",
       "  <thead>\n",
       "    <tr style=\"text-align: right;\">\n",
       "      <th></th>\n",
       "      <th>Model</th>\n",
       "      <th>Mean Absolute Error</th>\n",
       "      <th>Mean Squared Error</th>\n",
       "      <th>R-squared Score</th>\n",
       "      <th>Training Time (seconds)</th>\n",
       "    </tr>\n",
       "  </thead>\n",
       "  <tbody>\n",
       "    <tr>\n",
       "      <th>0</th>\n",
       "      <td>Linear Regression</td>\n",
       "      <td>2459.473106</td>\n",
       "      <td>9.491314e+06</td>\n",
       "      <td>0.172120</td>\n",
       "      <td>6.779315</td>\n",
       "    </tr>\n",
       "    <tr>\n",
       "      <th>1</th>\n",
       "      <td>Random Forest Regression</td>\n",
       "      <td>2360.500395</td>\n",
       "      <td>9.118323e+06</td>\n",
       "      <td>0.204654</td>\n",
       "      <td>581.789183</td>\n",
       "    </tr>\n",
       "    <tr>\n",
       "      <th>2</th>\n",
       "      <td>Gradient Boosting Regression</td>\n",
       "      <td>2543.194309</td>\n",
       "      <td>9.833691e+06</td>\n",
       "      <td>0.142256</td>\n",
       "      <td>11.908593</td>\n",
       "    </tr>\n",
       "    <tr>\n",
       "      <th>3</th>\n",
       "      <td>Support Vector Regression</td>\n",
       "      <td>2537.895370</td>\n",
       "      <td>1.184943e+07</td>\n",
       "      <td>-0.033567</td>\n",
       "      <td>2630.312344</td>\n",
       "    </tr>\n",
       "    <tr>\n",
       "      <th>4</th>\n",
       "      <td>K-Nearest Neighbors Regression</td>\n",
       "      <td>2495.058984</td>\n",
       "      <td>1.055790e+07</td>\n",
       "      <td>0.079087</td>\n",
       "      <td>0.352846</td>\n",
       "    </tr>\n",
       "  </tbody>\n",
       "</table>\n",
       "</div>"
      ],
      "text/plain": [
       "                            Model  Mean Absolute Error  Mean Squared Error  \\\n",
       "0               Linear Regression          2459.473106        9.491314e+06   \n",
       "1        Random Forest Regression          2360.500395        9.118323e+06   \n",
       "2    Gradient Boosting Regression          2543.194309        9.833691e+06   \n",
       "3       Support Vector Regression          2537.895370        1.184943e+07   \n",
       "4  K-Nearest Neighbors Regression          2495.058984        1.055790e+07   \n",
       "\n",
       "   R-squared Score  Training Time (seconds)  \n",
       "0         0.172120                 6.779315  \n",
       "1         0.204654               581.789183  \n",
       "2         0.142256                11.908593  \n",
       "3        -0.033567              2630.312344  \n",
       "4         0.079087                 0.352846  "
      ]
     },
     "execution_count": 38,
     "metadata": {},
     "output_type": "execute_result"
    }
   ],
   "source": [
    "print(\"Model Comparison Table:\")\n",
    "comparison_table"
   ]
  },
  {
   "cell_type": "markdown",
   "metadata": {},
   "source": [
    "The evaluation reveals significant differences among the models in performance and computational efficiency by using MAE and MSE, R-squared Score and also the Training Time. The results:\n",
    "- Linear Regression has relatively low training time but higher MAE, MSE, and lower R-squared compared to other models.\n",
    "- Random Forest Regression has low MAE and MSE, and higher R-squared, but it takes longer to train.\n",
    "- Gradient Boosting Regression has relatively low MAE and MSE, but lower R-squared compared to Random Forest, and it's faster to train.\n",
    "- Support Vector Regression (SVR) has the highest MAE and MSE, negative R-squared indicating poor fit, and it takes a significantly longer time to train.\n",
    "- K-Nearest Neighbors Regression (KNN) has moderate MAE and MSE, low R-squared, and very low training time.\n",
    "\n",
    "Considering these factors, Random Forest Regression seems to be the best-performing model overall due to its lower MAE and MSE, higher R-squared, and acceptable training time. However, if computational resources are limited or training time is a critical factor, K-Nearest Neighbors Regression might be a better choice despite its slightly inferior performance in terms of MAE, MSE, and R-squared."
   ]
  },
  {
   "cell_type": "markdown",
   "metadata": {},
   "source": [
    "# Checklist"
   ]
  },
  {
   "cell_type": "markdown",
   "metadata": {},
   "source": [
    "Type 'x' to mark it as complete. Then, press Shift+Enter keys"
   ]
  },
  {
   "cell_type": "markdown",
   "metadata": {},
   "source": [
    "- [x]  Jupyter Notebook can be open\n",
    "- [x]  There is no issue on the code\n",
    "- [x]  Download the data and prepared the data for the analysis\n",
    "- [x]  Model already trained\n",
    "- [x]  Perform analysis towards the model's speed and quality result"
   ]
  }
 ],
 "metadata": {
  "kernelspec": {
   "display_name": "Python 3 (ipykernel)",
   "language": "python",
   "name": "python3"
  },
  "language_info": {
   "codemirror_mode": {
    "name": "ipython",
    "version": 3
   },
   "file_extension": ".py",
   "mimetype": "text/x-python",
   "name": "python",
   "nbconvert_exporter": "python",
   "pygments_lexer": "ipython3",
   "version": "3.9.19"
  },
  "toc": {
   "base_numbering": 1,
   "nav_menu": {},
   "number_sections": true,
   "sideBar": true,
   "skip_h1_title": true,
   "title_cell": "Table of Contents",
   "title_sidebar": "Contents",
   "toc_cell": false,
   "toc_position": {},
   "toc_section_display": true,
   "toc_window_display": false
  }
 },
 "nbformat": 4,
 "nbformat_minor": 2
}
