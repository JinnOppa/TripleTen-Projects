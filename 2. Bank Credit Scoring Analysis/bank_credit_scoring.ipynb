{
 "cells": [
  {
   "cell_type": "markdown",
   "metadata": {},
   "source": [
    "# Analyzing Borrower Default Risk in Credit Scoring"
   ]
  },
  {
   "cell_type": "markdown",
   "metadata": {},
   "source": [
    "## Introduction\n",
    "\n",
    "In the competitive landscape of banking and finance, accurate credit assessment is crucial for mitigating risks associated with borrower defaults. This project aims to investigate the relationship between borrowers' marital status, the number of children they have, and the probability of defaulting on loans. By analyzing existing credit eligibility data, we seek to provide insights that can inform credit evaluations and improve decision-making processes within the bank's credit division.\n",
    "\n",
    "### Goals\n",
    "\n",
    "To achieve this, we have established the following research objectives:\n",
    "\n",
    "1. **Hypothesis 1:** Investigate whether there is a correlation between having children and the probability of defaulting on a loan.\n",
    "2. **Hypothesis 2:** Explore the correlation between family status and the probability of defaulting on a loan.\n",
    "3. **Hypothesis 3:** Analyze the relationship between income level and the probability of defaulting on a loan.\n",
    "4. **Hypothesis 4:** Examine how different credit goals influence the default percentage.\n",
    "\n",
    "### Data Description\n",
    "\n",
    "The analysis will be conducted using a dataset that includes the following attributes:\n",
    "\n",
    "- **`children`:** Number of children in the family.\n",
    "- **`days_employed`:** Customer work experience in days.\n",
    "- **`dob_years`:** Customer age in years.\n",
    "- **`education`:** Customer's education level.\n",
    "- **`education_id`:** Identifier for the customer's education level.\n",
    "- **`family_status`:** Marital status of the customer.\n",
    "- **`family_status_id`:** Identifier for the customer's marital status.\n",
    "- **`gender`:** Customer gender.\n",
    "- **`income_type`:** Job type of the customer.\n",
    "- **`debt`:** Whether the customer has ever defaulted on a loan.\n",
    "- **`total_income`:** Monthly income of the customer.\n",
    "- **`purpose`:** The purpose of obtaining a loan.\n",
    "\n",
    "The analysis will involve several key steps, beginning with data preprocessing to ensure the dataset's integrity. This includes identifying and addressing missing values, correcting data types, and eliminating duplicates. Following this, we will explore the relationships between borrower characteristics—such as family status, income levels, and loan purposes—and their impact on default probabilities. The findings will be synthesized into a comprehensive report, serving as a valuable resource for assessing potential borrowers and refining credit policies.\n",
    "\n",
    "Through this project, we aim to contribute to the development of more effective credit scoring methodologies that can enhance financial stability for both the bank and its clients."
   ]
  },
  {
   "cell_type": "markdown",
   "metadata": {},
   "source": [
    "## Import Data and Understand the information"
   ]
  },
  {
   "cell_type": "code",
   "execution_count": 1,
   "metadata": {},
   "outputs": [],
   "source": [
    "import matplotlib.pyplot as plt\n",
    "import seaborn as sns\n",
    "import pandas as pd"
   ]
  },
  {
   "cell_type": "code",
   "execution_count": 2,
   "metadata": {},
   "outputs": [],
   "source": [
    "try:\n",
    "    # Try loading the file from your laptop path\n",
    "    data = pd.read_csv('C:/Users/Eugene/Documents/GitHub/TripleTen-Projects/2. Bank Credit Scoring Analysis/credit_scoring_eng.csv')\n",
    "except FileNotFoundError:\n",
    "    # If the file is not found, try loading from the PC path\n",
    "    data = pd.read_csv('C:/Users/user/OneDrive/Documents/GitHub/TripleTen-Projects/2. Bank Credit Scoring Analysis/credit_scoring_eng.csv')"
   ]
  },
  {
   "cell_type": "code",
   "execution_count": 3,
   "metadata": {},
   "outputs": [
    {
     "data": {
      "text/plain": [
       "(21525, 12)"
      ]
     },
     "execution_count": 3,
     "metadata": {},
     "output_type": "execute_result"
    }
   ],
   "source": [
    "data.shape"
   ]
  },
  {
   "cell_type": "code",
   "execution_count": 4,
   "metadata": {
    "scrolled": false
   },
   "outputs": [
    {
     "data": {
      "text/html": [
       "<div>\n",
       "<style scoped>\n",
       "    .dataframe tbody tr th:only-of-type {\n",
       "        vertical-align: middle;\n",
       "    }\n",
       "\n",
       "    .dataframe tbody tr th {\n",
       "        vertical-align: top;\n",
       "    }\n",
       "\n",
       "    .dataframe thead th {\n",
       "        text-align: right;\n",
       "    }\n",
       "</style>\n",
       "<table border=\"1\" class=\"dataframe\">\n",
       "  <thead>\n",
       "    <tr style=\"text-align: right;\">\n",
       "      <th></th>\n",
       "      <th>children</th>\n",
       "      <th>days_employed</th>\n",
       "      <th>dob_years</th>\n",
       "      <th>education</th>\n",
       "      <th>education_id</th>\n",
       "      <th>family_status</th>\n",
       "      <th>family_status_id</th>\n",
       "      <th>gender</th>\n",
       "      <th>income_type</th>\n",
       "      <th>debt</th>\n",
       "      <th>total_income</th>\n",
       "      <th>purpose</th>\n",
       "    </tr>\n",
       "  </thead>\n",
       "  <tbody>\n",
       "    <tr>\n",
       "      <th>0</th>\n",
       "      <td>1</td>\n",
       "      <td>-8437.673028</td>\n",
       "      <td>42</td>\n",
       "      <td>bachelor's degree</td>\n",
       "      <td>0</td>\n",
       "      <td>married</td>\n",
       "      <td>0</td>\n",
       "      <td>F</td>\n",
       "      <td>employee</td>\n",
       "      <td>0</td>\n",
       "      <td>40620.102</td>\n",
       "      <td>purchase of the house</td>\n",
       "    </tr>\n",
       "    <tr>\n",
       "      <th>1</th>\n",
       "      <td>1</td>\n",
       "      <td>-4024.803754</td>\n",
       "      <td>36</td>\n",
       "      <td>secondary education</td>\n",
       "      <td>1</td>\n",
       "      <td>married</td>\n",
       "      <td>0</td>\n",
       "      <td>F</td>\n",
       "      <td>employee</td>\n",
       "      <td>0</td>\n",
       "      <td>17932.802</td>\n",
       "      <td>car purchase</td>\n",
       "    </tr>\n",
       "    <tr>\n",
       "      <th>2</th>\n",
       "      <td>0</td>\n",
       "      <td>-5623.422610</td>\n",
       "      <td>33</td>\n",
       "      <td>Secondary Education</td>\n",
       "      <td>1</td>\n",
       "      <td>married</td>\n",
       "      <td>0</td>\n",
       "      <td>M</td>\n",
       "      <td>employee</td>\n",
       "      <td>0</td>\n",
       "      <td>23341.752</td>\n",
       "      <td>purchase of the house</td>\n",
       "    </tr>\n",
       "    <tr>\n",
       "      <th>3</th>\n",
       "      <td>3</td>\n",
       "      <td>-4124.747207</td>\n",
       "      <td>32</td>\n",
       "      <td>secondary education</td>\n",
       "      <td>1</td>\n",
       "      <td>married</td>\n",
       "      <td>0</td>\n",
       "      <td>M</td>\n",
       "      <td>employee</td>\n",
       "      <td>0</td>\n",
       "      <td>42820.568</td>\n",
       "      <td>supplementary education</td>\n",
       "    </tr>\n",
       "    <tr>\n",
       "      <th>4</th>\n",
       "      <td>0</td>\n",
       "      <td>340266.072047</td>\n",
       "      <td>53</td>\n",
       "      <td>secondary education</td>\n",
       "      <td>1</td>\n",
       "      <td>civil partnership</td>\n",
       "      <td>1</td>\n",
       "      <td>F</td>\n",
       "      <td>retiree</td>\n",
       "      <td>0</td>\n",
       "      <td>25378.572</td>\n",
       "      <td>to have a wedding</td>\n",
       "    </tr>\n",
       "  </tbody>\n",
       "</table>\n",
       "</div>"
      ],
      "text/plain": [
       "   children  days_employed  dob_years            education  education_id  \\\n",
       "0         1   -8437.673028         42    bachelor's degree             0   \n",
       "1         1   -4024.803754         36  secondary education             1   \n",
       "2         0   -5623.422610         33  Secondary Education             1   \n",
       "3         3   -4124.747207         32  secondary education             1   \n",
       "4         0  340266.072047         53  secondary education             1   \n",
       "\n",
       "       family_status  family_status_id gender income_type  debt  total_income  \\\n",
       "0            married                 0      F    employee     0     40620.102   \n",
       "1            married                 0      F    employee     0     17932.802   \n",
       "2            married                 0      M    employee     0     23341.752   \n",
       "3            married                 0      M    employee     0     42820.568   \n",
       "4  civil partnership                 1      F     retiree     0     25378.572   \n",
       "\n",
       "                   purpose  \n",
       "0    purchase of the house  \n",
       "1             car purchase  \n",
       "2    purchase of the house  \n",
       "3  supplementary education  \n",
       "4        to have a wedding  "
      ]
     },
     "execution_count": 4,
     "metadata": {},
     "output_type": "execute_result"
    }
   ],
   "source": [
    "data.head(5)"
   ]
  },
  {
   "cell_type": "code",
   "execution_count": 5,
   "metadata": {},
   "outputs": [
    {
     "name": "stdout",
     "output_type": "stream",
     "text": [
      "<class 'pandas.core.frame.DataFrame'>\n",
      "RangeIndex: 21525 entries, 0 to 21524\n",
      "Data columns (total 12 columns):\n",
      " #   Column            Non-Null Count  Dtype  \n",
      "---  ------            --------------  -----  \n",
      " 0   children          21525 non-null  int64  \n",
      " 1   days_employed     19351 non-null  float64\n",
      " 2   dob_years         21525 non-null  int64  \n",
      " 3   education         21525 non-null  object \n",
      " 4   education_id      21525 non-null  int64  \n",
      " 5   family_status     21525 non-null  object \n",
      " 6   family_status_id  21525 non-null  int64  \n",
      " 7   gender            21525 non-null  object \n",
      " 8   income_type       21525 non-null  object \n",
      " 9   debt              21525 non-null  int64  \n",
      " 10  total_income      19351 non-null  float64\n",
      " 11  purpose           21525 non-null  object \n",
      "dtypes: float64(2), int64(5), object(5)\n",
      "memory usage: 2.0+ MB\n"
     ]
    }
   ],
   "source": [
    "data.info()"
   ]
  },
  {
   "cell_type": "code",
   "execution_count": 6,
   "metadata": {},
   "outputs": [
    {
     "name": "stdout",
     "output_type": "stream",
     "text": [
      "21525\n"
     ]
    }
   ],
   "source": [
    "print(len(data))"
   ]
  },
  {
   "cell_type": "markdown",
   "metadata": {},
   "source": [
    "Check the missing value in the current data"
   ]
  },
  {
   "cell_type": "code",
   "execution_count": 7,
   "metadata": {
    "scrolled": true
   },
   "outputs": [
    {
     "data": {
      "text/plain": [
       "children               0\n",
       "days_employed       2174\n",
       "dob_years              0\n",
       "education              0\n",
       "education_id           0\n",
       "family_status          0\n",
       "family_status_id       0\n",
       "gender                 0\n",
       "income_type            0\n",
       "debt                   0\n",
       "total_income        2174\n",
       "purpose                0\n",
       "dtype: int64"
      ]
     },
     "execution_count": 7,
     "metadata": {},
     "output_type": "execute_result"
    }
   ],
   "source": [
    "data.isnull().sum()"
   ]
  },
  {
   "cell_type": "markdown",
   "metadata": {},
   "source": [
    "From the current data, there are some missing value and it have the symmetric values. So verbally it can be said that the amount of missing data is correlated with each other. But it is necessary to check further whether the missing data is the same. Hence we check the relationship for the missing values from both columns"
   ]
  },
  {
   "cell_type": "code",
   "execution_count": 8,
   "metadata": {},
   "outputs": [
    {
     "data": {
      "text/plain": [
       "(2174, 12)"
      ]
     },
     "execution_count": 8,
     "metadata": {},
     "output_type": "execute_result"
    }
   ],
   "source": [
    "data[(data['days_employed'].isnull()) & (data['total_income'].isnull())].shape"
   ]
  },
  {
   "cell_type": "code",
   "execution_count": 9,
   "metadata": {},
   "outputs": [
    {
     "name": "stdout",
     "output_type": "stream",
     "text": [
      "Missing value percentage: 20.20%\n"
     ]
    }
   ],
   "source": [
    "total = data.shape[0]\n",
    "\n",
    "missing = data.isnull().sum().sum()\n",
    "\n",
    "percentage_missing = (missing / total) * 100\n",
    "\n",
    "print(f'Missing value percentage: {percentage_missing:.2f}%')"
   ]
  },
  {
   "cell_type": "markdown",
   "metadata": {},
   "source": [
    "**Temporary conclusion** \n",
    "\n",
    "The number of rows in the table that has been filtered has the same value as the number of missing values, namely 2174. The percentage of missing data is 20.20%. If the missing data has a weak correlation with the analysis results, the missing data can be *dropped* or deleted from the data used. However, if the data has a correlation that can affect the analysis, then the data will be cleaned by means of data manipulation and transformation."
   ]
  },
  {
   "cell_type": "markdown",
   "metadata": {},
   "source": [
    "Check for customers who have no data on the identified characteristics and columns with missing values"
   ]
  },
  {
   "cell_type": "code",
   "execution_count": 10,
   "metadata": {},
   "outputs": [],
   "source": [
    "missing_characteristic_columns = ['days_employed', 'total_income']"
   ]
  },
  {
   "cell_type": "code",
   "execution_count": 11,
   "metadata": {},
   "outputs": [
    {
     "name": "stdout",
     "output_type": "stream",
     "text": [
      "Distribution of customers who do not have days_employed data based on job type:\n",
      "income_type\n",
      "employee         1105\n",
      "business          508\n",
      "retiree           413\n",
      "civil servant     147\n",
      "entrepreneur        1\n",
      "Name: count, dtype: int64 \n",
      "\n",
      "Distribution of customers who do not have total_income data based on job type:\n",
      "income_type\n",
      "employee         1105\n",
      "business          508\n",
      "retiree           413\n",
      "civil servant     147\n",
      "entrepreneur        1\n",
      "Name: count, dtype: int64 \n",
      "\n"
     ]
    }
   ],
   "source": [
    "for column in missing_characteristic_columns:\n",
    "    missing_data = data[data[column].isnull()]\n",
    "    distribution = missing_data['income_type'].value_counts()\n",
    "    print(f\"Distribution of customers who do not have {column} data based on job type:\")    \n",
    "    print(distribution, \"\\n\")\n"
   ]
  },
  {
   "cell_type": "code",
   "execution_count": 12,
   "metadata": {
    "scrolled": true
   },
   "outputs": [
    {
     "name": "stdout",
     "output_type": "stream",
     "text": [
      "Distribution of customers who do not have children data based on job type:\n",
      "Series([], Name: count, dtype: int64) \n",
      "\n",
      "Distribution of customers who do not have days_employed data based on job type:\n",
      "income_type\n",
      "employee         1105\n",
      "business          508\n",
      "retiree           413\n",
      "civil servant     147\n",
      "entrepreneur        1\n",
      "Name: count, dtype: int64 \n",
      "\n",
      "Distribution of customers who do not have dob_years data based on job type:\n",
      "Series([], Name: count, dtype: int64) \n",
      "\n",
      "Distribution of customers who do not have education_id data based on job type:\n",
      "Series([], Name: count, dtype: int64) \n",
      "\n",
      "Distribution of customers who do not have family_status_id data based on job type:\n",
      "Series([], Name: count, dtype: int64) \n",
      "\n",
      "Distribution of customers who do not have debt data based on job type:\n",
      "Series([], Name: count, dtype: int64) \n",
      "\n",
      "Distribution of customers who do not have total_income data based on job type:\n",
      "income_type\n",
      "employee         1105\n",
      "business          508\n",
      "retiree           413\n",
      "civil servant     147\n",
      "entrepreneur        1\n",
      "Name: count, dtype: int64 \n",
      "\n"
     ]
    }
   ],
   "source": [
    "characteristic_columns = ['children','days_employed','dob_years','education_id','family_status_id','debt','total_income']\n",
    "\n",
    "for column in characteristic_columns:\n",
    "    missing_data = data[data[column].isnull()]\n",
    "    distribution = missing_data['income_type'].value_counts()\n",
    "    print(f\"Distribution of customers who do not have {column} data based on job type:\")    \n",
    "    print(distribution, '\\n')"
   ]
  },
  {
   "cell_type": "markdown",
   "metadata": {},
   "source": [
    "**Temporary conclusion** \n",
    "\n",
    "From the distribution of the dataset above, the results are similar to the distribution that has been filtered. This is evidence for missing data patterns in the data. To deal with missing values ​​in the data, data of the numeric type can use median or average values ​​to fill in the blank data, and for categorical data types, the mode of the data column can be used.\n"
   ]
  },
  {
   "cell_type": "markdown",
   "metadata": {},
   "source": [
    "## Data transformation"
   ]
  },
  {
   "cell_type": "markdown",
   "metadata": {},
   "source": [
    "### Column Transformation"
   ]
  },
  {
   "cell_type": "markdown",
   "metadata": {},
   "source": [
    "#### `education` Column"
   ]
  },
  {
   "cell_type": "markdown",
   "metadata": {},
   "source": [
    "Let's look at all the values ​​in the education column to check what spelling needs to be corrected"
   ]
  },
  {
   "cell_type": "code",
   "execution_count": 13,
   "metadata": {},
   "outputs": [
    {
     "name": "stdout",
     "output_type": "stream",
     "text": [
      "[\"bachelor's degree\" 'secondary education' 'Secondary Education'\n",
      " 'SECONDARY EDUCATION' \"BACHELOR'S DEGREE\" 'some college'\n",
      " 'primary education' \"Bachelor's Degree\" 'SOME COLLEGE' 'Some College'\n",
      " 'PRIMARY EDUCATION' 'Primary Education' 'Graduate Degree'\n",
      " 'GRADUATE DEGREE' 'graduate degree']\n"
     ]
    }
   ],
   "source": [
    "unique_education_values = data['education'].unique()\n",
    "print(unique_education_values)"
   ]
  },
  {
   "cell_type": "code",
   "execution_count": 14,
   "metadata": {},
   "outputs": [],
   "source": [
    "data['education'] = data['education'].str.lower()"
   ]
  },
  {
   "cell_type": "markdown",
   "metadata": {},
   "source": [
    "Recheck all the values ​​in the column to ensure that we have corrected them appropriately"
   ]
  },
  {
   "cell_type": "code",
   "execution_count": 15,
   "metadata": {},
   "outputs": [
    {
     "name": "stdout",
     "output_type": "stream",
     "text": [
      "[\"bachelor's degree\" 'secondary education' 'some college'\n",
      " 'primary education' 'graduate degree']\n"
     ]
    }
   ],
   "source": [
    "updated_education_value = data['education'].unique()\n",
    "print(updated_education_value)"
   ]
  },
  {
   "cell_type": "markdown",
   "metadata": {},
   "source": [
    "#### `children` Column"
   ]
  },
  {
   "cell_type": "code",
   "execution_count": 16,
   "metadata": {},
   "outputs": [
    {
     "data": {
      "text/plain": [
       "array([ 1,  0,  3,  2, -1,  4, 20,  5], dtype=int64)"
      ]
     },
     "execution_count": 16,
     "metadata": {},
     "output_type": "execute_result"
    }
   ],
   "source": [
    "data['children'].unique()"
   ]
  },
  {
   "cell_type": "code",
   "execution_count": 17,
   "metadata": {},
   "outputs": [
    {
     "data": {
      "text/plain": [
       "children\n",
       " 0     14149\n",
       " 1      4818\n",
       " 2      2055\n",
       " 3       330\n",
       " 20       76\n",
       "-1        47\n",
       " 4        41\n",
       " 5         9\n",
       "Name: count, dtype: int64"
      ]
     },
     "execution_count": 17,
     "metadata": {},
     "output_type": "execute_result"
    }
   ],
   "source": [
    "data['children'].value_counts()"
   ]
  },
  {
   "cell_type": "code",
   "execution_count": 20,
   "metadata": {},
   "outputs": [
    {
     "name": "stdout",
     "output_type": "stream",
     "text": [
      "Percentage value -1: 0.22%\n",
      "Percentage value 20: 0.35%\n"
     ]
    }
   ],
   "source": [
    "total_children = len(data['children'])\n",
    "\n",
    "#-1\n",
    "a = len(data[data['children']== -1])\n",
    "\n",
    "#20\n",
    "b = len(data[data['children']== 20])\n",
    "\n",
    "persentase_a = (a/total_children) * 100\n",
    "persentase_b = (b/total_children) * 100\n",
    "\n",
    "print(f'Percentage value -1: {persentase_a:.2f}%')\n",
    "\n",
    "print(f'Percentage value 20: {persentase_b:.2f}%')"
   ]
  },
  {
   "cell_type": "markdown",
   "metadata": {},
   "source": [
    "From the distribution of the number of children in the data, there are irregularities in the number of children. such as '-1' in the number of children. The value 20 also includes incorrect data and can be caused by errors during data entry."
   ]
  },
  {
   "cell_type": "code",
   "execution_count": 21,
   "metadata": {},
   "outputs": [],
   "source": [
    "data.loc[data['children'] == -1, 'children'] = None\n",
    "data.loc[data['children'] == 20, 'children'] = None"
   ]
  },
  {
   "cell_type": "code",
   "execution_count": 22,
   "metadata": {},
   "outputs": [
    {
     "data": {
      "text/plain": [
       "children\n",
       "0.0    14149\n",
       "1.0     4818\n",
       "2.0     2055\n",
       "3.0      330\n",
       "4.0       41\n",
       "5.0        9\n",
       "Name: count, dtype: int64"
      ]
     },
     "execution_count": 22,
     "metadata": {},
     "output_type": "execute_result"
    }
   ],
   "source": [
    "data['children'].value_counts()"
   ]
  },
  {
   "cell_type": "markdown",
   "metadata": {},
   "source": [
    "#### `days_employed` Column"
   ]
  },
  {
   "cell_type": "markdown",
   "metadata": {},
   "source": [
    "Find problematic data in the `days_employed` column if there is a problem and calculate the percentage"
   ]
  },
  {
   "cell_type": "code",
   "execution_count": 23,
   "metadata": {},
   "outputs": [
    {
     "data": {
      "text/plain": [
       "0      -8437.673028\n",
       "1      -4024.803754\n",
       "2      -5623.422610\n",
       "3      -4124.747207\n",
       "4     340266.072047\n",
       "5       -926.185831\n",
       "6      -2879.202052\n",
       "7       -152.779569\n",
       "8      -6929.865299\n",
       "9      -2188.756445\n",
       "10     -4171.483647\n",
       "11      -792.701887\n",
       "12              NaN\n",
       "13     -1846.641941\n",
       "14     -1844.956182\n",
       "Name: days_employed, dtype: float64"
      ]
     },
     "execution_count": 23,
     "metadata": {},
     "output_type": "execute_result"
    }
   ],
   "source": [
    "data['days_employed'].head(15)"
   ]
  },
  {
   "cell_type": "markdown",
   "metadata": {},
   "source": [
    "Look for problematic data in the 'days_employed' column (large negative or positive values) then calculate the percentage of problematic data"
   ]
  },
  {
   "cell_type": "code",
   "execution_count": 24,
   "metadata": {},
   "outputs": [
    {
     "name": "stdout",
     "output_type": "stream",
     "text": [
      "The amount of problematic data: 19351\n",
      "Percentage of problematic data: 89.90%\n"
     ]
    }
   ],
   "source": [
    "problematic_data = data[(data['days_employed'] < 0) | (data['days_employed'] > 20000)]\n",
    "\n",
    "percentage_problematic = (len(problematic_data) / len(data)) * 100\n",
    "\n",
    "print(\"The amount of problematic data:\", len(problematic_data))\n",
    "print(\"Percentage of problematic data: {:.2f}%\".format(percentage_problematic))"
   ]
  },
  {
   "cell_type": "markdown",
   "metadata": {},
   "source": [
    "The percentage of problematic data can be said to be high, with a value of 89.9%. One way to overcome this, is to change large negative values ​​to positive and ignore large positive values, as this can allow errors to occur when the input and data become inconsistent."
   ]
  },
  {
   "cell_type": "markdown",
   "metadata": {},
   "source": [
    "Resolve problematic values, if it is exist and check redistribution after changes"
   ]
  },
  {
   "cell_type": "code",
   "execution_count": 25,
   "metadata": {},
   "outputs": [
    {
     "data": {
      "text/plain": [
       "count     19351.000000\n",
       "mean      66914.728907\n",
       "std      139030.880527\n",
       "min          24.141633\n",
       "25%         927.009265\n",
       "50%        2194.220567\n",
       "75%        5537.882441\n",
       "max      401755.400475\n",
       "Name: days_employed, dtype: float64"
      ]
     },
     "execution_count": 25,
     "metadata": {},
     "output_type": "execute_result"
    }
   ],
   "source": [
    "data['days_employed'] = data['days_employed'].apply(lambda x: -x if x < 0 else x)\n",
    "\n",
    "data['days_employed'].describe()"
   ]
  },
  {
   "cell_type": "markdown",
   "metadata": {},
   "source": [
    "The use of `apply` above is used to change negative values ​​to positive, after that I print the statistical distribution with `.describe`."
   ]
  },
  {
   "cell_type": "code",
   "execution_count": 26,
   "metadata": {},
   "outputs": [
    {
     "data": {
      "text/plain": [
       "0       8437.673028\n",
       "1       4024.803754\n",
       "2       5623.422610\n",
       "3       4124.747207\n",
       "4     340266.072047\n",
       "5        926.185831\n",
       "6       2879.202052\n",
       "7        152.779569\n",
       "8       6929.865299\n",
       "9       2188.756445\n",
       "10      4171.483647\n",
       "11       792.701887\n",
       "12              NaN\n",
       "13      1846.641941\n",
       "14      1844.956182\n",
       "Name: days_employed, dtype: float64"
      ]
     },
     "execution_count": 26,
     "metadata": {},
     "output_type": "execute_result"
    }
   ],
   "source": [
    "data['days_employed'].head(15)"
   ]
  },
  {
   "cell_type": "markdown",
   "metadata": {},
   "source": [
    "Check the results - make sure that the problem is fixed"
   ]
  },
  {
   "cell_type": "code",
   "execution_count": 29,
   "metadata": {},
   "outputs": [
    {
     "data": {
      "text/plain": [
       "count     19351.000000\n",
       "mean      66914.728907\n",
       "std      139030.880527\n",
       "min          24.141633\n",
       "25%         927.009265\n",
       "50%        2194.220567\n",
       "75%        5537.882441\n",
       "max      401755.400475\n",
       "Name: days_employed, dtype: float64"
      ]
     },
     "execution_count": 29,
     "metadata": {},
     "output_type": "execute_result"
    }
   ],
   "source": [
    "data['days_employed'].describe()"
   ]
  },
  {
   "cell_type": "code",
   "execution_count": 30,
   "metadata": {},
   "outputs": [
    {
     "name": "stdout",
     "output_type": "stream",
     "text": [
      "The amount of problematic data: 3445 \n",
      "\n",
      "Percentage of problematic data: 16.00% \n",
      "\n"
     ]
    }
   ],
   "source": [
    "problematic_data = data[(data['days_employed'] < 0) | (data['days_employed'] > 20000)]\n",
    "\n",
    "percentage_problematic = (len(problematic_data) / len(data)) * 100\n",
    "\n",
    "print(\"The amount of problematic data:\", len(problematic_data), \"\\n\")\n",
    "print(\"Percentage of problematic data: {:.2f}%\".format(percentage_problematic), \"\\n\")\n"
   ]
  },
  {
   "cell_type": "markdown",
   "metadata": {},
   "source": [
    "#### `dob_years` Column"
   ]
  },
  {
   "cell_type": "markdown",
   "metadata": {},
   "source": [
    "Check `dob_years` for suspicious values ​​and calculate the percentage"
   ]
  },
  {
   "cell_type": "code",
   "execution_count": 31,
   "metadata": {
    "scrolled": true
   },
   "outputs": [
    {
     "name": "stdout",
     "output_type": "stream",
     "text": [
      "Amount of suspicious data: 101\n",
      "Percentage of suspicious data: 0.4692218350754936 %\n"
     ]
    }
   ],
   "source": [
    "suspicious_dob = data[(data['dob_years'] == 0) | (data['dob_years'] > 100)]\n",
    "\n",
    "suspicious_percentage = len(suspicious_dob) / len(data) * 100\n",
    "\n",
    "print(\"Amount of suspicious data:\", len(suspicious_dob))\n",
    "print(\"Percentage of suspicious data:\", suspicious_percentage, \"%\")"
   ]
  },
  {
   "cell_type": "code",
   "execution_count": 32,
   "metadata": {},
   "outputs": [
    {
     "data": {
      "text/plain": [
       "array([42, 36, 33, 32, 53, 27, 43, 50, 35, 41, 40, 65, 54, 56, 26, 48, 24,\n",
       "       21, 57, 67, 28, 63, 62, 47, 34, 68, 25, 31, 30, 20, 49, 37, 45, 61,\n",
       "       64, 44, 52, 46, 23, 38, 39, 51,  0, 59, 29, 60, 55, 58, 71, 22, 73,\n",
       "       66, 69, 19, 72, 70, 74, 75], dtype=int64)"
      ]
     },
     "execution_count": 32,
     "metadata": {},
     "output_type": "execute_result"
    }
   ],
   "source": [
    "data['dob_years'].unique()"
   ]
  },
  {
   "cell_type": "markdown",
   "metadata": {},
   "source": [
    "The value that is doubtful is the value 0. Because the data could be invalid or wrong. Hence troubleshoot the `dob_years` column, if there is a problem by calculate the median age value from valid data and replace the value 0 with the median age."
   ]
  },
  {
   "cell_type": "code",
   "execution_count": 33,
   "metadata": {},
   "outputs": [],
   "source": [
    "median_age = data[data['dob_years'] > 0]['dob_years'].median()\n",
    "\n",
    "data['dob_years'] = data['dob_years'].replace(0, median_age)"
   ]
  },
  {
   "cell_type": "markdown",
   "metadata": {},
   "source": [
    "Replace the value 0 with the median value and recheck the issue."
   ]
  },
  {
   "cell_type": "code",
   "execution_count": 34,
   "metadata": {},
   "outputs": [
    {
     "data": {
      "text/plain": [
       "array([42, 36, 33, 32, 53, 27, 43, 50, 35, 41, 40, 65, 54, 56, 26, 48, 24,\n",
       "       21, 57, 67, 28, 63, 62, 47, 34, 68, 25, 31, 30, 20, 49, 37, 45, 61,\n",
       "       64, 44, 52, 46, 23, 38, 39, 51, 59, 29, 60, 55, 58, 71, 22, 73, 66,\n",
       "       69, 19, 72, 70, 74, 75], dtype=int64)"
      ]
     },
     "execution_count": 34,
     "metadata": {},
     "output_type": "execute_result"
    }
   ],
   "source": [
    "data['dob_years'].unique()"
   ]
  },
  {
   "cell_type": "markdown",
   "metadata": {},
   "source": [
    "#### `family_status` Column"
   ]
  },
  {
   "cell_type": "code",
   "execution_count": 35,
   "metadata": {},
   "outputs": [
    {
     "data": {
      "text/plain": [
       "array(['married', 'civil partnership', 'widow / widower', 'divorced',\n",
       "       'unmarried'], dtype=object)"
      ]
     },
     "execution_count": 35,
     "metadata": {},
     "output_type": "execute_result"
    }
   ],
   "source": [
    "data['family_status'].unique()\n"
   ]
  },
  {
   "cell_type": "code",
   "execution_count": 36,
   "metadata": {},
   "outputs": [
    {
     "data": {
      "text/plain": [
       "0               married\n",
       "1               married\n",
       "2               married\n",
       "3               married\n",
       "4     civil partnership\n",
       "5     civil partnership\n",
       "6               married\n",
       "7               married\n",
       "8     civil partnership\n",
       "9               married\n",
       "10              married\n",
       "11              married\n",
       "12    civil partnership\n",
       "13              married\n",
       "14    civil partnership\n",
       "Name: family_status, dtype: object"
      ]
     },
     "execution_count": 36,
     "metadata": {},
     "output_type": "execute_result"
    }
   ],
   "source": [
    "data['family_status'].head(15)"
   ]
  },
  {
   "cell_type": "markdown",
   "metadata": {},
   "source": [
    "#### `gender` Column"
   ]
  },
  {
   "cell_type": "code",
   "execution_count": 37,
   "metadata": {},
   "outputs": [
    {
     "data": {
      "text/plain": [
       "array(['F', 'M', 'XNA'], dtype=object)"
      ]
     },
     "execution_count": 37,
     "metadata": {},
     "output_type": "execute_result"
    }
   ],
   "source": [
    "data['gender'].unique()"
   ]
  },
  {
   "cell_type": "code",
   "execution_count": 38,
   "metadata": {},
   "outputs": [
    {
     "data": {
      "text/plain": [
       "0     F\n",
       "1     F\n",
       "2     M\n",
       "3     M\n",
       "4     F\n",
       "5     M\n",
       "6     F\n",
       "7     M\n",
       "8     F\n",
       "9     M\n",
       "10    M\n",
       "11    F\n",
       "12    M\n",
       "13    F\n",
       "14    F\n",
       "Name: gender, dtype: object"
      ]
     },
     "execution_count": 38,
     "metadata": {},
     "output_type": "execute_result"
    }
   ],
   "source": [
    "data['gender'].head(15)"
   ]
  },
  {
   "cell_type": "markdown",
   "metadata": {},
   "source": [
    "Resolve problematic values, if it is exist, which value 'XNA' and replace it with value 'Unknown'"
   ]
  },
  {
   "cell_type": "code",
   "execution_count": 39,
   "metadata": {},
   "outputs": [],
   "source": [
    "data.loc[data['gender'] == 'XNA','gender'] = 'Unknown'"
   ]
  },
  {
   "cell_type": "code",
   "execution_count": 40,
   "metadata": {},
   "outputs": [
    {
     "data": {
      "text/plain": [
       "array(['F', 'M', 'Unknown'], dtype=object)"
      ]
     },
     "execution_count": 40,
     "metadata": {},
     "output_type": "execute_result"
    }
   ],
   "source": [
    "data['gender'].unique()"
   ]
  },
  {
   "cell_type": "markdown",
   "metadata": {},
   "source": [
    "#### `income_type` Column"
   ]
  },
  {
   "cell_type": "code",
   "execution_count": 41,
   "metadata": {},
   "outputs": [
    {
     "data": {
      "text/plain": [
       "array(['employee', 'retiree', 'business', 'civil servant', 'unemployed',\n",
       "       'entrepreneur', 'student', 'paternity / maternity leave'],\n",
       "      dtype=object)"
      ]
     },
     "execution_count": 41,
     "metadata": {},
     "output_type": "execute_result"
    }
   ],
   "source": [
    "data['income_type'].unique()"
   ]
  },
  {
   "cell_type": "code",
   "execution_count": 42,
   "metadata": {},
   "outputs": [
    {
     "data": {
      "text/plain": [
       "0     employee\n",
       "1     employee\n",
       "2     employee\n",
       "3     employee\n",
       "4      retiree\n",
       "5     business\n",
       "6     business\n",
       "7     employee\n",
       "8     employee\n",
       "9     employee\n",
       "10    business\n",
       "11    employee\n",
       "12     retiree\n",
       "13    employee\n",
       "14    business\n",
       "Name: income_type, dtype: object"
      ]
     },
     "execution_count": 42,
     "metadata": {},
     "output_type": "execute_result"
    }
   ],
   "source": [
    "data['income_type'].head(15)"
   ]
  },
  {
   "cell_type": "markdown",
   "metadata": {},
   "source": [
    "### Handle Duplicate Data"
   ]
  },
  {
   "cell_type": "markdown",
   "metadata": {},
   "source": [
    "Check for duplicates"
   ]
  },
  {
   "cell_type": "code",
   "execution_count": 43,
   "metadata": {},
   "outputs": [
    {
     "name": "stdout",
     "output_type": "stream",
     "text": [
      "Number of duplicate data:  71\n"
     ]
    }
   ],
   "source": [
    "duplicate_rows = data[data.duplicated()]\n",
    "print(\"Number of duplicate data: \", duplicate_rows.shape[0])"
   ]
  },
  {
   "cell_type": "code",
   "execution_count": 44,
   "metadata": {},
   "outputs": [
    {
     "data": {
      "text/html": [
       "<div>\n",
       "<style scoped>\n",
       "    .dataframe tbody tr th:only-of-type {\n",
       "        vertical-align: middle;\n",
       "    }\n",
       "\n",
       "    .dataframe tbody tr th {\n",
       "        vertical-align: top;\n",
       "    }\n",
       "\n",
       "    .dataframe thead th {\n",
       "        text-align: right;\n",
       "    }\n",
       "</style>\n",
       "<table border=\"1\" class=\"dataframe\">\n",
       "  <thead>\n",
       "    <tr style=\"text-align: right;\">\n",
       "      <th></th>\n",
       "      <th>children</th>\n",
       "      <th>days_employed</th>\n",
       "      <th>dob_years</th>\n",
       "      <th>education</th>\n",
       "      <th>education_id</th>\n",
       "      <th>family_status</th>\n",
       "      <th>family_status_id</th>\n",
       "      <th>gender</th>\n",
       "      <th>income_type</th>\n",
       "      <th>debt</th>\n",
       "      <th>total_income</th>\n",
       "      <th>purpose</th>\n",
       "    </tr>\n",
       "  </thead>\n",
       "  <tbody>\n",
       "    <tr>\n",
       "      <th>2849</th>\n",
       "      <td>0.0</td>\n",
       "      <td>NaN</td>\n",
       "      <td>41</td>\n",
       "      <td>secondary education</td>\n",
       "      <td>1</td>\n",
       "      <td>married</td>\n",
       "      <td>0</td>\n",
       "      <td>F</td>\n",
       "      <td>employee</td>\n",
       "      <td>0</td>\n",
       "      <td>NaN</td>\n",
       "      <td>purchase of the house for my family</td>\n",
       "    </tr>\n",
       "    <tr>\n",
       "      <th>3290</th>\n",
       "      <td>0.0</td>\n",
       "      <td>NaN</td>\n",
       "      <td>58</td>\n",
       "      <td>secondary education</td>\n",
       "      <td>1</td>\n",
       "      <td>civil partnership</td>\n",
       "      <td>1</td>\n",
       "      <td>F</td>\n",
       "      <td>retiree</td>\n",
       "      <td>0</td>\n",
       "      <td>NaN</td>\n",
       "      <td>to have a wedding</td>\n",
       "    </tr>\n",
       "    <tr>\n",
       "      <th>4182</th>\n",
       "      <td>1.0</td>\n",
       "      <td>NaN</td>\n",
       "      <td>34</td>\n",
       "      <td>bachelor's degree</td>\n",
       "      <td>0</td>\n",
       "      <td>civil partnership</td>\n",
       "      <td>1</td>\n",
       "      <td>F</td>\n",
       "      <td>employee</td>\n",
       "      <td>0</td>\n",
       "      <td>NaN</td>\n",
       "      <td>wedding ceremony</td>\n",
       "    </tr>\n",
       "    <tr>\n",
       "      <th>4851</th>\n",
       "      <td>0.0</td>\n",
       "      <td>NaN</td>\n",
       "      <td>60</td>\n",
       "      <td>secondary education</td>\n",
       "      <td>1</td>\n",
       "      <td>civil partnership</td>\n",
       "      <td>1</td>\n",
       "      <td>F</td>\n",
       "      <td>retiree</td>\n",
       "      <td>0</td>\n",
       "      <td>NaN</td>\n",
       "      <td>wedding ceremony</td>\n",
       "    </tr>\n",
       "    <tr>\n",
       "      <th>5557</th>\n",
       "      <td>0.0</td>\n",
       "      <td>NaN</td>\n",
       "      <td>58</td>\n",
       "      <td>secondary education</td>\n",
       "      <td>1</td>\n",
       "      <td>civil partnership</td>\n",
       "      <td>1</td>\n",
       "      <td>F</td>\n",
       "      <td>retiree</td>\n",
       "      <td>0</td>\n",
       "      <td>NaN</td>\n",
       "      <td>to have a wedding</td>\n",
       "    </tr>\n",
       "  </tbody>\n",
       "</table>\n",
       "</div>"
      ],
      "text/plain": [
       "      children  days_employed  dob_years            education  education_id  \\\n",
       "2849       0.0            NaN         41  secondary education             1   \n",
       "3290       0.0            NaN         58  secondary education             1   \n",
       "4182       1.0            NaN         34    bachelor's degree             0   \n",
       "4851       0.0            NaN         60  secondary education             1   \n",
       "5557       0.0            NaN         58  secondary education             1   \n",
       "\n",
       "          family_status  family_status_id gender income_type  debt  \\\n",
       "2849            married                 0      F    employee     0   \n",
       "3290  civil partnership                 1      F     retiree     0   \n",
       "4182  civil partnership                 1      F    employee     0   \n",
       "4851  civil partnership                 1      F     retiree     0   \n",
       "5557  civil partnership                 1      F     retiree     0   \n",
       "\n",
       "      total_income                              purpose  \n",
       "2849           NaN  purchase of the house for my family  \n",
       "3290           NaN                    to have a wedding  \n",
       "4182           NaN                     wedding ceremony  \n",
       "4851           NaN                     wedding ceremony  \n",
       "5557           NaN                    to have a wedding  "
      ]
     },
     "execution_count": 44,
     "metadata": {},
     "output_type": "execute_result"
    }
   ],
   "source": [
    "duplicate_rows.head(5)"
   ]
  },
  {
   "cell_type": "markdown",
   "metadata": {},
   "source": [
    "Since there are some duplicated data, it must be resolved by getting rid of it"
   ]
  },
  {
   "cell_type": "code",
   "execution_count": 45,
   "metadata": {},
   "outputs": [],
   "source": [
    "data = data.drop_duplicates()"
   ]
  },
  {
   "cell_type": "code",
   "execution_count": 48,
   "metadata": {},
   "outputs": [
    {
     "data": {
      "text/plain": [
       "0"
      ]
     },
     "execution_count": 48,
     "metadata": {},
     "output_type": "execute_result"
    }
   ],
   "source": [
    "data[data.duplicated()].shape[0]"
   ]
  },
  {
   "cell_type": "markdown",
   "metadata": {},
   "source": [
    "Do a final check to check if we have any duplicates"
   ]
  },
  {
   "cell_type": "code",
   "execution_count": 49,
   "metadata": {},
   "outputs": [
    {
     "name": "stdout",
     "output_type": "stream",
     "text": [
      "Number of duplicate data:  0\n"
     ]
    }
   ],
   "source": [
    "duplicate_rows = data[data.duplicated()]\n",
    "print(\"Number of duplicate data: \", duplicate_rows.shape[0])\n"
   ]
  },
  {
   "cell_type": "code",
   "execution_count": 50,
   "metadata": {},
   "outputs": [
    {
     "data": {
      "text/html": [
       "<div>\n",
       "<style scoped>\n",
       "    .dataframe tbody tr th:only-of-type {\n",
       "        vertical-align: middle;\n",
       "    }\n",
       "\n",
       "    .dataframe tbody tr th {\n",
       "        vertical-align: top;\n",
       "    }\n",
       "\n",
       "    .dataframe thead th {\n",
       "        text-align: right;\n",
       "    }\n",
       "</style>\n",
       "<table border=\"1\" class=\"dataframe\">\n",
       "  <thead>\n",
       "    <tr style=\"text-align: right;\">\n",
       "      <th></th>\n",
       "      <th>children</th>\n",
       "      <th>days_employed</th>\n",
       "      <th>dob_years</th>\n",
       "      <th>education</th>\n",
       "      <th>education_id</th>\n",
       "      <th>family_status</th>\n",
       "      <th>family_status_id</th>\n",
       "      <th>gender</th>\n",
       "      <th>income_type</th>\n",
       "      <th>debt</th>\n",
       "      <th>total_income</th>\n",
       "      <th>purpose</th>\n",
       "    </tr>\n",
       "  </thead>\n",
       "  <tbody>\n",
       "  </tbody>\n",
       "</table>\n",
       "</div>"
      ],
      "text/plain": [
       "Empty DataFrame\n",
       "Columns: [children, days_employed, dob_years, education, education_id, family_status, family_status_id, gender, income_type, debt, total_income, purpose]\n",
       "Index: []"
      ]
     },
     "execution_count": 50,
     "metadata": {},
     "output_type": "execute_result"
    }
   ],
   "source": [
    "duplicate_rows.head(5)"
   ]
  },
  {
   "cell_type": "markdown",
   "metadata": {},
   "source": [
    "Check the size of the dataset you now have after the first manipulation you performed"
   ]
  },
  {
   "cell_type": "code",
   "execution_count": 51,
   "metadata": {},
   "outputs": [
    {
     "data": {
      "text/plain": [
       "(21454, 12)"
      ]
     },
     "execution_count": 51,
     "metadata": {},
     "output_type": "execute_result"
    }
   ],
   "source": [
    "data.shape"
   ]
  },
  {
   "cell_type": "markdown",
   "metadata": {},
   "source": [
    "There is a lot of inconsistent data in the dataset, whether numerical or categorical. This inconsistent data has been resolved in various ways, such as replacing it with median numbers and for categorical data, the sentences have been changed to one sentence that is used again (no repetition, such as BACHELOR, bachelor, etc.). In this data, there is also some duplicate data, and this data has been resolved by 'dropping'. Even so, there is still data that is consistent and does not need to be transformed."
   ]
  },
  {
   "cell_type": "markdown",
   "metadata": {},
   "source": [
    "### Handle Missing Value"
   ]
  },
  {
   "cell_type": "code",
   "execution_count": 52,
   "metadata": {},
   "outputs": [
    {
     "data": {
      "text/plain": [
       "children             123\n",
       "days_employed       2103\n",
       "dob_years              0\n",
       "education              0\n",
       "education_id           0\n",
       "family_status          0\n",
       "family_status_id       0\n",
       "gender                 0\n",
       "income_type            0\n",
       "debt                   0\n",
       "total_income        2103\n",
       "purpose                0\n",
       "dtype: int64"
      ]
     },
     "execution_count": 52,
     "metadata": {},
     "output_type": "execute_result"
    }
   ],
   "source": [
    "data.isnull().sum()"
   ]
  },
  {
   "cell_type": "markdown",
   "metadata": {},
   "source": [
    "#### Handle `total_income` missing value"
   ]
  },
  {
   "cell_type": "markdown",
   "metadata": {},
   "source": [
    "Handle the missing value in `total_income` by age category"
   ]
  },
  {
   "cell_type": "code",
   "execution_count": 53,
   "metadata": {},
   "outputs": [],
   "source": [
    "def categorize_age(age):\n",
    "    if age < 30:\n",
    "        return \"young\"\n",
    "    elif 30 <= age <= 45:\n",
    "        return \"middle-aged\"\n",
    "    else:\n",
    "        return \"old\"\n",
    "    \n",
    "data.loc[:,'age_category'] = data['dob_years'].apply(categorize_age)"
   ]
  },
  {
   "cell_type": "markdown",
   "metadata": {},
   "source": [
    "Perform testing to see whether your function works or not"
   ]
  },
  {
   "cell_type": "code",
   "execution_count": 54,
   "metadata": {},
   "outputs": [
    {
     "data": {
      "text/plain": [
       "age_category\n",
       "old            9150\n",
       "middle-aged    9124\n",
       "young          3180\n",
       "Name: count, dtype: int64"
      ]
     },
     "execution_count": 54,
     "metadata": {},
     "output_type": "execute_result"
    }
   ],
   "source": [
    "data['age_category'].value_counts()"
   ]
  },
  {
   "cell_type": "markdown",
   "metadata": {},
   "source": [
    "Create a table with no missing values ​​and display some of its rows to make sure everything works fine"
   ]
  },
  {
   "cell_type": "code",
   "execution_count": 55,
   "metadata": {},
   "outputs": [],
   "source": [
    "data_clean = data.dropna(subset=['total_income'])"
   ]
  },
  {
   "cell_type": "markdown",
   "metadata": {},
   "source": [
    "Note the average value for income based on the factors you have identified"
   ]
  },
  {
   "cell_type": "code",
   "execution_count": 56,
   "metadata": {},
   "outputs": [
    {
     "data": {
      "text/plain": [
       "age_category\n",
       "middle-aged    28408.242913\n",
       "old            25605.151757\n",
       "young          25533.960641\n",
       "Name: total_income, dtype: float64"
      ]
     },
     "execution_count": 56,
     "metadata": {},
     "output_type": "execute_result"
    }
   ],
   "source": [
    "income_mean_by_education = data_clean.groupby('age_category')['total_income'].mean()\n",
    "income_mean_by_education"
   ]
  },
  {
   "cell_type": "markdown",
   "metadata": {},
   "source": [
    "Pay attention to the median value for income based on the factors you have identified"
   ]
  },
  {
   "cell_type": "code",
   "execution_count": 57,
   "metadata": {
    "scrolled": true
   },
   "outputs": [
    {
     "data": {
      "text/plain": [
       "age_category\n",
       "middle-aged    24687.5035\n",
       "old            22112.4450\n",
       "young          22742.6535\n",
       "Name: total_income, dtype: float64"
      ]
     },
     "execution_count": 57,
     "metadata": {},
     "output_type": "execute_result"
    }
   ],
   "source": [
    "income_median_by_income_type = data_clean.groupby('age_category')['total_income'].median()\n",
    "income_median_by_income_type"
   ]
  },
  {
   "cell_type": "markdown",
   "metadata": {},
   "source": [
    "After the median and average values ​​have been obtained, we can look at the distribution and see whether there are extreme values ​​that affect the average value. If the data distribution contains several outliers and is not evenly distributed, using the median value may be more suitable than the average value.\n",
    "\n",
    "For this case, the value will use the average value because there is no significant difference between the median and the average."
   ]
  },
  {
   "cell_type": "markdown",
   "metadata": {},
   "source": [
    "Create the function we will use to fill in the missing values"
   ]
  },
  {
   "cell_type": "code",
   "execution_count": 58,
   "metadata": {},
   "outputs": [],
   "source": [
    "def fill_missing_income(row):\n",
    "    age_category = row['age_category']\n",
    "    if age_category == 'young':\n",
    "        return 25533.96\n",
    "    elif age_category == 'middle-aged':\n",
    "        return 28408.24\n",
    "    else:\n",
    "        return 25605.15"
   ]
  },
  {
   "cell_type": "markdown",
   "metadata": {},
   "source": [
    "Apply the function to each row"
   ]
  },
  {
   "cell_type": "code",
   "execution_count": 59,
   "metadata": {},
   "outputs": [
    {
     "name": "stderr",
     "output_type": "stream",
     "text": [
      "C:\\Users\\user\\AppData\\Local\\Temp\\ipykernel_25496\\924135103.py:1: FutureWarning: A value is trying to be set on a copy of a DataFrame or Series through chained assignment using an inplace method.\n",
      "The behavior will change in pandas 3.0. This inplace method will never work because the intermediate object on which we are setting values always behaves as a copy.\n",
      "\n",
      "For example, when doing 'df[col].method(value, inplace=True)', try using 'df.method({col: value}, inplace=True)' or df[col] = df[col].method(value) instead, to perform the operation inplace on the original object.\n",
      "\n",
      "\n",
      "  data['total_income'].fillna(data.apply(fill_missing_income, axis=1), inplace=True)\n"
     ]
    }
   ],
   "source": [
    "data['total_income'].fillna(data.apply(fill_missing_income, axis=1), inplace=True)"
   ]
  },
  {
   "cell_type": "markdown",
   "metadata": {},
   "source": [
    "Check if we get any errors"
   ]
  },
  {
   "cell_type": "code",
   "execution_count": 60,
   "metadata": {},
   "outputs": [
    {
     "name": "stdout",
     "output_type": "stream",
     "text": [
      "Number of lost values after filling: 0\n"
     ]
    }
   ],
   "source": [
    "print(\"Number of lost values after filling:\", data['total_income'].isnull().sum())"
   ]
  },
  {
   "cell_type": "code",
   "execution_count": 61,
   "metadata": {},
   "outputs": [
    {
     "data": {
      "text/plain": [
       "children             123\n",
       "days_employed       2103\n",
       "dob_years              0\n",
       "education              0\n",
       "education_id           0\n",
       "family_status          0\n",
       "family_status_id       0\n",
       "gender                 0\n",
       "income_type            0\n",
       "debt                   0\n",
       "total_income           0\n",
       "purpose                0\n",
       "age_category           0\n",
       "dtype: int64"
      ]
     },
     "execution_count": 61,
     "metadata": {},
     "output_type": "execute_result"
    }
   ],
   "source": [
    "data.isnull().sum()"
   ]
  },
  {
   "cell_type": "markdown",
   "metadata": {},
   "source": [
    "#### Handle `days_employed` missing value"
   ]
  },
  {
   "cell_type": "markdown",
   "metadata": {},
   "source": [
    "Median distribution of `days_employed` based on the parameters you identified"
   ]
  },
  {
   "cell_type": "code",
   "execution_count": 62,
   "metadata": {
    "pycharm": {
     "name": "#%%\n"
    }
   },
   "outputs": [
    {
     "data": {
      "text/plain": [
       "income_type\n",
       "business                         1547.382223\n",
       "civil servant                    2689.368353\n",
       "employee                         1574.202821\n",
       "entrepreneur                      520.848083\n",
       "paternity / maternity leave      3296.759962\n",
       "retiree                        365213.306266\n",
       "student                           578.751554\n",
       "unemployed                     366413.652744\n",
       "Name: days_employed, dtype: float64"
      ]
     },
     "execution_count": 62,
     "metadata": {},
     "output_type": "execute_result"
    }
   ],
   "source": [
    "median_days_employed_by_income_type = data.groupby('income_type')['days_employed'].median()\n",
    "median_days_employed_by_income_type"
   ]
  },
  {
   "cell_type": "markdown",
   "metadata": {},
   "source": [
    "Average distribution of `days_employed` based on the parameters you identified"
   ]
  },
  {
   "cell_type": "code",
   "execution_count": 63,
   "metadata": {},
   "outputs": [
    {
     "data": {
      "text/plain": [
       "income_type\n",
       "business                         2111.524398\n",
       "civil servant                    3399.896902\n",
       "employee                         2326.499216\n",
       "entrepreneur                      520.848083\n",
       "paternity / maternity leave      3296.759962\n",
       "retiree                        365003.491245\n",
       "student                           578.751554\n",
       "unemployed                     366413.652744\n",
       "Name: days_employed, dtype: float64"
      ]
     },
     "execution_count": 63,
     "metadata": {},
     "output_type": "execute_result"
    }
   ],
   "source": [
    "mean_days_employed_by_income_type = data.groupby('income_type')['days_employed'].mean()\n",
    "mean_days_employed_by_income_type"
   ]
  },
  {
   "cell_type": "markdown",
   "metadata": {},
   "source": [
    "For this case, missing data will use the median value. This is because there are extreme values ​​in the retiree category and these values ​​will significantly influence the average value. Hence we write a function that calculates the median based on the identified parameters."
   ]
  },
  {
   "cell_type": "code",
   "execution_count": 64,
   "metadata": {},
   "outputs": [],
   "source": [
    "def fill_missing_days_employed(df):\n",
    "    median_days_employed = df.groupby('income_type')['days_employed'].median()\n",
    "\n",
    "    def fill_median_by_income_type(row):\n",
    "            if pd.isnull(row['days_employed']):\n",
    "                return median_days_employed[row['income_type']]\n",
    "            return row['days_employed']\n",
    "    \n",
    "    df['days_employed'] = df.apply(fill_median_by_income_type, axis=1)\n",
    "\n",
    "    return df"
   ]
  },
  {
   "cell_type": "code",
   "execution_count": 65,
   "metadata": {},
   "outputs": [],
   "source": [
    "data = fill_missing_days_employed(data)"
   ]
  },
  {
   "cell_type": "code",
   "execution_count": 66,
   "metadata": {},
   "outputs": [
    {
     "data": {
      "text/plain": [
       "children            123\n",
       "days_employed         0\n",
       "dob_years             0\n",
       "education             0\n",
       "education_id          0\n",
       "family_status         0\n",
       "family_status_id      0\n",
       "gender                0\n",
       "income_type           0\n",
       "debt                  0\n",
       "total_income          0\n",
       "purpose               0\n",
       "age_category          0\n",
       "dtype: int64"
      ]
     },
     "execution_count": 66,
     "metadata": {},
     "output_type": "execute_result"
    }
   ],
   "source": [
    "data.isnull().sum()"
   ]
  },
  {
   "cell_type": "markdown",
   "metadata": {},
   "source": [
    "#### Handle `children` missing value"
   ]
  },
  {
   "cell_type": "code",
   "execution_count": 67,
   "metadata": {},
   "outputs": [
    {
     "data": {
      "text/plain": [
       "array([ 1.,  0.,  3.,  2., nan,  4.,  5.])"
      ]
     },
     "execution_count": 67,
     "metadata": {},
     "output_type": "execute_result"
    }
   ],
   "source": [
    "data['children'].unique()"
   ]
  },
  {
   "cell_type": "code",
   "execution_count": 68,
   "metadata": {},
   "outputs": [],
   "source": [
    "data['children'] = data['children'].fillna(0)"
   ]
  },
  {
   "cell_type": "code",
   "execution_count": 69,
   "metadata": {},
   "outputs": [
    {
     "data": {
      "text/plain": [
       "children            0\n",
       "days_employed       0\n",
       "dob_years           0\n",
       "education           0\n",
       "education_id        0\n",
       "family_status       0\n",
       "family_status_id    0\n",
       "gender              0\n",
       "income_type         0\n",
       "debt                0\n",
       "total_income        0\n",
       "purpose             0\n",
       "age_category        0\n",
       "dtype: int64"
      ]
     },
     "execution_count": 69,
     "metadata": {},
     "output_type": "execute_result"
    }
   ],
   "source": [
    "data.isnull().sum()"
   ]
  },
  {
   "cell_type": "markdown",
   "metadata": {},
   "source": [
    "## Data categorization\n",
    "\n",
    "In the data categorization section, it will be categorized data based on `purpose`, `dob_years`, `income_type`, `debt`, `total_income`.\n",
    "\n",
    "`purpose`: to find out what the customer's purpose is in applying for a loan\n",
    "\n",
    "`dob_years`: current customer age\n",
    "\n",
    "`income_type`: income type from work\n",
    "\n",
    "`debt`: whether the customer has any ongoing debt\n",
    "\n",
    "`total_income`: the amount of income received by the customer."
   ]
  },
  {
   "cell_type": "code",
   "execution_count": 70,
   "metadata": {},
   "outputs": [
    {
     "data": {
      "text/plain": [
       "array([42, 36, 33, 32, 53, 27, 43, 50, 35, 41, 40, 65, 54, 56, 26, 48, 24,\n",
       "       21, 57, 67, 28, 63, 62, 47, 34, 68, 25, 31, 30, 20, 49, 37, 45, 61,\n",
       "       64, 44, 52, 46, 23, 38, 39, 51, 59, 29, 60, 55, 58, 71, 22, 73, 66,\n",
       "       69, 19, 72, 70, 74, 75], dtype=int64)"
      ]
     },
     "execution_count": 70,
     "metadata": {},
     "output_type": "execute_result"
    }
   ],
   "source": [
    "data['dob_years'].unique()"
   ]
  },
  {
   "cell_type": "code",
   "execution_count": 71,
   "metadata": {},
   "outputs": [
    {
     "data": {
      "text/plain": [
       "array(['employee', 'retiree', 'business', 'civil servant', 'unemployed',\n",
       "       'entrepreneur', 'student', 'paternity / maternity leave'],\n",
       "      dtype=object)"
      ]
     },
     "execution_count": 71,
     "metadata": {},
     "output_type": "execute_result"
    }
   ],
   "source": [
    "data['income_type'].unique()"
   ]
  },
  {
   "cell_type": "code",
   "execution_count": 72,
   "metadata": {},
   "outputs": [
    {
     "data": {
      "text/plain": [
       "array([0, 1], dtype=int64)"
      ]
     },
     "execution_count": 72,
     "metadata": {},
     "output_type": "execute_result"
    }
   ],
   "source": [
    "data['debt'].unique()"
   ]
  },
  {
   "cell_type": "code",
   "execution_count": 73,
   "metadata": {},
   "outputs": [
    {
     "data": {
      "text/plain": [
       "array([40620.102, 17932.802, 23341.752, ..., 14347.61 , 39054.888,\n",
       "       13127.587])"
      ]
     },
     "execution_count": 73,
     "metadata": {},
     "output_type": "execute_result"
    }
   ],
   "source": [
    "data['total_income'].unique()"
   ]
  },
  {
   "cell_type": "code",
   "execution_count": 74,
   "metadata": {},
   "outputs": [
    {
     "data": {
      "text/plain": [
       "array(['purchase of the house', 'car purchase', 'supplementary education',\n",
       "       'to have a wedding', 'housing transactions', 'education',\n",
       "       'having a wedding', 'purchase of the house for my family',\n",
       "       'buy real estate', 'buy commercial real estate',\n",
       "       'buy residential real estate', 'construction of own property',\n",
       "       'property', 'building a property', 'buying a second-hand car',\n",
       "       'buying my own car', 'transactions with commercial real estate',\n",
       "       'building a real estate', 'housing',\n",
       "       'transactions with my real estate', 'cars', 'to become educated',\n",
       "       'second-hand car purchase', 'getting an education', 'car',\n",
       "       'wedding ceremony', 'to get a supplementary education',\n",
       "       'purchase of my own house', 'real estate transactions',\n",
       "       'getting higher education', 'to own a car', 'purchase of a car',\n",
       "       'profile education', 'university education',\n",
       "       'buying property for renting out', 'to buy a car',\n",
       "       'housing renovation', 'going to university'], dtype=object)"
      ]
     },
     "execution_count": 74,
     "metadata": {},
     "output_type": "execute_result"
    }
   ],
   "source": [
    "data['purpose'].unique()"
   ]
  },
  {
   "cell_type": "markdown",
   "metadata": {},
   "source": [
    "Grouping process by creating a function for the categorization based on general topics"
   ]
  },
  {
   "cell_type": "code",
   "execution_count": 75,
   "metadata": {},
   "outputs": [],
   "source": [
    "def categorize_data(row):\n",
    "    age = row['dob_years']\n",
    "    purpose = row['purpose']\n",
    "    income_type = row['income_type']\n",
    "    debt = row['debt']\n",
    "    \n",
    "    # Age Category\n",
    "    if age < 35:\n",
    "        return 'Young'\n",
    "    elif age >= 35 and age <= 55:\n",
    "        return 'Middle-aged'\n",
    "    else:\n",
    "        return 'Old'\n",
    "    \n",
    "    # Loan Purpose Category\n",
    "    if 'properti' in purpose or 'real estate' in purpose:\n",
    "        return 'Property'\n",
    "    elif 'education' in purpose:\n",
    "        return 'Education'\n",
    "    elif 'car' in purpose:\n",
    "        return 'Car'\n",
    "    elif 'wedding' in purpose:\n",
    "        return 'Wedding'\n",
    "    else:\n",
    "        return 'Others'\n",
    "    \n",
    "    # Income Type Category\n",
    "    if income_type == 'employee':\n",
    "        return 'Employee'\n",
    "    elif income_type == 'retiree':\n",
    "        return 'Retiree'\n",
    "    elif income_type == 'business':\n",
    "        return 'Business'\n",
    "    elif income_type == 'civil servant':\n",
    "        return 'Civil servant'\n",
    "    elif income_type == 'unemployed':\n",
    "        return 'Unemployed'\n",
    "    elif income_type == 'entrepreneur':\n",
    "        return 'Entrepreneur'\n",
    "    elif income_type == 'student':\n",
    "        return 'Student'\n",
    "    elif income_type == 'paternity / maternity leave':\n",
    "        return 'Maternity Leave/Paternity Leave'\n",
    "    \n",
    "    # Risk Category\n",
    "\n",
    "    if income_type == 'employee':\n",
    "        if debt == 0:\n",
    "            return 'Low'\n",
    "        else:\n",
    "            return 'Middle'\n",
    "    else:\n",
    "        return 'High'"
   ]
  },
  {
   "cell_type": "markdown",
   "metadata": {},
   "source": [
    "Create a column containing categories and calculate the values"
   ]
  },
  {
   "cell_type": "code",
   "execution_count": 76,
   "metadata": {},
   "outputs": [],
   "source": [
    "data['category'] = data.apply(categorize_data, axis = 1)"
   ]
  },
  {
   "cell_type": "markdown",
   "metadata": {},
   "source": [
    "View all numeric data in the selected column for categorization"
   ]
  },
  {
   "cell_type": "code",
   "execution_count": 78,
   "metadata": {},
   "outputs": [],
   "source": [
    "numeric_data_dob_years = data['dob_years']\n",
    "\n",
    "statistics_dob_years = numeric_data_dob_years.describe()\n",
    "\n",
    "numeric_data_debt = data['debt']\n",
    "\n",
    "statistics_debt = numeric_data_debt.describe()\n",
    "\n",
    "numeric_data_total_income = data['total_income']\n",
    "\n",
    "statistics_total_income = numeric_data_total_income.describe()"
   ]
  },
  {
   "cell_type": "markdown",
   "metadata": {},
   "source": [
    "Get a statistical conclusion for the column"
   ]
  },
  {
   "cell_type": "code",
   "execution_count": 79,
   "metadata": {},
   "outputs": [
    {
     "name": "stdout",
     "output_type": "stream",
     "text": [
      "Statistical Conclusion for Column 'dob_years':\n"
     ]
    },
    {
     "data": {
      "text/plain": [
       "count    21454.000000\n",
       "mean        43.473665\n",
       "std         12.213507\n",
       "min         19.000000\n",
       "25%         33.000000\n",
       "50%         43.000000\n",
       "75%         53.000000\n",
       "max         75.000000\n",
       "Name: dob_years, dtype: float64"
      ]
     },
     "execution_count": 79,
     "metadata": {},
     "output_type": "execute_result"
    }
   ],
   "source": [
    "print(\"Statistical Conclusion for Column 'dob_years':\")\n",
    "statistics_dob_years"
   ]
  },
  {
   "cell_type": "code",
   "execution_count": 80,
   "metadata": {},
   "outputs": [
    {
     "name": "stdout",
     "output_type": "stream",
     "text": [
      "Statistical Conclusion for Column 'debt':\n"
     ]
    },
    {
     "data": {
      "text/plain": [
       "count    21454.000000\n",
       "mean         0.081150\n",
       "std          0.273072\n",
       "min          0.000000\n",
       "25%          0.000000\n",
       "50%          0.000000\n",
       "75%          0.000000\n",
       "max          1.000000\n",
       "Name: debt, dtype: float64"
      ]
     },
     "execution_count": 80,
     "metadata": {},
     "output_type": "execute_result"
    }
   ],
   "source": [
    "print(\"Statistical Conclusion for Column 'debt':\")\n",
    "statistics_debt"
   ]
  },
  {
   "cell_type": "code",
   "execution_count": 82,
   "metadata": {},
   "outputs": [
    {
     "name": "stdout",
     "output_type": "stream",
     "text": [
      "Statistical Conclusion for Column 'total_income':\n"
     ]
    },
    {
     "data": {
      "text/plain": [
       "count     21454.000000\n",
       "mean      26786.703522\n",
       "std       15653.176537\n",
       "min        3306.762000\n",
       "25%       17219.817250\n",
       "50%       24967.101500\n",
       "75%       31330.237250\n",
       "max      362496.645000\n",
       "Name: total_income, dtype: float64"
      ]
     },
     "execution_count": 82,
     "metadata": {},
     "output_type": "execute_result"
    }
   ],
   "source": [
    "print(\"Statistical Conclusion for Column 'total_income':\")\n",
    "statistics_total_income"
   ]
  },
  {
   "cell_type": "markdown",
   "metadata": {},
   "source": [
    "## Hypothesis Testing"
   ]
  },
  {
   "cell_type": "markdown",
   "metadata": {},
   "source": [
    "### Hypothesis 1: Is there a correlation between having children and the probability of defaulting on a loan?"
   ]
  },
  {
   "cell_type": "code",
   "execution_count": 83,
   "metadata": {},
   "outputs": [],
   "source": [
    "total_customers_by_children = data.groupby('children')['children'].count()\n",
    "\n",
    "customers_with_debt_by_children = data.groupby('children')['debt'].sum()\n",
    "\n",
    "children_debt_data = pd.concat([total_customers_by_children, customers_with_debt_by_children], axis=1)\n",
    "children_debt_data.columns = ['Total Customers', 'Customers with Debt']"
   ]
  },
  {
   "cell_type": "code",
   "execution_count": 84,
   "metadata": {},
   "outputs": [
    {
     "data": {
      "text/html": [
       "<div>\n",
       "<style scoped>\n",
       "    .dataframe tbody tr th:only-of-type {\n",
       "        vertical-align: middle;\n",
       "    }\n",
       "\n",
       "    .dataframe tbody tr th {\n",
       "        vertical-align: top;\n",
       "    }\n",
       "\n",
       "    .dataframe thead th {\n",
       "        text-align: right;\n",
       "    }\n",
       "</style>\n",
       "<table border=\"1\" class=\"dataframe\">\n",
       "  <thead>\n",
       "    <tr style=\"text-align: right;\">\n",
       "      <th></th>\n",
       "      <th>Total Customers</th>\n",
       "      <th>Customers with Debt</th>\n",
       "      <th>Debt Percentage</th>\n",
       "    </tr>\n",
       "    <tr>\n",
       "      <th>children</th>\n",
       "      <th></th>\n",
       "      <th></th>\n",
       "      <th></th>\n",
       "    </tr>\n",
       "  </thead>\n",
       "  <tbody>\n",
       "    <tr>\n",
       "      <th>0.0</th>\n",
       "      <td>14214</td>\n",
       "      <td>1072</td>\n",
       "      <td>7.541860</td>\n",
       "    </tr>\n",
       "    <tr>\n",
       "      <th>1.0</th>\n",
       "      <td>4808</td>\n",
       "      <td>444</td>\n",
       "      <td>9.234609</td>\n",
       "    </tr>\n",
       "    <tr>\n",
       "      <th>2.0</th>\n",
       "      <td>2052</td>\n",
       "      <td>194</td>\n",
       "      <td>9.454191</td>\n",
       "    </tr>\n",
       "    <tr>\n",
       "      <th>3.0</th>\n",
       "      <td>330</td>\n",
       "      <td>27</td>\n",
       "      <td>8.181818</td>\n",
       "    </tr>\n",
       "    <tr>\n",
       "      <th>4.0</th>\n",
       "      <td>41</td>\n",
       "      <td>4</td>\n",
       "      <td>9.756098</td>\n",
       "    </tr>\n",
       "    <tr>\n",
       "      <th>5.0</th>\n",
       "      <td>9</td>\n",
       "      <td>0</td>\n",
       "      <td>0.000000</td>\n",
       "    </tr>\n",
       "  </tbody>\n",
       "</table>\n",
       "</div>"
      ],
      "text/plain": [
       "          Total Customers  Customers with Debt  Debt Percentage\n",
       "children                                                       \n",
       "0.0                 14214                 1072         7.541860\n",
       "1.0                  4808                  444         9.234609\n",
       "2.0                  2052                  194         9.454191\n",
       "3.0                   330                   27         8.181818\n",
       "4.0                    41                    4         9.756098\n",
       "5.0                     9                    0         0.000000"
      ]
     },
     "execution_count": 84,
     "metadata": {},
     "output_type": "execute_result"
    }
   ],
   "source": [
    "children_debt_data['Debt Percentage'] = (children_debt_data['Customers with Debt'] / children_debt_data['Total Customers']) * 100\n",
    "\n",
    "children_debt_data"
   ]
  },
  {
   "cell_type": "markdown",
   "metadata": {},
   "source": [
    "From the analysis above, the smallest percentage is held by people who do not have children with a value of 7.54%, followed by people who have 3 children with a percentage of 8.18%. The analysis above can also be seen that the trend is that people who have a large number of children tend to default on loans at a higher rate than people who have no children or with fewer children. Although it must be underlined that the difference in percentage is not very significant."
   ]
  },
  {
   "cell_type": "markdown",
   "metadata": {},
   "source": [
    "### Hypothesis 2: Is there a correlation between family status and the probability of defaulting on a loan"
   ]
  },
  {
   "cell_type": "code",
   "execution_count": 85,
   "metadata": {},
   "outputs": [],
   "source": [
    "family_debt_percentage = data.groupby('family_status')['debt'].mean().reset_index()"
   ]
  },
  {
   "cell_type": "code",
   "execution_count": 86,
   "metadata": {},
   "outputs": [
    {
     "data": {
      "text/html": [
       "<div>\n",
       "<style scoped>\n",
       "    .dataframe tbody tr th:only-of-type {\n",
       "        vertical-align: middle;\n",
       "    }\n",
       "\n",
       "    .dataframe tbody tr th {\n",
       "        vertical-align: top;\n",
       "    }\n",
       "\n",
       "    .dataframe thead th {\n",
       "        text-align: right;\n",
       "    }\n",
       "</style>\n",
       "<table border=\"1\" class=\"dataframe\">\n",
       "  <thead>\n",
       "    <tr style=\"text-align: right;\">\n",
       "      <th></th>\n",
       "      <th>family_status</th>\n",
       "      <th>debt</th>\n",
       "    </tr>\n",
       "  </thead>\n",
       "  <tbody>\n",
       "    <tr>\n",
       "      <th>0</th>\n",
       "      <td>civil partnership</td>\n",
       "      <td>9.347145</td>\n",
       "    </tr>\n",
       "    <tr>\n",
       "      <th>1</th>\n",
       "      <td>divorced</td>\n",
       "      <td>7.112971</td>\n",
       "    </tr>\n",
       "    <tr>\n",
       "      <th>2</th>\n",
       "      <td>married</td>\n",
       "      <td>7.545182</td>\n",
       "    </tr>\n",
       "    <tr>\n",
       "      <th>3</th>\n",
       "      <td>unmarried</td>\n",
       "      <td>9.750890</td>\n",
       "    </tr>\n",
       "    <tr>\n",
       "      <th>4</th>\n",
       "      <td>widow / widower</td>\n",
       "      <td>6.569343</td>\n",
       "    </tr>\n",
       "  </tbody>\n",
       "</table>\n",
       "</div>"
      ],
      "text/plain": [
       "       family_status      debt\n",
       "0  civil partnership  9.347145\n",
       "1           divorced  7.112971\n",
       "2            married  7.545182\n",
       "3          unmarried  9.750890\n",
       "4    widow / widower  6.569343"
      ]
     },
     "execution_count": 86,
     "metadata": {},
     "output_type": "execute_result"
    }
   ],
   "source": [
    "family_debt_percentage['debt'] = family_debt_percentage['debt'] * 100\n",
    "\n",
    "family_debt_percentage"
   ]
  },
  {
   "cell_type": "markdown",
   "metadata": {},
   "source": [
    "From the analysis above, people who hold the status of \"unmarried\" and \"civil partnership\" have a higher failure percentage with figures of 9.75% and 9.35% respectively. For people who hold the \"widow/widower\" status, the default percentage is lower at 6.57%. People who hold the status \"divorced\" and \"married\" have a relatively low failure percentage with figures of 7.11% and 7.545%. Family status in this analysis may influence the probability of loan default, but other factors also need to be considered to get more accurate results."
   ]
  },
  {
   "cell_type": "markdown",
   "metadata": {},
   "source": [
    "### Hypothesis 3: Is there a correlation between income level and the probability of defaulting on a loan?"
   ]
  },
  {
   "cell_type": "code",
   "execution_count": 87,
   "metadata": {},
   "outputs": [
    {
     "data": {
      "text/plain": [
       "[3306.762,\n",
       " 3392.845,\n",
       " 3418.824,\n",
       " 3471.216,\n",
       " 3503.298,\n",
       " 3595.641,\n",
       " 3815.153,\n",
       " 3913.227,\n",
       " 4036.463,\n",
       " 4049.374,\n",
       " 4212.77,\n",
       " 4245.348,\n",
       " 4386.4,\n",
       " 4444.179,\n",
       " 4465.254,\n",
       " 4494.861,\n",
       " 4592.45,\n",
       " 4650.812,\n",
       " 4664.644,\n",
       " 4672.012,\n",
       " 4708.271,\n",
       " 4759.97,\n",
       " 4812.103,\n",
       " 4818.545999999999,\n",
       " 4860.001,\n",
       " 4919.749,\n",
       " 5002.295,\n",
       " 5028.623,\n",
       " 5029.439,\n",
       " 5037.321,\n",
       " 5045.56,\n",
       " 5053.838,\n",
       " 5090.55,\n",
       " 5112.186,\n",
       " 5137.573,\n",
       " 5148.514,\n",
       " 5167.9940000000015,\n",
       " 5168.082,\n",
       " 5172.669,\n",
       " 5195.285,\n",
       " 5208.353,\n",
       " 5217.0340000000015,\n",
       " 5220.544,\n",
       " 5259.254,\n",
       " 5274.611,\n",
       " 5288.165,\n",
       " 5290.465,\n",
       " 5330.769,\n",
       " 5331.621,\n",
       " 5335.014,\n",
       " 5402.85,\n",
       " 5409.738,\n",
       " 5430.683000000001,\n",
       " 5443.908,\n",
       " 5452.4940000000015,\n",
       " 5461.996,\n",
       " 5464.092,\n",
       " 5478.583000000001,\n",
       " 5490.018,\n",
       " 5496.834,\n",
       " 5514.581,\n",
       " 5515.539000000002,\n",
       " 5529.334,\n",
       " 5531.2040000000015,\n",
       " 5562.874,\n",
       " 5577.521,\n",
       " 5579.965,\n",
       " 5591.44,\n",
       " 5595.911999999998,\n",
       " 5604.991999999998,\n",
       " 5622.0790000000015,\n",
       " 5630.865,\n",
       " 5639.846,\n",
       " 5651.584,\n",
       " 5703.853,\n",
       " 5768.392,\n",
       " 5772.8780000000015,\n",
       " 5801.651,\n",
       " 5803.271,\n",
       " 5820.374,\n",
       " 5826.733,\n",
       " 5831.255,\n",
       " 5837.099,\n",
       " 5863.853,\n",
       " 5876.366999999998,\n",
       " 5885.856,\n",
       " 5905.745,\n",
       " 5968.521,\n",
       " 5979.176,\n",
       " 5982.694,\n",
       " 6017.603,\n",
       " 6023.274,\n",
       " 6027.214,\n",
       " 6029.458000000001,\n",
       " 6037.916,\n",
       " 6042.769,\n",
       " 6066.085,\n",
       " 6067.147,\n",
       " 6067.397,\n",
       " 6124.012,\n",
       " 6141.791,\n",
       " 6157.545999999999,\n",
       " 6167.401,\n",
       " 6183.627,\n",
       " 6185.945,\n",
       " 6187.263000000001,\n",
       " 6208.323,\n",
       " 6227.21,\n",
       " 6239.686,\n",
       " 6242.321,\n",
       " 6253.313,\n",
       " 6257.265,\n",
       " 6261.519,\n",
       " 6264.531999999998,\n",
       " 6264.665,\n",
       " 6286.894,\n",
       " 6290.377,\n",
       " 6295.399,\n",
       " 6301.408,\n",
       " 6305.036999999998,\n",
       " 6316.23,\n",
       " 6322.163000000001,\n",
       " 6330.524,\n",
       " 6354.569,\n",
       " 6369.195,\n",
       " 6420.49,\n",
       " 6427.379,\n",
       " 6431.765,\n",
       " 6434.8690000000015,\n",
       " 6442.342,\n",
       " 6487.946,\n",
       " 6514.588000000002,\n",
       " 6528.385,\n",
       " 6537.880999999999,\n",
       " 6542.581,\n",
       " 6548.851,\n",
       " 6550.432,\n",
       " 6557.178000000001,\n",
       " 6564.906,\n",
       " 6567.414000000002,\n",
       " 6574.414000000002,\n",
       " 6593.551,\n",
       " 6604.913000000001,\n",
       " 6605.21,\n",
       " 6611.845,\n",
       " 6625.892,\n",
       " 6634.772,\n",
       " 6637.729,\n",
       " 6646.607,\n",
       " 6649.353,\n",
       " 6666.741,\n",
       " 6689.661,\n",
       " 6701.803000000001,\n",
       " 6703.261,\n",
       " 6704.075,\n",
       " 6709.151,\n",
       " 6730.584,\n",
       " 6731.343000000002,\n",
       " 6734.609,\n",
       " 6744.18,\n",
       " 6747.052,\n",
       " 6751.776999999999,\n",
       " 6753.853,\n",
       " 6754.893,\n",
       " 6757.274,\n",
       " 6764.879,\n",
       " 6766.734,\n",
       " 6770.851,\n",
       " 6771.186,\n",
       " 6774.802,\n",
       " 6789.2930000000015,\n",
       " 6825.629,\n",
       " 6832.725,\n",
       " 6844.451999999998,\n",
       " 6845.201,\n",
       " 6851.051,\n",
       " 6857.654,\n",
       " 6857.978,\n",
       " 6858.682,\n",
       " 6866.453,\n",
       " 6868.19,\n",
       " 6868.368,\n",
       " 6886.538000000001,\n",
       " 6890.73,\n",
       " 6900.637,\n",
       " 6904.632,\n",
       " 6906.651,\n",
       " 6930.52,\n",
       " 6931.656999999998,\n",
       " 6945.621999999999,\n",
       " 6961.438,\n",
       " 6961.638000000001,\n",
       " 6966.223000000001,\n",
       " 6975.773,\n",
       " 6994.401,\n",
       " 6995.833000000001,\n",
       " 7005.825,\n",
       " 7028.751,\n",
       " 7034.877,\n",
       " 7073.155,\n",
       " 7077.915,\n",
       " 7086.267,\n",
       " 7105.919,\n",
       " 7117.498000000001,\n",
       " 7132.445,\n",
       " 7134.689,\n",
       " 7151.145,\n",
       " 7151.297,\n",
       " 7154.823,\n",
       " 7155.03,\n",
       " 7157.482,\n",
       " 7162.598000000001,\n",
       " 7175.371,\n",
       " 7180.439,\n",
       " 7191.755,\n",
       " 7197.573,\n",
       " 7199.874,\n",
       " 7205.312,\n",
       " 7214.326999999998,\n",
       " 7225.524,\n",
       " 7227.155,\n",
       " 7240.0059999999985,\n",
       " 7240.223000000001,\n",
       " 7241.453,\n",
       " 7259.2440000000015,\n",
       " 7264.550999999998,\n",
       " 7265.278,\n",
       " 7272.395,\n",
       " 7277.896,\n",
       " 7286.736999999999,\n",
       " 7292.9090000000015,\n",
       " 7304.674,\n",
       " 7323.363,\n",
       " 7327.981,\n",
       " 7334.035,\n",
       " 7341.274,\n",
       " 7349.507,\n",
       " 7365.89,\n",
       " 7366.366999999998,\n",
       " 7375.78,\n",
       " 7383.236,\n",
       " 7388.226,\n",
       " 7391.353,\n",
       " 7399.364,\n",
       " 7402.649,\n",
       " 7404.766,\n",
       " 7415.092,\n",
       " 7422.205,\n",
       " 7433.092,\n",
       " 7434.175999999998,\n",
       " 7435.709,\n",
       " 7441.7959999999985,\n",
       " 7451.482,\n",
       " 7453.63,\n",
       " 7472.661999999998,\n",
       " 7482.1190000000015,\n",
       " 7488.858,\n",
       " 7520.864,\n",
       " 7540.3409999999985,\n",
       " 7547.183000000001,\n",
       " 7548.861999999999,\n",
       " 7548.964,\n",
       " 7561.809,\n",
       " 7565.268,\n",
       " 7572.936,\n",
       " 7578.588000000002,\n",
       " 7580.581,\n",
       " 7581.018,\n",
       " 7582.23,\n",
       " 7583.27,\n",
       " 7586.471,\n",
       " 7586.866,\n",
       " 7593.276999999999,\n",
       " 7597.196,\n",
       " 7599.559,\n",
       " 7605.863,\n",
       " 7615.566,\n",
       " 7625.653,\n",
       " 7632.026999999999,\n",
       " 7642.623,\n",
       " 7644.045,\n",
       " 7646.149,\n",
       " 7651.768,\n",
       " 7656.482,\n",
       " 7659.414000000002,\n",
       " 7660.710999999998,\n",
       " 7660.946999999999,\n",
       " 7681.2559999999985,\n",
       " 7683.118,\n",
       " 7685.186,\n",
       " 7697.143,\n",
       " 7697.661,\n",
       " 7698.01,\n",
       " 7710.874,\n",
       " 7712.028,\n",
       " 7718.29,\n",
       " 7718.772,\n",
       " 7725.831,\n",
       " 7727.371,\n",
       " 7727.476,\n",
       " 7735.389,\n",
       " 7737.235,\n",
       " 7740.834,\n",
       " 7745.574,\n",
       " 7754.358,\n",
       " 7755.578,\n",
       " 7757.068,\n",
       " 7764.299,\n",
       " 7764.336999999998,\n",
       " 7766.383000000002,\n",
       " 7771.774,\n",
       " 7772.395,\n",
       " 7773.486999999999,\n",
       " 7777.42,\n",
       " 7780.778,\n",
       " 7782.166999999998,\n",
       " 7787.566,\n",
       " 7789.81,\n",
       " 7797.513000000001,\n",
       " 7798.248,\n",
       " 7799.196,\n",
       " 7803.663,\n",
       " 7812.005,\n",
       " 7822.828,\n",
       " 7826.522,\n",
       " 7828.0030000000015,\n",
       " 7829.433000000001,\n",
       " 7833.555,\n",
       " 7833.795,\n",
       " 7836.017,\n",
       " 7840.161,\n",
       " 7844.7159999999985,\n",
       " 7845.451999999998,\n",
       " 7850.343000000002,\n",
       " 7853.161999999998,\n",
       " 7855.54,\n",
       " 7860.81,\n",
       " 7862.656,\n",
       " 7863.603,\n",
       " 7874.9659999999985,\n",
       " 7876.010999999998,\n",
       " 7882.236999999999,\n",
       " 7882.948,\n",
       " 7888.85,\n",
       " 7890.931,\n",
       " 7894.071,\n",
       " 7895.78,\n",
       " 7897.656,\n",
       " 7907.044,\n",
       " 7910.731,\n",
       " 7914.227,\n",
       " 7914.873,\n",
       " 7925.919,\n",
       " 7926.2559999999985,\n",
       " 7941.232,\n",
       " 7941.472,\n",
       " 7943.741999999998,\n",
       " 7947.001999999998,\n",
       " 7948.4659999999985,\n",
       " 7958.201,\n",
       " 7958.536,\n",
       " 7958.852,\n",
       " 7968.343000000002,\n",
       " 7968.848000000001,\n",
       " 7973.876999999998,\n",
       " 7978.384,\n",
       " 7979.6190000000015,\n",
       " 7982.215,\n",
       " 7988.785,\n",
       " 7996.8780000000015,\n",
       " 7997.883000000002,\n",
       " 7999.371,\n",
       " 8004.154,\n",
       " 8015.655,\n",
       " 8021.723000000001,\n",
       " 8023.875,\n",
       " 8025.727,\n",
       " 8030.755,\n",
       " 8036.927,\n",
       " 8042.76,\n",
       " 8054.156999999998,\n",
       " 8064.835,\n",
       " 8072.144,\n",
       " 8072.196999999999,\n",
       " 8072.573,\n",
       " 8074.093000000002,\n",
       " 8074.979,\n",
       " 8083.467,\n",
       " 8087.795,\n",
       " 8093.481,\n",
       " 8094.861,\n",
       " 8098.985,\n",
       " 8107.303000000001,\n",
       " 8112.177,\n",
       " 8121.52,\n",
       " 8126.783,\n",
       " 8128.550999999998,\n",
       " 8129.411,\n",
       " 8134.4209999999985,\n",
       " 8136.0340000000015,\n",
       " 8136.258000000002,\n",
       " 8136.274,\n",
       " 8140.71,\n",
       " 8153.959,\n",
       " 8154.029,\n",
       " 8155.094,\n",
       " 8157.6280000000015,\n",
       " 8159.172,\n",
       " 8160.416,\n",
       " 8162.357,\n",
       " 8163.589,\n",
       " 8168.094,\n",
       " 8168.392,\n",
       " 8172.688,\n",
       " 8178.799,\n",
       " 8182.9090000000015,\n",
       " 8184.071999999999,\n",
       " 8186.023,\n",
       " 8189.61,\n",
       " 8190.53,\n",
       " 8196.335,\n",
       " 8198.235,\n",
       " 8198.739,\n",
       " 8199.59,\n",
       " 8203.737,\n",
       " 8207.823,\n",
       " 8209.097,\n",
       " 8214.076,\n",
       " 8229.904,\n",
       " 8231.177,\n",
       " 8231.966,\n",
       " 8232.164,\n",
       " 8234.199,\n",
       " 8237.966,\n",
       " 8243.363000000001,\n",
       " 8243.728000000001,\n",
       " 8255.157,\n",
       " 8255.81,\n",
       " 8259.862,\n",
       " 8274.47,\n",
       " 8279.112,\n",
       " 8282.714,\n",
       " 8293.454,\n",
       " 8293.705,\n",
       " 8302.171,\n",
       " 8311.304,\n",
       " 8314.21,\n",
       " 8319.232,\n",
       " 8319.808,\n",
       " 8320.6,\n",
       " 8324.883,\n",
       " 8324.949,\n",
       " 8339.044,\n",
       " 8347.992,\n",
       " 8348.851,\n",
       " 8352.197,\n",
       " 8353.164,\n",
       " 8365.966999999999,\n",
       " 8371.021,\n",
       " 8371.266,\n",
       " 8375.071,\n",
       " 8376.360999999999,\n",
       " 8376.92,\n",
       " 8384.917,\n",
       " 8386.739,\n",
       " 8388.329,\n",
       " 8389.58,\n",
       " 8390.546,\n",
       " 8393.761,\n",
       " 8395.11,\n",
       " 8396.332,\n",
       " 8404.257,\n",
       " 8416.589,\n",
       " 8438.872,\n",
       " 8439.428,\n",
       " 8448.568000000001,\n",
       " 8453.127,\n",
       " 8457.309000000001,\n",
       " 8459.679,\n",
       " 8460.209,\n",
       " 8462.315,\n",
       " 8468.389000000001,\n",
       " 8469.247,\n",
       " 8470.271999999999,\n",
       " 8471.098,\n",
       " 8471.347,\n",
       " 8473.41,\n",
       " 8483.559000000001,\n",
       " 8486.503,\n",
       " 8487.341,\n",
       " 8493.794,\n",
       " 8495.926,\n",
       " 8505.835,\n",
       " 8512.091,\n",
       " 8514.371,\n",
       " 8523.607,\n",
       " 8532.328000000001,\n",
       " 8537.142,\n",
       " 8538.125,\n",
       " 8538.716999999999,\n",
       " 8545.226999999999,\n",
       " 8545.862,\n",
       " 8546.684000000001,\n",
       " 8547.997,\n",
       " 8548.648000000001,\n",
       " 8556.219000000001,\n",
       " 8561.061,\n",
       " 8570.972,\n",
       " 8577.948,\n",
       " 8592.287,\n",
       " 8596.723,\n",
       " 8598.879,\n",
       " 8600.277,\n",
       " 8601.655999999999,\n",
       " 8607.267,\n",
       " 8609.246,\n",
       " 8612.661,\n",
       " 8613.205,\n",
       " 8617.214,\n",
       " 8619.706,\n",
       " 8620.065,\n",
       " 8625.894,\n",
       " 8627.354,\n",
       " 8632.582,\n",
       " 8635.452,\n",
       " 8639.908000000001,\n",
       " 8641.282,\n",
       " 8643.091,\n",
       " 8648.266,\n",
       " 8650.449,\n",
       " 8653.954,\n",
       " 8654.133,\n",
       " 8659.403,\n",
       " 8659.769,\n",
       " 8662.721,\n",
       " 8668.663,\n",
       " 8670.671,\n",
       " 8673.509,\n",
       " 8674.212,\n",
       " 8675.506,\n",
       " 8677.451,\n",
       " 8678.712,\n",
       " 8680.25,\n",
       " 8680.525,\n",
       " 8684.231,\n",
       " 8688.555,\n",
       " 8691.072,\n",
       " 8691.234,\n",
       " 8692.165,\n",
       " 8696.499,\n",
       " 8696.693000000001,\n",
       " 8702.576,\n",
       " 8705.030999999999,\n",
       " 8705.929,\n",
       " 8706.475,\n",
       " 8706.805,\n",
       " 8706.902,\n",
       " 8708.896,\n",
       " 8720.888,\n",
       " 8724.224,\n",
       " 8735.003,\n",
       " 8739.726999999999,\n",
       " 8757.815999999999,\n",
       " 8760.759,\n",
       " 8760.863000000001,\n",
       " 8764.996,\n",
       " 8765.302,\n",
       " 8767.534,\n",
       " 8770.519,\n",
       " 8772.203000000001,\n",
       " 8774.978000000001,\n",
       " 8777.038,\n",
       " 8778.47,\n",
       " 8779.761999999999,\n",
       " 8781.25,\n",
       " 8785.565999999999,\n",
       " 8788.169,\n",
       " 8788.626,\n",
       " 8788.985999999999,\n",
       " 8795.385,\n",
       " 8802.244,\n",
       " 8804.584,\n",
       " 8806.834,\n",
       " 8807.117,\n",
       " 8807.219000000001,\n",
       " 8808.546999999999,\n",
       " 8810.593,\n",
       " 8811.515,\n",
       " 8813.099,\n",
       " 8813.565,\n",
       " 8814.678,\n",
       " 8818.041,\n",
       " 8821.593,\n",
       " 8828.192,\n",
       " 8838.158000000001,\n",
       " 8843.222,\n",
       " 8847.009,\n",
       " 8851.09,\n",
       " 8857.308,\n",
       " 8858.293,\n",
       " 8859.203000000001,\n",
       " 8862.065,\n",
       " 8862.145,\n",
       " 8862.25,\n",
       " 8867.08,\n",
       " 8867.155,\n",
       " 8868.062,\n",
       " 8869.47,\n",
       " 8873.755,\n",
       " 8876.017,\n",
       " 8887.987,\n",
       " 8889.382,\n",
       " 8889.817,\n",
       " 8890.061,\n",
       " 8893.518,\n",
       " 8895.421999999999,\n",
       " 8895.596,\n",
       " 8905.229,\n",
       " 8906.845,\n",
       " 8911.41,\n",
       " 8919.823,\n",
       " 8921.287,\n",
       " 8938.22,\n",
       " 8938.692,\n",
       " 8939.633,\n",
       " 8941.85,\n",
       " 8953.542,\n",
       " 8965.132,\n",
       " 8971.844000000001,\n",
       " 8974.005,\n",
       " 8977.624,\n",
       " 8980.323,\n",
       " 8982.005,\n",
       " 8987.072,\n",
       " 8987.315,\n",
       " 8988.221,\n",
       " 9004.962,\n",
       " 9019.09,\n",
       " 9023.078,\n",
       " 9024.307,\n",
       " 9024.393,\n",
       " 9030.921,\n",
       " 9034.326,\n",
       " 9034.445,\n",
       " 9042.657,\n",
       " 9043.052,\n",
       " 9045.182,\n",
       " 9045.861,\n",
       " 9057.31,\n",
       " 9057.967,\n",
       " 9060.414,\n",
       " 9063.313,\n",
       " 9065.139,\n",
       " 9071.237,\n",
       " 9074.223,\n",
       " 9075.274,\n",
       " 9082.743,\n",
       " 9091.493,\n",
       " 9091.804,\n",
       " 9092.382,\n",
       " 9094.353,\n",
       " 9097.503,\n",
       " 9100.663,\n",
       " 9102.823,\n",
       " 9104.231,\n",
       " 9107.736,\n",
       " 9107.739,\n",
       " 9107.873,\n",
       " 9113.664,\n",
       " 9121.731,\n",
       " 9124.97,\n",
       " 9128.451,\n",
       " 9129.974,\n",
       " 9135.619,\n",
       " 9137.86,\n",
       " 9147.012,\n",
       " 9147.787,\n",
       " 9148.751,\n",
       " 9154.054,\n",
       " 9154.337,\n",
       " 9154.399,\n",
       " 9156.449,\n",
       " 9161.936,\n",
       " 9172.47,\n",
       " 9172.738,\n",
       " 9182.441,\n",
       " 9189.389,\n",
       " 9191.57,\n",
       " 9192.549,\n",
       " 9196.012,\n",
       " 9200.016,\n",
       " 9201.289,\n",
       " 9201.524,\n",
       " 9201.897,\n",
       " 9206.703,\n",
       " 9206.834,\n",
       " 9214.315,\n",
       " 9216.557,\n",
       " 9217.12,\n",
       " 9217.697,\n",
       " 9222.473,\n",
       " 9222.873,\n",
       " 9225.487,\n",
       " 9229.407,\n",
       " 9232.4,\n",
       " 9235.216,\n",
       " 9241.485,\n",
       " 9246.183,\n",
       " 9251.547,\n",
       " 9259.435,\n",
       " 9264.44,\n",
       " 9270.942,\n",
       " 9273.96,\n",
       " 9287.188,\n",
       " 9291.173,\n",
       " 9291.258,\n",
       " 9291.797,\n",
       " 9292.747,\n",
       " 9296.966,\n",
       " 9301.678,\n",
       " 9302.11,\n",
       " 9308.953,\n",
       " 9310.3,\n",
       " 9315.768,\n",
       " 9326.92,\n",
       " 9332.336,\n",
       " 9333.515,\n",
       " 9342.22,\n",
       " 9344.647,\n",
       " 9347.581,\n",
       " 9348.68,\n",
       " 9352.721,\n",
       " 9353.668,\n",
       " 9356.77,\n",
       " 9356.967,\n",
       " 9364.764,\n",
       " 9365.88,\n",
       " 9367.94,\n",
       " 9369.601,\n",
       " 9371.943,\n",
       " 9377.765,\n",
       " 9378.625,\n",
       " 9382.862,\n",
       " 9385.917,\n",
       " 9387.92,\n",
       " 9396.234,\n",
       " 9397.149,\n",
       " 9401.076,\n",
       " 9401.771,\n",
       " 9405.41,\n",
       " 9409.91,\n",
       " 9413.504,\n",
       " 9414.536,\n",
       " 9418.629,\n",
       " 9421.143,\n",
       " 9426.066,\n",
       " 9428.73,\n",
       " 9438.972,\n",
       " 9439.292,\n",
       " 9439.838,\n",
       " 9442.406,\n",
       " 9454.151,\n",
       " 9459.851,\n",
       " 9463.566,\n",
       " 9466.843,\n",
       " 9468.616,\n",
       " 9469.592,\n",
       " 9469.796,\n",
       " 9473.969,\n",
       " 9483.167,\n",
       " 9491.761,\n",
       " 9497.638,\n",
       " 9498.503,\n",
       " 9500.807,\n",
       " 9501.919,\n",
       " 9502.306,\n",
       " 9514.677,\n",
       " 9517.34,\n",
       " 9521.968,\n",
       " 9522.99,\n",
       " 9525.822,\n",
       " 9528.126,\n",
       " 9532.217,\n",
       " 9534.07,\n",
       " 9545.726,\n",
       " 9549.388,\n",
       " 9550.749,\n",
       " 9552.343,\n",
       " 9552.381,\n",
       " 9554.916,\n",
       " 9554.981,\n",
       " 9556.879,\n",
       " 9563.753,\n",
       " 9572.307,\n",
       " 9572.346,\n",
       " 9577.48,\n",
       " 9579.136,\n",
       " 9579.657,\n",
       " 9586.125,\n",
       " 9588.307,\n",
       " 9589.269,\n",
       " 9591.219,\n",
       " 9591.824,\n",
       " 9593.119,\n",
       " 9594.625,\n",
       " 9598.112,\n",
       " 9601.986,\n",
       " 9606.294,\n",
       " 9608.492,\n",
       " 9608.615,\n",
       " 9609.198,\n",
       " 9609.215,\n",
       " 9610.248,\n",
       " 9614.879,\n",
       " 9615.919,\n",
       " 9618.714,\n",
       " 9626.664,\n",
       " 9627.053,\n",
       " 9627.961,\n",
       " 9628.688,\n",
       " 9629.969,\n",
       " 9634.735,\n",
       " 9649.542,\n",
       " 9649.84,\n",
       " 9651.991,\n",
       " 9665.221,\n",
       " 9667.859,\n",
       " 9668.263,\n",
       " 9671.633,\n",
       " 9673.184,\n",
       " 9683.011,\n",
       " 9684.573,\n",
       " 9687.837,\n",
       " 9693.913,\n",
       " 9700.675,\n",
       " 9701.368,\n",
       " 9701.662,\n",
       " 9710.311,\n",
       " 9710.78,\n",
       " 9712.563,\n",
       " 9722.895,\n",
       " 9723.147,\n",
       " 9731.527,\n",
       " 9736.096,\n",
       " 9737.635,\n",
       " 9738.8,\n",
       " 9746.35,\n",
       " 9748.79,\n",
       " 9755.713,\n",
       " 9757.902,\n",
       " 9762.824,\n",
       " 9764.076,\n",
       " 9781.049,\n",
       " 9781.051,\n",
       " 9782.386,\n",
       " 9787.809,\n",
       " 9788.898,\n",
       " 9794.076,\n",
       " 9797.809,\n",
       " 9800.376,\n",
       " 9806.992,\n",
       " 9809.491,\n",
       " 9811.692,\n",
       " 9814.84,\n",
       " 9816.437,\n",
       " 9822.17,\n",
       " 9823.039,\n",
       " 9826.636,\n",
       " 9830.631,\n",
       " 9830.74,\n",
       " 9832.891,\n",
       " 9840.587,\n",
       " 9841.484,\n",
       " 9843.992,\n",
       " 9858.406,\n",
       " 9860.482,\n",
       " 9860.925,\n",
       " 9861.738,\n",
       " 9863.48,\n",
       " 9863.493,\n",
       " 9863.746,\n",
       " 9867.297,\n",
       " 9875.698,\n",
       " 9875.888,\n",
       " 9879.29,\n",
       " 9880.457,\n",
       " 9886.936,\n",
       " 9888.551,\n",
       " 9888.684,\n",
       " 9893.691,\n",
       " 9893.711,\n",
       " 9893.924,\n",
       " 9899.078,\n",
       " 9901.415,\n",
       " 9902.905,\n",
       " 9903.982,\n",
       " 9906.358,\n",
       " 9911.007,\n",
       " 9911.881,\n",
       " 9914.341,\n",
       " 9920.223,\n",
       " 9923.431,\n",
       " 9940.303,\n",
       " 9941.149,\n",
       " 9941.919,\n",
       " 9942.045,\n",
       " 9943.02,\n",
       " 9943.48,\n",
       " 9944.631,\n",
       " 9944.645,\n",
       " 9948.497,\n",
       " 9954.932,\n",
       " 9961.687,\n",
       " 9965.884,\n",
       " 9976.01,\n",
       " 9978.046,\n",
       " 9979.291,\n",
       " 9981.058,\n",
       " 9984.011,\n",
       " 9988.06,\n",
       " 9988.629,\n",
       " 9992.14,\n",
       " 9992.615,\n",
       " 9993.31,\n",
       " 9995.396,\n",
       " 9996.183,\n",
       " 10000.392,\n",
       " 10001.459,\n",
       " 10004.303,\n",
       " 10006.857,\n",
       " 10011.361,\n",
       " 10013.861,\n",
       " 10022.261,\n",
       " 10028.085,\n",
       " 10035.876,\n",
       " 10037.939,\n",
       " 10046.605,\n",
       " 10048.878,\n",
       " 10049.334,\n",
       " 10051.604,\n",
       " 10055.43,\n",
       " 10060.709,\n",
       " 10061.48,\n",
       " 10066.611,\n",
       " 10067.108,\n",
       " 10072.077,\n",
       " 10074.983,\n",
       " 10075.345,\n",
       " 10077.567,\n",
       " 10079.223,\n",
       " 10081.358,\n",
       " 10084.722,\n",
       " 10085.365,\n",
       " 10087.689,\n",
       " 10090.037,\n",
       " 10095.142,\n",
       " 10097.085,\n",
       " 10097.172,\n",
       " 10102.701,\n",
       " 10105.798,\n",
       " 10108.235,\n",
       " 10114.716,\n",
       " 10120.562,\n",
       " 10126.141,\n",
       " 10127.222,\n",
       " 10127.944,\n",
       " 10129.066,\n",
       " 10130.36,\n",
       " 10132.951,\n",
       " 10134.333,\n",
       " 10137.058,\n",
       " 10137.273,\n",
       " 10140.055,\n",
       " 10141.989,\n",
       " 10142.797,\n",
       " 10144.536,\n",
       " 10146.226,\n",
       " 10147.76,\n",
       " 10148.051,\n",
       " 10148.965,\n",
       " 10150.899,\n",
       " 10151.267,\n",
       " 10161.308,\n",
       " 10161.765,\n",
       " 10161.907,\n",
       " 10166.417,\n",
       " 10167.767,\n",
       " 10167.784,\n",
       " 10167.95,\n",
       " 10168.324,\n",
       " 10170.101,\n",
       " 10171.943,\n",
       " 10172.602,\n",
       " 10172.617,\n",
       " 10173.088,\n",
       " 10175.058,\n",
       " 10175.915,\n",
       " 10176.089,\n",
       " 10179.555,\n",
       " 10180.821,\n",
       " ...]"
      ]
     },
     "execution_count": 87,
     "metadata": {},
     "output_type": "execute_result"
    }
   ],
   "source": [
    "unique_income = data['total_income'].unique().tolist()\n",
    "\n",
    "unique_income.sort()\n",
    "\n",
    "unique_income"
   ]
  },
  {
   "cell_type": "markdown",
   "metadata": {},
   "source": [
    "Define a range for categories"
   ]
  },
  {
   "cell_type": "code",
   "execution_count": 88,
   "metadata": {},
   "outputs": [],
   "source": [
    "lowest_category = (0, 3400)\n",
    "low_category = (3400, 17000)\n",
    "medium_category = (17000, 50000)\n",
    "high_category = (50000, 100000)\n",
    "highest_category = (100000, float('inf'))"
   ]
  },
  {
   "cell_type": "markdown",
   "metadata": {},
   "source": [
    "Create a function to categorize total_income"
   ]
  },
  {
   "cell_type": "code",
   "execution_count": 89,
   "metadata": {},
   "outputs": [],
   "source": [
    "def categorize_income(total_income):\n",
    "    if total_income >= lowest_category[0] and total_income < lowest_category[1]:\n",
    "        return 'Very Low'\n",
    "    elif total_income >= low_category[0] and total_income < low_category[1]:\n",
    "        return 'Low'\n",
    "    elif total_income >= medium_category[0] and total_income < medium_category[1]:\n",
    "        return 'Intermediate'\n",
    "    elif total_income >= high_category[0] and total_income < high_category[1]:\n",
    "        return 'High'\n",
    "    elif total_income >= highest_category[0] and total_income < highest_category[1]:\n",
    "        return 'Very high'\n",
    "    else:\n",
    "        return 'Uncategorized'"
   ]
  },
  {
   "cell_type": "markdown",
   "metadata": {},
   "source": [
    "Apply the function with the data"
   ]
  },
  {
   "cell_type": "code",
   "execution_count": 90,
   "metadata": {},
   "outputs": [
    {
     "data": {
      "text/html": [
       "<div>\n",
       "<style scoped>\n",
       "    .dataframe tbody tr th:only-of-type {\n",
       "        vertical-align: middle;\n",
       "    }\n",
       "\n",
       "    .dataframe tbody tr th {\n",
       "        vertical-align: top;\n",
       "    }\n",
       "\n",
       "    .dataframe thead th {\n",
       "        text-align: right;\n",
       "    }\n",
       "</style>\n",
       "<table border=\"1\" class=\"dataframe\">\n",
       "  <thead>\n",
       "    <tr style=\"text-align: right;\">\n",
       "      <th></th>\n",
       "      <th>total_income</th>\n",
       "      <th>income_category</th>\n",
       "    </tr>\n",
       "  </thead>\n",
       "  <tbody>\n",
       "    <tr>\n",
       "      <th>0</th>\n",
       "      <td>40620.102</td>\n",
       "      <td>Intermediate</td>\n",
       "    </tr>\n",
       "    <tr>\n",
       "      <th>1</th>\n",
       "      <td>17932.802</td>\n",
       "      <td>Intermediate</td>\n",
       "    </tr>\n",
       "    <tr>\n",
       "      <th>2</th>\n",
       "      <td>23341.752</td>\n",
       "      <td>Intermediate</td>\n",
       "    </tr>\n",
       "    <tr>\n",
       "      <th>3</th>\n",
       "      <td>42820.568</td>\n",
       "      <td>Intermediate</td>\n",
       "    </tr>\n",
       "    <tr>\n",
       "      <th>4</th>\n",
       "      <td>25378.572</td>\n",
       "      <td>Intermediate</td>\n",
       "    </tr>\n",
       "  </tbody>\n",
       "</table>\n",
       "</div>"
      ],
      "text/plain": [
       "   total_income income_category\n",
       "0     40620.102    Intermediate\n",
       "1     17932.802    Intermediate\n",
       "2     23341.752    Intermediate\n",
       "3     42820.568    Intermediate\n",
       "4     25378.572    Intermediate"
      ]
     },
     "execution_count": 90,
     "metadata": {},
     "output_type": "execute_result"
    }
   ],
   "source": [
    "data['income_category'] = data['total_income'].apply(categorize_income)\n",
    "\n",
    "data[['total_income', 'income_category']].head()"
   ]
  },
  {
   "cell_type": "markdown",
   "metadata": {},
   "source": [
    "Calculate the default percentage based on income level"
   ]
  },
  {
   "cell_type": "code",
   "execution_count": 92,
   "metadata": {},
   "outputs": [
    {
     "data": {
      "text/html": [
       "<div>\n",
       "<style scoped>\n",
       "    .dataframe tbody tr th:only-of-type {\n",
       "        vertical-align: middle;\n",
       "    }\n",
       "\n",
       "    .dataframe tbody tr th {\n",
       "        vertical-align: top;\n",
       "    }\n",
       "\n",
       "    .dataframe thead th {\n",
       "        text-align: right;\n",
       "    }\n",
       "</style>\n",
       "<table border=\"1\" class=\"dataframe\">\n",
       "  <thead>\n",
       "    <tr style=\"text-align: right;\">\n",
       "      <th></th>\n",
       "      <th>income_category</th>\n",
       "      <th>debt</th>\n",
       "    </tr>\n",
       "  </thead>\n",
       "  <tbody>\n",
       "    <tr>\n",
       "      <th>0</th>\n",
       "      <td>High</td>\n",
       "      <td>7.043407</td>\n",
       "    </tr>\n",
       "    <tr>\n",
       "      <th>1</th>\n",
       "      <td>Intermediate</td>\n",
       "      <td>8.312663</td>\n",
       "    </tr>\n",
       "    <tr>\n",
       "      <th>2</th>\n",
       "      <td>Low</td>\n",
       "      <td>7.823586</td>\n",
       "    </tr>\n",
       "    <tr>\n",
       "      <th>3</th>\n",
       "      <td>Very Low</td>\n",
       "      <td>50.000000</td>\n",
       "    </tr>\n",
       "    <tr>\n",
       "      <th>4</th>\n",
       "      <td>Very high</td>\n",
       "      <td>6.060606</td>\n",
       "    </tr>\n",
       "  </tbody>\n",
       "</table>\n",
       "</div>"
      ],
      "text/plain": [
       "  income_category       debt\n",
       "0            High   7.043407\n",
       "1    Intermediate   8.312663\n",
       "2             Low   7.823586\n",
       "3        Very Low  50.000000\n",
       "4       Very high   6.060606"
      ]
     },
     "execution_count": 92,
     "metadata": {},
     "output_type": "execute_result"
    }
   ],
   "source": [
    "income_debt_percentage = data.groupby('income_category')['debt'].mean().reset_index()\n",
    "\n",
    "income_debt_percentage['debt'] = income_debt_percentage['debt'] * 100\n",
    "\n",
    "income_debt_percentage"
   ]
  },
  {
   "cell_type": "markdown",
   "metadata": {},
   "source": [
    "Based on the observations above, the highest default rate is held by the category group with very low income with a figure of 50.00%. In other words, there is a correlation between income level and loan default. From the analysis above, people with the 'very high' income category have the smallest risk of defaulting on loan payments with a figure of 6.06%."
   ]
  },
  {
   "cell_type": "markdown",
   "metadata": {},
   "source": [
    "### Hypothesis 4: How do credit goals affect default percentage?"
   ]
  },
  {
   "cell_type": "code",
   "execution_count": 93,
   "metadata": {},
   "outputs": [
    {
     "data": {
      "text/html": [
       "<div>\n",
       "<style scoped>\n",
       "    .dataframe tbody tr th:only-of-type {\n",
       "        vertical-align: middle;\n",
       "    }\n",
       "\n",
       "    .dataframe tbody tr th {\n",
       "        vertical-align: top;\n",
       "    }\n",
       "\n",
       "    .dataframe thead th {\n",
       "        text-align: right;\n",
       "    }\n",
       "</style>\n",
       "<table border=\"1\" class=\"dataframe\">\n",
       "  <thead>\n",
       "    <tr style=\"text-align: right;\">\n",
       "      <th></th>\n",
       "      <th>purpose</th>\n",
       "      <th>debt</th>\n",
       "    </tr>\n",
       "  </thead>\n",
       "  <tbody>\n",
       "    <tr>\n",
       "      <th>0</th>\n",
       "      <td>building a property</td>\n",
       "      <td>8.723748</td>\n",
       "    </tr>\n",
       "    <tr>\n",
       "      <th>1</th>\n",
       "      <td>building a real estate</td>\n",
       "      <td>7.692308</td>\n",
       "    </tr>\n",
       "    <tr>\n",
       "      <th>2</th>\n",
       "      <td>buy commercial real estate</td>\n",
       "      <td>7.110439</td>\n",
       "    </tr>\n",
       "    <tr>\n",
       "      <th>3</th>\n",
       "      <td>buy real estate</td>\n",
       "      <td>6.924316</td>\n",
       "    </tr>\n",
       "    <tr>\n",
       "      <th>4</th>\n",
       "      <td>buy residential real estate</td>\n",
       "      <td>6.765677</td>\n",
       "    </tr>\n",
       "    <tr>\n",
       "      <th>5</th>\n",
       "      <td>buying a second-hand car</td>\n",
       "      <td>7.531381</td>\n",
       "    </tr>\n",
       "    <tr>\n",
       "      <th>6</th>\n",
       "      <td>buying my own car</td>\n",
       "      <td>9.108911</td>\n",
       "    </tr>\n",
       "    <tr>\n",
       "      <th>7</th>\n",
       "      <td>buying property for renting out</td>\n",
       "      <td>7.987711</td>\n",
       "    </tr>\n",
       "    <tr>\n",
       "      <th>8</th>\n",
       "      <td>car</td>\n",
       "      <td>8.502024</td>\n",
       "    </tr>\n",
       "    <tr>\n",
       "      <th>9</th>\n",
       "      <td>car purchase</td>\n",
       "      <td>9.110629</td>\n",
       "    </tr>\n",
       "    <tr>\n",
       "      <th>10</th>\n",
       "      <td>cars</td>\n",
       "      <td>9.205021</td>\n",
       "    </tr>\n",
       "    <tr>\n",
       "      <th>11</th>\n",
       "      <td>construction of own property</td>\n",
       "      <td>6.614173</td>\n",
       "    </tr>\n",
       "    <tr>\n",
       "      <th>12</th>\n",
       "      <td>education</td>\n",
       "      <td>7.158837</td>\n",
       "    </tr>\n",
       "    <tr>\n",
       "      <th>13</th>\n",
       "      <td>getting an education</td>\n",
       "      <td>8.371041</td>\n",
       "    </tr>\n",
       "    <tr>\n",
       "      <th>14</th>\n",
       "      <td>getting higher education</td>\n",
       "      <td>10.798122</td>\n",
       "    </tr>\n",
       "    <tr>\n",
       "      <th>15</th>\n",
       "      <td>going to university</td>\n",
       "      <td>8.669355</td>\n",
       "    </tr>\n",
       "    <tr>\n",
       "      <th>16</th>\n",
       "      <td>having a wedding</td>\n",
       "      <td>8.333333</td>\n",
       "    </tr>\n",
       "    <tr>\n",
       "      <th>17</th>\n",
       "      <td>housing</td>\n",
       "      <td>7.120743</td>\n",
       "    </tr>\n",
       "    <tr>\n",
       "      <th>18</th>\n",
       "      <td>housing renovation</td>\n",
       "      <td>5.766063</td>\n",
       "    </tr>\n",
       "    <tr>\n",
       "      <th>19</th>\n",
       "      <td>housing transactions</td>\n",
       "      <td>7.361963</td>\n",
       "    </tr>\n",
       "    <tr>\n",
       "      <th>20</th>\n",
       "      <td>profile education</td>\n",
       "      <td>10.091743</td>\n",
       "    </tr>\n",
       "    <tr>\n",
       "      <th>21</th>\n",
       "      <td>property</td>\n",
       "      <td>6.635071</td>\n",
       "    </tr>\n",
       "    <tr>\n",
       "      <th>22</th>\n",
       "      <td>purchase of a car</td>\n",
       "      <td>10.989011</td>\n",
       "    </tr>\n",
       "    <tr>\n",
       "      <th>23</th>\n",
       "      <td>purchase of my own house</td>\n",
       "      <td>5.483871</td>\n",
       "    </tr>\n",
       "    <tr>\n",
       "      <th>24</th>\n",
       "      <td>purchase of the house</td>\n",
       "      <td>7.430341</td>\n",
       "    </tr>\n",
       "    <tr>\n",
       "      <th>25</th>\n",
       "      <td>purchase of the house for my family</td>\n",
       "      <td>7.053292</td>\n",
       "    </tr>\n",
       "    <tr>\n",
       "      <th>26</th>\n",
       "      <td>real estate transactions</td>\n",
       "      <td>8.148148</td>\n",
       "    </tr>\n",
       "    <tr>\n",
       "      <th>27</th>\n",
       "      <td>second-hand car purchase</td>\n",
       "      <td>10.493827</td>\n",
       "    </tr>\n",
       "    <tr>\n",
       "      <th>28</th>\n",
       "      <td>supplementary education</td>\n",
       "      <td>8.260870</td>\n",
       "    </tr>\n",
       "    <tr>\n",
       "      <th>29</th>\n",
       "      <td>to become educated</td>\n",
       "      <td>9.558824</td>\n",
       "    </tr>\n",
       "    <tr>\n",
       "      <th>30</th>\n",
       "      <td>to buy a car</td>\n",
       "      <td>9.341826</td>\n",
       "    </tr>\n",
       "    <tr>\n",
       "      <th>31</th>\n",
       "      <td>to get a supplementary education</td>\n",
       "      <td>11.434978</td>\n",
       "    </tr>\n",
       "    <tr>\n",
       "      <th>32</th>\n",
       "      <td>to have a wedding</td>\n",
       "      <td>7.581699</td>\n",
       "    </tr>\n",
       "    <tr>\n",
       "      <th>33</th>\n",
       "      <td>to own a car</td>\n",
       "      <td>10.041841</td>\n",
       "    </tr>\n",
       "    <tr>\n",
       "      <th>34</th>\n",
       "      <td>transactions with commercial real estate</td>\n",
       "      <td>8.000000</td>\n",
       "    </tr>\n",
       "    <tr>\n",
       "      <th>35</th>\n",
       "      <td>transactions with my real estate</td>\n",
       "      <td>7.974482</td>\n",
       "    </tr>\n",
       "    <tr>\n",
       "      <th>36</th>\n",
       "      <td>university education</td>\n",
       "      <td>8.849558</td>\n",
       "    </tr>\n",
       "    <tr>\n",
       "      <th>37</th>\n",
       "      <td>wedding ceremony</td>\n",
       "      <td>8.091024</td>\n",
       "    </tr>\n",
       "  </tbody>\n",
       "</table>\n",
       "</div>"
      ],
      "text/plain": [
       "                                     purpose       debt\n",
       "0                        building a property   8.723748\n",
       "1                     building a real estate   7.692308\n",
       "2                 buy commercial real estate   7.110439\n",
       "3                            buy real estate   6.924316\n",
       "4                buy residential real estate   6.765677\n",
       "5                   buying a second-hand car   7.531381\n",
       "6                          buying my own car   9.108911\n",
       "7            buying property for renting out   7.987711\n",
       "8                                        car   8.502024\n",
       "9                               car purchase   9.110629\n",
       "10                                      cars   9.205021\n",
       "11              construction of own property   6.614173\n",
       "12                                 education   7.158837\n",
       "13                      getting an education   8.371041\n",
       "14                  getting higher education  10.798122\n",
       "15                       going to university   8.669355\n",
       "16                          having a wedding   8.333333\n",
       "17                                   housing   7.120743\n",
       "18                        housing renovation   5.766063\n",
       "19                      housing transactions   7.361963\n",
       "20                         profile education  10.091743\n",
       "21                                  property   6.635071\n",
       "22                         purchase of a car  10.989011\n",
       "23                  purchase of my own house   5.483871\n",
       "24                     purchase of the house   7.430341\n",
       "25       purchase of the house for my family   7.053292\n",
       "26                  real estate transactions   8.148148\n",
       "27                  second-hand car purchase  10.493827\n",
       "28                   supplementary education   8.260870\n",
       "29                        to become educated   9.558824\n",
       "30                              to buy a car   9.341826\n",
       "31          to get a supplementary education  11.434978\n",
       "32                         to have a wedding   7.581699\n",
       "33                              to own a car  10.041841\n",
       "34  transactions with commercial real estate   8.000000\n",
       "35          transactions with my real estate   7.974482\n",
       "36                      university education   8.849558\n",
       "37                          wedding ceremony   8.091024"
      ]
     },
     "execution_count": 93,
     "metadata": {},
     "output_type": "execute_result"
    }
   ],
   "source": [
    "purpose_debt_percentage = data.groupby('purpose')['debt'].mean().reset_index()\n",
    "\n",
    "purpose_debt_percentage['debt'] = purpose_debt_percentage['debt'] * 100\n",
    "\n",
    "purpose_debt_percentage"
   ]
  },
  {
   "cell_type": "code",
   "execution_count": 94,
   "metadata": {},
   "outputs": [
    {
     "data": {
      "text/plain": [
       "['building a property',\n",
       " 'building a real estate',\n",
       " 'buy commercial real estate',\n",
       " 'buy real estate',\n",
       " 'buy residential real estate',\n",
       " 'buying a second-hand car',\n",
       " 'buying my own car',\n",
       " 'buying property for renting out',\n",
       " 'car',\n",
       " 'car purchase',\n",
       " 'cars',\n",
       " 'construction of own property',\n",
       " 'education',\n",
       " 'getting an education',\n",
       " 'getting higher education',\n",
       " 'going to university',\n",
       " 'having a wedding',\n",
       " 'housing',\n",
       " 'housing renovation',\n",
       " 'housing transactions',\n",
       " 'profile education',\n",
       " 'property',\n",
       " 'purchase of a car',\n",
       " 'purchase of my own house',\n",
       " 'purchase of the house',\n",
       " 'purchase of the house for my family',\n",
       " 'real estate transactions',\n",
       " 'second-hand car purchase',\n",
       " 'supplementary education',\n",
       " 'to become educated',\n",
       " 'to buy a car',\n",
       " 'to get a supplementary education',\n",
       " 'to have a wedding',\n",
       " 'to own a car',\n",
       " 'transactions with commercial real estate',\n",
       " 'transactions with my real estate',\n",
       " 'university education',\n",
       " 'wedding ceremony']"
      ]
     },
     "execution_count": 94,
     "metadata": {},
     "output_type": "execute_result"
    }
   ],
   "source": [
    "unique_purpose = data['purpose'].unique().tolist()\n",
    "\n",
    "unique_purpose.sort()\n",
    "\n",
    "unique_purpose"
   ]
  },
  {
   "cell_type": "markdown",
   "metadata": {},
   "source": [
    "Create a dictionary to replace specific credit goals with broader categories"
   ]
  },
  {
   "cell_type": "code",
   "execution_count": 95,
   "metadata": {},
   "outputs": [],
   "source": [
    "purpose_categories = {\n",
    "    'building a property': 'property',\n",
    "    'building a real estate': 'property',\n",
    "    'buy commercial real estate': 'property',\n",
    "    'buy real estate': 'property',\n",
    "    'buy residential real estate': 'property',\n",
    "    'buying a second-hand car': 'car',\n",
    "    'buying my own car': 'car',\n",
    "    'buying property for renting out': 'property',\n",
    "    'car purchase': 'car',\n",
    "    'cars': 'car',\n",
    "    'construction of own property': 'property',\n",
    "    'education': 'education',\n",
    "    'getting an education': 'education',\n",
    "    'getting higher education': 'education',\n",
    "    'going to university': 'education',\n",
    "    'having a wedding': 'wedding',\n",
    "    'housing': 'property',\n",
    "    'housing renovation': 'property',\n",
    "    'housing transactions': 'property',\n",
    "    'profile education': 'education',\n",
    "    'property': 'property',\n",
    "    'purchase of a car': 'car',\n",
    "    'purchase of my own house': 'property',\n",
    "    'purchase of the house': 'property',\n",
    "    'purchase of the house for my family': 'property',\n",
    "    'real estate transactions': 'property',\n",
    "    'second-hand car purchase': 'car',\n",
    "    'supplementary education': 'education',\n",
    "    'to become educated': 'education',\n",
    "    'to buy a car': 'car',\n",
    "    'to get a supplementary education': 'education',\n",
    "    'to have a wedding': 'wedding',\n",
    "    'to own a car': 'car',\n",
    "    'transactions with commercial real estate': 'property',\n",
    "    'transactions with my real estate': 'property',\n",
    "    'university education': 'education',\n",
    "    'wedding ceremony': 'wedding'\n",
    "}"
   ]
  },
  {
   "cell_type": "markdown",
   "metadata": {},
   "source": [
    "Apply category replacement to the credit destination column"
   ]
  },
  {
   "cell_type": "code",
   "execution_count": 96,
   "metadata": {},
   "outputs": [],
   "source": [
    "data['purpose_category'] = data['purpose'].map(purpose_categories)"
   ]
  },
  {
   "cell_type": "code",
   "execution_count": 97,
   "metadata": {},
   "outputs": [
    {
     "data": {
      "text/plain": [
       "array(['property', 'car', 'education', 'wedding', nan], dtype=object)"
      ]
     },
     "execution_count": 97,
     "metadata": {},
     "output_type": "execute_result"
    }
   ],
   "source": [
    "data['purpose_category'].unique()"
   ]
  },
  {
   "cell_type": "markdown",
   "metadata": {},
   "source": [
    "Calculate the default percentage based on credit goals"
   ]
  },
  {
   "cell_type": "code",
   "execution_count": 98,
   "metadata": {},
   "outputs": [
    {
     "data": {
      "text/html": [
       "<div>\n",
       "<style scoped>\n",
       "    .dataframe tbody tr th:only-of-type {\n",
       "        vertical-align: middle;\n",
       "    }\n",
       "\n",
       "    .dataframe tbody tr th {\n",
       "        vertical-align: top;\n",
       "    }\n",
       "\n",
       "    .dataframe thead th {\n",
       "        text-align: right;\n",
       "    }\n",
       "</style>\n",
       "<table border=\"1\" class=\"dataframe\">\n",
       "  <thead>\n",
       "    <tr style=\"text-align: right;\">\n",
       "      <th></th>\n",
       "      <th>purpose_category</th>\n",
       "      <th>debt</th>\n",
       "    </tr>\n",
       "  </thead>\n",
       "  <tbody>\n",
       "    <tr>\n",
       "      <th>0</th>\n",
       "      <td>car</td>\n",
       "      <td>9.470094</td>\n",
       "    </tr>\n",
       "    <tr>\n",
       "      <th>1</th>\n",
       "      <td>education</td>\n",
       "      <td>9.220035</td>\n",
       "    </tr>\n",
       "    <tr>\n",
       "      <th>2</th>\n",
       "      <td>property</td>\n",
       "      <td>7.233373</td>\n",
       "    </tr>\n",
       "    <tr>\n",
       "      <th>3</th>\n",
       "      <td>wedding</td>\n",
       "      <td>8.003442</td>\n",
       "    </tr>\n",
       "  </tbody>\n",
       "</table>\n",
       "</div>"
      ],
      "text/plain": [
       "  purpose_category      debt\n",
       "0              car  9.470094\n",
       "1        education  9.220035\n",
       "2         property  7.233373\n",
       "3          wedding  8.003442"
      ]
     },
     "execution_count": 98,
     "metadata": {},
     "output_type": "execute_result"
    }
   ],
   "source": [
    "purpose_debt_percentage = data.groupby('purpose_category')['debt'].mean().reset_index()\n",
    "\n",
    "purpose_debt_percentage['debt'] = purpose_debt_percentage['debt'] * 100\n",
    "\n",
    "purpose_debt_percentage"
   ]
  },
  {
   "cell_type": "markdown",
   "metadata": {},
   "source": [
    "Based on the manipulation and observations above, credit objectives have an effect on the percentage of loan defaults. The goal categories 'car' and 'education' have a higher percentage than other categories. This indicates that people who take out loans for cars or education have a higher risk of default than other categories of purposes."
   ]
  },
  {
   "cell_type": "markdown",
   "metadata": {},
   "source": [
    "# General conclusion"
   ]
  },
  {
   "cell_type": "markdown",
   "metadata": {},
   "source": [
    "To conclude the data analysis above, there are many processes that need to be carried out, such as dealing with missing data, transformation and manipulation, before analyzing the given hypothesis. \n",
    "\n",
    "For more details like this:\n",
    "- Identification and handling of missing values: We found that the columns \"days_employed\" and \"total_income\" contained many missing values. We use the median to replace missing values ​​in these two columns.\n",
    "- Identification and handling of suspicious data: We found some suspicious data, such as impossible age values, and we solved this problem by replacing them with reasonable values.\n",
    "- Duplicate identification and handling: We found 71 data entries that were duplicates and removed them from the dataset.\n",
    "- Data categorization: We categorize data based on several factors such as number of children, family status, income level, and credit goals to facilitate analysis.\n",
    "- Correlation analysis: We carry out correlation analysis between factors such as number of children, family status, income level, and credit goals with the probability of loan default.\n",
    "\n",
    "In the given hypothesis, all the questions above have a correlation with the probability of loan default. Even though the analysis above has validation and proof of how the correlation can be demonstrated, it must also be noted that this analysis can be used as an initial phase of analysis and the final results of this analysis can be influenced by other factors."
   ]
  }
 ],
 "metadata": {
  "ExecuteTimeLog": [
   {
    "duration": 2741,
    "start_time": "2021-10-21T01:08:49.480Z"
   },
   {
    "duration": 52,
    "start_time": "2021-10-21T01:08:53.315Z"
   },
   {
    "duration": 49,
    "start_time": "2021-10-21T01:08:57.432Z"
   },
   {
    "duration": 70,
    "start_time": "2021-10-21T01:09:07.706Z"
   }
  ],
  "kernelspec": {
   "display_name": "Python 3",
   "language": "python",
   "name": "python3"
  },
  "language_info": {
   "codemirror_mode": {
    "name": "ipython",
    "version": 3
   },
   "file_extension": ".py",
   "mimetype": "text/x-python",
   "name": "python",
   "nbconvert_exporter": "python",
   "pygments_lexer": "ipython3",
   "version": "3.10.11"
  },
  "toc": {
   "base_numbering": 1,
   "nav_menu": {},
   "number_sections": true,
   "sideBar": true,
   "skip_h1_title": true,
   "title_cell": "Table of Contents",
   "title_sidebar": "Contents",
   "toc_cell": false,
   "toc_position": {},
   "toc_section_display": true,
   "toc_window_display": false
  }
 },
 "nbformat": 4,
 "nbformat_minor": 2
}
