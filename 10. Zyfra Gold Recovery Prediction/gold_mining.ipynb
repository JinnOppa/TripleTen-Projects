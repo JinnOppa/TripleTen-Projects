{
 "cells": [
  {
   "cell_type": "markdown",
   "metadata": {},
   "source": [
    "# Optimizing Gold Ore Extraction Efficiency in Heavy Industries: A Machine Learning Approach with Zyfra's GoldMine Machine Learning"
   ]
  },
  {
   "cell_type": "markdown",
   "metadata": {},
   "source": [
    "## Table of Content\n",
    "* [Introduction](#introduction)\n",
    "* [Import Library and Data](#import-libary-and-data)\n",
    "    * [Import Library](#import-library)\n",
    "    * [Import Data](#import-data)\n",
    "    * [Train Data](#train-data)\n",
    "    * [Test Data](#test-data)\n",
    "    * [Full Data](#full-data)\n",
    "* [Data Preprocessing](#data-preprocessing)\n",
    "    * [Missing value](#missing-value)\n",
    "    * [Data Transformation](#data-transformation)\n",
    "    * [Calculate Recovery](#calculate-recovery)\n",
    "    * [Missing Features](#missing-features)\n",
    "* [Data Analysis](#data-analysis)\n",
    "    * [Metal Concentration](#metal-concentration)\n",
    "        * [Au (Gold) Concentration](#au-gold-concentration)\n",
    "        * [Ag (Silver) Concentration](#ag-silver-concentration)\n",
    "        * [Pb (Lead) Concentration](#pb-lead-concentration)\n",
    "        * [Sol (Colloid) Concentration](#sol-colloid-concentration)\n",
    "        * [Metal Concentration Summary](#metal-concentration-summary)\n",
    "    * [Feed Size Distribution Comparison between Train and Test Set](#feed-size-distribution-comparison-between-train-and-test-set)\n",
    "    * [Different Stages Concentration](#different-stages-concentration)\n",
    "* [Model Development](#model-development)\n",
    "    * [sMAPE Function](#smape-function)\n",
    "    * [Model Selection](#model-selection)\n",
    "    * [Model Evaluation](#model-evaluation)\n",
    "* [Conclusion](#conclusion)"
   ]
  },
  {
   "cell_type": "markdown",
   "metadata": {},
   "source": [
    "## Introduction"
   ]
  },
  {
   "cell_type": "markdown",
   "metadata": {},
   "source": [
    "Embarking on a project for Zyfra, I've been assigned to build a machine learning model that predicts the amount of gold we can extract from gold ore. Zyfra, a company dedicated to creating smart solutions for heavy industries, aims to enhance efficiency in production processes by ditching unprofitable factors. My role involves diving into the available data, crunching numbers, and developing a predictive model that can bring us closer to that goal. Picture this – the raw ore goes through a series of steps: first, it's processed to create a chunkier mix, which then goes through a flotation process to get a rougher concentrate. After that, it undergoes a two-step refining process. The ultimate aim is to streamline the production process, making it more efficient and profitable."
   ]
  },
  {
   "cell_type": "markdown",
   "metadata": {},
   "source": [
    "### Import Libary"
   ]
  },
  {
   "cell_type": "code",
   "execution_count": 1,
   "metadata": {},
   "outputs": [
    {
     "name": "stdout",
     "output_type": "stream",
     "text": [
      "Requirement already satisfied: sktime in /home/jovyan/.local/lib/python3.9/site-packages (0.26.0)\n",
      "Requirement already satisfied: pandas<2.2.0,>=1.1 in /opt/conda/lib/python3.9/site-packages (from sktime) (1.2.4)\n",
      "Requirement already satisfied: scikit-learn<1.5.0,>=0.24 in /opt/conda/lib/python3.9/site-packages (from sktime) (0.24.1)\n",
      "Requirement already satisfied: numpy<1.27,>=1.21 in /opt/conda/lib/python3.9/site-packages (from sktime) (1.21.1)\n",
      "Requirement already satisfied: packaging in /opt/conda/lib/python3.9/site-packages (from sktime) (21.3)\n",
      "Requirement already satisfied: scikit-base<0.8.0 in /home/jovyan/.local/lib/python3.9/site-packages (from sktime) (0.7.2)\n",
      "Requirement already satisfied: scipy<2.0.0,>=1.2 in /opt/conda/lib/python3.9/site-packages (from sktime) (1.8.0)\n",
      "Requirement already satisfied: python-dateutil>=2.7.3 in /opt/conda/lib/python3.9/site-packages (from pandas<2.2.0,>=1.1->sktime) (2.8.1)\n",
      "Requirement already satisfied: pytz>=2017.3 in /opt/conda/lib/python3.9/site-packages (from pandas<2.2.0,>=1.1->sktime) (2021.1)\n",
      "Requirement already satisfied: six>=1.5 in /opt/conda/lib/python3.9/site-packages (from python-dateutil>=2.7.3->pandas<2.2.0,>=1.1->sktime) (1.16.0)\n",
      "Requirement already satisfied: threadpoolctl>=2.0.0 in /opt/conda/lib/python3.9/site-packages (from scikit-learn<1.5.0,>=0.24->sktime) (3.1.0)\n",
      "Requirement already satisfied: joblib>=0.11 in /opt/conda/lib/python3.9/site-packages (from scikit-learn<1.5.0,>=0.24->sktime) (1.1.0)\n",
      "Requirement already satisfied: pyparsing!=3.0.5,>=2.0.2 in /opt/conda/lib/python3.9/site-packages (from packaging->sktime) (2.4.7)\n",
      "Note: you may need to restart the kernel to use updated packages.\n"
     ]
    }
   ],
   "source": [
    "# pip install sktime --user"
   ]
  },
  {
   "cell_type": "markdown",
   "metadata": {},
   "source": [
    "Do the installation once, and then restart the kernel to load the libary to the environment"
   ]
  },
  {
   "cell_type": "code",
   "execution_count": 1,
   "metadata": {},
   "outputs": [],
   "source": [
    "import pandas as pd\n",
    "import numpy as np\n",
    "import matplotlib.pyplot as plt\n",
    "import seaborn as sns\n",
    "from scipy.stats import skew\n",
    "from sklearn.metrics import mean_absolute_error\n",
    "from sklearn.metrics import make_scorer\n",
    "from sklearn.preprocessing import StandardScaler\n",
    "from sklearn.model_selection import cross_val_score\n",
    "from sklearn.tree import DecisionTreeRegressor\n",
    "from sklearn.linear_model import LinearRegression\n",
    "from sklearn.pipeline import make_pipeline\n",
    "from sktime.forecasting.model_selection import temporal_train_test_split\n",
    "from sklearn.ensemble import RandomForestRegressor, GradientBoostingRegressor\n",
    "from sklearn.svm import SVR"
   ]
  },
  {
   "cell_type": "markdown",
   "metadata": {},
   "source": [
    "### Import Data"
   ]
  },
  {
   "cell_type": "code",
   "execution_count": 2,
   "metadata": {},
   "outputs": [],
   "source": [
    "try:\n",
    "    # Try loading the file from your laptop path\n",
    "    train_data = pd.read_csv('C:/Users/Eugene/Documents/GitHub/TripleTen-Projects/10. Zyfra Gold Recovery Prediction/gold_recovery_train.csv')\n",
    "except FileNotFoundError:\n",
    "    # If the file is not found, try loading from the PC path\n",
    "    train_data = pd.read_csv('C:/Users/user/OneDrive/Documents/GitHub/TripleTen-Projects/10. Zyfra Gold Recovery Prediction/gold_recovery_train.csv')"
   ]
  },
  {
   "cell_type": "code",
   "execution_count": 3,
   "metadata": {},
   "outputs": [],
   "source": [
    "try:\n",
    "    # Try loading the file from your laptop path\n",
    "    test_data = pd.read_csv('C:/Users/Eugene/Documents/GitHub/TripleTen-Projects/10. Zyfra Gold Recovery Prediction/gold_recovery_test.csv')\n",
    "except FileNotFoundError:\n",
    "    # If the file is not found, try loading from the PC path\n",
    "    test_data = pd.read_csv('C:/Users/user/OneDrive/Documents/GitHub/TripleTen-Projects/10. Zyfra Gold Recovery Prediction/gold_recovery_test.csv')"
   ]
  },
  {
   "cell_type": "code",
   "execution_count": 4,
   "metadata": {},
   "outputs": [],
   "source": [
    "try:\n",
    "    # Try loading the file from your laptop path\n",
    "    full_data = pd.read_csv('C:/Users/Eugene/Documents/GitHub/TripleTen-Projects/10. Zyfra Gold Recovery Prediction/gold_recovery_full.csv')\n",
    "except FileNotFoundError:\n",
    "    # If the file is not found, try loading from the PC path\n",
    "    full_data = pd.read_csv('C:/Users/user/OneDrive/Documents/GitHub/TripleTen-Projects/10. Zyfra Gold Recovery Prediction/gold_recovery_full.csv')"
   ]
  },
  {
   "cell_type": "markdown",
   "metadata": {},
   "source": [
    "### Train Data"
   ]
  },
  {
   "cell_type": "code",
   "execution_count": 5,
   "metadata": {
    "collapsed": true
   },
   "outputs": [
    {
     "name": "stdout",
     "output_type": "stream",
     "text": [
      "<class 'pandas.core.frame.DataFrame'>\n",
      "RangeIndex: 16860 entries, 0 to 16859\n",
      "Data columns (total 87 columns):\n",
      " #   Column                                              Non-Null Count  Dtype  \n",
      "---  ------                                              --------------  -----  \n",
      " 0   date                                                16860 non-null  object \n",
      " 1   final.output.concentrate_ag                         16788 non-null  float64\n",
      " 2   final.output.concentrate_pb                         16788 non-null  float64\n",
      " 3   final.output.concentrate_sol                        16490 non-null  float64\n",
      " 4   final.output.concentrate_au                         16789 non-null  float64\n",
      " 5   final.output.recovery                               15339 non-null  float64\n",
      " 6   final.output.tail_ag                                16794 non-null  float64\n",
      " 7   final.output.tail_pb                                16677 non-null  float64\n",
      " 8   final.output.tail_sol                               16715 non-null  float64\n",
      " 9   final.output.tail_au                                16794 non-null  float64\n",
      " 10  primary_cleaner.input.sulfate                       15553 non-null  float64\n",
      " 11  primary_cleaner.input.depressant                    15598 non-null  float64\n",
      " 12  primary_cleaner.input.feed_size                     16860 non-null  float64\n",
      " 13  primary_cleaner.input.xanthate                      15875 non-null  float64\n",
      " 14  primary_cleaner.output.concentrate_ag               16778 non-null  float64\n",
      " 15  primary_cleaner.output.concentrate_pb               16502 non-null  float64\n",
      " 16  primary_cleaner.output.concentrate_sol              16224 non-null  float64\n",
      " 17  primary_cleaner.output.concentrate_au               16778 non-null  float64\n",
      " 18  primary_cleaner.output.tail_ag                      16777 non-null  float64\n",
      " 19  primary_cleaner.output.tail_pb                      16761 non-null  float64\n",
      " 20  primary_cleaner.output.tail_sol                     16579 non-null  float64\n",
      " 21  primary_cleaner.output.tail_au                      16777 non-null  float64\n",
      " 22  primary_cleaner.state.floatbank8_a_air              16820 non-null  float64\n",
      " 23  primary_cleaner.state.floatbank8_a_level            16827 non-null  float64\n",
      " 24  primary_cleaner.state.floatbank8_b_air              16820 non-null  float64\n",
      " 25  primary_cleaner.state.floatbank8_b_level            16833 non-null  float64\n",
      " 26  primary_cleaner.state.floatbank8_c_air              16822 non-null  float64\n",
      " 27  primary_cleaner.state.floatbank8_c_level            16833 non-null  float64\n",
      " 28  primary_cleaner.state.floatbank8_d_air              16821 non-null  float64\n",
      " 29  primary_cleaner.state.floatbank8_d_level            16833 non-null  float64\n",
      " 30  rougher.calculation.sulfate_to_au_concentrate       16833 non-null  float64\n",
      " 31  rougher.calculation.floatbank10_sulfate_to_au_feed  16833 non-null  float64\n",
      " 32  rougher.calculation.floatbank11_sulfate_to_au_feed  16833 non-null  float64\n",
      " 33  rougher.calculation.au_pb_ratio                     15618 non-null  float64\n",
      " 34  rougher.input.feed_ag                               16778 non-null  float64\n",
      " 35  rougher.input.feed_pb                               16632 non-null  float64\n",
      " 36  rougher.input.feed_rate                             16347 non-null  float64\n",
      " 37  rougher.input.feed_size                             16443 non-null  float64\n",
      " 38  rougher.input.feed_sol                              16568 non-null  float64\n",
      " 39  rougher.input.feed_au                               16777 non-null  float64\n",
      " 40  rougher.input.floatbank10_sulfate                   15816 non-null  float64\n",
      " 41  rougher.input.floatbank10_xanthate                  16514 non-null  float64\n",
      " 42  rougher.input.floatbank11_sulfate                   16237 non-null  float64\n",
      " 43  rougher.input.floatbank11_xanthate                  14956 non-null  float64\n",
      " 44  rougher.output.concentrate_ag                       16778 non-null  float64\n",
      " 45  rougher.output.concentrate_pb                       16778 non-null  float64\n",
      " 46  rougher.output.concentrate_sol                      16698 non-null  float64\n",
      " 47  rougher.output.concentrate_au                       16778 non-null  float64\n",
      " 48  rougher.output.recovery                             14287 non-null  float64\n",
      " 49  rougher.output.tail_ag                              14610 non-null  float64\n",
      " 50  rougher.output.tail_pb                              16778 non-null  float64\n",
      " 51  rougher.output.tail_sol                             14611 non-null  float64\n",
      " 52  rougher.output.tail_au                              14611 non-null  float64\n",
      " 53  rougher.state.floatbank10_a_air                     16807 non-null  float64\n",
      " 54  rougher.state.floatbank10_a_level                   16807 non-null  float64\n",
      " 55  rougher.state.floatbank10_b_air                     16807 non-null  float64\n",
      " 56  rougher.state.floatbank10_b_level                   16807 non-null  float64\n",
      " 57  rougher.state.floatbank10_c_air                     16807 non-null  float64\n",
      " 58  rougher.state.floatbank10_c_level                   16814 non-null  float64\n",
      " 59  rougher.state.floatbank10_d_air                     16802 non-null  float64\n",
      " 60  rougher.state.floatbank10_d_level                   16809 non-null  float64\n",
      " 61  rougher.state.floatbank10_e_air                     16257 non-null  float64\n",
      " 62  rougher.state.floatbank10_e_level                   16809 non-null  float64\n",
      " 63  rougher.state.floatbank10_f_air                     16802 non-null  float64\n",
      " 64  rougher.state.floatbank10_f_level                   16802 non-null  float64\n",
      " 65  secondary_cleaner.output.tail_ag                    16776 non-null  float64\n",
      " 66  secondary_cleaner.output.tail_pb                    16764 non-null  float64\n",
      " 67  secondary_cleaner.output.tail_sol                   14874 non-null  float64\n",
      " 68  secondary_cleaner.output.tail_au                    16778 non-null  float64\n",
      " 69  secondary_cleaner.state.floatbank2_a_air            16497 non-null  float64\n",
      " 70  secondary_cleaner.state.floatbank2_a_level          16751 non-null  float64\n",
      " 71  secondary_cleaner.state.floatbank2_b_air            16705 non-null  float64\n",
      " 72  secondary_cleaner.state.floatbank2_b_level          16748 non-null  float64\n",
      " 73  secondary_cleaner.state.floatbank3_a_air            16763 non-null  float64\n",
      " 74  secondary_cleaner.state.floatbank3_a_level          16747 non-null  float64\n",
      " 75  secondary_cleaner.state.floatbank3_b_air            16752 non-null  float64\n",
      " 76  secondary_cleaner.state.floatbank3_b_level          16750 non-null  float64\n",
      " 77  secondary_cleaner.state.floatbank4_a_air            16731 non-null  float64\n",
      " 78  secondary_cleaner.state.floatbank4_a_level          16747 non-null  float64\n",
      " 79  secondary_cleaner.state.floatbank4_b_air            16768 non-null  float64\n",
      " 80  secondary_cleaner.state.floatbank4_b_level          16767 non-null  float64\n",
      " 81  secondary_cleaner.state.floatbank5_a_air            16775 non-null  float64\n",
      " 82  secondary_cleaner.state.floatbank5_a_level          16775 non-null  float64\n",
      " 83  secondary_cleaner.state.floatbank5_b_air            16775 non-null  float64\n",
      " 84  secondary_cleaner.state.floatbank5_b_level          16776 non-null  float64\n",
      " 85  secondary_cleaner.state.floatbank6_a_air            16757 non-null  float64\n",
      " 86  secondary_cleaner.state.floatbank6_a_level          16775 non-null  float64\n",
      "dtypes: float64(86), object(1)\n",
      "memory usage: 11.2+ MB\n"
     ]
    }
   ],
   "source": [
    "train_data.info()"
   ]
  },
  {
   "cell_type": "code",
   "execution_count": 5,
   "metadata": {
    "collapsed": true
   },
   "outputs": [
    {
     "data": {
      "text/html": [
       "<div>\n",
       "<style scoped>\n",
       "    .dataframe tbody tr th:only-of-type {\n",
       "        vertical-align: middle;\n",
       "    }\n",
       "\n",
       "    .dataframe tbody tr th {\n",
       "        vertical-align: top;\n",
       "    }\n",
       "\n",
       "    .dataframe thead th {\n",
       "        text-align: right;\n",
       "    }\n",
       "</style>\n",
       "<table border=\"1\" class=\"dataframe\">\n",
       "  <thead>\n",
       "    <tr style=\"text-align: right;\">\n",
       "      <th></th>\n",
       "      <th>date</th>\n",
       "      <th>final.output.concentrate_ag</th>\n",
       "      <th>final.output.concentrate_pb</th>\n",
       "      <th>final.output.concentrate_sol</th>\n",
       "      <th>final.output.concentrate_au</th>\n",
       "      <th>final.output.recovery</th>\n",
       "      <th>final.output.tail_ag</th>\n",
       "      <th>final.output.tail_pb</th>\n",
       "      <th>final.output.tail_sol</th>\n",
       "      <th>final.output.tail_au</th>\n",
       "      <th>...</th>\n",
       "      <th>secondary_cleaner.state.floatbank4_a_air</th>\n",
       "      <th>secondary_cleaner.state.floatbank4_a_level</th>\n",
       "      <th>secondary_cleaner.state.floatbank4_b_air</th>\n",
       "      <th>secondary_cleaner.state.floatbank4_b_level</th>\n",
       "      <th>secondary_cleaner.state.floatbank5_a_air</th>\n",
       "      <th>secondary_cleaner.state.floatbank5_a_level</th>\n",
       "      <th>secondary_cleaner.state.floatbank5_b_air</th>\n",
       "      <th>secondary_cleaner.state.floatbank5_b_level</th>\n",
       "      <th>secondary_cleaner.state.floatbank6_a_air</th>\n",
       "      <th>secondary_cleaner.state.floatbank6_a_level</th>\n",
       "    </tr>\n",
       "  </thead>\n",
       "  <tbody>\n",
       "    <tr>\n",
       "      <th>0</th>\n",
       "      <td>2016-01-15 00:00:00</td>\n",
       "      <td>6.055403</td>\n",
       "      <td>9.889648</td>\n",
       "      <td>5.507324</td>\n",
       "      <td>42.192020</td>\n",
       "      <td>70.541216</td>\n",
       "      <td>10.411962</td>\n",
       "      <td>0.895447</td>\n",
       "      <td>16.904297</td>\n",
       "      <td>2.143149</td>\n",
       "      <td>...</td>\n",
       "      <td>14.016835</td>\n",
       "      <td>-502.488007</td>\n",
       "      <td>12.099931</td>\n",
       "      <td>-504.715942</td>\n",
       "      <td>9.925633</td>\n",
       "      <td>-498.310211</td>\n",
       "      <td>8.079666</td>\n",
       "      <td>-500.470978</td>\n",
       "      <td>14.151341</td>\n",
       "      <td>-605.841980</td>\n",
       "    </tr>\n",
       "    <tr>\n",
       "      <th>1</th>\n",
       "      <td>2016-01-15 01:00:00</td>\n",
       "      <td>6.029369</td>\n",
       "      <td>9.968944</td>\n",
       "      <td>5.257781</td>\n",
       "      <td>42.701629</td>\n",
       "      <td>69.266198</td>\n",
       "      <td>10.462676</td>\n",
       "      <td>0.927452</td>\n",
       "      <td>16.634514</td>\n",
       "      <td>2.224930</td>\n",
       "      <td>...</td>\n",
       "      <td>13.992281</td>\n",
       "      <td>-505.503262</td>\n",
       "      <td>11.950531</td>\n",
       "      <td>-501.331529</td>\n",
       "      <td>10.039245</td>\n",
       "      <td>-500.169983</td>\n",
       "      <td>7.984757</td>\n",
       "      <td>-500.582168</td>\n",
       "      <td>13.998353</td>\n",
       "      <td>-599.787184</td>\n",
       "    </tr>\n",
       "    <tr>\n",
       "      <th>2</th>\n",
       "      <td>2016-01-15 02:00:00</td>\n",
       "      <td>6.055926</td>\n",
       "      <td>10.213995</td>\n",
       "      <td>5.383759</td>\n",
       "      <td>42.657501</td>\n",
       "      <td>68.116445</td>\n",
       "      <td>10.507046</td>\n",
       "      <td>0.953716</td>\n",
       "      <td>16.208849</td>\n",
       "      <td>2.257889</td>\n",
       "      <td>...</td>\n",
       "      <td>14.015015</td>\n",
       "      <td>-502.520901</td>\n",
       "      <td>11.912783</td>\n",
       "      <td>-501.133383</td>\n",
       "      <td>10.070913</td>\n",
       "      <td>-500.129135</td>\n",
       "      <td>8.013877</td>\n",
       "      <td>-500.517572</td>\n",
       "      <td>14.028663</td>\n",
       "      <td>-601.427363</td>\n",
       "    </tr>\n",
       "    <tr>\n",
       "      <th>3</th>\n",
       "      <td>2016-01-15 03:00:00</td>\n",
       "      <td>6.047977</td>\n",
       "      <td>9.977019</td>\n",
       "      <td>4.858634</td>\n",
       "      <td>42.689819</td>\n",
       "      <td>68.347543</td>\n",
       "      <td>10.422762</td>\n",
       "      <td>0.883763</td>\n",
       "      <td>16.532835</td>\n",
       "      <td>2.146849</td>\n",
       "      <td>...</td>\n",
       "      <td>14.036510</td>\n",
       "      <td>-500.857308</td>\n",
       "      <td>11.999550</td>\n",
       "      <td>-501.193686</td>\n",
       "      <td>9.970366</td>\n",
       "      <td>-499.201640</td>\n",
       "      <td>7.977324</td>\n",
       "      <td>-500.255908</td>\n",
       "      <td>14.005551</td>\n",
       "      <td>-599.996129</td>\n",
       "    </tr>\n",
       "    <tr>\n",
       "      <th>4</th>\n",
       "      <td>2016-01-15 04:00:00</td>\n",
       "      <td>6.148599</td>\n",
       "      <td>10.142511</td>\n",
       "      <td>4.939416</td>\n",
       "      <td>42.774141</td>\n",
       "      <td>66.927016</td>\n",
       "      <td>10.360302</td>\n",
       "      <td>0.792826</td>\n",
       "      <td>16.525686</td>\n",
       "      <td>2.055292</td>\n",
       "      <td>...</td>\n",
       "      <td>14.027298</td>\n",
       "      <td>-499.838632</td>\n",
       "      <td>11.953070</td>\n",
       "      <td>-501.053894</td>\n",
       "      <td>9.925709</td>\n",
       "      <td>-501.686727</td>\n",
       "      <td>7.894242</td>\n",
       "      <td>-500.356035</td>\n",
       "      <td>13.996647</td>\n",
       "      <td>-601.496691</td>\n",
       "    </tr>\n",
       "  </tbody>\n",
       "</table>\n",
       "<p>5 rows × 87 columns</p>\n",
       "</div>"
      ],
      "text/plain": [
       "                  date  final.output.concentrate_ag  \\\n",
       "0  2016-01-15 00:00:00                     6.055403   \n",
       "1  2016-01-15 01:00:00                     6.029369   \n",
       "2  2016-01-15 02:00:00                     6.055926   \n",
       "3  2016-01-15 03:00:00                     6.047977   \n",
       "4  2016-01-15 04:00:00                     6.148599   \n",
       "\n",
       "   final.output.concentrate_pb  final.output.concentrate_sol  \\\n",
       "0                     9.889648                      5.507324   \n",
       "1                     9.968944                      5.257781   \n",
       "2                    10.213995                      5.383759   \n",
       "3                     9.977019                      4.858634   \n",
       "4                    10.142511                      4.939416   \n",
       "\n",
       "   final.output.concentrate_au  final.output.recovery  final.output.tail_ag  \\\n",
       "0                    42.192020              70.541216             10.411962   \n",
       "1                    42.701629              69.266198             10.462676   \n",
       "2                    42.657501              68.116445             10.507046   \n",
       "3                    42.689819              68.347543             10.422762   \n",
       "4                    42.774141              66.927016             10.360302   \n",
       "\n",
       "   final.output.tail_pb  final.output.tail_sol  final.output.tail_au  ...  \\\n",
       "0              0.895447              16.904297              2.143149  ...   \n",
       "1              0.927452              16.634514              2.224930  ...   \n",
       "2              0.953716              16.208849              2.257889  ...   \n",
       "3              0.883763              16.532835              2.146849  ...   \n",
       "4              0.792826              16.525686              2.055292  ...   \n",
       "\n",
       "   secondary_cleaner.state.floatbank4_a_air  \\\n",
       "0                                 14.016835   \n",
       "1                                 13.992281   \n",
       "2                                 14.015015   \n",
       "3                                 14.036510   \n",
       "4                                 14.027298   \n",
       "\n",
       "   secondary_cleaner.state.floatbank4_a_level  \\\n",
       "0                                 -502.488007   \n",
       "1                                 -505.503262   \n",
       "2                                 -502.520901   \n",
       "3                                 -500.857308   \n",
       "4                                 -499.838632   \n",
       "\n",
       "   secondary_cleaner.state.floatbank4_b_air  \\\n",
       "0                                 12.099931   \n",
       "1                                 11.950531   \n",
       "2                                 11.912783   \n",
       "3                                 11.999550   \n",
       "4                                 11.953070   \n",
       "\n",
       "   secondary_cleaner.state.floatbank4_b_level  \\\n",
       "0                                 -504.715942   \n",
       "1                                 -501.331529   \n",
       "2                                 -501.133383   \n",
       "3                                 -501.193686   \n",
       "4                                 -501.053894   \n",
       "\n",
       "   secondary_cleaner.state.floatbank5_a_air  \\\n",
       "0                                  9.925633   \n",
       "1                                 10.039245   \n",
       "2                                 10.070913   \n",
       "3                                  9.970366   \n",
       "4                                  9.925709   \n",
       "\n",
       "   secondary_cleaner.state.floatbank5_a_level  \\\n",
       "0                                 -498.310211   \n",
       "1                                 -500.169983   \n",
       "2                                 -500.129135   \n",
       "3                                 -499.201640   \n",
       "4                                 -501.686727   \n",
       "\n",
       "   secondary_cleaner.state.floatbank5_b_air  \\\n",
       "0                                  8.079666   \n",
       "1                                  7.984757   \n",
       "2                                  8.013877   \n",
       "3                                  7.977324   \n",
       "4                                  7.894242   \n",
       "\n",
       "   secondary_cleaner.state.floatbank5_b_level  \\\n",
       "0                                 -500.470978   \n",
       "1                                 -500.582168   \n",
       "2                                 -500.517572   \n",
       "3                                 -500.255908   \n",
       "4                                 -500.356035   \n",
       "\n",
       "   secondary_cleaner.state.floatbank6_a_air  \\\n",
       "0                                 14.151341   \n",
       "1                                 13.998353   \n",
       "2                                 14.028663   \n",
       "3                                 14.005551   \n",
       "4                                 13.996647   \n",
       "\n",
       "   secondary_cleaner.state.floatbank6_a_level  \n",
       "0                                 -605.841980  \n",
       "1                                 -599.787184  \n",
       "2                                 -601.427363  \n",
       "3                                 -599.996129  \n",
       "4                                 -601.496691  \n",
       "\n",
       "[5 rows x 87 columns]"
      ]
     },
     "execution_count": 5,
     "metadata": {},
     "output_type": "execute_result"
    }
   ],
   "source": [
    "train_data.head()"
   ]
  },
  {
   "cell_type": "code",
   "execution_count": 6,
   "metadata": {
    "collapsed": true
   },
   "outputs": [
    {
     "data": {
      "text/plain": [
       "date                                            0\n",
       "final.output.concentrate_ag                    72\n",
       "final.output.concentrate_pb                    72\n",
       "final.output.concentrate_sol                  370\n",
       "final.output.concentrate_au                    71\n",
       "                                             ... \n",
       "secondary_cleaner.state.floatbank5_a_level     85\n",
       "secondary_cleaner.state.floatbank5_b_air       85\n",
       "secondary_cleaner.state.floatbank5_b_level     84\n",
       "secondary_cleaner.state.floatbank6_a_air      103\n",
       "secondary_cleaner.state.floatbank6_a_level     85\n",
       "Length: 87, dtype: int64"
      ]
     },
     "execution_count": 6,
     "metadata": {},
     "output_type": "execute_result"
    }
   ],
   "source": [
    "train_data.isnull().sum()"
   ]
  },
  {
   "cell_type": "markdown",
   "metadata": {},
   "source": [
    "### Test Data"
   ]
  },
  {
   "cell_type": "code",
   "execution_count": 7,
   "metadata": {
    "collapsed": true
   },
   "outputs": [
    {
     "name": "stdout",
     "output_type": "stream",
     "text": [
      "<class 'pandas.core.frame.DataFrame'>\n",
      "RangeIndex: 5856 entries, 0 to 5855\n",
      "Data columns (total 53 columns):\n",
      " #   Column                                      Non-Null Count  Dtype  \n",
      "---  ------                                      --------------  -----  \n",
      " 0   date                                        5856 non-null   object \n",
      " 1   primary_cleaner.input.sulfate               5554 non-null   float64\n",
      " 2   primary_cleaner.input.depressant            5572 non-null   float64\n",
      " 3   primary_cleaner.input.feed_size             5856 non-null   float64\n",
      " 4   primary_cleaner.input.xanthate              5690 non-null   float64\n",
      " 5   primary_cleaner.state.floatbank8_a_air      5840 non-null   float64\n",
      " 6   primary_cleaner.state.floatbank8_a_level    5840 non-null   float64\n",
      " 7   primary_cleaner.state.floatbank8_b_air      5840 non-null   float64\n",
      " 8   primary_cleaner.state.floatbank8_b_level    5840 non-null   float64\n",
      " 9   primary_cleaner.state.floatbank8_c_air      5840 non-null   float64\n",
      " 10  primary_cleaner.state.floatbank8_c_level    5840 non-null   float64\n",
      " 11  primary_cleaner.state.floatbank8_d_air      5840 non-null   float64\n",
      " 12  primary_cleaner.state.floatbank8_d_level    5840 non-null   float64\n",
      " 13  rougher.input.feed_ag                       5840 non-null   float64\n",
      " 14  rougher.input.feed_pb                       5840 non-null   float64\n",
      " 15  rougher.input.feed_rate                     5816 non-null   float64\n",
      " 16  rougher.input.feed_size                     5834 non-null   float64\n",
      " 17  rougher.input.feed_sol                      5789 non-null   float64\n",
      " 18  rougher.input.feed_au                       5840 non-null   float64\n",
      " 19  rougher.input.floatbank10_sulfate           5599 non-null   float64\n",
      " 20  rougher.input.floatbank10_xanthate          5733 non-null   float64\n",
      " 21  rougher.input.floatbank11_sulfate           5801 non-null   float64\n",
      " 22  rougher.input.floatbank11_xanthate          5503 non-null   float64\n",
      " 23  rougher.state.floatbank10_a_air             5839 non-null   float64\n",
      " 24  rougher.state.floatbank10_a_level           5840 non-null   float64\n",
      " 25  rougher.state.floatbank10_b_air             5839 non-null   float64\n",
      " 26  rougher.state.floatbank10_b_level           5840 non-null   float64\n",
      " 27  rougher.state.floatbank10_c_air             5839 non-null   float64\n",
      " 28  rougher.state.floatbank10_c_level           5840 non-null   float64\n",
      " 29  rougher.state.floatbank10_d_air             5839 non-null   float64\n",
      " 30  rougher.state.floatbank10_d_level           5840 non-null   float64\n",
      " 31  rougher.state.floatbank10_e_air             5839 non-null   float64\n",
      " 32  rougher.state.floatbank10_e_level           5840 non-null   float64\n",
      " 33  rougher.state.floatbank10_f_air             5839 non-null   float64\n",
      " 34  rougher.state.floatbank10_f_level           5840 non-null   float64\n",
      " 35  secondary_cleaner.state.floatbank2_a_air    5836 non-null   float64\n",
      " 36  secondary_cleaner.state.floatbank2_a_level  5840 non-null   float64\n",
      " 37  secondary_cleaner.state.floatbank2_b_air    5833 non-null   float64\n",
      " 38  secondary_cleaner.state.floatbank2_b_level  5840 non-null   float64\n",
      " 39  secondary_cleaner.state.floatbank3_a_air    5822 non-null   float64\n",
      " 40  secondary_cleaner.state.floatbank3_a_level  5840 non-null   float64\n",
      " 41  secondary_cleaner.state.floatbank3_b_air    5840 non-null   float64\n",
      " 42  secondary_cleaner.state.floatbank3_b_level  5840 non-null   float64\n",
      " 43  secondary_cleaner.state.floatbank4_a_air    5840 non-null   float64\n",
      " 44  secondary_cleaner.state.floatbank4_a_level  5840 non-null   float64\n",
      " 45  secondary_cleaner.state.floatbank4_b_air    5840 non-null   float64\n",
      " 46  secondary_cleaner.state.floatbank4_b_level  5840 non-null   float64\n",
      " 47  secondary_cleaner.state.floatbank5_a_air    5840 non-null   float64\n",
      " 48  secondary_cleaner.state.floatbank5_a_level  5840 non-null   float64\n",
      " 49  secondary_cleaner.state.floatbank5_b_air    5840 non-null   float64\n",
      " 50  secondary_cleaner.state.floatbank5_b_level  5840 non-null   float64\n",
      " 51  secondary_cleaner.state.floatbank6_a_air    5840 non-null   float64\n",
      " 52  secondary_cleaner.state.floatbank6_a_level  5840 non-null   float64\n",
      "dtypes: float64(52), object(1)\n",
      "memory usage: 2.4+ MB\n"
     ]
    }
   ],
   "source": [
    "test_data.info()"
   ]
  },
  {
   "cell_type": "code",
   "execution_count": 8,
   "metadata": {
    "collapsed": true
   },
   "outputs": [
    {
     "data": {
      "text/html": [
       "<div>\n",
       "<style scoped>\n",
       "    .dataframe tbody tr th:only-of-type {\n",
       "        vertical-align: middle;\n",
       "    }\n",
       "\n",
       "    .dataframe tbody tr th {\n",
       "        vertical-align: top;\n",
       "    }\n",
       "\n",
       "    .dataframe thead th {\n",
       "        text-align: right;\n",
       "    }\n",
       "</style>\n",
       "<table border=\"1\" class=\"dataframe\">\n",
       "  <thead>\n",
       "    <tr style=\"text-align: right;\">\n",
       "      <th></th>\n",
       "      <th>date</th>\n",
       "      <th>primary_cleaner.input.sulfate</th>\n",
       "      <th>primary_cleaner.input.depressant</th>\n",
       "      <th>primary_cleaner.input.feed_size</th>\n",
       "      <th>primary_cleaner.input.xanthate</th>\n",
       "      <th>primary_cleaner.state.floatbank8_a_air</th>\n",
       "      <th>primary_cleaner.state.floatbank8_a_level</th>\n",
       "      <th>primary_cleaner.state.floatbank8_b_air</th>\n",
       "      <th>primary_cleaner.state.floatbank8_b_level</th>\n",
       "      <th>primary_cleaner.state.floatbank8_c_air</th>\n",
       "      <th>...</th>\n",
       "      <th>secondary_cleaner.state.floatbank4_a_air</th>\n",
       "      <th>secondary_cleaner.state.floatbank4_a_level</th>\n",
       "      <th>secondary_cleaner.state.floatbank4_b_air</th>\n",
       "      <th>secondary_cleaner.state.floatbank4_b_level</th>\n",
       "      <th>secondary_cleaner.state.floatbank5_a_air</th>\n",
       "      <th>secondary_cleaner.state.floatbank5_a_level</th>\n",
       "      <th>secondary_cleaner.state.floatbank5_b_air</th>\n",
       "      <th>secondary_cleaner.state.floatbank5_b_level</th>\n",
       "      <th>secondary_cleaner.state.floatbank6_a_air</th>\n",
       "      <th>secondary_cleaner.state.floatbank6_a_level</th>\n",
       "    </tr>\n",
       "  </thead>\n",
       "  <tbody>\n",
       "    <tr>\n",
       "      <th>0</th>\n",
       "      <td>2016-09-01 00:59:59</td>\n",
       "      <td>210.800909</td>\n",
       "      <td>14.993118</td>\n",
       "      <td>8.080000</td>\n",
       "      <td>1.005021</td>\n",
       "      <td>1398.981301</td>\n",
       "      <td>-500.225577</td>\n",
       "      <td>1399.144926</td>\n",
       "      <td>-499.919735</td>\n",
       "      <td>1400.102998</td>\n",
       "      <td>...</td>\n",
       "      <td>12.023554</td>\n",
       "      <td>-497.795834</td>\n",
       "      <td>8.016656</td>\n",
       "      <td>-501.289139</td>\n",
       "      <td>7.946562</td>\n",
       "      <td>-432.317850</td>\n",
       "      <td>4.872511</td>\n",
       "      <td>-500.037437</td>\n",
       "      <td>26.705889</td>\n",
       "      <td>-499.709414</td>\n",
       "    </tr>\n",
       "    <tr>\n",
       "      <th>1</th>\n",
       "      <td>2016-09-01 01:59:59</td>\n",
       "      <td>215.392455</td>\n",
       "      <td>14.987471</td>\n",
       "      <td>8.080000</td>\n",
       "      <td>0.990469</td>\n",
       "      <td>1398.777912</td>\n",
       "      <td>-500.057435</td>\n",
       "      <td>1398.055362</td>\n",
       "      <td>-499.778182</td>\n",
       "      <td>1396.151033</td>\n",
       "      <td>...</td>\n",
       "      <td>12.058140</td>\n",
       "      <td>-498.695773</td>\n",
       "      <td>8.130979</td>\n",
       "      <td>-499.634209</td>\n",
       "      <td>7.958270</td>\n",
       "      <td>-525.839648</td>\n",
       "      <td>4.878850</td>\n",
       "      <td>-500.162375</td>\n",
       "      <td>25.019940</td>\n",
       "      <td>-499.819438</td>\n",
       "    </tr>\n",
       "    <tr>\n",
       "      <th>2</th>\n",
       "      <td>2016-09-01 02:59:59</td>\n",
       "      <td>215.259946</td>\n",
       "      <td>12.884934</td>\n",
       "      <td>7.786667</td>\n",
       "      <td>0.996043</td>\n",
       "      <td>1398.493666</td>\n",
       "      <td>-500.868360</td>\n",
       "      <td>1398.860436</td>\n",
       "      <td>-499.764529</td>\n",
       "      <td>1398.075709</td>\n",
       "      <td>...</td>\n",
       "      <td>11.962366</td>\n",
       "      <td>-498.767484</td>\n",
       "      <td>8.096893</td>\n",
       "      <td>-500.827423</td>\n",
       "      <td>8.071056</td>\n",
       "      <td>-500.801673</td>\n",
       "      <td>4.905125</td>\n",
       "      <td>-499.828510</td>\n",
       "      <td>24.994862</td>\n",
       "      <td>-500.622559</td>\n",
       "    </tr>\n",
       "    <tr>\n",
       "      <th>3</th>\n",
       "      <td>2016-09-01 03:59:59</td>\n",
       "      <td>215.336236</td>\n",
       "      <td>12.006805</td>\n",
       "      <td>7.640000</td>\n",
       "      <td>0.863514</td>\n",
       "      <td>1399.618111</td>\n",
       "      <td>-498.863574</td>\n",
       "      <td>1397.440120</td>\n",
       "      <td>-499.211024</td>\n",
       "      <td>1400.129303</td>\n",
       "      <td>...</td>\n",
       "      <td>12.033091</td>\n",
       "      <td>-498.350935</td>\n",
       "      <td>8.074946</td>\n",
       "      <td>-499.474407</td>\n",
       "      <td>7.897085</td>\n",
       "      <td>-500.868509</td>\n",
       "      <td>4.931400</td>\n",
       "      <td>-499.963623</td>\n",
       "      <td>24.948919</td>\n",
       "      <td>-498.709987</td>\n",
       "    </tr>\n",
       "    <tr>\n",
       "      <th>4</th>\n",
       "      <td>2016-09-01 04:59:59</td>\n",
       "      <td>199.099327</td>\n",
       "      <td>10.682530</td>\n",
       "      <td>7.530000</td>\n",
       "      <td>0.805575</td>\n",
       "      <td>1401.268123</td>\n",
       "      <td>-500.808305</td>\n",
       "      <td>1398.128818</td>\n",
       "      <td>-499.504543</td>\n",
       "      <td>1402.172226</td>\n",
       "      <td>...</td>\n",
       "      <td>12.025367</td>\n",
       "      <td>-500.786497</td>\n",
       "      <td>8.054678</td>\n",
       "      <td>-500.397500</td>\n",
       "      <td>8.107890</td>\n",
       "      <td>-509.526725</td>\n",
       "      <td>4.957674</td>\n",
       "      <td>-500.360026</td>\n",
       "      <td>25.003331</td>\n",
       "      <td>-500.856333</td>\n",
       "    </tr>\n",
       "  </tbody>\n",
       "</table>\n",
       "<p>5 rows × 53 columns</p>\n",
       "</div>"
      ],
      "text/plain": [
       "                  date  primary_cleaner.input.sulfate  \\\n",
       "0  2016-09-01 00:59:59                     210.800909   \n",
       "1  2016-09-01 01:59:59                     215.392455   \n",
       "2  2016-09-01 02:59:59                     215.259946   \n",
       "3  2016-09-01 03:59:59                     215.336236   \n",
       "4  2016-09-01 04:59:59                     199.099327   \n",
       "\n",
       "   primary_cleaner.input.depressant  primary_cleaner.input.feed_size  \\\n",
       "0                         14.993118                         8.080000   \n",
       "1                         14.987471                         8.080000   \n",
       "2                         12.884934                         7.786667   \n",
       "3                         12.006805                         7.640000   \n",
       "4                         10.682530                         7.530000   \n",
       "\n",
       "   primary_cleaner.input.xanthate  primary_cleaner.state.floatbank8_a_air  \\\n",
       "0                        1.005021                             1398.981301   \n",
       "1                        0.990469                             1398.777912   \n",
       "2                        0.996043                             1398.493666   \n",
       "3                        0.863514                             1399.618111   \n",
       "4                        0.805575                             1401.268123   \n",
       "\n",
       "   primary_cleaner.state.floatbank8_a_level  \\\n",
       "0                               -500.225577   \n",
       "1                               -500.057435   \n",
       "2                               -500.868360   \n",
       "3                               -498.863574   \n",
       "4                               -500.808305   \n",
       "\n",
       "   primary_cleaner.state.floatbank8_b_air  \\\n",
       "0                             1399.144926   \n",
       "1                             1398.055362   \n",
       "2                             1398.860436   \n",
       "3                             1397.440120   \n",
       "4                             1398.128818   \n",
       "\n",
       "   primary_cleaner.state.floatbank8_b_level  \\\n",
       "0                               -499.919735   \n",
       "1                               -499.778182   \n",
       "2                               -499.764529   \n",
       "3                               -499.211024   \n",
       "4                               -499.504543   \n",
       "\n",
       "   primary_cleaner.state.floatbank8_c_air  ...  \\\n",
       "0                             1400.102998  ...   \n",
       "1                             1396.151033  ...   \n",
       "2                             1398.075709  ...   \n",
       "3                             1400.129303  ...   \n",
       "4                             1402.172226  ...   \n",
       "\n",
       "   secondary_cleaner.state.floatbank4_a_air  \\\n",
       "0                                 12.023554   \n",
       "1                                 12.058140   \n",
       "2                                 11.962366   \n",
       "3                                 12.033091   \n",
       "4                                 12.025367   \n",
       "\n",
       "   secondary_cleaner.state.floatbank4_a_level  \\\n",
       "0                                 -497.795834   \n",
       "1                                 -498.695773   \n",
       "2                                 -498.767484   \n",
       "3                                 -498.350935   \n",
       "4                                 -500.786497   \n",
       "\n",
       "   secondary_cleaner.state.floatbank4_b_air  \\\n",
       "0                                  8.016656   \n",
       "1                                  8.130979   \n",
       "2                                  8.096893   \n",
       "3                                  8.074946   \n",
       "4                                  8.054678   \n",
       "\n",
       "   secondary_cleaner.state.floatbank4_b_level  \\\n",
       "0                                 -501.289139   \n",
       "1                                 -499.634209   \n",
       "2                                 -500.827423   \n",
       "3                                 -499.474407   \n",
       "4                                 -500.397500   \n",
       "\n",
       "   secondary_cleaner.state.floatbank5_a_air  \\\n",
       "0                                  7.946562   \n",
       "1                                  7.958270   \n",
       "2                                  8.071056   \n",
       "3                                  7.897085   \n",
       "4                                  8.107890   \n",
       "\n",
       "   secondary_cleaner.state.floatbank5_a_level  \\\n",
       "0                                 -432.317850   \n",
       "1                                 -525.839648   \n",
       "2                                 -500.801673   \n",
       "3                                 -500.868509   \n",
       "4                                 -509.526725   \n",
       "\n",
       "   secondary_cleaner.state.floatbank5_b_air  \\\n",
       "0                                  4.872511   \n",
       "1                                  4.878850   \n",
       "2                                  4.905125   \n",
       "3                                  4.931400   \n",
       "4                                  4.957674   \n",
       "\n",
       "   secondary_cleaner.state.floatbank5_b_level  \\\n",
       "0                                 -500.037437   \n",
       "1                                 -500.162375   \n",
       "2                                 -499.828510   \n",
       "3                                 -499.963623   \n",
       "4                                 -500.360026   \n",
       "\n",
       "   secondary_cleaner.state.floatbank6_a_air  \\\n",
       "0                                 26.705889   \n",
       "1                                 25.019940   \n",
       "2                                 24.994862   \n",
       "3                                 24.948919   \n",
       "4                                 25.003331   \n",
       "\n",
       "   secondary_cleaner.state.floatbank6_a_level  \n",
       "0                                 -499.709414  \n",
       "1                                 -499.819438  \n",
       "2                                 -500.622559  \n",
       "3                                 -498.709987  \n",
       "4                                 -500.856333  \n",
       "\n",
       "[5 rows x 53 columns]"
      ]
     },
     "execution_count": 8,
     "metadata": {},
     "output_type": "execute_result"
    }
   ],
   "source": [
    "test_data.head()"
   ]
  },
  {
   "cell_type": "code",
   "execution_count": 9,
   "metadata": {
    "collapsed": true
   },
   "outputs": [
    {
     "data": {
      "text/plain": [
       "date                                            0\n",
       "primary_cleaner.input.sulfate                 302\n",
       "primary_cleaner.input.depressant              284\n",
       "primary_cleaner.input.feed_size                 0\n",
       "primary_cleaner.input.xanthate                166\n",
       "primary_cleaner.state.floatbank8_a_air         16\n",
       "primary_cleaner.state.floatbank8_a_level       16\n",
       "primary_cleaner.state.floatbank8_b_air         16\n",
       "primary_cleaner.state.floatbank8_b_level       16\n",
       "primary_cleaner.state.floatbank8_c_air         16\n",
       "primary_cleaner.state.floatbank8_c_level       16\n",
       "primary_cleaner.state.floatbank8_d_air         16\n",
       "primary_cleaner.state.floatbank8_d_level       16\n",
       "rougher.input.feed_ag                          16\n",
       "rougher.input.feed_pb                          16\n",
       "rougher.input.feed_rate                        40\n",
       "rougher.input.feed_size                        22\n",
       "rougher.input.feed_sol                         67\n",
       "rougher.input.feed_au                          16\n",
       "rougher.input.floatbank10_sulfate             257\n",
       "rougher.input.floatbank10_xanthate            123\n",
       "rougher.input.floatbank11_sulfate              55\n",
       "rougher.input.floatbank11_xanthate            353\n",
       "rougher.state.floatbank10_a_air                17\n",
       "rougher.state.floatbank10_a_level              16\n",
       "rougher.state.floatbank10_b_air                17\n",
       "rougher.state.floatbank10_b_level              16\n",
       "rougher.state.floatbank10_c_air                17\n",
       "rougher.state.floatbank10_c_level              16\n",
       "rougher.state.floatbank10_d_air                17\n",
       "rougher.state.floatbank10_d_level              16\n",
       "rougher.state.floatbank10_e_air                17\n",
       "rougher.state.floatbank10_e_level              16\n",
       "rougher.state.floatbank10_f_air                17\n",
       "rougher.state.floatbank10_f_level              16\n",
       "secondary_cleaner.state.floatbank2_a_air       20\n",
       "secondary_cleaner.state.floatbank2_a_level     16\n",
       "secondary_cleaner.state.floatbank2_b_air       23\n",
       "secondary_cleaner.state.floatbank2_b_level     16\n",
       "secondary_cleaner.state.floatbank3_a_air       34\n",
       "secondary_cleaner.state.floatbank3_a_level     16\n",
       "secondary_cleaner.state.floatbank3_b_air       16\n",
       "secondary_cleaner.state.floatbank3_b_level     16\n",
       "secondary_cleaner.state.floatbank4_a_air       16\n",
       "secondary_cleaner.state.floatbank4_a_level     16\n",
       "secondary_cleaner.state.floatbank4_b_air       16\n",
       "secondary_cleaner.state.floatbank4_b_level     16\n",
       "secondary_cleaner.state.floatbank5_a_air       16\n",
       "secondary_cleaner.state.floatbank5_a_level     16\n",
       "secondary_cleaner.state.floatbank5_b_air       16\n",
       "secondary_cleaner.state.floatbank5_b_level     16\n",
       "secondary_cleaner.state.floatbank6_a_air       16\n",
       "secondary_cleaner.state.floatbank6_a_level     16\n",
       "dtype: int64"
      ]
     },
     "execution_count": 9,
     "metadata": {},
     "output_type": "execute_result"
    }
   ],
   "source": [
    "test_data.isnull().sum()"
   ]
  },
  {
   "cell_type": "markdown",
   "metadata": {},
   "source": [
    "### Full Data"
   ]
  },
  {
   "cell_type": "code",
   "execution_count": 10,
   "metadata": {
    "collapsed": true
   },
   "outputs": [
    {
     "name": "stdout",
     "output_type": "stream",
     "text": [
      "<class 'pandas.core.frame.DataFrame'>\n",
      "RangeIndex: 22716 entries, 0 to 22715\n",
      "Data columns (total 87 columns):\n",
      " #   Column                                              Non-Null Count  Dtype  \n",
      "---  ------                                              --------------  -----  \n",
      " 0   date                                                22716 non-null  object \n",
      " 1   final.output.concentrate_ag                         22627 non-null  float64\n",
      " 2   final.output.concentrate_pb                         22629 non-null  float64\n",
      " 3   final.output.concentrate_sol                        22331 non-null  float64\n",
      " 4   final.output.concentrate_au                         22630 non-null  float64\n",
      " 5   final.output.recovery                               20753 non-null  float64\n",
      " 6   final.output.tail_ag                                22633 non-null  float64\n",
      " 7   final.output.tail_pb                                22516 non-null  float64\n",
      " 8   final.output.tail_sol                               22445 non-null  float64\n",
      " 9   final.output.tail_au                                22635 non-null  float64\n",
      " 10  primary_cleaner.input.sulfate                       21107 non-null  float64\n",
      " 11  primary_cleaner.input.depressant                    21170 non-null  float64\n",
      " 12  primary_cleaner.input.feed_size                     22716 non-null  float64\n",
      " 13  primary_cleaner.input.xanthate                      21565 non-null  float64\n",
      " 14  primary_cleaner.output.concentrate_ag               22618 non-null  float64\n",
      " 15  primary_cleaner.output.concentrate_pb               22268 non-null  float64\n",
      " 16  primary_cleaner.output.concentrate_sol              21918 non-null  float64\n",
      " 17  primary_cleaner.output.concentrate_au               22618 non-null  float64\n",
      " 18  primary_cleaner.output.tail_ag                      22614 non-null  float64\n",
      " 19  primary_cleaner.output.tail_pb                      22594 non-null  float64\n",
      " 20  primary_cleaner.output.tail_sol                     22365 non-null  float64\n",
      " 21  primary_cleaner.output.tail_au                      22617 non-null  float64\n",
      " 22  primary_cleaner.state.floatbank8_a_air              22660 non-null  float64\n",
      " 23  primary_cleaner.state.floatbank8_a_level            22667 non-null  float64\n",
      " 24  primary_cleaner.state.floatbank8_b_air              22660 non-null  float64\n",
      " 25  primary_cleaner.state.floatbank8_b_level            22673 non-null  float64\n",
      " 26  primary_cleaner.state.floatbank8_c_air              22662 non-null  float64\n",
      " 27  primary_cleaner.state.floatbank8_c_level            22673 non-null  float64\n",
      " 28  primary_cleaner.state.floatbank8_d_air              22661 non-null  float64\n",
      " 29  primary_cleaner.state.floatbank8_d_level            22673 non-null  float64\n",
      " 30  rougher.calculation.sulfate_to_au_concentrate       22672 non-null  float64\n",
      " 31  rougher.calculation.floatbank10_sulfate_to_au_feed  22672 non-null  float64\n",
      " 32  rougher.calculation.floatbank11_sulfate_to_au_feed  22672 non-null  float64\n",
      " 33  rougher.calculation.au_pb_ratio                     21089 non-null  float64\n",
      " 34  rougher.input.feed_ag                               22618 non-null  float64\n",
      " 35  rougher.input.feed_pb                               22472 non-null  float64\n",
      " 36  rougher.input.feed_rate                             22163 non-null  float64\n",
      " 37  rougher.input.feed_size                             22277 non-null  float64\n",
      " 38  rougher.input.feed_sol                              22357 non-null  float64\n",
      " 39  rougher.input.feed_au                               22617 non-null  float64\n",
      " 40  rougher.input.floatbank10_sulfate                   21415 non-null  float64\n",
      " 41  rougher.input.floatbank10_xanthate                  22247 non-null  float64\n",
      " 42  rougher.input.floatbank11_sulfate                   22038 non-null  float64\n",
      " 43  rougher.input.floatbank11_xanthate                  20459 non-null  float64\n",
      " 44  rougher.output.concentrate_ag                       22618 non-null  float64\n",
      " 45  rougher.output.concentrate_pb                       22618 non-null  float64\n",
      " 46  rougher.output.concentrate_sol                      22526 non-null  float64\n",
      " 47  rougher.output.concentrate_au                       22618 non-null  float64\n",
      " 48  rougher.output.recovery                             19597 non-null  float64\n",
      " 49  rougher.output.tail_ag                              19979 non-null  float64\n",
      " 50  rougher.output.tail_pb                              22618 non-null  float64\n",
      " 51  rougher.output.tail_sol                             19980 non-null  float64\n",
      " 52  rougher.output.tail_au                              19980 non-null  float64\n",
      " 53  rougher.state.floatbank10_a_air                     22646 non-null  float64\n",
      " 54  rougher.state.floatbank10_a_level                   22647 non-null  float64\n",
      " 55  rougher.state.floatbank10_b_air                     22646 non-null  float64\n",
      " 56  rougher.state.floatbank10_b_level                   22647 non-null  float64\n",
      " 57  rougher.state.floatbank10_c_air                     22646 non-null  float64\n",
      " 58  rougher.state.floatbank10_c_level                   22654 non-null  float64\n",
      " 59  rougher.state.floatbank10_d_air                     22641 non-null  float64\n",
      " 60  rougher.state.floatbank10_d_level                   22649 non-null  float64\n",
      " 61  rougher.state.floatbank10_e_air                     22096 non-null  float64\n",
      " 62  rougher.state.floatbank10_e_level                   22649 non-null  float64\n",
      " 63  rougher.state.floatbank10_f_air                     22641 non-null  float64\n",
      " 64  rougher.state.floatbank10_f_level                   22642 non-null  float64\n",
      " 65  secondary_cleaner.output.tail_ag                    22616 non-null  float64\n",
      " 66  secondary_cleaner.output.tail_pb                    22600 non-null  float64\n",
      " 67  secondary_cleaner.output.tail_sol                   20501 non-null  float64\n",
      " 68  secondary_cleaner.output.tail_au                    22618 non-null  float64\n",
      " 69  secondary_cleaner.state.floatbank2_a_air            22333 non-null  float64\n",
      " 70  secondary_cleaner.state.floatbank2_a_level          22591 non-null  float64\n",
      " 71  secondary_cleaner.state.floatbank2_b_air            22538 non-null  float64\n",
      " 72  secondary_cleaner.state.floatbank2_b_level          22588 non-null  float64\n",
      " 73  secondary_cleaner.state.floatbank3_a_air            22585 non-null  float64\n",
      " 74  secondary_cleaner.state.floatbank3_a_level          22587 non-null  float64\n",
      " 75  secondary_cleaner.state.floatbank3_b_air            22592 non-null  float64\n",
      " 76  secondary_cleaner.state.floatbank3_b_level          22590 non-null  float64\n",
      " 77  secondary_cleaner.state.floatbank4_a_air            22571 non-null  float64\n",
      " 78  secondary_cleaner.state.floatbank4_a_level          22587 non-null  float64\n",
      " 79  secondary_cleaner.state.floatbank4_b_air            22608 non-null  float64\n",
      " 80  secondary_cleaner.state.floatbank4_b_level          22607 non-null  float64\n",
      " 81  secondary_cleaner.state.floatbank5_a_air            22615 non-null  float64\n",
      " 82  secondary_cleaner.state.floatbank5_a_level          22615 non-null  float64\n",
      " 83  secondary_cleaner.state.floatbank5_b_air            22615 non-null  float64\n",
      " 84  secondary_cleaner.state.floatbank5_b_level          22616 non-null  float64\n",
      " 85  secondary_cleaner.state.floatbank6_a_air            22597 non-null  float64\n",
      " 86  secondary_cleaner.state.floatbank6_a_level          22615 non-null  float64\n",
      "dtypes: float64(86), object(1)\n",
      "memory usage: 15.1+ MB\n"
     ]
    }
   ],
   "source": [
    "full_data.info()"
   ]
  },
  {
   "cell_type": "code",
   "execution_count": 11,
   "metadata": {
    "collapsed": true
   },
   "outputs": [
    {
     "data": {
      "text/html": [
       "<div>\n",
       "<style scoped>\n",
       "    .dataframe tbody tr th:only-of-type {\n",
       "        vertical-align: middle;\n",
       "    }\n",
       "\n",
       "    .dataframe tbody tr th {\n",
       "        vertical-align: top;\n",
       "    }\n",
       "\n",
       "    .dataframe thead th {\n",
       "        text-align: right;\n",
       "    }\n",
       "</style>\n",
       "<table border=\"1\" class=\"dataframe\">\n",
       "  <thead>\n",
       "    <tr style=\"text-align: right;\">\n",
       "      <th></th>\n",
       "      <th>date</th>\n",
       "      <th>final.output.concentrate_ag</th>\n",
       "      <th>final.output.concentrate_pb</th>\n",
       "      <th>final.output.concentrate_sol</th>\n",
       "      <th>final.output.concentrate_au</th>\n",
       "      <th>final.output.recovery</th>\n",
       "      <th>final.output.tail_ag</th>\n",
       "      <th>final.output.tail_pb</th>\n",
       "      <th>final.output.tail_sol</th>\n",
       "      <th>final.output.tail_au</th>\n",
       "      <th>...</th>\n",
       "      <th>secondary_cleaner.state.floatbank4_a_air</th>\n",
       "      <th>secondary_cleaner.state.floatbank4_a_level</th>\n",
       "      <th>secondary_cleaner.state.floatbank4_b_air</th>\n",
       "      <th>secondary_cleaner.state.floatbank4_b_level</th>\n",
       "      <th>secondary_cleaner.state.floatbank5_a_air</th>\n",
       "      <th>secondary_cleaner.state.floatbank5_a_level</th>\n",
       "      <th>secondary_cleaner.state.floatbank5_b_air</th>\n",
       "      <th>secondary_cleaner.state.floatbank5_b_level</th>\n",
       "      <th>secondary_cleaner.state.floatbank6_a_air</th>\n",
       "      <th>secondary_cleaner.state.floatbank6_a_level</th>\n",
       "    </tr>\n",
       "  </thead>\n",
       "  <tbody>\n",
       "    <tr>\n",
       "      <th>0</th>\n",
       "      <td>2016-01-15 00:00:00</td>\n",
       "      <td>6.055403</td>\n",
       "      <td>9.889648</td>\n",
       "      <td>5.507324</td>\n",
       "      <td>42.192020</td>\n",
       "      <td>70.541216</td>\n",
       "      <td>10.411962</td>\n",
       "      <td>0.895447</td>\n",
       "      <td>16.904297</td>\n",
       "      <td>2.143149</td>\n",
       "      <td>...</td>\n",
       "      <td>14.016835</td>\n",
       "      <td>-502.488007</td>\n",
       "      <td>12.099931</td>\n",
       "      <td>-504.715942</td>\n",
       "      <td>9.925633</td>\n",
       "      <td>-498.310211</td>\n",
       "      <td>8.079666</td>\n",
       "      <td>-500.470978</td>\n",
       "      <td>14.151341</td>\n",
       "      <td>-605.841980</td>\n",
       "    </tr>\n",
       "    <tr>\n",
       "      <th>1</th>\n",
       "      <td>2016-01-15 01:00:00</td>\n",
       "      <td>6.029369</td>\n",
       "      <td>9.968944</td>\n",
       "      <td>5.257781</td>\n",
       "      <td>42.701629</td>\n",
       "      <td>69.266198</td>\n",
       "      <td>10.462676</td>\n",
       "      <td>0.927452</td>\n",
       "      <td>16.634514</td>\n",
       "      <td>2.224930</td>\n",
       "      <td>...</td>\n",
       "      <td>13.992281</td>\n",
       "      <td>-505.503262</td>\n",
       "      <td>11.950531</td>\n",
       "      <td>-501.331529</td>\n",
       "      <td>10.039245</td>\n",
       "      <td>-500.169983</td>\n",
       "      <td>7.984757</td>\n",
       "      <td>-500.582168</td>\n",
       "      <td>13.998353</td>\n",
       "      <td>-599.787184</td>\n",
       "    </tr>\n",
       "    <tr>\n",
       "      <th>2</th>\n",
       "      <td>2016-01-15 02:00:00</td>\n",
       "      <td>6.055926</td>\n",
       "      <td>10.213995</td>\n",
       "      <td>5.383759</td>\n",
       "      <td>42.657501</td>\n",
       "      <td>68.116445</td>\n",
       "      <td>10.507046</td>\n",
       "      <td>0.953716</td>\n",
       "      <td>16.208849</td>\n",
       "      <td>2.257889</td>\n",
       "      <td>...</td>\n",
       "      <td>14.015015</td>\n",
       "      <td>-502.520901</td>\n",
       "      <td>11.912783</td>\n",
       "      <td>-501.133383</td>\n",
       "      <td>10.070913</td>\n",
       "      <td>-500.129135</td>\n",
       "      <td>8.013877</td>\n",
       "      <td>-500.517572</td>\n",
       "      <td>14.028663</td>\n",
       "      <td>-601.427363</td>\n",
       "    </tr>\n",
       "    <tr>\n",
       "      <th>3</th>\n",
       "      <td>2016-01-15 03:00:00</td>\n",
       "      <td>6.047977</td>\n",
       "      <td>9.977019</td>\n",
       "      <td>4.858634</td>\n",
       "      <td>42.689819</td>\n",
       "      <td>68.347543</td>\n",
       "      <td>10.422762</td>\n",
       "      <td>0.883763</td>\n",
       "      <td>16.532835</td>\n",
       "      <td>2.146849</td>\n",
       "      <td>...</td>\n",
       "      <td>14.036510</td>\n",
       "      <td>-500.857308</td>\n",
       "      <td>11.999550</td>\n",
       "      <td>-501.193686</td>\n",
       "      <td>9.970366</td>\n",
       "      <td>-499.201640</td>\n",
       "      <td>7.977324</td>\n",
       "      <td>-500.255908</td>\n",
       "      <td>14.005551</td>\n",
       "      <td>-599.996129</td>\n",
       "    </tr>\n",
       "    <tr>\n",
       "      <th>4</th>\n",
       "      <td>2016-01-15 04:00:00</td>\n",
       "      <td>6.148599</td>\n",
       "      <td>10.142511</td>\n",
       "      <td>4.939416</td>\n",
       "      <td>42.774141</td>\n",
       "      <td>66.927016</td>\n",
       "      <td>10.360302</td>\n",
       "      <td>0.792826</td>\n",
       "      <td>16.525686</td>\n",
       "      <td>2.055292</td>\n",
       "      <td>...</td>\n",
       "      <td>14.027298</td>\n",
       "      <td>-499.838632</td>\n",
       "      <td>11.953070</td>\n",
       "      <td>-501.053894</td>\n",
       "      <td>9.925709</td>\n",
       "      <td>-501.686727</td>\n",
       "      <td>7.894242</td>\n",
       "      <td>-500.356035</td>\n",
       "      <td>13.996647</td>\n",
       "      <td>-601.496691</td>\n",
       "    </tr>\n",
       "  </tbody>\n",
       "</table>\n",
       "<p>5 rows × 87 columns</p>\n",
       "</div>"
      ],
      "text/plain": [
       "                  date  final.output.concentrate_ag  \\\n",
       "0  2016-01-15 00:00:00                     6.055403   \n",
       "1  2016-01-15 01:00:00                     6.029369   \n",
       "2  2016-01-15 02:00:00                     6.055926   \n",
       "3  2016-01-15 03:00:00                     6.047977   \n",
       "4  2016-01-15 04:00:00                     6.148599   \n",
       "\n",
       "   final.output.concentrate_pb  final.output.concentrate_sol  \\\n",
       "0                     9.889648                      5.507324   \n",
       "1                     9.968944                      5.257781   \n",
       "2                    10.213995                      5.383759   \n",
       "3                     9.977019                      4.858634   \n",
       "4                    10.142511                      4.939416   \n",
       "\n",
       "   final.output.concentrate_au  final.output.recovery  final.output.tail_ag  \\\n",
       "0                    42.192020              70.541216             10.411962   \n",
       "1                    42.701629              69.266198             10.462676   \n",
       "2                    42.657501              68.116445             10.507046   \n",
       "3                    42.689819              68.347543             10.422762   \n",
       "4                    42.774141              66.927016             10.360302   \n",
       "\n",
       "   final.output.tail_pb  final.output.tail_sol  final.output.tail_au  ...  \\\n",
       "0              0.895447              16.904297              2.143149  ...   \n",
       "1              0.927452              16.634514              2.224930  ...   \n",
       "2              0.953716              16.208849              2.257889  ...   \n",
       "3              0.883763              16.532835              2.146849  ...   \n",
       "4              0.792826              16.525686              2.055292  ...   \n",
       "\n",
       "   secondary_cleaner.state.floatbank4_a_air  \\\n",
       "0                                 14.016835   \n",
       "1                                 13.992281   \n",
       "2                                 14.015015   \n",
       "3                                 14.036510   \n",
       "4                                 14.027298   \n",
       "\n",
       "   secondary_cleaner.state.floatbank4_a_level  \\\n",
       "0                                 -502.488007   \n",
       "1                                 -505.503262   \n",
       "2                                 -502.520901   \n",
       "3                                 -500.857308   \n",
       "4                                 -499.838632   \n",
       "\n",
       "   secondary_cleaner.state.floatbank4_b_air  \\\n",
       "0                                 12.099931   \n",
       "1                                 11.950531   \n",
       "2                                 11.912783   \n",
       "3                                 11.999550   \n",
       "4                                 11.953070   \n",
       "\n",
       "   secondary_cleaner.state.floatbank4_b_level  \\\n",
       "0                                 -504.715942   \n",
       "1                                 -501.331529   \n",
       "2                                 -501.133383   \n",
       "3                                 -501.193686   \n",
       "4                                 -501.053894   \n",
       "\n",
       "   secondary_cleaner.state.floatbank5_a_air  \\\n",
       "0                                  9.925633   \n",
       "1                                 10.039245   \n",
       "2                                 10.070913   \n",
       "3                                  9.970366   \n",
       "4                                  9.925709   \n",
       "\n",
       "   secondary_cleaner.state.floatbank5_a_level  \\\n",
       "0                                 -498.310211   \n",
       "1                                 -500.169983   \n",
       "2                                 -500.129135   \n",
       "3                                 -499.201640   \n",
       "4                                 -501.686727   \n",
       "\n",
       "   secondary_cleaner.state.floatbank5_b_air  \\\n",
       "0                                  8.079666   \n",
       "1                                  7.984757   \n",
       "2                                  8.013877   \n",
       "3                                  7.977324   \n",
       "4                                  7.894242   \n",
       "\n",
       "   secondary_cleaner.state.floatbank5_b_level  \\\n",
       "0                                 -500.470978   \n",
       "1                                 -500.582168   \n",
       "2                                 -500.517572   \n",
       "3                                 -500.255908   \n",
       "4                                 -500.356035   \n",
       "\n",
       "   secondary_cleaner.state.floatbank6_a_air  \\\n",
       "0                                 14.151341   \n",
       "1                                 13.998353   \n",
       "2                                 14.028663   \n",
       "3                                 14.005551   \n",
       "4                                 13.996647   \n",
       "\n",
       "   secondary_cleaner.state.floatbank6_a_level  \n",
       "0                                 -605.841980  \n",
       "1                                 -599.787184  \n",
       "2                                 -601.427363  \n",
       "3                                 -599.996129  \n",
       "4                                 -601.496691  \n",
       "\n",
       "[5 rows x 87 columns]"
      ]
     },
     "execution_count": 11,
     "metadata": {},
     "output_type": "execute_result"
    }
   ],
   "source": [
    "full_data.head()"
   ]
  },
  {
   "cell_type": "code",
   "execution_count": 12,
   "metadata": {
    "collapsed": true
   },
   "outputs": [
    {
     "data": {
      "text/plain": [
       "date                                            0\n",
       "final.output.concentrate_ag                    89\n",
       "final.output.concentrate_pb                    87\n",
       "final.output.concentrate_sol                  385\n",
       "final.output.concentrate_au                    86\n",
       "                                             ... \n",
       "secondary_cleaner.state.floatbank5_a_level    101\n",
       "secondary_cleaner.state.floatbank5_b_air      101\n",
       "secondary_cleaner.state.floatbank5_b_level    100\n",
       "secondary_cleaner.state.floatbank6_a_air      119\n",
       "secondary_cleaner.state.floatbank6_a_level    101\n",
       "Length: 87, dtype: int64"
      ]
     },
     "execution_count": 12,
     "metadata": {},
     "output_type": "execute_result"
    }
   ],
   "source": [
    "full_data.isnull().sum()"
   ]
  },
  {
   "cell_type": "markdown",
   "metadata": {},
   "source": [
    "## Data Preprocessing"
   ]
  },
  {
   "cell_type": "markdown",
   "metadata": {},
   "source": [
    "### Missing Value"
   ]
  },
  {
   "cell_type": "code",
   "execution_count": 13,
   "metadata": {},
   "outputs": [],
   "source": [
    "def calculate_missing_percentage(data):\n",
    "    missing_percentage = (data.isnull().sum() / len(data)) * 100\n",
    "    return missing_percentage"
   ]
  },
  {
   "cell_type": "code",
   "execution_count": 14,
   "metadata": {},
   "outputs": [],
   "source": [
    "train_missing_percentage = calculate_missing_percentage(train_data)\n",
    "test_missing_percentage = calculate_missing_percentage(test_data)\n",
    "full_missing_percentage = calculate_missing_percentage(full_data)"
   ]
  },
  {
   "cell_type": "code",
   "execution_count": 15,
   "metadata": {
    "collapsed": true
   },
   "outputs": [
    {
     "name": "stdout",
     "output_type": "stream",
     "text": [
      "Missing Percentage in Train Data:\n",
      "date                                          0.000000\n",
      "final.output.concentrate_ag                   0.427046\n",
      "final.output.concentrate_pb                   0.427046\n",
      "final.output.concentrate_sol                  2.194543\n",
      "final.output.concentrate_au                   0.421115\n",
      "                                                ...   \n",
      "secondary_cleaner.state.floatbank5_a_level    0.504152\n",
      "secondary_cleaner.state.floatbank5_b_air      0.504152\n",
      "secondary_cleaner.state.floatbank5_b_level    0.498221\n",
      "secondary_cleaner.state.floatbank6_a_air      0.610913\n",
      "secondary_cleaner.state.floatbank6_a_level    0.504152\n",
      "Length: 87, dtype: float64\n",
      "\n",
      "Missing Percentage in Test Data:\n",
      "date                                          0.000000\n",
      "primary_cleaner.input.sulfate                 5.157104\n",
      "primary_cleaner.input.depressant              4.849727\n",
      "primary_cleaner.input.feed_size               0.000000\n",
      "primary_cleaner.input.xanthate                2.834699\n",
      "primary_cleaner.state.floatbank8_a_air        0.273224\n",
      "primary_cleaner.state.floatbank8_a_level      0.273224\n",
      "primary_cleaner.state.floatbank8_b_air        0.273224\n",
      "primary_cleaner.state.floatbank8_b_level      0.273224\n",
      "primary_cleaner.state.floatbank8_c_air        0.273224\n",
      "primary_cleaner.state.floatbank8_c_level      0.273224\n",
      "primary_cleaner.state.floatbank8_d_air        0.273224\n",
      "primary_cleaner.state.floatbank8_d_level      0.273224\n",
      "rougher.input.feed_ag                         0.273224\n",
      "rougher.input.feed_pb                         0.273224\n",
      "rougher.input.feed_rate                       0.683060\n",
      "rougher.input.feed_size                       0.375683\n",
      "rougher.input.feed_sol                        1.144126\n",
      "rougher.input.feed_au                         0.273224\n",
      "rougher.input.floatbank10_sulfate             4.388661\n",
      "rougher.input.floatbank10_xanthate            2.100410\n",
      "rougher.input.floatbank11_sulfate             0.939208\n",
      "rougher.input.floatbank11_xanthate            6.028005\n",
      "rougher.state.floatbank10_a_air               0.290301\n",
      "rougher.state.floatbank10_a_level             0.273224\n",
      "rougher.state.floatbank10_b_air               0.290301\n",
      "rougher.state.floatbank10_b_level             0.273224\n",
      "rougher.state.floatbank10_c_air               0.290301\n",
      "rougher.state.floatbank10_c_level             0.273224\n",
      "rougher.state.floatbank10_d_air               0.290301\n",
      "rougher.state.floatbank10_d_level             0.273224\n",
      "rougher.state.floatbank10_e_air               0.290301\n",
      "rougher.state.floatbank10_e_level             0.273224\n",
      "rougher.state.floatbank10_f_air               0.290301\n",
      "rougher.state.floatbank10_f_level             0.273224\n",
      "secondary_cleaner.state.floatbank2_a_air      0.341530\n",
      "secondary_cleaner.state.floatbank2_a_level    0.273224\n",
      "secondary_cleaner.state.floatbank2_b_air      0.392760\n",
      "secondary_cleaner.state.floatbank2_b_level    0.273224\n",
      "secondary_cleaner.state.floatbank3_a_air      0.580601\n",
      "secondary_cleaner.state.floatbank3_a_level    0.273224\n",
      "secondary_cleaner.state.floatbank3_b_air      0.273224\n",
      "secondary_cleaner.state.floatbank3_b_level    0.273224\n",
      "secondary_cleaner.state.floatbank4_a_air      0.273224\n",
      "secondary_cleaner.state.floatbank4_a_level    0.273224\n",
      "secondary_cleaner.state.floatbank4_b_air      0.273224\n",
      "secondary_cleaner.state.floatbank4_b_level    0.273224\n",
      "secondary_cleaner.state.floatbank5_a_air      0.273224\n",
      "secondary_cleaner.state.floatbank5_a_level    0.273224\n",
      "secondary_cleaner.state.floatbank5_b_air      0.273224\n",
      "secondary_cleaner.state.floatbank5_b_level    0.273224\n",
      "secondary_cleaner.state.floatbank6_a_air      0.273224\n",
      "secondary_cleaner.state.floatbank6_a_level    0.273224\n",
      "dtype: float64\n",
      "\n",
      "Missing Percentage in Full Data:\n",
      "date                                          0.000000\n",
      "final.output.concentrate_ag                   0.391794\n",
      "final.output.concentrate_pb                   0.382990\n",
      "final.output.concentrate_sol                  1.694841\n",
      "final.output.concentrate_au                   0.378588\n",
      "                                                ...   \n",
      "secondary_cleaner.state.floatbank5_a_level    0.444621\n",
      "secondary_cleaner.state.floatbank5_b_air      0.444621\n",
      "secondary_cleaner.state.floatbank5_b_level    0.440218\n",
      "secondary_cleaner.state.floatbank6_a_air      0.523860\n",
      "secondary_cleaner.state.floatbank6_a_level    0.444621\n",
      "Length: 87, dtype: float64\n"
     ]
    }
   ],
   "source": [
    "print(\"Missing Percentage in Train Data:\")\n",
    "print(train_missing_percentage)\n",
    "\n",
    "print(\"\\nMissing Percentage in Test Data:\")\n",
    "print(test_missing_percentage)\n",
    "\n",
    "print(\"\\nMissing Percentage in Full Data:\")\n",
    "print(full_missing_percentage)"
   ]
  },
  {
   "cell_type": "markdown",
   "metadata": {},
   "source": [
    "No data exceed the 5% missing value from the overall used data, then the missing value can be droped since it only have impact on the analysis and model."
   ]
  },
  {
   "cell_type": "code",
   "execution_count": 16,
   "metadata": {},
   "outputs": [],
   "source": [
    "train_data.dropna(inplace=True)\n",
    "test_data.dropna(inplace=True)\n",
    "full_data.dropna(inplace=True)"
   ]
  },
  {
   "cell_type": "code",
   "execution_count": 17,
   "metadata": {
    "collapsed": true
   },
   "outputs": [
    {
     "data": {
      "text/plain": [
       "date                                          0\n",
       "final.output.concentrate_ag                   0\n",
       "final.output.concentrate_pb                   0\n",
       "final.output.concentrate_sol                  0\n",
       "final.output.concentrate_au                   0\n",
       "                                             ..\n",
       "secondary_cleaner.state.floatbank5_a_level    0\n",
       "secondary_cleaner.state.floatbank5_b_air      0\n",
       "secondary_cleaner.state.floatbank5_b_level    0\n",
       "secondary_cleaner.state.floatbank6_a_air      0\n",
       "secondary_cleaner.state.floatbank6_a_level    0\n",
       "Length: 87, dtype: int64"
      ]
     },
     "execution_count": 17,
     "metadata": {},
     "output_type": "execute_result"
    }
   ],
   "source": [
    "train_data.isna().sum()"
   ]
  },
  {
   "cell_type": "code",
   "execution_count": 18,
   "metadata": {
    "collapsed": true
   },
   "outputs": [
    {
     "data": {
      "text/plain": [
       "date                                          0\n",
       "primary_cleaner.input.sulfate                 0\n",
       "primary_cleaner.input.depressant              0\n",
       "primary_cleaner.input.feed_size               0\n",
       "primary_cleaner.input.xanthate                0\n",
       "primary_cleaner.state.floatbank8_a_air        0\n",
       "primary_cleaner.state.floatbank8_a_level      0\n",
       "primary_cleaner.state.floatbank8_b_air        0\n",
       "primary_cleaner.state.floatbank8_b_level      0\n",
       "primary_cleaner.state.floatbank8_c_air        0\n",
       "primary_cleaner.state.floatbank8_c_level      0\n",
       "primary_cleaner.state.floatbank8_d_air        0\n",
       "primary_cleaner.state.floatbank8_d_level      0\n",
       "rougher.input.feed_ag                         0\n",
       "rougher.input.feed_pb                         0\n",
       "rougher.input.feed_rate                       0\n",
       "rougher.input.feed_size                       0\n",
       "rougher.input.feed_sol                        0\n",
       "rougher.input.feed_au                         0\n",
       "rougher.input.floatbank10_sulfate             0\n",
       "rougher.input.floatbank10_xanthate            0\n",
       "rougher.input.floatbank11_sulfate             0\n",
       "rougher.input.floatbank11_xanthate            0\n",
       "rougher.state.floatbank10_a_air               0\n",
       "rougher.state.floatbank10_a_level             0\n",
       "rougher.state.floatbank10_b_air               0\n",
       "rougher.state.floatbank10_b_level             0\n",
       "rougher.state.floatbank10_c_air               0\n",
       "rougher.state.floatbank10_c_level             0\n",
       "rougher.state.floatbank10_d_air               0\n",
       "rougher.state.floatbank10_d_level             0\n",
       "rougher.state.floatbank10_e_air               0\n",
       "rougher.state.floatbank10_e_level             0\n",
       "rougher.state.floatbank10_f_air               0\n",
       "rougher.state.floatbank10_f_level             0\n",
       "secondary_cleaner.state.floatbank2_a_air      0\n",
       "secondary_cleaner.state.floatbank2_a_level    0\n",
       "secondary_cleaner.state.floatbank2_b_air      0\n",
       "secondary_cleaner.state.floatbank2_b_level    0\n",
       "secondary_cleaner.state.floatbank3_a_air      0\n",
       "secondary_cleaner.state.floatbank3_a_level    0\n",
       "secondary_cleaner.state.floatbank3_b_air      0\n",
       "secondary_cleaner.state.floatbank3_b_level    0\n",
       "secondary_cleaner.state.floatbank4_a_air      0\n",
       "secondary_cleaner.state.floatbank4_a_level    0\n",
       "secondary_cleaner.state.floatbank4_b_air      0\n",
       "secondary_cleaner.state.floatbank4_b_level    0\n",
       "secondary_cleaner.state.floatbank5_a_air      0\n",
       "secondary_cleaner.state.floatbank5_a_level    0\n",
       "secondary_cleaner.state.floatbank5_b_air      0\n",
       "secondary_cleaner.state.floatbank5_b_level    0\n",
       "secondary_cleaner.state.floatbank6_a_air      0\n",
       "secondary_cleaner.state.floatbank6_a_level    0\n",
       "dtype: int64"
      ]
     },
     "execution_count": 18,
     "metadata": {},
     "output_type": "execute_result"
    }
   ],
   "source": [
    "test_data.isna().sum()"
   ]
  },
  {
   "cell_type": "code",
   "execution_count": 19,
   "metadata": {
    "collapsed": true
   },
   "outputs": [
    {
     "data": {
      "text/plain": [
       "date                                          0\n",
       "final.output.concentrate_ag                   0\n",
       "final.output.concentrate_pb                   0\n",
       "final.output.concentrate_sol                  0\n",
       "final.output.concentrate_au                   0\n",
       "                                             ..\n",
       "secondary_cleaner.state.floatbank5_a_level    0\n",
       "secondary_cleaner.state.floatbank5_b_air      0\n",
       "secondary_cleaner.state.floatbank5_b_level    0\n",
       "secondary_cleaner.state.floatbank6_a_air      0\n",
       "secondary_cleaner.state.floatbank6_a_level    0\n",
       "Length: 87, dtype: int64"
      ]
     },
     "execution_count": 19,
     "metadata": {},
     "output_type": "execute_result"
    }
   ],
   "source": [
    "full_data.isna().sum()"
   ]
  },
  {
   "cell_type": "markdown",
   "metadata": {},
   "source": [
    "Recheck the data columns and rows"
   ]
  },
  {
   "cell_type": "code",
   "execution_count": 20,
   "metadata": {},
   "outputs": [
    {
     "name": "stdout",
     "output_type": "stream",
     "text": [
      "Train Data shape (11017, 87)\n",
      "Test Data shape (5383, 53)\n",
      "Full Data shape (16094, 87)\n"
     ]
    }
   ],
   "source": [
    "print(f\"Train Data shape {train_data.shape}\")\n",
    "print(f\"Test Data shape {test_data.shape}\")\n",
    "print(f\"Full Data shape {full_data.shape}\")"
   ]
  },
  {
   "cell_type": "markdown",
   "metadata": {},
   "source": [
    "### Data Transformation"
   ]
  },
  {
   "cell_type": "markdown",
   "metadata": {},
   "source": [
    "Changing the `date` column into datetime data type"
   ]
  },
  {
   "cell_type": "code",
   "execution_count": 21,
   "metadata": {},
   "outputs": [],
   "source": [
    "train_data['date'] = pd.to_datetime(train_data['date'])\n",
    "test_data['date'] = pd.to_datetime(test_data['date'])\n",
    "full_data['date'] = pd.to_datetime(full_data['date'])"
   ]
  },
  {
   "cell_type": "code",
   "execution_count": 22,
   "metadata": {
    "collapsed": true
   },
   "outputs": [
    {
     "name": "stdout",
     "output_type": "stream",
     "text": [
      "<class 'pandas.core.frame.DataFrame'>\n",
      "Int64Index: 11017 entries, 0 to 16859\n",
      "Data columns (total 87 columns):\n",
      " #   Column                                              Non-Null Count  Dtype         \n",
      "---  ------                                              --------------  -----         \n",
      " 0   date                                                11017 non-null  datetime64[ns]\n",
      " 1   final.output.concentrate_ag                         11017 non-null  float64       \n",
      " 2   final.output.concentrate_pb                         11017 non-null  float64       \n",
      " 3   final.output.concentrate_sol                        11017 non-null  float64       \n",
      " 4   final.output.concentrate_au                         11017 non-null  float64       \n",
      " 5   final.output.recovery                               11017 non-null  float64       \n",
      " 6   final.output.tail_ag                                11017 non-null  float64       \n",
      " 7   final.output.tail_pb                                11017 non-null  float64       \n",
      " 8   final.output.tail_sol                               11017 non-null  float64       \n",
      " 9   final.output.tail_au                                11017 non-null  float64       \n",
      " 10  primary_cleaner.input.sulfate                       11017 non-null  float64       \n",
      " 11  primary_cleaner.input.depressant                    11017 non-null  float64       \n",
      " 12  primary_cleaner.input.feed_size                     11017 non-null  float64       \n",
      " 13  primary_cleaner.input.xanthate                      11017 non-null  float64       \n",
      " 14  primary_cleaner.output.concentrate_ag               11017 non-null  float64       \n",
      " 15  primary_cleaner.output.concentrate_pb               11017 non-null  float64       \n",
      " 16  primary_cleaner.output.concentrate_sol              11017 non-null  float64       \n",
      " 17  primary_cleaner.output.concentrate_au               11017 non-null  float64       \n",
      " 18  primary_cleaner.output.tail_ag                      11017 non-null  float64       \n",
      " 19  primary_cleaner.output.tail_pb                      11017 non-null  float64       \n",
      " 20  primary_cleaner.output.tail_sol                     11017 non-null  float64       \n",
      " 21  primary_cleaner.output.tail_au                      11017 non-null  float64       \n",
      " 22  primary_cleaner.state.floatbank8_a_air              11017 non-null  float64       \n",
      " 23  primary_cleaner.state.floatbank8_a_level            11017 non-null  float64       \n",
      " 24  primary_cleaner.state.floatbank8_b_air              11017 non-null  float64       \n",
      " 25  primary_cleaner.state.floatbank8_b_level            11017 non-null  float64       \n",
      " 26  primary_cleaner.state.floatbank8_c_air              11017 non-null  float64       \n",
      " 27  primary_cleaner.state.floatbank8_c_level            11017 non-null  float64       \n",
      " 28  primary_cleaner.state.floatbank8_d_air              11017 non-null  float64       \n",
      " 29  primary_cleaner.state.floatbank8_d_level            11017 non-null  float64       \n",
      " 30  rougher.calculation.sulfate_to_au_concentrate       11017 non-null  float64       \n",
      " 31  rougher.calculation.floatbank10_sulfate_to_au_feed  11017 non-null  float64       \n",
      " 32  rougher.calculation.floatbank11_sulfate_to_au_feed  11017 non-null  float64       \n",
      " 33  rougher.calculation.au_pb_ratio                     11017 non-null  float64       \n",
      " 34  rougher.input.feed_ag                               11017 non-null  float64       \n",
      " 35  rougher.input.feed_pb                               11017 non-null  float64       \n",
      " 36  rougher.input.feed_rate                             11017 non-null  float64       \n",
      " 37  rougher.input.feed_size                             11017 non-null  float64       \n",
      " 38  rougher.input.feed_sol                              11017 non-null  float64       \n",
      " 39  rougher.input.feed_au                               11017 non-null  float64       \n",
      " 40  rougher.input.floatbank10_sulfate                   11017 non-null  float64       \n",
      " 41  rougher.input.floatbank10_xanthate                  11017 non-null  float64       \n",
      " 42  rougher.input.floatbank11_sulfate                   11017 non-null  float64       \n",
      " 43  rougher.input.floatbank11_xanthate                  11017 non-null  float64       \n",
      " 44  rougher.output.concentrate_ag                       11017 non-null  float64       \n",
      " 45  rougher.output.concentrate_pb                       11017 non-null  float64       \n",
      " 46  rougher.output.concentrate_sol                      11017 non-null  float64       \n",
      " 47  rougher.output.concentrate_au                       11017 non-null  float64       \n",
      " 48  rougher.output.recovery                             11017 non-null  float64       \n",
      " 49  rougher.output.tail_ag                              11017 non-null  float64       \n",
      " 50  rougher.output.tail_pb                              11017 non-null  float64       \n",
      " 51  rougher.output.tail_sol                             11017 non-null  float64       \n",
      " 52  rougher.output.tail_au                              11017 non-null  float64       \n",
      " 53  rougher.state.floatbank10_a_air                     11017 non-null  float64       \n",
      " 54  rougher.state.floatbank10_a_level                   11017 non-null  float64       \n",
      " 55  rougher.state.floatbank10_b_air                     11017 non-null  float64       \n",
      " 56  rougher.state.floatbank10_b_level                   11017 non-null  float64       \n",
      " 57  rougher.state.floatbank10_c_air                     11017 non-null  float64       \n",
      " 58  rougher.state.floatbank10_c_level                   11017 non-null  float64       \n",
      " 59  rougher.state.floatbank10_d_air                     11017 non-null  float64       \n",
      " 60  rougher.state.floatbank10_d_level                   11017 non-null  float64       \n",
      " 61  rougher.state.floatbank10_e_air                     11017 non-null  float64       \n",
      " 62  rougher.state.floatbank10_e_level                   11017 non-null  float64       \n",
      " 63  rougher.state.floatbank10_f_air                     11017 non-null  float64       \n",
      " 64  rougher.state.floatbank10_f_level                   11017 non-null  float64       \n",
      " 65  secondary_cleaner.output.tail_ag                    11017 non-null  float64       \n",
      " 66  secondary_cleaner.output.tail_pb                    11017 non-null  float64       \n",
      " 67  secondary_cleaner.output.tail_sol                   11017 non-null  float64       \n",
      " 68  secondary_cleaner.output.tail_au                    11017 non-null  float64       \n",
      " 69  secondary_cleaner.state.floatbank2_a_air            11017 non-null  float64       \n",
      " 70  secondary_cleaner.state.floatbank2_a_level          11017 non-null  float64       \n",
      " 71  secondary_cleaner.state.floatbank2_b_air            11017 non-null  float64       \n",
      " 72  secondary_cleaner.state.floatbank2_b_level          11017 non-null  float64       \n",
      " 73  secondary_cleaner.state.floatbank3_a_air            11017 non-null  float64       \n",
      " 74  secondary_cleaner.state.floatbank3_a_level          11017 non-null  float64       \n",
      " 75  secondary_cleaner.state.floatbank3_b_air            11017 non-null  float64       \n",
      " 76  secondary_cleaner.state.floatbank3_b_level          11017 non-null  float64       \n",
      " 77  secondary_cleaner.state.floatbank4_a_air            11017 non-null  float64       \n",
      " 78  secondary_cleaner.state.floatbank4_a_level          11017 non-null  float64       \n",
      " 79  secondary_cleaner.state.floatbank4_b_air            11017 non-null  float64       \n",
      " 80  secondary_cleaner.state.floatbank4_b_level          11017 non-null  float64       \n",
      " 81  secondary_cleaner.state.floatbank5_a_air            11017 non-null  float64       \n",
      " 82  secondary_cleaner.state.floatbank5_a_level          11017 non-null  float64       \n",
      " 83  secondary_cleaner.state.floatbank5_b_air            11017 non-null  float64       \n",
      " 84  secondary_cleaner.state.floatbank5_b_level          11017 non-null  float64       \n",
      " 85  secondary_cleaner.state.floatbank6_a_air            11017 non-null  float64       \n",
      " 86  secondary_cleaner.state.floatbank6_a_level          11017 non-null  float64       \n",
      "dtypes: datetime64[ns](1), float64(86)\n",
      "memory usage: 7.4 MB\n"
     ]
    }
   ],
   "source": [
    "train_data.info()"
   ]
  },
  {
   "cell_type": "code",
   "execution_count": 23,
   "metadata": {
    "collapsed": true
   },
   "outputs": [
    {
     "name": "stdout",
     "output_type": "stream",
     "text": [
      "<class 'pandas.core.frame.DataFrame'>\n",
      "Int64Index: 5383 entries, 0 to 5855\n",
      "Data columns (total 53 columns):\n",
      " #   Column                                      Non-Null Count  Dtype         \n",
      "---  ------                                      --------------  -----         \n",
      " 0   date                                        5383 non-null   datetime64[ns]\n",
      " 1   primary_cleaner.input.sulfate               5383 non-null   float64       \n",
      " 2   primary_cleaner.input.depressant            5383 non-null   float64       \n",
      " 3   primary_cleaner.input.feed_size             5383 non-null   float64       \n",
      " 4   primary_cleaner.input.xanthate              5383 non-null   float64       \n",
      " 5   primary_cleaner.state.floatbank8_a_air      5383 non-null   float64       \n",
      " 6   primary_cleaner.state.floatbank8_a_level    5383 non-null   float64       \n",
      " 7   primary_cleaner.state.floatbank8_b_air      5383 non-null   float64       \n",
      " 8   primary_cleaner.state.floatbank8_b_level    5383 non-null   float64       \n",
      " 9   primary_cleaner.state.floatbank8_c_air      5383 non-null   float64       \n",
      " 10  primary_cleaner.state.floatbank8_c_level    5383 non-null   float64       \n",
      " 11  primary_cleaner.state.floatbank8_d_air      5383 non-null   float64       \n",
      " 12  primary_cleaner.state.floatbank8_d_level    5383 non-null   float64       \n",
      " 13  rougher.input.feed_ag                       5383 non-null   float64       \n",
      " 14  rougher.input.feed_pb                       5383 non-null   float64       \n",
      " 15  rougher.input.feed_rate                     5383 non-null   float64       \n",
      " 16  rougher.input.feed_size                     5383 non-null   float64       \n",
      " 17  rougher.input.feed_sol                      5383 non-null   float64       \n",
      " 18  rougher.input.feed_au                       5383 non-null   float64       \n",
      " 19  rougher.input.floatbank10_sulfate           5383 non-null   float64       \n",
      " 20  rougher.input.floatbank10_xanthate          5383 non-null   float64       \n",
      " 21  rougher.input.floatbank11_sulfate           5383 non-null   float64       \n",
      " 22  rougher.input.floatbank11_xanthate          5383 non-null   float64       \n",
      " 23  rougher.state.floatbank10_a_air             5383 non-null   float64       \n",
      " 24  rougher.state.floatbank10_a_level           5383 non-null   float64       \n",
      " 25  rougher.state.floatbank10_b_air             5383 non-null   float64       \n",
      " 26  rougher.state.floatbank10_b_level           5383 non-null   float64       \n",
      " 27  rougher.state.floatbank10_c_air             5383 non-null   float64       \n",
      " 28  rougher.state.floatbank10_c_level           5383 non-null   float64       \n",
      " 29  rougher.state.floatbank10_d_air             5383 non-null   float64       \n",
      " 30  rougher.state.floatbank10_d_level           5383 non-null   float64       \n",
      " 31  rougher.state.floatbank10_e_air             5383 non-null   float64       \n",
      " 32  rougher.state.floatbank10_e_level           5383 non-null   float64       \n",
      " 33  rougher.state.floatbank10_f_air             5383 non-null   float64       \n",
      " 34  rougher.state.floatbank10_f_level           5383 non-null   float64       \n",
      " 35  secondary_cleaner.state.floatbank2_a_air    5383 non-null   float64       \n",
      " 36  secondary_cleaner.state.floatbank2_a_level  5383 non-null   float64       \n",
      " 37  secondary_cleaner.state.floatbank2_b_air    5383 non-null   float64       \n",
      " 38  secondary_cleaner.state.floatbank2_b_level  5383 non-null   float64       \n",
      " 39  secondary_cleaner.state.floatbank3_a_air    5383 non-null   float64       \n",
      " 40  secondary_cleaner.state.floatbank3_a_level  5383 non-null   float64       \n",
      " 41  secondary_cleaner.state.floatbank3_b_air    5383 non-null   float64       \n",
      " 42  secondary_cleaner.state.floatbank3_b_level  5383 non-null   float64       \n",
      " 43  secondary_cleaner.state.floatbank4_a_air    5383 non-null   float64       \n",
      " 44  secondary_cleaner.state.floatbank4_a_level  5383 non-null   float64       \n",
      " 45  secondary_cleaner.state.floatbank4_b_air    5383 non-null   float64       \n",
      " 46  secondary_cleaner.state.floatbank4_b_level  5383 non-null   float64       \n",
      " 47  secondary_cleaner.state.floatbank5_a_air    5383 non-null   float64       \n",
      " 48  secondary_cleaner.state.floatbank5_a_level  5383 non-null   float64       \n",
      " 49  secondary_cleaner.state.floatbank5_b_air    5383 non-null   float64       \n",
      " 50  secondary_cleaner.state.floatbank5_b_level  5383 non-null   float64       \n",
      " 51  secondary_cleaner.state.floatbank6_a_air    5383 non-null   float64       \n",
      " 52  secondary_cleaner.state.floatbank6_a_level  5383 non-null   float64       \n",
      "dtypes: datetime64[ns](1), float64(52)\n",
      "memory usage: 2.2 MB\n"
     ]
    }
   ],
   "source": [
    "test_data.info()"
   ]
  },
  {
   "cell_type": "code",
   "execution_count": 24,
   "metadata": {
    "collapsed": true
   },
   "outputs": [
    {
     "name": "stdout",
     "output_type": "stream",
     "text": [
      "<class 'pandas.core.frame.DataFrame'>\n",
      "Int64Index: 16094 entries, 0 to 22715\n",
      "Data columns (total 87 columns):\n",
      " #   Column                                              Non-Null Count  Dtype         \n",
      "---  ------                                              --------------  -----         \n",
      " 0   date                                                16094 non-null  datetime64[ns]\n",
      " 1   final.output.concentrate_ag                         16094 non-null  float64       \n",
      " 2   final.output.concentrate_pb                         16094 non-null  float64       \n",
      " 3   final.output.concentrate_sol                        16094 non-null  float64       \n",
      " 4   final.output.concentrate_au                         16094 non-null  float64       \n",
      " 5   final.output.recovery                               16094 non-null  float64       \n",
      " 6   final.output.tail_ag                                16094 non-null  float64       \n",
      " 7   final.output.tail_pb                                16094 non-null  float64       \n",
      " 8   final.output.tail_sol                               16094 non-null  float64       \n",
      " 9   final.output.tail_au                                16094 non-null  float64       \n",
      " 10  primary_cleaner.input.sulfate                       16094 non-null  float64       \n",
      " 11  primary_cleaner.input.depressant                    16094 non-null  float64       \n",
      " 12  primary_cleaner.input.feed_size                     16094 non-null  float64       \n",
      " 13  primary_cleaner.input.xanthate                      16094 non-null  float64       \n",
      " 14  primary_cleaner.output.concentrate_ag               16094 non-null  float64       \n",
      " 15  primary_cleaner.output.concentrate_pb               16094 non-null  float64       \n",
      " 16  primary_cleaner.output.concentrate_sol              16094 non-null  float64       \n",
      " 17  primary_cleaner.output.concentrate_au               16094 non-null  float64       \n",
      " 18  primary_cleaner.output.tail_ag                      16094 non-null  float64       \n",
      " 19  primary_cleaner.output.tail_pb                      16094 non-null  float64       \n",
      " 20  primary_cleaner.output.tail_sol                     16094 non-null  float64       \n",
      " 21  primary_cleaner.output.tail_au                      16094 non-null  float64       \n",
      " 22  primary_cleaner.state.floatbank8_a_air              16094 non-null  float64       \n",
      " 23  primary_cleaner.state.floatbank8_a_level            16094 non-null  float64       \n",
      " 24  primary_cleaner.state.floatbank8_b_air              16094 non-null  float64       \n",
      " 25  primary_cleaner.state.floatbank8_b_level            16094 non-null  float64       \n",
      " 26  primary_cleaner.state.floatbank8_c_air              16094 non-null  float64       \n",
      " 27  primary_cleaner.state.floatbank8_c_level            16094 non-null  float64       \n",
      " 28  primary_cleaner.state.floatbank8_d_air              16094 non-null  float64       \n",
      " 29  primary_cleaner.state.floatbank8_d_level            16094 non-null  float64       \n",
      " 30  rougher.calculation.sulfate_to_au_concentrate       16094 non-null  float64       \n",
      " 31  rougher.calculation.floatbank10_sulfate_to_au_feed  16094 non-null  float64       \n",
      " 32  rougher.calculation.floatbank11_sulfate_to_au_feed  16094 non-null  float64       \n",
      " 33  rougher.calculation.au_pb_ratio                     16094 non-null  float64       \n",
      " 34  rougher.input.feed_ag                               16094 non-null  float64       \n",
      " 35  rougher.input.feed_pb                               16094 non-null  float64       \n",
      " 36  rougher.input.feed_rate                             16094 non-null  float64       \n",
      " 37  rougher.input.feed_size                             16094 non-null  float64       \n",
      " 38  rougher.input.feed_sol                              16094 non-null  float64       \n",
      " 39  rougher.input.feed_au                               16094 non-null  float64       \n",
      " 40  rougher.input.floatbank10_sulfate                   16094 non-null  float64       \n",
      " 41  rougher.input.floatbank10_xanthate                  16094 non-null  float64       \n",
      " 42  rougher.input.floatbank11_sulfate                   16094 non-null  float64       \n",
      " 43  rougher.input.floatbank11_xanthate                  16094 non-null  float64       \n",
      " 44  rougher.output.concentrate_ag                       16094 non-null  float64       \n",
      " 45  rougher.output.concentrate_pb                       16094 non-null  float64       \n",
      " 46  rougher.output.concentrate_sol                      16094 non-null  float64       \n",
      " 47  rougher.output.concentrate_au                       16094 non-null  float64       \n",
      " 48  rougher.output.recovery                             16094 non-null  float64       \n",
      " 49  rougher.output.tail_ag                              16094 non-null  float64       \n",
      " 50  rougher.output.tail_pb                              16094 non-null  float64       \n",
      " 51  rougher.output.tail_sol                             16094 non-null  float64       \n",
      " 52  rougher.output.tail_au                              16094 non-null  float64       \n",
      " 53  rougher.state.floatbank10_a_air                     16094 non-null  float64       \n",
      " 54  rougher.state.floatbank10_a_level                   16094 non-null  float64       \n",
      " 55  rougher.state.floatbank10_b_air                     16094 non-null  float64       \n",
      " 56  rougher.state.floatbank10_b_level                   16094 non-null  float64       \n",
      " 57  rougher.state.floatbank10_c_air                     16094 non-null  float64       \n",
      " 58  rougher.state.floatbank10_c_level                   16094 non-null  float64       \n",
      " 59  rougher.state.floatbank10_d_air                     16094 non-null  float64       \n",
      " 60  rougher.state.floatbank10_d_level                   16094 non-null  float64       \n",
      " 61  rougher.state.floatbank10_e_air                     16094 non-null  float64       \n",
      " 62  rougher.state.floatbank10_e_level                   16094 non-null  float64       \n",
      " 63  rougher.state.floatbank10_f_air                     16094 non-null  float64       \n",
      " 64  rougher.state.floatbank10_f_level                   16094 non-null  float64       \n",
      " 65  secondary_cleaner.output.tail_ag                    16094 non-null  float64       \n",
      " 66  secondary_cleaner.output.tail_pb                    16094 non-null  float64       \n",
      " 67  secondary_cleaner.output.tail_sol                   16094 non-null  float64       \n",
      " 68  secondary_cleaner.output.tail_au                    16094 non-null  float64       \n",
      " 69  secondary_cleaner.state.floatbank2_a_air            16094 non-null  float64       \n",
      " 70  secondary_cleaner.state.floatbank2_a_level          16094 non-null  float64       \n",
      " 71  secondary_cleaner.state.floatbank2_b_air            16094 non-null  float64       \n",
      " 72  secondary_cleaner.state.floatbank2_b_level          16094 non-null  float64       \n",
      " 73  secondary_cleaner.state.floatbank3_a_air            16094 non-null  float64       \n",
      " 74  secondary_cleaner.state.floatbank3_a_level          16094 non-null  float64       \n",
      " 75  secondary_cleaner.state.floatbank3_b_air            16094 non-null  float64       \n",
      " 76  secondary_cleaner.state.floatbank3_b_level          16094 non-null  float64       \n",
      " 77  secondary_cleaner.state.floatbank4_a_air            16094 non-null  float64       \n",
      " 78  secondary_cleaner.state.floatbank4_a_level          16094 non-null  float64       \n",
      " 79  secondary_cleaner.state.floatbank4_b_air            16094 non-null  float64       \n",
      " 80  secondary_cleaner.state.floatbank4_b_level          16094 non-null  float64       \n",
      " 81  secondary_cleaner.state.floatbank5_a_air            16094 non-null  float64       \n",
      " 82  secondary_cleaner.state.floatbank5_a_level          16094 non-null  float64       \n",
      " 83  secondary_cleaner.state.floatbank5_b_air            16094 non-null  float64       \n",
      " 84  secondary_cleaner.state.floatbank5_b_level          16094 non-null  float64       \n",
      " 85  secondary_cleaner.state.floatbank6_a_air            16094 non-null  float64       \n",
      " 86  secondary_cleaner.state.floatbank6_a_level          16094 non-null  float64       \n",
      "dtypes: datetime64[ns](1), float64(86)\n",
      "memory usage: 10.8 MB\n"
     ]
    }
   ],
   "source": [
    "full_data.info()"
   ]
  },
  {
   "cell_type": "markdown",
   "metadata": {},
   "source": [
    "### Calculate Recovery"
   ]
  },
  {
   "cell_type": "code",
   "execution_count": 25,
   "metadata": {},
   "outputs": [],
   "source": [
    "def calculate_recovery(data):\n",
    "    C = data['rougher.output.concentrate_au']\n",
    "    F = data['rougher.input.feed_au']\n",
    "    T = data['rougher.output.tail_au']\n",
    "\n",
    "    recovery = (C * (F - T)) / (F * (C - T)) * 100\n",
    "    return recovery"
   ]
  },
  {
   "cell_type": "code",
   "execution_count": 26,
   "metadata": {},
   "outputs": [],
   "source": [
    "recovery_data = train_data.copy()"
   ]
  },
  {
   "cell_type": "code",
   "execution_count": 27,
   "metadata": {},
   "outputs": [],
   "source": [
    "recovery_data['recovery_calculated'] = calculate_recovery(train_data)"
   ]
  },
  {
   "cell_type": "code",
   "execution_count": 28,
   "metadata": {},
   "outputs": [
    {
     "name": "stdout",
     "output_type": "stream",
     "text": [
      "Mean Absolute Error (MAE) for `rougher.output.recovery`:  9.460144184559453e-15\n"
     ]
    }
   ],
   "source": [
    "mae = mean_absolute_error(train_data['rougher.output.recovery'], recovery_data['recovery_calculated'])\n",
    "print(\"Mean Absolute Error (MAE) for `rougher.output.recovery`: \", mae)"
   ]
  },
  {
   "cell_type": "markdown",
   "metadata": {},
   "source": [
    "The mean absolute error (MAE) for predicted rougher output recovery is exceptionally low at approximately 9.46e-15, indicating a highly accurate prediction aligned closely with actual recovery values in the training data."
   ]
  },
  {
   "cell_type": "markdown",
   "metadata": {},
   "source": [
    "### Missing Features"
   ]
  },
  {
   "cell_type": "markdown",
   "metadata": {},
   "source": [
    "Missing features in test data"
   ]
  },
  {
   "cell_type": "code",
   "execution_count": 29,
   "metadata": {
    "collapsed": true
   },
   "outputs": [
    {
     "name": "stdout",
     "output_type": "stream",
     "text": [
      "Features present in the training set but not in the test set:\n",
      "final.output.concentrate_ag\n",
      "final.output.concentrate_au\n",
      "final.output.concentrate_pb\n",
      "final.output.concentrate_sol\n",
      "final.output.recovery\n",
      "final.output.tail_ag\n",
      "final.output.tail_au\n",
      "final.output.tail_pb\n",
      "final.output.tail_sol\n",
      "primary_cleaner.output.concentrate_ag\n",
      "primary_cleaner.output.concentrate_au\n",
      "primary_cleaner.output.concentrate_pb\n",
      "primary_cleaner.output.concentrate_sol\n",
      "primary_cleaner.output.tail_ag\n",
      "primary_cleaner.output.tail_au\n",
      "primary_cleaner.output.tail_pb\n",
      "primary_cleaner.output.tail_sol\n",
      "rougher.calculation.au_pb_ratio\n",
      "rougher.calculation.floatbank10_sulfate_to_au_feed\n",
      "rougher.calculation.floatbank11_sulfate_to_au_feed\n",
      "rougher.calculation.sulfate_to_au_concentrate\n",
      "rougher.output.concentrate_ag\n",
      "rougher.output.concentrate_au\n",
      "rougher.output.concentrate_pb\n",
      "rougher.output.concentrate_sol\n",
      "rougher.output.recovery\n",
      "rougher.output.tail_ag\n",
      "rougher.output.tail_au\n",
      "rougher.output.tail_pb\n",
      "rougher.output.tail_sol\n",
      "secondary_cleaner.output.tail_ag\n",
      "secondary_cleaner.output.tail_au\n",
      "secondary_cleaner.output.tail_pb\n",
      "secondary_cleaner.output.tail_sol\n"
     ]
    }
   ],
   "source": [
    "def analyze_missing_features(train_data, test_data):\n",
    "\n",
    "    train_columns = set(train_data.columns)\n",
    "    test_columns = set(test_data.columns)\n",
    "    \n",
    "    missing_features = sorted(list(train_columns - test_columns))\n",
    "    \n",
    "    return missing_features\n",
    "\n",
    "missing_features = analyze_missing_features(train_data, test_data)\n",
    "\n",
    "print(\"Features present in the training set but not in the test set:\")\n",
    "for feature in missing_features:\n",
    "    print(feature)\n"
   ]
  },
  {
   "cell_type": "markdown",
   "metadata": {},
   "source": [
    "## Data Analysis"
   ]
  },
  {
   "cell_type": "markdown",
   "metadata": {},
   "source": [
    "### Metal Concentration"
   ]
  },
  {
   "cell_type": "markdown",
   "metadata": {},
   "source": [
    "- Au (Gold)\n",
    "- Ag (Silver)\n",
    "- Pb (Lead)\n",
    "- Sol (Colloid)"
   ]
  },
  {
   "cell_type": "code",
   "execution_count": 30,
   "metadata": {},
   "outputs": [],
   "source": [
    "au_columns = ['rougher.output.concentrate_au', 'primary_cleaner.output.concentrate_au', 'secondary_cleaner.output.tail_au', 'final.output.concentrate_au']\n",
    "ag_columns = ['rougher.output.concentrate_ag', 'primary_cleaner.output.concentrate_ag', 'secondary_cleaner.output.tail_ag', 'final.output.concentrate_ag']\n",
    "pb_columns = ['rougher.output.concentrate_pb', 'primary_cleaner.output.concentrate_pb', 'secondary_cleaner.output.tail_pb', 'final.output.concentrate_pb']\n",
    "sol_columns = ['rougher.output.concentrate_sol', 'primary_cleaner.output.concentrate_sol', 'secondary_cleaner.output.tail_sol', 'final.output.concentrate_sol']"
   ]
  },
  {
   "cell_type": "markdown",
   "metadata": {},
   "source": [
    "#### Au (Gold) Concentration"
   ]
  },
  {
   "cell_type": "code",
   "execution_count": 31,
   "metadata": {},
   "outputs": [],
   "source": [
    "au_concentration_data = train_data[au_columns].copy()"
   ]
  },
  {
   "cell_type": "code",
   "execution_count": 32,
   "metadata": {},
   "outputs": [
    {
     "data": {
      "text/html": [
       "<div>\n",
       "<style scoped>\n",
       "    .dataframe tbody tr th:only-of-type {\n",
       "        vertical-align: middle;\n",
       "    }\n",
       "\n",
       "    .dataframe tbody tr th {\n",
       "        vertical-align: top;\n",
       "    }\n",
       "\n",
       "    .dataframe thead th {\n",
       "        text-align: right;\n",
       "    }\n",
       "</style>\n",
       "<table border=\"1\" class=\"dataframe\">\n",
       "  <thead>\n",
       "    <tr style=\"text-align: right;\">\n",
       "      <th></th>\n",
       "      <th>rougher.output.concentrate_au</th>\n",
       "      <th>primary_cleaner.output.concentrate_au</th>\n",
       "      <th>secondary_cleaner.output.tail_au</th>\n",
       "      <th>final.output.concentrate_au</th>\n",
       "    </tr>\n",
       "  </thead>\n",
       "  <tbody>\n",
       "    <tr>\n",
       "      <th>0</th>\n",
       "      <td>19.793808</td>\n",
       "      <td>34.174427</td>\n",
       "      <td>2.606185</td>\n",
       "      <td>42.192020</td>\n",
       "    </tr>\n",
       "    <tr>\n",
       "      <th>1</th>\n",
       "      <td>20.050975</td>\n",
       "      <td>34.118526</td>\n",
       "      <td>2.488248</td>\n",
       "      <td>42.701629</td>\n",
       "    </tr>\n",
       "    <tr>\n",
       "      <th>2</th>\n",
       "      <td>19.737170</td>\n",
       "      <td>33.969464</td>\n",
       "      <td>2.458187</td>\n",
       "      <td>42.657501</td>\n",
       "    </tr>\n",
       "    <tr>\n",
       "      <th>3</th>\n",
       "      <td>19.320810</td>\n",
       "      <td>28.260743</td>\n",
       "      <td>2.322062</td>\n",
       "      <td>42.689819</td>\n",
       "    </tr>\n",
       "    <tr>\n",
       "      <th>4</th>\n",
       "      <td>19.216101</td>\n",
       "      <td>33.044932</td>\n",
       "      <td>2.330448</td>\n",
       "      <td>42.774141</td>\n",
       "    </tr>\n",
       "  </tbody>\n",
       "</table>\n",
       "</div>"
      ],
      "text/plain": [
       "   rougher.output.concentrate_au  primary_cleaner.output.concentrate_au  \\\n",
       "0                      19.793808                              34.174427   \n",
       "1                      20.050975                              34.118526   \n",
       "2                      19.737170                              33.969464   \n",
       "3                      19.320810                              28.260743   \n",
       "4                      19.216101                              33.044932   \n",
       "\n",
       "   secondary_cleaner.output.tail_au  final.output.concentrate_au  \n",
       "0                          2.606185                    42.192020  \n",
       "1                          2.488248                    42.701629  \n",
       "2                          2.458187                    42.657501  \n",
       "3                          2.322062                    42.689819  \n",
       "4                          2.330448                    42.774141  "
      ]
     },
     "execution_count": 32,
     "metadata": {},
     "output_type": "execute_result"
    }
   ],
   "source": [
    "au_concentration_data.head()"
   ]
  },
  {
   "cell_type": "code",
   "execution_count": 33,
   "metadata": {},
   "outputs": [
    {
     "data": {
      "image/png": "[encoded data removed]",
      "text/plain": [
       "<Figure size 864x576 with 1 Axes>"
      ]
     },
     "metadata": {
      "needs_background": "light"
     },
     "output_type": "display_data"
    }
   ],
   "source": [
    "def plot_au_concentration_histograms(data):\n",
    "    plt.figure(figsize=(12, 8))\n",
    "\n",
    "    colors = sns.color_palette(\"husl\", n_colors=len(au_columns))\n",
    "\n",
    "    for i, stage in enumerate(au_columns):\n",
    "        sns.histplot(data[stage], label=f\"{stage.capitalize()}\", kde=True, alpha=0.7, color=colors[i])\n",
    "\n",
    "    plt.title(\"Au (Gold) Concentration\")\n",
    "    plt.xlabel(\"Au (Gold) Concentration Value\")\n",
    "    plt.ylabel(\"Frequency\")\n",
    "    plt.legend(title=\"Purification Stage\")\n",
    "    plt.grid(True)\n",
    "    plt.show()\n",
    "\n",
    "plot_au_concentration_histograms(au_concentration_data)"
   ]
  },
  {
   "cell_type": "code",
   "execution_count": 34,
   "metadata": {},
   "outputs": [
    {
     "name": "stdout",
     "output_type": "stream",
     "text": [
      "\n",
      "Statistics for Rougher.output.concentrate_au Stage:\n",
      "Mean: 19.78\n",
      "Skewness: -3.31\n",
      "\n",
      "Statistics for Primary_cleaner.output.concentrate_au Stage:\n",
      "Mean: 32.38\n",
      "Skewness: -3.07\n",
      "\n",
      "Statistics for Secondary_cleaner.output.tail_au Stage:\n",
      "Mean: 4.27\n",
      "Skewness: 2.84\n",
      "\n",
      "Statistics for Final.output.concentrate_au Stage:\n",
      "Mean: 44.13\n",
      "Skewness: -5.40\n"
     ]
    }
   ],
   "source": [
    "def analyze_au_concentration_statistics(data):\n",
    "    for stage in au_columns:\n",
    "        concentration_values = data[stage]\n",
    "        mean_value = np.mean(concentration_values)\n",
    "        skewness = skew(concentration_values)\n",
    "        \n",
    "        print(f\"\\nStatistics for {stage.capitalize()} Stage:\")\n",
    "        print(f\"Mean: {mean_value:.2f}\")\n",
    "        print(f\"Skewness: {skewness:.2f}\")\n",
    "\n",
    "analyze_au_concentration_statistics(au_concentration_data)"
   ]
  },
  {
   "cell_type": "markdown",
   "metadata": {},
   "source": [
    "#### Ag (Silver) Concentration"
   ]
  },
  {
   "cell_type": "code",
   "execution_count": 35,
   "metadata": {},
   "outputs": [],
   "source": [
    "ag_concentration_data = train_data[ag_columns].copy()"
   ]
  },
  {
   "cell_type": "code",
   "execution_count": 36,
   "metadata": {},
   "outputs": [
    {
     "data": {
      "text/html": [
       "<div>\n",
       "<style scoped>\n",
       "    .dataframe tbody tr th:only-of-type {\n",
       "        vertical-align: middle;\n",
       "    }\n",
       "\n",
       "    .dataframe tbody tr th {\n",
       "        vertical-align: top;\n",
       "    }\n",
       "\n",
       "    .dataframe thead th {\n",
       "        text-align: right;\n",
       "    }\n",
       "</style>\n",
       "<table border=\"1\" class=\"dataframe\">\n",
       "  <thead>\n",
       "    <tr style=\"text-align: right;\">\n",
       "      <th></th>\n",
       "      <th>rougher.output.concentrate_ag</th>\n",
       "      <th>primary_cleaner.output.concentrate_ag</th>\n",
       "      <th>secondary_cleaner.output.tail_ag</th>\n",
       "      <th>final.output.concentrate_ag</th>\n",
       "    </tr>\n",
       "  </thead>\n",
       "  <tbody>\n",
       "    <tr>\n",
       "      <th>0</th>\n",
       "      <td>11.500771</td>\n",
       "      <td>8.547551</td>\n",
       "      <td>14.500184</td>\n",
       "      <td>6.055403</td>\n",
       "    </tr>\n",
       "    <tr>\n",
       "      <th>1</th>\n",
       "      <td>11.615865</td>\n",
       "      <td>8.558743</td>\n",
       "      <td>14.265474</td>\n",
       "      <td>6.029369</td>\n",
       "    </tr>\n",
       "    <tr>\n",
       "      <th>2</th>\n",
       "      <td>11.695753</td>\n",
       "      <td>8.603505</td>\n",
       "      <td>14.115662</td>\n",
       "      <td>6.055926</td>\n",
       "    </tr>\n",
       "    <tr>\n",
       "      <th>3</th>\n",
       "      <td>11.915047</td>\n",
       "      <td>7.221879</td>\n",
       "      <td>13.732071</td>\n",
       "      <td>6.047977</td>\n",
       "    </tr>\n",
       "    <tr>\n",
       "      <th>4</th>\n",
       "      <td>12.411054</td>\n",
       "      <td>9.089428</td>\n",
       "      <td>14.079996</td>\n",
       "      <td>6.148599</td>\n",
       "    </tr>\n",
       "  </tbody>\n",
       "</table>\n",
       "</div>"
      ],
      "text/plain": [
       "   rougher.output.concentrate_ag  primary_cleaner.output.concentrate_ag  \\\n",
       "0                      11.500771                               8.547551   \n",
       "1                      11.615865                               8.558743   \n",
       "2                      11.695753                               8.603505   \n",
       "3                      11.915047                               7.221879   \n",
       "4                      12.411054                               9.089428   \n",
       "\n",
       "   secondary_cleaner.output.tail_ag  final.output.concentrate_ag  \n",
       "0                         14.500184                     6.055403  \n",
       "1                         14.265474                     6.029369  \n",
       "2                         14.115662                     6.055926  \n",
       "3                         13.732071                     6.047977  \n",
       "4                         14.079996                     6.148599  "
      ]
     },
     "execution_count": 36,
     "metadata": {},
     "output_type": "execute_result"
    }
   ],
   "source": [
    "ag_concentration_data.head()"
   ]
  },
  {
   "cell_type": "code",
   "execution_count": 37,
   "metadata": {},
   "outputs": [
    {
     "data": {
      "image/png": "[encoded data removed]",
      "text/plain": [
       "<Figure size 864x576 with 1 Axes>"
      ]
     },
     "metadata": {
      "needs_background": "light"
     },
     "output_type": "display_data"
    }
   ],
   "source": [
    "def plot_ag_concentration_histograms(data):\n",
    "    plt.figure(figsize=(12, 8))\n",
    "\n",
    "    colors = sns.color_palette(\"husl\", n_colors=len(ag_columns))\n",
    "\n",
    "    for i, stage in enumerate(ag_columns):\n",
    "        sns.histplot(data[stage], label=f\"{stage.capitalize()}\", kde=True, alpha=0.7, color=colors[i])\n",
    "\n",
    "    plt.title(\"Ag (Silver) Concentration\")\n",
    "    plt.xlabel(\"Ag (Silver) Concentration Value\")\n",
    "    plt.ylabel(\"Frequency\")\n",
    "    plt.legend(title=\"Purification Stage\")\n",
    "    plt.grid(True)\n",
    "    plt.show()\n",
    "\n",
    "plot_ag_concentration_histograms(ag_concentration_data)\n"
   ]
  },
  {
   "cell_type": "code",
   "execution_count": 38,
   "metadata": {},
   "outputs": [
    {
     "name": "stdout",
     "output_type": "stream",
     "text": [
      "\n",
      "Statistics for Rougher.output.concentrate_ag Stage:\n",
      "Mean: 11.84\n",
      "Skewness: -1.40\n",
      "\n",
      "Statistics for Primary_cleaner.output.concentrate_ag Stage:\n",
      "Mean: 8.44\n",
      "Skewness: -0.94\n",
      "\n",
      "Statistics for Secondary_cleaner.output.tail_ag Stage:\n",
      "Mean: 14.24\n",
      "Skewness: -1.51\n",
      "\n",
      "Statistics for Final.output.concentrate_ag Stage:\n",
      "Mean: 5.16\n",
      "Skewness: 0.99\n"
     ]
    }
   ],
   "source": [
    "def analyze_ag_concentration_statistics(data):\n",
    "    for stage in ag_columns:\n",
    "        concentration_values = data[stage]\n",
    "        mean_value = np.mean(concentration_values)\n",
    "        skewness = skew(concentration_values)\n",
    "        \n",
    "        print(f\"\\nStatistics for {stage.capitalize()} Stage:\")\n",
    "        print(f\"Mean: {mean_value:.2f}\")\n",
    "        print(f\"Skewness: {skewness:.2f}\")\n",
    "\n",
    "analyze_ag_concentration_statistics(ag_concentration_data)"
   ]
  },
  {
   "cell_type": "markdown",
   "metadata": {},
   "source": [
    "#### Pb (Lead) Concentration"
   ]
  },
  {
   "cell_type": "code",
   "execution_count": 39,
   "metadata": {},
   "outputs": [],
   "source": [
    "pb_concentration_data = train_data[pb_columns].copy()"
   ]
  },
  {
   "cell_type": "code",
   "execution_count": 40,
   "metadata": {},
   "outputs": [
    {
     "data": {
      "text/html": [
       "<div>\n",
       "<style scoped>\n",
       "    .dataframe tbody tr th:only-of-type {\n",
       "        vertical-align: middle;\n",
       "    }\n",
       "\n",
       "    .dataframe tbody tr th {\n",
       "        vertical-align: top;\n",
       "    }\n",
       "\n",
       "    .dataframe thead th {\n",
       "        text-align: right;\n",
       "    }\n",
       "</style>\n",
       "<table border=\"1\" class=\"dataframe\">\n",
       "  <thead>\n",
       "    <tr style=\"text-align: right;\">\n",
       "      <th></th>\n",
       "      <th>rougher.output.concentrate_pb</th>\n",
       "      <th>primary_cleaner.output.concentrate_pb</th>\n",
       "      <th>secondary_cleaner.output.tail_pb</th>\n",
       "      <th>final.output.concentrate_pb</th>\n",
       "    </tr>\n",
       "  </thead>\n",
       "  <tbody>\n",
       "    <tr>\n",
       "      <th>0</th>\n",
       "      <td>7.101074</td>\n",
       "      <td>10.389648</td>\n",
       "      <td>4.694824</td>\n",
       "      <td>9.889648</td>\n",
       "    </tr>\n",
       "    <tr>\n",
       "      <th>1</th>\n",
       "      <td>7.278807</td>\n",
       "      <td>10.497069</td>\n",
       "      <td>4.592547</td>\n",
       "      <td>9.968944</td>\n",
       "    </tr>\n",
       "    <tr>\n",
       "      <th>2</th>\n",
       "      <td>7.216833</td>\n",
       "      <td>10.354494</td>\n",
       "      <td>4.624775</td>\n",
       "      <td>10.213995</td>\n",
       "    </tr>\n",
       "    <tr>\n",
       "      <th>3</th>\n",
       "      <td>7.175616</td>\n",
       "      <td>8.496563</td>\n",
       "      <td>4.482453</td>\n",
       "      <td>9.977019</td>\n",
       "    </tr>\n",
       "    <tr>\n",
       "      <th>4</th>\n",
       "      <td>7.240205</td>\n",
       "      <td>9.986786</td>\n",
       "      <td>4.470737</td>\n",
       "      <td>10.142511</td>\n",
       "    </tr>\n",
       "  </tbody>\n",
       "</table>\n",
       "</div>"
      ],
      "text/plain": [
       "   rougher.output.concentrate_pb  primary_cleaner.output.concentrate_pb  \\\n",
       "0                       7.101074                              10.389648   \n",
       "1                       7.278807                              10.497069   \n",
       "2                       7.216833                              10.354494   \n",
       "3                       7.175616                               8.496563   \n",
       "4                       7.240205                               9.986786   \n",
       "\n",
       "   secondary_cleaner.output.tail_pb  final.output.concentrate_pb  \n",
       "0                          4.694824                     9.889648  \n",
       "1                          4.592547                     9.968944  \n",
       "2                          4.624775                    10.213995  \n",
       "3                          4.482453                     9.977019  \n",
       "4                          4.470737                    10.142511  "
      ]
     },
     "execution_count": 40,
     "metadata": {},
     "output_type": "execute_result"
    }
   ],
   "source": [
    "pb_concentration_data.head()"
   ]
  },
  {
   "cell_type": "code",
   "execution_count": 41,
   "metadata": {},
   "outputs": [
    {
     "data": {
      "image/png": "[encoded data removed]",
      "text/plain": [
       "<Figure size 864x576 with 1 Axes>"
      ]
     },
     "metadata": {
      "needs_background": "light"
     },
     "output_type": "display_data"
    }
   ],
   "source": [
    "def plot_pb_concentration_histograms(data):\n",
    "    plt.figure(figsize=(12, 8))\n",
    "\n",
    "    colors = sns.color_palette(\"husl\", n_colors=len(pb_columns))\n",
    "\n",
    "    for i, stage in enumerate(pb_columns):\n",
    "        sns.histplot(data[stage], label=f\"{stage.capitalize()}\", kde=True, alpha=0.7, color=colors[i])\n",
    "\n",
    "    plt.title(\"Pb (Lead) Concentration\")\n",
    "    plt.xlabel(\"Pb (Lead) Concentration Value\")\n",
    "    plt.ylabel(\"Frequency\")\n",
    "    plt.legend(title=\"Purification Stage\")\n",
    "    plt.grid(True)\n",
    "    plt.show()\n",
    "\n",
    "plot_pb_concentration_histograms(pb_concentration_data)\n"
   ]
  },
  {
   "cell_type": "code",
   "execution_count": 42,
   "metadata": {},
   "outputs": [
    {
     "name": "stdout",
     "output_type": "stream",
     "text": [
      "\n",
      "Statistics for Rougher.output.concentrate_pb Stage:\n",
      "Mean: 7.61\n",
      "Skewness: -1.43\n",
      "\n",
      "Statistics for Primary_cleaner.output.concentrate_pb Stage:\n",
      "Mean: 9.57\n",
      "Skewness: -0.83\n",
      "\n",
      "Statistics for Secondary_cleaner.output.tail_pb Stage:\n",
      "Mean: 5.51\n",
      "Skewness: 0.36\n",
      "\n",
      "Statistics for Final.output.concentrate_pb Stage:\n",
      "Mean: 10.17\n",
      "Skewness: -1.23\n"
     ]
    }
   ],
   "source": [
    "def analyze_pb_concentration_statistics(data):\n",
    "    for stage in pb_columns:\n",
    "        concentration_values = data[stage]\n",
    "        mean_value = np.mean(concentration_values)\n",
    "        skewness = skew(concentration_values)\n",
    "        \n",
    "        print(f\"\\nStatistics for {stage.capitalize()} Stage:\")\n",
    "        print(f\"Mean: {mean_value:.2f}\")\n",
    "        print(f\"Skewness: {skewness:.2f}\")\n",
    "\n",
    "analyze_pb_concentration_statistics(pb_concentration_data)"
   ]
  },
  {
   "cell_type": "markdown",
   "metadata": {},
   "source": [
    "#### Sol (Colloid) Concentration"
   ]
  },
  {
   "cell_type": "code",
   "execution_count": 43,
   "metadata": {},
   "outputs": [],
   "source": [
    "sol_concentration_data = train_data[sol_columns].copy()"
   ]
  },
  {
   "cell_type": "code",
   "execution_count": 44,
   "metadata": {},
   "outputs": [
    {
     "data": {
      "text/html": [
       "<div>\n",
       "<style scoped>\n",
       "    .dataframe tbody tr th:only-of-type {\n",
       "        vertical-align: middle;\n",
       "    }\n",
       "\n",
       "    .dataframe tbody tr th {\n",
       "        vertical-align: top;\n",
       "    }\n",
       "\n",
       "    .dataframe thead th {\n",
       "        text-align: right;\n",
       "    }\n",
       "</style>\n",
       "<table border=\"1\" class=\"dataframe\">\n",
       "  <thead>\n",
       "    <tr style=\"text-align: right;\">\n",
       "      <th></th>\n",
       "      <th>rougher.output.concentrate_sol</th>\n",
       "      <th>primary_cleaner.output.concentrate_sol</th>\n",
       "      <th>secondary_cleaner.output.tail_sol</th>\n",
       "      <th>final.output.concentrate_sol</th>\n",
       "    </tr>\n",
       "  </thead>\n",
       "  <tbody>\n",
       "    <tr>\n",
       "      <th>0</th>\n",
       "      <td>28.029297</td>\n",
       "      <td>19.529297</td>\n",
       "      <td>8.764648</td>\n",
       "      <td>5.507324</td>\n",
       "    </tr>\n",
       "    <tr>\n",
       "      <th>1</th>\n",
       "      <td>28.067063</td>\n",
       "      <td>19.369147</td>\n",
       "      <td>9.001494</td>\n",
       "      <td>5.257781</td>\n",
       "    </tr>\n",
       "    <tr>\n",
       "      <th>2</th>\n",
       "      <td>27.454037</td>\n",
       "      <td>19.167579</td>\n",
       "      <td>8.842896</td>\n",
       "      <td>5.383759</td>\n",
       "    </tr>\n",
       "    <tr>\n",
       "      <th>3</th>\n",
       "      <td>27.341277</td>\n",
       "      <td>15.978538</td>\n",
       "      <td>9.122857</td>\n",
       "      <td>4.858634</td>\n",
       "    </tr>\n",
       "    <tr>\n",
       "      <th>4</th>\n",
       "      <td>27.041023</td>\n",
       "      <td>19.199864</td>\n",
       "      <td>8.871028</td>\n",
       "      <td>4.939416</td>\n",
       "    </tr>\n",
       "  </tbody>\n",
       "</table>\n",
       "</div>"
      ],
      "text/plain": [
       "   rougher.output.concentrate_sol  primary_cleaner.output.concentrate_sol  \\\n",
       "0                       28.029297                               19.529297   \n",
       "1                       28.067063                               19.369147   \n",
       "2                       27.454037                               19.167579   \n",
       "3                       27.341277                               15.978538   \n",
       "4                       27.041023                               19.199864   \n",
       "\n",
       "   secondary_cleaner.output.tail_sol  final.output.concentrate_sol  \n",
       "0                           8.764648                      5.507324  \n",
       "1                           9.001494                      5.257781  \n",
       "2                           8.842896                      5.383759  \n",
       "3                           9.122857                      4.858634  \n",
       "4                           8.871028                      4.939416  "
      ]
     },
     "execution_count": 44,
     "metadata": {},
     "output_type": "execute_result"
    }
   ],
   "source": [
    "sol_concentration_data.head()"
   ]
  },
  {
   "cell_type": "code",
   "execution_count": 45,
   "metadata": {},
   "outputs": [
    {
     "data": {
      "image/png": "[encoded data removed]",
      "text/plain": [
       "<Figure size 864x576 with 1 Axes>"
      ]
     },
     "metadata": {
      "needs_background": "light"
     },
     "output_type": "display_data"
    }
   ],
   "source": [
    "def plot_pb_concentration_histograms(data):\n",
    "    plt.figure(figsize=(12, 8))\n",
    "\n",
    "    colors = sns.color_palette(\"husl\", n_colors=len(pb_columns))\n",
    "\n",
    "    for i, stage in enumerate(pb_columns):\n",
    "        sns.histplot(data[stage], label=f\"{stage.capitalize()}\", kde=True, alpha=0.7, color=colors[i])\n",
    "\n",
    "    plt.title(\"Pb (Lead) Concentration\")\n",
    "    plt.xlabel(\"Pb (Lead) Concentration Value\")\n",
    "    plt.ylabel(\"Frequency\")\n",
    "    plt.legend(title=\"Purification Stage\")\n",
    "    plt.grid(True)\n",
    "    plt.show()\n",
    "\n",
    "plot_pb_concentration_histograms(pb_concentration_data)\n"
   ]
  },
  {
   "cell_type": "code",
   "execution_count": 46,
   "metadata": {},
   "outputs": [
    {
     "name": "stdout",
     "output_type": "stream",
     "text": [
      "\n",
      "Statistics for Rougher.output.concentrate_sol Stage:\n",
      "Mean: 28.67\n",
      "Skewness: -2.52\n",
      "\n",
      "Statistics for Primary_cleaner.output.concentrate_sol Stage:\n",
      "Mean: 10.36\n",
      "Skewness: 0.06\n",
      "\n",
      "Statistics for Secondary_cleaner.output.tail_sol Stage:\n",
      "Mean: 7.30\n",
      "Skewness: -0.18\n",
      "\n",
      "Statistics for Final.output.concentrate_sol Stage:\n",
      "Mean: 9.60\n",
      "Skewness: 0.23\n"
     ]
    }
   ],
   "source": [
    "def analyze_sol_concentration_statistics(data):\n",
    "    for stage in sol_columns:\n",
    "        concentration_values = data[stage]\n",
    "        mean_value = np.mean(concentration_values)\n",
    "        skewness = skew(concentration_values)\n",
    "        \n",
    "        print(f\"\\nStatistics for {stage.capitalize()} Stage:\")\n",
    "        print(f\"Mean: {mean_value:.2f}\")\n",
    "        print(f\"Skewness: {skewness:.2f}\")\n",
    "\n",
    "analyze_sol_concentration_statistics(sol_concentration_data)"
   ]
  },
  {
   "cell_type": "markdown",
   "metadata": {},
   "source": [
    "#### Metal Concentration Summary"
   ]
  },
  {
   "cell_type": "markdown",
   "metadata": {},
   "source": [
    "The concentration of gold (Au) exhibits significant variations across different purification stages. In the rougher stage, the mean concentration of Au is 19.78, characterized by a highly skewed distribution with a skewness of -3.31. \n",
    "\n",
    "As the process advances to the primary cleaner stage, the mean concentration sharply increases to 32.38, while the skewness remains negative at -3.07. Subsequently, in the secondary cleaner stage, the mean concentration decreases to 4.27, accompanied by a positive skewness of 2.84. \n",
    "\n",
    "The final output stage sees a further rise in Au concentration, reaching a mean of 44.13, and a pronounced negative skewness of -5.40. Similar concentration trends are observed for silver (Ag), lead (Pb), and colloid (Sol) across the various stages, reflecting the dynamic nature of the purification process."
   ]
  },
  {
   "cell_type": "markdown",
   "metadata": {},
   "source": [
    "### Feed Size Distribution Comparison between Train and Test Set"
   ]
  },
  {
   "cell_type": "code",
   "execution_count": 47,
   "metadata": {},
   "outputs": [
    {
     "data": {
      "image/png": "[encoded data removed]",
      "text/plain": [
       "<Figure size 864x576 with 1 Axes>"
      ]
     },
     "metadata": {
      "needs_background": "light"
     },
     "output_type": "display_data"
    }
   ],
   "source": [
    "plt.figure(figsize=(12, 8))\n",
    "\n",
    "colors = sns.color_palette(\"husl\", n_colors=2)\n",
    "\n",
    "sns.histplot(train_data['rougher.input.feed_size'], label='Training Set', kde=True, alpha=0.7, color=colors[0])\n",
    "sns.histplot(test_data['rougher.input.feed_size'], label='Test Set', kde=True, alpha=0.7, color=colors[1])\n",
    "\n",
    "plt.title(\"Comparison of Feed Particle Size Distribution\")\n",
    "plt.xlabel(\"Particle Size (Feed)\")\n",
    "plt.ylabel(\"Frequency\")\n",
    "plt.legend(title=\"Dataset\")\n",
    "plt.grid(True)\n",
    "plt.show()"
   ]
  },
  {
   "cell_type": "code",
   "execution_count": 48,
   "metadata": {},
   "outputs": [
    {
     "name": "stdout",
     "output_type": "stream",
     "text": [
      "Statistical Comparison:\n",
      "\n",
      "Train Data Statistical Data: \n",
      "count    5383.000000\n",
      "mean       56.338644\n",
      "std        21.836788\n",
      "min         0.046369\n",
      "25%        43.913766\n",
      "50%        50.924232\n",
      "75%        62.364984\n",
      "max       477.445473\n",
      "Name: rougher.input.feed_size, dtype: float64\n",
      "\n",
      "Test Data Statistical Data: \n",
      "count    5383.000000\n",
      "mean       56.338644\n",
      "std        21.836788\n",
      "min         0.046369\n",
      "25%        43.913766\n",
      "50%        50.924232\n",
      "75%        62.364984\n",
      "max       477.445473\n",
      "Name: rougher.input.feed_size, dtype: float64\n"
     ]
    }
   ],
   "source": [
    "train_data_stats = train_data['rougher.input.feed_size'].describe()\n",
    "test_data_stats = test_data['rougher.input.feed_size'].describe()\n",
    "\n",
    "print(\"Statistical Comparison:\")\n",
    "print(f'\\nTrain Data Statistical Data: \\n{test_data_stats}')\n",
    "print(f'\\nTest Data Statistical Data: \\n{test_data_stats}')"
   ]
  },
  {
   "cell_type": "code",
   "execution_count": 49,
   "metadata": {},
   "outputs": [
    {
     "name": "stdout",
     "output_type": "stream",
     "text": [
      "Mean Difference: 0.88\n",
      "Standard Deviation Difference: 2.92\n",
      "The mean difference is within a reasonable range.\n",
      "The standard deviation difference is within a reasonable range.\n"
     ]
    }
   ],
   "source": [
    "mean_diff = abs(train_data_stats['mean'] - test_data_stats['mean'])\n",
    "std_diff = abs(train_data_stats['std'] - test_data_stats['std'])\n",
    "\n",
    "print(f\"Mean Difference: {mean_diff:.2f}\")\n",
    "print(f\"Standard Deviation Difference: {std_diff:.2f}\")\n",
    "\n",
    "if mean_diff > 2 * test_data_stats['std']:\n",
    "        print(\"The mean difference is significant, indicating potential issues with the model evaluation.\")\n",
    "else:\n",
    "    print(\"The mean difference is within a reasonable range.\")\n",
    "\n",
    "if std_diff > 0.5 * test_data_stats['std']:\n",
    "    print(\"The standard deviation difference is significant, indicating potential issues with the model evaluation.\")\n",
    "else:\n",
    "    print(\"The standard deviation difference is within a reasonable range.\")"
   ]
  },
  {
   "cell_type": "markdown",
   "metadata": {},
   "source": [
    "The comparison between the mean and standard deviation of particle feed sizes in the training and test sets reveals minor differences. The mean difference of 0.88 suggests a slight variation in average particle sizes, but it falls within an acceptable range. Similarly, the standard deviation difference of 2.92 indicates comparable variability in particle sizes between the sets. Both differences are considered reasonable, implying that the distribution of particle feed sizes aligns well between the training and test data. This consistency suggests that model evaluation is unlikely to be significantly impacted by variations in particle feed sizes. Overall, the similarity in statistical measures supports the reliability of the model evaluation process across different data sets."
   ]
  },
  {
   "cell_type": "markdown",
   "metadata": {},
   "source": [
    "### Different Stages Concentration"
   ]
  },
  {
   "cell_type": "markdown",
   "metadata": {},
   "source": [
    "- rougher.input = `input`\n",
    "- rougher.output = `output`\n",
    "- final.output = `final`"
   ]
  },
  {
   "cell_type": "code",
   "execution_count": 50,
   "metadata": {},
   "outputs": [],
   "source": [
    "rougher_input = ['rougher.input.feed_ag','rougher.input.feed_pb','rougher.input.feed_sol','rougher.input.feed_au']\n",
    "\n",
    "rougher_output = ['rougher.output.concentrate_ag','rougher.output.concentrate_pb','rougher.output.concentrate_sol','rougher.output.concentrate_au']\n",
    "\n",
    "final_output = ['final.output.concentrate_ag','final.output.concentrate_pb','final.output.concentrate_sol','final.output.concentrate_au']"
   ]
  },
  {
   "cell_type": "code",
   "execution_count": 51,
   "metadata": {},
   "outputs": [],
   "source": [
    "total_concentration_stages = full_data.copy()"
   ]
  },
  {
   "cell_type": "code",
   "execution_count": 52,
   "metadata": {},
   "outputs": [],
   "source": [
    "total_concentration_stages['total_input_stage'] = full_data[rougher_input].sum(axis=1)\n",
    "total_concentration_stages['total_output_stage'] = full_data[rougher_output].sum(axis=1)\n",
    "total_concentration_stages['total_final_stage'] = full_data[final_output].sum(axis=1)"
   ]
  },
  {
   "cell_type": "code",
   "execution_count": 53,
   "metadata": {},
   "outputs": [],
   "source": [
    "def visualize_total_concentrations_histogram(total_concentration_stages):\n",
    "    plt.figure(figsize=(12, 8))\n",
    "    \n",
    "    # Define different colors for each stage\n",
    "    colors = sns.color_palette(\"husl\", n_colors=3)\n",
    "\n",
    "    # Plot for total input stage\n",
    "    sns.histplot(total_concentration_stages['total_input_stage'], bins=40, label='Total Input Stage', kde=True, color=colors[0])\n",
    "\n",
    "    # Plot for total output stage\n",
    "    sns.histplot(total_concentration_stages['total_output_stage'], bins=40, label='Total Output Stage', kde=True, color=colors[1])\n",
    "\n",
    "    # Plot for total final stage\n",
    "    sns.histplot(total_concentration_stages['total_final_stage'], bins=40, label='Total Final Stage', kde=True, color=colors[2])\n",
    "\n",
    "    plt.xlabel('Total Concentration')\n",
    "    plt.ylabel('Frequency')\n",
    "    plt.title('Histogram of Total Concentrations at Different Stages')\n",
    "    plt.legend()\n",
    "    plt.show()"
   ]
  },
  {
   "cell_type": "code",
   "execution_count": 54,
   "metadata": {},
   "outputs": [
    {
     "data": {
      "image/png": "[encoded data removed]",
      "text/plain": [
       "<Figure size 864x576 with 1 Axes>"
      ]
     },
     "metadata": {
      "needs_background": "light"
     },
     "output_type": "display_data"
    }
   ],
   "source": [
    "visualize_total_concentrations_histogram(total_concentration_stages)"
   ]
  },
  {
   "cell_type": "code",
   "execution_count": 55,
   "metadata": {},
   "outputs": [
    {
     "name": "stdout",
     "output_type": "stream",
     "text": [
      "Input Stage:\n",
      "count    16094.000000\n",
      "mean        58.101510\n",
      "std          6.761203\n",
      "min          0.040000\n",
      "25%         54.363838\n",
      "50%         58.226620\n",
      "75%         62.578101\n",
      "max         76.978947\n",
      "Name: total_input_stage, dtype: float64\n",
      "\n",
      "Output Stage:\n",
      "count    16094.000000\n",
      "mean        68.805821\n",
      "std         12.095202\n",
      "min          0.000000\n",
      "25%         66.643291\n",
      "50%         70.701213\n",
      "75%         74.763404\n",
      "max         87.273435\n",
      "Name: total_output_stage, dtype: float64\n",
      "\n",
      "Final Stage:\n",
      "count    16094.000000\n",
      "mean        69.367841\n",
      "std          6.038211\n",
      "min          0.000000\n",
      "25%         68.372986\n",
      "50%         69.943177\n",
      "75%         71.669414\n",
      "max         80.210644\n",
      "Name: total_final_stage, dtype: float64\n",
      "\n"
     ]
    }
   ],
   "source": [
    "input_stats = total_concentration_stages['total_input_stage'].describe()\n",
    "output_stats = total_concentration_stages['total_output_stage'].describe()\n",
    "final_stats = total_concentration_stages['total_final_stage'].describe()    \n",
    "\n",
    "print(f'Input Stage:\\n{input_stats}\\n')\n",
    "print(f'Output Stage:\\n{output_stats}\\n')\n",
    "print(f'Final Stage:\\n{final_stats}\\n')"
   ]
  },
  {
   "cell_type": "markdown",
   "metadata": {},
   "source": [
    "In summary, anomalies are observed in the total distribution at the output and final stages, indicated by minimum values of 0, which are abnormal for concentration values. The histograms show peaks at the lower end, further emphasizing the presence of anomalies. The removal of extreme values or outliers is crucial to enhance the accuracy and reliability of the analysis, ensuring a more robust evaluation of the model."
   ]
  },
  {
   "cell_type": "markdown",
   "metadata": {},
   "source": [
    "#### Handle Anomalies"
   ]
  },
  {
   "cell_type": "code",
   "execution_count": 56,
   "metadata": {},
   "outputs": [],
   "source": [
    "def remove_outliers_iqr(data, column):\n",
    "    Q1 = data[column].quantile(0.25)\n",
    "    Q3 = data[column].quantile(0.75)\n",
    "    IQR = Q3 - Q1\n",
    "    \n",
    "    lower_threshold = Q1 - 1.5 * IQR\n",
    "    upper_threshold = Q3 + 1.5 * IQR\n",
    "    \n",
    "    data = data[(data[column] >= lower_threshold) & (data[column] <= upper_threshold)]\n",
    "    \n",
    "    return data"
   ]
  },
  {
   "cell_type": "code",
   "execution_count": 57,
   "metadata": {},
   "outputs": [],
   "source": [
    "total_concentration_stages = remove_outliers_iqr(total_concentration_stages, 'total_input_stage')\n",
    "total_concentration_stages = remove_outliers_iqr(total_concentration_stages, 'total_output_stage')\n",
    "total_concentration_stages = remove_outliers_iqr(total_concentration_stages, 'total_final_stage')"
   ]
  },
  {
   "cell_type": "code",
   "execution_count": 58,
   "metadata": {},
   "outputs": [
    {
     "data": {
      "image/png": "[encoded data removed]",
      "text/plain": [
       "<Figure size 864x576 with 1 Axes>"
      ]
     },
     "metadata": {
      "needs_background": "light"
     },
     "output_type": "display_data"
    }
   ],
   "source": [
    "visualize_total_concentrations_histogram(total_concentration_stages)"
   ]
  },
  {
   "cell_type": "code",
   "execution_count": 59,
   "metadata": {},
   "outputs": [
    {
     "name": "stdout",
     "output_type": "stream",
     "text": [
      "Updated Input Stage:\n",
      "count    14322.000000\n",
      "mean        58.791840\n",
      "std          5.763432\n",
      "min         42.046320\n",
      "25%         54.953123\n",
      "50%         58.614894\n",
      "75%         62.856415\n",
      "max         74.821578\n",
      "Name: total_input_stage, dtype: float64\n",
      "\n",
      "Updated Output Stage:\n",
      "count    14322.000000\n",
      "mean        71.154013\n",
      "std          5.597049\n",
      "min         54.798221\n",
      "25%         67.641021\n",
      "50%         71.194043\n",
      "75%         75.001000\n",
      "max         86.447984\n",
      "Name: total_output_stage, dtype: float64\n",
      "\n",
      "Updated Final Stage:\n",
      "count    14322.000000\n",
      "mean        70.253704\n",
      "std          2.420186\n",
      "min         63.595064\n",
      "25%         68.661736\n",
      "50%         70.115071\n",
      "75%         71.757528\n",
      "max         76.647033\n",
      "Name: total_final_stage, dtype: float64\n",
      "\n"
     ]
    }
   ],
   "source": [
    "input_stats = total_concentration_stages['total_input_stage'].describe()\n",
    "output_stats = total_concentration_stages['total_output_stage'].describe()\n",
    "final_stats = total_concentration_stages['total_final_stage'].describe()    \n",
    "\n",
    "print(f'Updated Input Stage:\\n{input_stats}\\n')\n",
    "print(f'Updated Output Stage:\\n{output_stats}\\n')\n",
    "print(f'Updated Final Stage:\\n{final_stats}\\n')"
   ]
  },
  {
   "cell_type": "markdown",
   "metadata": {},
   "source": [
    "By using the Interquartile Range (IQR) method to detect and handle or eliminate existing outliers from all three stages, the concentration data underwent a significant refinement process. This method helps to identify extreme values that may distort the overall distribution, providing a more accurate representation of the concentration levels at each stage of the purification process. After applying the IQR-based outlier removal, the updated statistics for the `input stage`, `output stage`, and `final stage` reveal notable changes in the mean concentration values and the overall spread of the data. The subsequent histograms visually demonstrate the impact of outlier removal, enhancing the reliability of the concentration data for subsequent analyses and model training."
   ]
  },
  {
   "cell_type": "markdown",
   "metadata": {},
   "source": [
    "#### Data Set Determination for Model"
   ]
  },
  {
   "cell_type": "code",
   "execution_count": 60,
   "metadata": {},
   "outputs": [
    {
     "name": "stdout",
     "output_type": "stream",
     "text": [
      "Number of Common dates between Train and Test: 0\n",
      "Number of Common dates between Train and Total Concentration Stages: 9659\n",
      "Number of Common dates between Test and Total Concentration Stages: 4663\n",
      "Number of Common dates among Train, Test, and Total Concentration Stages: 0\n"
     ]
    }
   ],
   "source": [
    "common_dates_train_test = set(train_data['date']).intersection(set(test_data['date']))\n",
    "common_dates_train_total = set(train_data['date']).intersection(set(total_concentration_stages['date']))\n",
    "common_dates_test_total = set(test_data['date']).intersection(set(total_concentration_stages['date']))\n",
    "common_dates_all = set(train_data['date']).intersection(set(test_data['date'])).intersection(set(total_concentration_stages['date']))\n",
    "\n",
    "num_common_dates_train_test = len(common_dates_train_test)\n",
    "num_common_dates_train_total = len(common_dates_train_total)\n",
    "num_common_dates_test_total = len(common_dates_test_total)\n",
    "num_common_dates_all = len(common_dates_all)\n",
    "\n",
    "print(\"Number of Common dates between Train and Test:\", num_common_dates_train_test)\n",
    "print(\"Number of Common dates between Train and Total Concentration Stages:\", num_common_dates_train_total)\n",
    "print(\"Number of Common dates between Test and Total Concentration Stages:\", num_common_dates_test_total)\n",
    "print(\"Number of Common dates among Train, Test, and Total Concentration Stages:\", num_common_dates_all)"
   ]
  },
  {
   "cell_type": "code",
   "execution_count": 61,
   "metadata": {},
   "outputs": [
    {
     "name": "stdout",
     "output_type": "stream",
     "text": [
      "Train Data shape (11017, 87)\n",
      "Test Data shape (5383, 53)\n",
      "Full Data shape (14322, 90)\n"
     ]
    }
   ],
   "source": [
    "print(f\"Train Data shape {train_data.shape}\")\n",
    "print(f\"Test Data shape {test_data.shape}\")\n",
    "print(f\"Full Data shape {total_concentration_stages.shape}\")"
   ]
  },
  {
   "cell_type": "markdown",
   "metadata": {},
   "source": [
    "Based on the observations above, the dataframe `total_concentration_stages` emerges as the primary dataset for analysis and modeling. This decision is grounded in the comprehensive pre-processing steps applied to total_concentration_stages, which include the removal of outliers using the Interquartile Range (IQR) method. The dataset encompasses 14,322 records and 90 columns, ensuring a rich representation of the relevant features. The absence of common dates between `train_data` and `test_data` further supports the standalone use of `total_concentration_stages`."
   ]
  },
  {
   "cell_type": "markdown",
   "metadata": {},
   "source": [
    "## Model Development"
   ]
  },
  {
   "cell_type": "markdown",
   "metadata": {},
   "source": [
    "Define target features for the model"
   ]
  },
  {
   "cell_type": "code",
   "execution_count": 62,
   "metadata": {},
   "outputs": [],
   "source": [
    "x = total_concentration_stages.drop(['date', 'rougher.output.recovery', 'final.output.recovery'], axis=1)\n",
    "y_rougher = total_concentration_stages['rougher.output.recovery']\n",
    "y_final = total_concentration_stages['final.output.recovery']"
   ]
  },
  {
   "cell_type": "markdown",
   "metadata": {},
   "source": [
    "### sMAPE Function"
   ]
  },
  {
   "cell_type": "code",
   "execution_count": 63,
   "metadata": {},
   "outputs": [],
   "source": [
    "def calculate_smape(y_true, y_pred):\n",
    "\n",
    "    denominator = (np.abs(y_true) + np.abs(y_pred)) / 2\n",
    "    diff = np.abs(y_true - y_pred) / denominator\n",
    "    diff[denominator == 0] = 0  # Handle division by zero\n",
    "    smape_value = np.mean(diff) * 100\n",
    "    return smape_value"
   ]
  },
  {
   "cell_type": "code",
   "execution_count": 64,
   "metadata": {},
   "outputs": [],
   "source": [
    "def calculate_final_smape(y_true_rougher, y_pred_rougher, y_true_final, y_pred_final):\n",
    "    weight_rougher = 0.25\n",
    "    weight_final = 0.75\n",
    "\n",
    "    smape_rougher = calculate_smape(y_true_rougher, y_pred_rougher)\n",
    "    smape_final = calculate_smape(y_true_final, y_pred_final)\n",
    "\n",
    "    final_smape = weight_rougher * smape_rougher + weight_final * smape_final\n",
    "    return final_smape"
   ]
  },
  {
   "cell_type": "markdown",
   "metadata": {},
   "source": [
    "### Model Selection"
   ]
  },
  {
   "cell_type": "code",
   "execution_count": 65,
   "metadata": {},
   "outputs": [],
   "source": [
    "x_train_rougher, x_val_rougher, y_train_rougher, y_val_rougher = temporal_train_test_split(x, y_rougher, test_size=0.2)\n",
    "x_train_final, x_val_final, y_train_final, y_val_final = temporal_train_test_split(x, y_final, test_size=0.2)"
   ]
  },
  {
   "cell_type": "code",
   "execution_count": 66,
   "metadata": {},
   "outputs": [],
   "source": [
    "models_rougher = [\n",
    "    LinearRegression(),\n",
    "    DecisionTreeRegressor(),\n",
    "    SVR(),\n",
    "    RandomForestRegressor(),\n",
    "    GradientBoostingRegressor()\n",
    "]"
   ]
  },
  {
   "cell_type": "code",
   "execution_count": 67,
   "metadata": {
    "scrolled": true
   },
   "outputs": [
    {
     "name": "stdout",
     "output_type": "stream",
     "text": [
      "Model for rougher.output.recovery: LinearRegression\n",
      " Mean sMAPE: 2.033102243034446\n",
      "\n",
      "Model for rougher.output.recovery: DecisionTreeRegressor\n",
      " Mean sMAPE: 1.6470774860360735\n",
      "\n",
      "Model for rougher.output.recovery: SVR\n",
      " Mean sMAPE: 2.5836783675403425\n",
      "\n",
      "Model for rougher.output.recovery: RandomForestRegressor\n",
      " Mean sMAPE: 1.0296203238611443\n",
      "\n",
      "Model for rougher.output.recovery: GradientBoostingRegressor\n",
      " Mean sMAPE: 0.9717327650190668\n",
      "\n"
     ]
    }
   ],
   "source": [
    "for model in models_rougher:\n",
    "    pipeline = make_pipeline(StandardScaler(), model)\n",
    "    scores_rougher = cross_val_score(pipeline, x_train_rougher, y_train_rougher, cv=5, scoring=make_scorer(calculate_smape, greater_is_better=False))\n",
    "    print(f\"Model for rougher.output.recovery: {model.__class__.__name__}\\n Mean sMAPE: {-scores_rougher.mean()}\\n\")"
   ]
  },
  {
   "cell_type": "code",
   "execution_count": 68,
   "metadata": {},
   "outputs": [],
   "source": [
    "models_final = [\n",
    "    LinearRegression(),\n",
    "    DecisionTreeRegressor(),\n",
    "    SVR(),\n",
    "    RandomForestRegressor(),\n",
    "    GradientBoostingRegressor()\n",
    "]"
   ]
  },
  {
   "cell_type": "code",
   "execution_count": 69,
   "metadata": {},
   "outputs": [
    {
     "name": "stdout",
     "output_type": "stream",
     "text": [
      "Model for final.output.recovery: LinearRegression\n",
      " Mean sMAPE: 1.8883218945266873\n",
      "\n",
      "Model for final.output.recovery: DecisionTreeRegressor\n",
      " Mean sMAPE: 2.4112144842335\n",
      "\n",
      "Model for final.output.recovery: SVR\n",
      " Mean sMAPE: 4.334165683605668\n",
      "\n",
      "Model for final.output.recovery: RandomForestRegressor\n",
      " Mean sMAPE: 1.3994104962573999\n",
      "\n",
      "Model for final.output.recovery: GradientBoostingRegressor\n",
      " Mean sMAPE: 1.8014866440106858\n",
      "\n"
     ]
    }
   ],
   "source": [
    "for model in models_final:\n",
    "    pipeline = make_pipeline(StandardScaler(), model)\n",
    "    scores_final = cross_val_score(pipeline, x_train_final, y_train_final, cv=5, scoring=make_scorer(calculate_smape, greater_is_better=False))\n",
    "    print(f\"Model for final.output.recovery: {model.__class__.__name__}\\n Mean sMAPE: {-scores_final.mean()}\\n\")"
   ]
  },
  {
   "cell_type": "markdown",
   "metadata": {},
   "source": [
    "### Model Evaluation"
   ]
  },
  {
   "cell_type": "markdown",
   "metadata": {},
   "source": [
    "For `rougher.output.recovery`:\n",
    "\n",
    "- Linear Regression: Mean sMAPE: 2.033\n",
    "- Decision Tree Regressor: Mean sMAPE: 1.646\n",
    "- SVR: Mean sMAPE: 2.583\n",
    "- RandomForest Regressor: Mean sMAPE: 1.037\n",
    "- GradientBoosting Regressor: Mean sMAPE: 0.970\n",
    "\n",
    "The `GradientBoosting Regressor` has the lowest mean sMAPE, making it the best-performing model for rougher.output.recovery.\n",
    "\n",
    "For `final.output.recovery`:\n",
    "- Linear Regression: Mean sMAPE: 1.888\n",
    "- Decision Tree Regressor: Mean sMAPE: 2.603\n",
    "- SVR: Mean sMAPE: 4.334\n",
    "- RandomForest Regressor: Mean sMAPE: 1.378\n",
    "- GradientBoosting Regressor: Mean sMAPE: 1.799\n",
    "\n",
    "In this case, the `RandomForest Regressor` has the lowest mean sMAPE, making it the best-performing model for final.output.recovery."
   ]
  },
  {
   "cell_type": "markdown",
   "metadata": {},
   "source": [
    "Assign the best model to the target feature `rougher.output.recovery` and `final.output.recovery`"
   ]
  },
  {
   "cell_type": "code",
   "execution_count": 70,
   "metadata": {},
   "outputs": [],
   "source": [
    "best_model_rougher = GradientBoostingRegressor()\n",
    "best_model_final = RandomForestRegressor()"
   ]
  },
  {
   "cell_type": "markdown",
   "metadata": {},
   "source": [
    "Train the best models"
   ]
  },
  {
   "cell_type": "code",
   "execution_count": 71,
   "metadata": {},
   "outputs": [
    {
     "data": {
      "text/plain": [
       "RandomForestRegressor()"
      ]
     },
     "execution_count": 71,
     "metadata": {},
     "output_type": "execute_result"
    }
   ],
   "source": [
    "best_model_rougher.fit(x_train_rougher, y_train_rougher)\n",
    "best_model_final.fit(x_train_final, y_train_final)"
   ]
  },
  {
   "cell_type": "markdown",
   "metadata": {},
   "source": [
    "Test the models using the validation set"
   ]
  },
  {
   "cell_type": "code",
   "execution_count": 72,
   "metadata": {},
   "outputs": [],
   "source": [
    "y_pred_rougher = best_model_rougher.predict(x_val_rougher)\n",
    "y_pred_final = best_model_final.predict(x_val_final)"
   ]
  },
  {
   "cell_type": "markdown",
   "metadata": {},
   "source": [
    "Calculate sMAPE on the validation set"
   ]
  },
  {
   "cell_type": "code",
   "execution_count": 73,
   "metadata": {},
   "outputs": [],
   "source": [
    "smape_rougher = calculate_smape(y_val_rougher, y_pred_rougher)\n",
    "smape_final = calculate_smape(y_val_final, y_pred_final)"
   ]
  },
  {
   "cell_type": "markdown",
   "metadata": {},
   "source": [
    "Calculate final sMAPE"
   ]
  },
  {
   "cell_type": "code",
   "execution_count": 74,
   "metadata": {},
   "outputs": [],
   "source": [
    "final_smape = calculate_final_smape(y_val_rougher, y_pred_rougher, y_val_final, y_pred_final)"
   ]
  },
  {
   "cell_type": "code",
   "execution_count": 75,
   "metadata": {},
   "outputs": [
    {
     "name": "stdout",
     "output_type": "stream",
     "text": [
      "Final sMAPE on rougher.output.recovery (validation set): 0.7039684096308938\n",
      "Final sMAPE on final.output.recovery (validation set): 1.4846369570773799\n",
      "Final weighted sMAPE: 1.2894698202157584\n"
     ]
    }
   ],
   "source": [
    "print(f\"Final sMAPE on rougher.output.recovery (validation set): {smape_rougher}\")\n",
    "print(f\"Final sMAPE on final.output.recovery (validation set): {smape_final}\")\n",
    "print(f\"Final weighted sMAPE: {final_smape}\")"
   ]
  },
  {
   "cell_type": "markdown",
   "metadata": {},
   "source": [
    "The `GradientBoostingRegressor` model exhibited exceptional accuracy in forecasting `rougher.output.recovery`, showcasing a remarkably low sMAPE score of 0.702, indicating its ability to closely match actual values. Conversely, the `RandomForestRegressor` model excelled in predicting `final.output.recovery` with a competitive sMAPE score of 1.538. \n",
    "\n",
    "The weighted average sMAPE of 1.322 reflects the combined performance of both models across the two target variables, providing an overall evaluation of predictive accuracy. This weighted metric considers the relative importance of each target variable, with a higher emphasis on final.output.recovery due to its higher weighting (75%) compared to rougher.output.recovery (25%). \n",
    "\n",
    "Thus, the final weighted sMAPE serves as a comprehensive measure of the models' effectiveness in capturing the intricate relationships within the data and delivering dependable predictions for gold concentrate recovery at various stages of the process."
   ]
  },
  {
   "cell_type": "markdown",
   "metadata": {},
   "source": [
    "## Conclusion"
   ]
  },
  {
   "cell_type": "markdown",
   "metadata": {},
   "source": [
    "In summary, the data preprocessing steps involved dropping columns with less than 5% missing values and converting the 'date' column to datetime format. The mean absolute error (MAE) for predicted rougher output recovery was remarkably low, indicating highly accurate predictions in line with actual recovery values. Features present in the training set but not in the test set were identified, impacting model training. The gold concentration displayed significant variations across purification stages, and consistency in particle feed sizes between training and test sets supported reliable model evaluation. Anomalies and outliers were addressed using the Interquartile Range (IQR) method, refining concentration data for improved analysis and modeling. The final dataset, `total_concentration_stages`, emerged as the primary dataset for standalone use due to its comprehensive preprocessing, including outlier removal.\n",
    "\n",
    "Regarding model selection, the `GradientBoosting Regressor` outperformed others for `rougher.output.recovery`, while the `RandomForest Regressor` excelled for `final.output.recovery`. Assigning these models to their respective target features resulted in final weighted sMAPE of 1.322, reflecting the overall predictive accuracy. The exceptional accuracy in forecasting `rougher.output.recovery` and competitive performance in predicting `final.output.recovery` demonstrate the selected models' effectiveness in capturing complex relationships within the data, contributing to efficient gold concentrate recovery in the industrial process."
   ]
  }
 ],
 "metadata": {
  "kernelspec": {
   "display_name": "Python 3",
   "language": "python",
   "name": "python3"
  },
  "language_info": {
   "codemirror_mode": {
    "name": "ipython",
    "version": 3
   },
   "file_extension": ".py",
   "mimetype": "text/x-python",
   "name": "python",
   "nbconvert_exporter": "python",
   "pygments_lexer": "ipython3",
   "version": "3.10.11"
  },
  "toc": {
   "base_numbering": 1,
   "nav_menu": {},
   "number_sections": true,
   "sideBar": true,
   "skip_h1_title": true,
   "title_cell": "Table of Contents",
   "title_sidebar": "Contents",
   "toc_cell": false,
   "toc_position": {},
   "toc_section_display": true,
   "toc_window_display": false
  }
 },
 "nbformat": 4,
 "nbformat_minor": 2
}
